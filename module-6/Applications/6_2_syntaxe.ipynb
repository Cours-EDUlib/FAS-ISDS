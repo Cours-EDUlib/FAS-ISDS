{
  "nbformat": 4,
  "nbformat_minor": 0,
  "metadata": {
    "colab": {
      "name": "6-2_syntaxe.ipynb",
      "provenance": [],
      "collapsed_sections": [],
      "authorship_tag": "ABX9TyPeWbrRVmmo4NR54d/HYIwn",
      "include_colab_link": true
    },
    "kernelspec": {
      "name": "ir",
      "display_name": "R"
    }
  },
  "cells": [
    {
      "cell_type": "markdown",
      "metadata": {
        "id": "view-in-github",
        "colab_type": "text"
      },
      "source": [
        "<a href=\"https://colab.research.google.com/github/Cours-EDUlib/FAS-ISDS/blob/main/module-6/Applications/6_2_syntaxe.ipynb\" target=\"_parent\"><img src=\"https://colab.research.google.com/assets/colab-badge.svg\" alt=\"Open In Colab\"/></a>"
      ]
    },
    {
      "cell_type": "markdown",
      "metadata": {
        "id": "dveiNBMfUuAl"
      },
      "source": [
        "#Les statistiques et la science des données appliquées\n",
        "##Application 2: identifier et gérer des données extrêmes\n",
        "###Syntaxe de l'exemple présenté"
      ]
    },
    {
      "cell_type": "code",
      "metadata": {
        "id": "sEMRHTFeeZAx"
      },
      "source": [
        "#Téléchargement des packages nécessaires\n",
        "library (tidyverse)\n",
        "install.packages(\"rsq\")\n",
        "require(rsq)\n",
        "library(ggplot2)\n",
        "install.packages(\"descr\")\n",
        "require(descr)"
      ],
      "execution_count": null,
      "outputs": []
    },
    {
      "cell_type": "markdown",
      "metadata": {
        "id": "vnhRK_6S8Fwe"
      },
      "source": [
        "Ceci est la suite du premier exemple sur la régression linéaire. Nous utilisons donc la même base de données concernant les États américains. On s'intéresse au taux de chômage et au taux de décrochage scolaire au sein de chacun des états. "
      ]
    },
    {
      "cell_type": "code",
      "metadata": {
        "id": "17KBWubhusku"
      },
      "source": [
        "path_to_csv = 'https://github.com/Cours-EDUlib/FAS-ISDS/blob/main/module-7/Applications/7-1-2_donnees.csv?raw=true' #Téléchargement de la base de données depuis github\n",
        "\n",
        "bd <- read_csv(path_to_csv) #Enregistrement de la base de données dans l'ojet \"bd\"\n",
        "bd #Lecture des données"
      ],
      "execution_count": null,
      "outputs": []
    },
    {
      "cell_type": "markdown",
      "metadata": {
        "id": "0TnyfJnR8aFm"
      },
      "source": [
        "Voici les variables à l'étude dans cet exemple:\n",
        "- jbs170: taux de chômage par état en pourcentage\n",
        "- scs134: taux de décrochage scolaire par état en pourcentage\n",
        "\n",
        "Commençons par produire quelques statistiques descriptives de base pour se familiariser avec les variables à l’étude:\n",
        "  - La moyenne\n",
        "  - La médiane\n",
        "  - Le minimum\n",
        "  - Le maximum\n",
        "  - l'écart-type"
      ]
    },
    {
      "cell_type": "code",
      "metadata": {
        "id": "AqodNYPeiud3"
      },
      "source": [
        "#Statistiques descriptives\n",
        "\n",
        "summary(bd$scs134)\n",
        "sd(bd$scs134)\n",
        "\n",
        "summary(bd$jbs170)\n",
        "sd(bd$jbs170)"
      ],
      "execution_count": null,
      "outputs": []
    },
    {
      "cell_type": "markdown",
      "metadata": {
        "id": "KQBCh0wM8cAg"
      },
      "source": [
        "Interprétation:\n",
        "\n",
        "Le taux de décrochage scolaire varie de 4,3% à 19,1%, avec une moyenne de 10,28% et un écart-type de 2,75% autour de la moyenne. Du côté du taux de chômage, il varie de 2,7% et 15,2%, avec une moyenne de 5,02% et un écart-type de 1,84%."
      ]
    },
    {
      "cell_type": "markdown",
      "metadata": {
        "id": "8EF4TmU18gim"
      },
      "source": [
        "Par la suite, nous produisons des histogrammes, pour vérifier si les variables respectent le postulat de normalité de distribution. "
      ]
    },
    {
      "cell_type": "code",
      "metadata": {
        "id": "U6bK02QZiwTY"
      },
      "source": [
        "#Histogramme pour vérification du postulat de normalité\n",
        "\n",
        "ggplot(bd, aes(x=scs134)) +\n",
        "  geom_histogram(binwidth=1, fill=\"#69b3a2\", color=\"#e9ecef\", alpha=0.9) +\n",
        "    ggtitle(\"Distribution: taux de décrochage scolaire\") +\n",
        "    theme(\n",
        "      plot.title = element_text(size=20)\n",
        "    )\n",
        "\n",
        "ggplot(bd, aes(x=jbs170)) +\n",
        "  geom_histogram(binwidth=1, fill=\"#69b3a2\", color=\"#e9ecef\", alpha=0.9) +\n",
        "    ggtitle(\"Distribution: taux de chômage\") +\n",
        "    theme(\n",
        "      plot.title = element_text(size=20)\n",
        "    )"
      ],
      "execution_count": null,
      "outputs": []
    },
    {
      "cell_type": "markdown",
      "metadata": {
        "id": "b_649wpk8knj"
      },
      "source": [
        "Interprétation:\n",
        "\n",
        "Pour le taux de chômage, la distribution n’est pas tout à fait normale, surtout en raison d’un état qui semble avoir un taux de chômage beaucoup plus élevé que l'ensemble des autres (autour de 15). En faisant abstraction de cet état, le reste de la distribution semble normale, avec des résultats qui varient entre 2,5 et 7,5%. On considère donc que le postulat est respecté.\n",
        "\n",
        "Pour le taux de décrochage scolaire, l'histogramme montre une distribution très proche d’une distribution normale: le postulat est respecté.\n",
        "\n",
        "Les deux variables sont distribuées assez normalement, donc on peut les utiliser pour faire une analyse de régression linéaire. "
      ]
    },
    {
      "cell_type": "markdown",
      "metadata": {
        "id": "MPzatTCo8rUC"
      },
      "source": [
        "Enfin, pour avoir un aperçu de la relation entre les variables, nous produisons un graphique de dispersion, ou nuage de points.\n",
        "\n",
        "On se sert également du nuage de points pour confirmer l'existence d'une donnée extrême et l'indentifier plus précisément."
      ]
    },
    {
      "cell_type": "code",
      "metadata": {
        "id": "c5mkjLu1npxk"
      },
      "source": [
        "#Nuage de points\n",
        "\n",
        "nuage <- ggplot(bd, aes(x=scs134, y=jbs170)) + \n",
        "            geom_point() +\n",
        "            geom_smooth(method=lm , color=\"black\", se=FALSE) \n",
        "\n",
        "nuage + labs(x = \"Taux de décrochage scolaire\", y = \"Taux de chômage\")"
      ],
      "execution_count": null,
      "outputs": []
    },
    {
      "cell_type": "markdown",
      "metadata": {
        "id": "WwwwaGQr8zqR"
      },
      "source": [
        "Interprétation:\n",
        "\n",
        "Le nuage de point représente la relation entre le taux de décrochage scolaire, la variable indépendante placée sur l’axe des X, et le taux de chômage, la variable dépendante placée sur l’axe des Y. Chaque point représente un état. On aperçoit  une tendance générale positive, où le taux de chômage augmente avec le taux de décrochage scolaire. Donc plus le taux de décrochage est élevé, plus le taux de chômage l’est également et vice-versa. Toutefois, quelques points semblent s’éloigner du nuage de tendance générale, dont une donnée au sommet du graphique qui semble correspondre à une donnée extrême.\n",
        "\n",
        "Cette donnée extrême est tellement éloignée des autres qu'elle a assurément un impact important sur les résulats. Il faut donc la retirer; pour cela, il faut d'abord identifier à quel état (observation) correpsond ce point qu'on qualifie d'extrême. "
      ]
    },
    {
      "cell_type": "markdown",
      "metadata": {
        "id": "EZvWPd9o9JO-"
      },
      "source": [
        "Tout d'abord, on peut identifier les points directement dans le nuage de points pour savoir à quelle observation correspond notre point éloigné de la moyenne."
      ]
    },
    {
      "cell_type": "code",
      "metadata": {
        "id": "Wu-DF4wpyYw3"
      },
      "source": [
        "#Identifier un point dans un graphique\n",
        "nuage2 <- ggplot(bd, aes(x=scs134, y=jbs170)) + \n",
        "            geom_point() +\n",
        "            geom_smooth(method=lm , color=\"black\", se=FALSE) +\n",
        "            geom_text(\n",
        "               label=rownames(bd), \n",
        "               nudge_x = 0.25, nudge_y = 0.25, \n",
        "               check_overlap = T\n",
        "            )\n",
        "\n",
        "nuage2"
      ],
      "execution_count": null,
      "outputs": []
    },
    {
      "cell_type": "markdown",
      "metadata": {
        "id": "0LEy7hMH9Ta6"
      },
      "source": [
        "On peut aussi identifier les données extrêmes à l'étape suivante, soit la réalisation de la régression linéaire en elle-même. Les statistiques de résidus standardisés produites avec la fonction rstandard nous permettent de déceler l'existence d'une donnée extrême dépassant l'intervalle de -3 à 3 écarts-types de la moyenne. \n",
        "\n",
        "*Ne pas se fier aux \"deviance residuals\" produits automatiquement dans la régression linéaire: ceux-ci ne sont pas standardisés en fonction des écarts-types"
      ]
    },
    {
      "cell_type": "code",
      "metadata": {
        "id": "jBTVMgV29JKw"
      },
      "source": [
        "#Faire la régression linéaire\n",
        "\n",
        "reglineaire <- glm(jbs170 ~ scs134, data = bd, family=\"gaussian\")\n",
        "summary(rstandard(reglineaire))\n",
        "summary(reglineaire)\n",
        "rsq(reglineaire)"
      ],
      "execution_count": null,
      "outputs": []
    },
    {
      "cell_type": "markdown",
      "metadata": {
        "id": "bKHkx_Ia92rK"
      },
      "source": [
        "Interprétation:\n",
        "\n",
        "Avant le retrait des données extrêmes, la régression linéaire démontre l'existence d'une relation positive, de sorte que le taux de chômage augmente d’environ 0,21% pour chaque augmentation d’une unité du taux de décrochage scolaire. La relation est faible, mais positive et significative (p < 0.05). Selon le R-carré, environ 10% de la variance du taux de chômage est expliqué par le taux de décrochage scolaire."
      ]
    },
    {
      "cell_type": "markdown",
      "metadata": {
        "id": "OEBDKT1w99bH"
      },
      "source": [
        "\n",
        "Ensuite il faut trouver quelle est l'observation qui s'éloigne autant de la moyenne. Une première méthode, applicable dans de petites bases de données, est de sortir les statistiques de résidus de chaque observation et de trouver celle(s) qui sortent de l'intervalle -3 à 3.\n",
        "\n",
        "Évidemment cette technique est longue et peu appropriée en présence d'un grand nombre d'observations. On peut donc identifier automatiquement les données extrêmes (*outliers*) en créant un objet qui contient toutes les observations dont les résidus excèdent l'intervalle de résidus acceptable. L'état de l'Alaska (st=2) ressort comme étant notre donnée extrême. "
      ]
    },
    {
      "cell_type": "code",
      "metadata": {
        "id": "PcQ4Csc34oAz"
      },
      "source": [
        "#Identification des résidus\n",
        "rstandard(reglineaire)\n",
        "outliers <- bd$st[rstandard(reglineaire) < -3 | rstandard(reglineaire) > 3]\n",
        "outliers"
      ],
      "execution_count": null,
      "outputs": []
    },
    {
      "cell_type": "markdown",
      "metadata": {
        "id": "h7ZitNKzlPVC"
      },
      "source": [
        "On crée une nouvelle base de données excluant l'observation correspondante à la donnée extrême, selon l'une des deux méthodes suivantes."
      ]
    },
    {
      "cell_type": "code",
      "metadata": {
        "id": "mzhwUDzgghCZ"
      },
      "source": [
        "#Retrait de la donnée extrême\n",
        "bd2 <- bd[-2, ]\n",
        "bd2"
      ],
      "execution_count": null,
      "outputs": []
    },
    {
      "cell_type": "code",
      "metadata": {
        "id": "77kFQDguMMqs"
      },
      "source": [
        "#Retrait des données extrêmes (lorsqu'il y en a plusieurs)\n",
        "bd3 <- bd [-outliers,]\n",
        "bd3"
      ],
      "execution_count": null,
      "outputs": []
    },
    {
      "cell_type": "markdown",
      "metadata": {
        "id": "loVWek91lY6Q"
      },
      "source": [
        "Maintenant que la données extrême est retirée, on refait simplement l'analyse de régression linéaire avec notre nouvelle base de données."
      ]
    },
    {
      "cell_type": "code",
      "metadata": {
        "id": "bK5t3lw6ufpI"
      },
      "source": [
        "#Refaire la régression linéaire sans les données extrêmes\n",
        "reglineaire2 <- glm(jbs170 ~ scs134, data = bd2, family=\"gaussian\")\n",
        "summary(rstandard(reglineaire2))\n",
        "summary(reglineaire2)\n",
        "rsq(reglineaire2)"
      ],
      "execution_count": null,
      "outputs": []
    },
    {
      "cell_type": "markdown",
      "metadata": {
        "id": "JaPAM3v3UOTa"
      },
      "source": [
        "Interprétation:\n",
        "\n",
        "Une fois la donnée extrême retirée, la régression linéaire démontre toujours l'existence d'une relation positive, de sorte que le taux de chômage augmente d’environ 0,23% pour chaque augmentation d’une unité du taux de décrochage scolaire. La relation est donc encore faible et positive. Le niveau de signification de la relation a augmenté (p < 0.001).\n",
        "\n",
        "Le R-carré est passé à 0,317 , soit près du triple du r-carré avec données extrêmes. Ainsi, en dehors de l'Alaska, environ 32% de la variance du taux de chômage est expliqué par le taux de décrochage scolaire."
      ]
    }
  ]
}