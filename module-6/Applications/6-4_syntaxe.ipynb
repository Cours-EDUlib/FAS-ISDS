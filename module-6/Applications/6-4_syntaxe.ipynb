{
  "nbformat": 4,
  "nbformat_minor": 0,
  "metadata": {
    "colab": {
      "name": "6-4_syntaxe.ipynb",
      "provenance": [],
      "collapsed_sections": [],
      "authorship_tag": "ABX9TyNSnNNW6201jS0r5fNdSxFU",
      "include_colab_link": true
    },
    "kernelspec": {
      "name": "ir",
      "display_name": "R"
    }
  },
  "cells": [
    {
      "cell_type": "markdown",
      "metadata": {
        "id": "view-in-github",
        "colab_type": "text"
      },
      "source": [
        "<a href=\"https://colab.research.google.com/github/Cours-EDUlib/FAS-ISDS/blob/main/module-6/Applications/6-4_syntaxe.ipynb\" target=\"_parent\"><img src=\"https://colab.research.google.com/assets/colab-badge.svg\" alt=\"Open In Colab\"/></a>"
      ]
    },
    {
      "cell_type": "markdown",
      "metadata": {
        "id": "MLsTSTpSU7iv"
      },
      "source": [
        "#Les statistiques et la science des données appliquées\n",
        "##Application 4: régression logistique simple avec VI catégorielle\n",
        "###Syntaxe de l'exemple présenté"
      ]
    },
    {
      "cell_type": "code",
      "metadata": {
        "id": "caV0Vk3HfLx4"
      },
      "source": [
        "#Téléchargement des packages nécessaires\n",
        "library (tidyverse)\n",
        "install.packages(\"rsq\")\n",
        "require(rsq)\n",
        "library(ggplot2)\n",
        "install.packages(\"descr\")\n",
        "require(descr)"
      ],
      "execution_count": null,
      "outputs": []
    },
    {
      "cell_type": "code",
      "metadata": {
        "id": "2DDyJkB8uPY6"
      },
      "source": [
        "path_to_csv = 'https://github.com/Cours-EDUlib/FAS-ISDS/blob/main/module-6/Applications/6-4_donnees.csv?raw=true' #Téléchargement de la base de données depuis github\n",
        "\n",
        "bd <- read_csv(path_to_csv) #Enregistrement de la base de données dans l'ojet \"bd\"\n",
        "bd #Lecture des données"
      ],
      "execution_count": null,
      "outputs": []
    },
    {
      "cell_type": "markdown",
      "metadata": {
        "id": "LwnG_KXU-vE_"
      },
      "source": [
        "Voici les variables à l'étude dans cet exemple:\n",
        "- FEPRES: accord de l'individu à voter pour une femme candidate à la présidence (USA) (0 = non, 1 = oui)\n",
        "- femme: genre de l'individu ( 0 = homme, 1 = femme)\n",
        "- sei: statut socioéconomqiue (score de 0 à 100)\n",
        "\n",
        "Nous allons d'abord examiner la relation entre la variable FEPRES et femme.\n",
        "\n",
        "Commençons par produire quelques statistiques descriptives de base (fréquences) pour se familiariser avec les variables à l'étude."
      ]
    },
    {
      "cell_type": "code",
      "metadata": {
        "id": "BK_FbVC7-Tnv"
      },
      "source": [
        "#Fréquences et distribution VI régions\n",
        "\n",
        "freq(bd$FEPRES)\n",
        "freq(bd$femme)"
      ],
      "execution_count": null,
      "outputs": []
    },
    {
      "cell_type": "markdown",
      "metadata": {
        "id": "53ipiyDpCBvE"
      },
      "source": [
        "Interprétation:\n",
        "\n",
        "Le tableau de fréquence, accompagné d’un graphique à barres par défaut, nous montre qu’une très forte majorité de l’échantillon, 93,5% pour être exact, s’est prononcé en accord avec le fait de voter pour une femme à la présidence. On peut aussi observer que l’échantillon est assez bien divisé entre hommes et femmes, même si on a un peu plus de femmes (55% de l’échantillon)."
      ]
    },
    {
      "cell_type": "code",
      "metadata": {
        "id": "ExD_NIHH-T0Y"
      },
      "source": [
        "reglog <- glm(FEPRES ~ femme, data = bd, family=\"binomial\")\n",
        "summary(rstandard(reglog))\n",
        "summary(reglog)"
      ],
      "execution_count": null,
      "outputs": []
    },
    {
      "cell_type": "markdown",
      "metadata": {
        "id": "EDP_6CnArzGe"
      },
      "source": [
        "Interprétation:\n",
        "\n",
        "Il n’y a pas de données extrêmes, puisque les résidus sont inclus dans l’intervalle de 3 écart-types au-dessus et au-dessous de la moyenne.\n",
        "\n",
        "La constante ou intercept est à 2,5 et le coefficient non standardisé pour la variable femme est de 0,39 et les deux sont significatifs au seuil de 0,001."
      ]
    },
    {
      "cell_type": "markdown",
      "metadata": {
        "id": "WPd1R861qA4e"
      },
      "source": [
        "Rappel des équations en lien avec la régression logistique :\n",
        "\n",
        "- Calcul de probabilité : $ prob(evenement) = \\frac {1} {1 + e^{-(B0+B1(X))}} $\n",
        "\n",
        "- Calcul de la cote :  $ \\frac {prob(evenement)} {prob(non-evenement)} $\n",
        "\n",
        "\n"
      ]
    },
    {
      "cell_type": "markdown",
      "metadata": {
        "id": "o9_V5lTsqAw4"
      },
      "source": [
        "Commençons par la probabilité. Dans l’équation, on remplace le B0 par le coefficient de la ligne « intercept », et le B1 par le coefficient de la VI femme.\n",
        "\n",
        "Probabilité d'être en accord avec le fait de voter pour une femme à la présidence si X=1 (femme) : 0,945\n",
        "\n",
        "Probabilité d'être en accord avec le fait de voter pour une femme à la présidence si X=0 (homme) : 0,921\n",
        "\n",
        "Cote si X=1 (femme): 17,18\n",
        "\n",
        "Cote si X=0 (homme): 11,65\n",
        "\n",
        "Rapport de cote: 17,18/11,65 = 1,47\n",
        "\n",
        "La probabilité qu’une femme soit d’accord avec le fait de voter pour une femme à la présidence est de 94,5%. la probabilité qu’un homme soit d’accord avec le fait de voter pour une femme à la présidence est de 92,1%, 2 points de pourcentage de moins que pour les femmes. En fonction du rapport de cotes, les femmes ont 1,47 fois plus de chances d’être en accord avec le fait de voter pour femme à la présidence que les hommes."
      ]
    },
    {
      "cell_type": "markdown",
      "metadata": {
        "id": "vb6NGD0Go6Du"
      },
      "source": [
        "Nous allons maintenant examiner la relation entre la variable FEPRES et sei.\n",
        "\n",
        "Commençons par produire quelques statistiques descriptives de base pour se familiariser avec la VI:\n",
        "  - La moyenne\n",
        "  - La médiane\n",
        "  - Le minimum\n",
        "  - Le maximum\n",
        "  - l'écart-type"
      ]
    },
    {
      "cell_type": "code",
      "metadata": {
        "id": "KEOY9L_xXVCb"
      },
      "source": [
        "#Statistiques descriptives\n",
        "\n",
        "summary(bd$sei)\n",
        "sd(bd$sei, na.rm=TRUE)"
      ],
      "execution_count": null,
      "outputs": []
    },
    {
      "cell_type": "code",
      "metadata": {
        "id": "zfiaz6LPXRRF"
      },
      "source": [
        "#Histogramme\n",
        "ggplot(bd, aes(x=sei)) +\n",
        "  geom_histogram(binwidth=5, fill=\"#69b3a2\", color=\"#e9ecef\", alpha=0.9) +\n",
        "    ggtitle(\"Distribution: statut socioéconomique\") +\n",
        "    theme(\n",
        "      plot.title = element_text(size=20)\n",
        "    )"
      ],
      "execution_count": null,
      "outputs": []
    },
    {
      "cell_type": "markdown",
      "metadata": {
        "id": "oXTOfs0TpDp6"
      },
      "source": [
        "Interprétation:\n",
        "\n",
        "Notons la présence de 123 données manquantes. Le statut socioéconomique varie de 17,10 à 97,20, avec une moyenne de 47,85 et un écart-type de 18,99. L’histogramme montre une certaine asymétrie dans la distribution, mais on peut quand même réaliser la régression logistique."
      ]
    },
    {
      "cell_type": "code",
      "metadata": {
        "id": "Le-OQufa-UAp"
      },
      "source": [
        "reglog2 <- glm(FEPRES ~ sei, data = bd, family=\"binomial\")\n",
        "summary(rstandard(reglog2))\n",
        "summary(reglog2)"
      ],
      "execution_count": null,
      "outputs": []
    },
    {
      "cell_type": "markdown",
      "metadata": {
        "id": "6wwMGdnlpX_2"
      },
      "source": [
        "Interprétation:\n",
        "\n",
        "On confirme qu’il n’y a pas de données extrêmes grâce au résidus standard. La constante ou intercept est à 2,14 et le coefficient non standardisé pour la variable sei est de 0,011, tous deux significatifs au seuil de 0,001.\n",
        "\n",
        "Probabilité d'être en accord avec le fait de voter pour une femme à la présidence si X=47: 0,943\n",
        "\n",
        "Probabilité d'être en accord avec le fait de voter pour une femme à la présidence si X=90: 0,958\n",
        "\n",
        "Cote si X=47: 16,5\n",
        "\n",
        "Cote si X=90: 22,8\n",
        "\n",
        "Rapport de cote: 22,8/16,5 = 1,39\n",
        "\n",
        "Les individus au statut socioéconomique de 90 ont 1,39 plus de chance d’être en accord de voter pour une femme à la présidence que la moyenne des Américains. "
      ]
    },
    {
      "cell_type": "markdown",
      "metadata": {
        "id": "niiIgtjxpHL7"
      },
      "source": [
        "###Bonus\n",
        "\n",
        "Représentation visuelle des probabilités prédites"
      ]
    },
    {
      "cell_type": "code",
      "metadata": {
        "id": "2n_b_uvZKLzU"
      },
      "source": [
        "#Nouvelle base de données sans les données manquantes\n",
        "bd2 <- bd[!is.na(bd$sei),]\n",
        "bd2"
      ],
      "execution_count": null,
      "outputs": []
    },
    {
      "cell_type": "code",
      "metadata": {
        "id": "NCAU1MLdEH7-"
      },
      "source": [
        "#Calcul des probabilités prédites\n",
        "bd2$pred2 <- predict(reglog2, type=\"response\")\n",
        "summary(bd2$pred2)"
      ],
      "execution_count": null,
      "outputs": []
    },
    {
      "cell_type": "code",
      "metadata": {
        "id": "FslAqkSfEIBt"
      },
      "source": [
        "#Nuage de points\n",
        "ggplot(bd2, aes(x=sei, y=pred2)) + \n",
        "    geom_point()"
      ],
      "execution_count": null,
      "outputs": []
    }
  ]
}