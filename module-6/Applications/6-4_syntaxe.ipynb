{
  "nbformat": 4,
  "nbformat_minor": 0,
  "metadata": {
    "colab": {
      "name": "6-4_syntaxe.ipynb",
      "provenance": [],
      "collapsed_sections": [],
      "authorship_tag": "ABX9TyMdRpQZV9gzSPcmxYCwm21Y",
      "include_colab_link": true
    },
    "kernelspec": {
      "name": "ir",
      "display_name": "R"
    }
  },
  "cells": [
    {
      "cell_type": "markdown",
      "metadata": {
        "id": "view-in-github",
        "colab_type": "text"
      },
      "source": [
        "<a href=\"https://colab.research.google.com/github/Cours-EDUlib/FAS-ISDS/blob/restructuration-finale/module-6/Applications/6-4_syntaxe.ipynb\" target=\"_parent\"><img src=\"https://colab.research.google.com/assets/colab-badge.svg\" alt=\"Open In Colab\"/></a>"
      ]
    },
    {
      "cell_type": "markdown",
      "metadata": {
        "id": "MLsTSTpSU7iv"
      },
      "source": [
        "#Les statistiques et la science des données appliquées\n",
        "##Application 4: régression logistique simple avec VI catégorielle\n",
        "###Syntaxe de l'exemple présenté"
      ]
    },
    {
      "cell_type": "code",
      "metadata": {
        "id": "caV0Vk3HfLx4",
        "colab": {
          "base_uri": "https://localhost:8080/"
        },
        "outputId": "9e533505-8180-4729-a7ea-72a1b491d304"
      },
      "source": [
        "#Téléchargement des packages nécessaires\n",
        "library (tidyverse)\n",
        "install.packages(\"rsq\")\n",
        "require(rsq)\n",
        "library(ggplot2)\n",
        "install.packages(\"descr\")\n",
        "require(descr)"
      ],
      "execution_count": null,
      "outputs": [
        {
          "output_type": "stream",
          "text": [
            "── \u001b[1mAttaching packages\u001b[22m ─────────────────────────────────────── tidyverse 1.3.0 ──\n",
            "\n",
            "\u001b[32m✔\u001b[39m \u001b[34mggplot2\u001b[39m 3.3.2     \u001b[32m✔\u001b[39m \u001b[34mpurrr  \u001b[39m 0.3.4\n",
            "\u001b[32m✔\u001b[39m \u001b[34mtibble \u001b[39m 3.0.4     \u001b[32m✔\u001b[39m \u001b[34mdplyr  \u001b[39m 1.0.2\n",
            "\u001b[32m✔\u001b[39m \u001b[34mtidyr  \u001b[39m 1.1.2     \u001b[32m✔\u001b[39m \u001b[34mstringr\u001b[39m 1.4.0\n",
            "\u001b[32m✔\u001b[39m \u001b[34mreadr  \u001b[39m 1.4.0     \u001b[32m✔\u001b[39m \u001b[34mforcats\u001b[39m 0.5.0\n",
            "\n",
            "── \u001b[1mConflicts\u001b[22m ────────────────────────────────────────── tidyverse_conflicts() ──\n",
            "\u001b[31m✖\u001b[39m \u001b[34mdplyr\u001b[39m::\u001b[32mfilter()\u001b[39m masks \u001b[34mstats\u001b[39m::filter()\n",
            "\u001b[31m✖\u001b[39m \u001b[34mdplyr\u001b[39m::\u001b[32mlag()\u001b[39m    masks \u001b[34mstats\u001b[39m::lag()\n",
            "\n",
            "Installing package into ‘/usr/local/lib/R/site-library’\n",
            "(as ‘lib’ is unspecified)\n",
            "\n",
            "also installing the dependencies ‘minqa’, ‘nloptr’, ‘statmod’, ‘RcppEigen’, ‘lme4’, ‘numDeriv’\n",
            "\n",
            "\n",
            "Loading required package: rsq\n",
            "\n",
            "Installing package into ‘/usr/local/lib/R/site-library’\n",
            "(as ‘lib’ is unspecified)\n",
            "\n",
            "also installing the dependency ‘xtable’\n",
            "\n",
            "\n",
            "Loading required package: descr\n",
            "\n"
          ],
          "name": "stderr"
        }
      ]
    },
    {
      "cell_type": "code",
      "metadata": {
        "id": "2DDyJkB8uPY6",
        "colab": {
          "base_uri": "https://localhost:8080/",
          "height": 1000
        },
        "outputId": "e25d4ee0-c545-4c2e-9fae-b2df129a5997"
      },
      "source": [
        "path_to_csv = 'https://github.com/Cours-EDUlib/FAS-ISDS/blob/main/module-7/Applications/7-4_donnees.csv?raw=true' #Téléchargement de la base de données depuis github\n",
        "\n",
        "bd <- read_csv(path_to_csv) #Enregistrement de la base de données dans l'ojet \"bd\"\n",
        "bd #Lecture des données"
      ],
      "execution_count": null,
      "outputs": [
        {
          "output_type": "stream",
          "text": [
            "\n",
            "\u001b[36m──\u001b[39m \u001b[1m\u001b[1mColumn specification\u001b[1m\u001b[22m \u001b[36m────────────────────────────────────────────────────────\u001b[39m\n",
            "cols(\n",
            "  ID = \u001b[32mcol_double()\u001b[39m,\n",
            "  FEPRES = \u001b[32mcol_double()\u001b[39m,\n",
            "  femme = \u001b[32mcol_double()\u001b[39m,\n",
            "  marital = \u001b[32mcol_double()\u001b[39m,\n",
            "  sei = \u001b[32mcol_double()\u001b[39m,\n",
            "  degree = \u001b[32mcol_double()\u001b[39m,\n",
            "  partner = \u001b[32mcol_double()\u001b[39m\n",
            ")\n",
            "\n",
            "\n"
          ],
          "name": "stderr"
        },
        {
          "output_type": "display_data",
          "data": {
            "text/plain": [
              "     ID   FEPRES femme marital sei  degree partner\n",
              "1     1   1      0     1       43.4 1      12     \n",
              "2     2   1      0     0       38.9 3      17     \n",
              "3     3   1      0     1       35.1 4      18     \n",
              "4     4   1      1     1       62.5 0       6     \n",
              "5     5   1      1     1       17.1 0       8     \n",
              "6     6   1      1     1       69.2 3      17     \n",
              "7     7   1      0     1       29.8 1      12     \n",
              "8     8   1      1     0       37.7 1      13     \n",
              "9     9   1      1     1       37.7 1      13     \n",
              "10   10   1      1     1         NA 1      13     \n",
              "11   11   1      1     0       92.3 4      19     \n",
              "12   12   0      1     1       80.9 4      16     \n",
              "13   13   1      1     0       76.4 3      16     \n",
              "14   14   1      0     1       37.4 1      13     \n",
              "15   15   1      1     1       38.4 3      16     \n",
              "16   16   1      0     0       38.9 3      16     \n",
              "17   17   1      0     1       62.5 1      15     \n",
              "18   18   1      0     0       83.9 4      19     \n",
              "19   19   1      0     1       17.1 1      13     \n",
              "20   20   1      1     0       37.7 1      12     \n",
              "21   21   1      0     1       39.4 1      12     \n",
              "22   22   1      1     1       27.5 0       4     \n",
              "23   23   1      0     0       49.9 1      15     \n",
              "24   24   1      1     1       29.3 1      12     \n",
              "25   25   1      1     0       29.3 0      11     \n",
              "26   26   1      1     0       52.5 1      16     \n",
              "27   27   1      1     1       53.7 3      20     \n",
              "28   28   1      0     0       76.3 3      17     \n",
              "29   29   1      1     0       72.5 3      16     \n",
              "30   30   1      1     0       33.9 3      16     \n",
              "⋮    ⋮    ⋮      ⋮     ⋮       ⋮    ⋮      ⋮      \n",
              "2875 2875 1      0     1       87.9 4      20     \n",
              "2876 2876 1      1     0       62.5 4      18     \n",
              "2877 2877 1      1     0       33.1 1      13     \n",
              "2878 2878 1      0     1       39.7 0      10     \n",
              "2879 2879 1      1     1       69.7 1      12     \n",
              "2880 2880 1      1     1       49.9 1      12     \n",
              "2881 2881 1      0     1       38.9 1      13     \n",
              "2882 2882 1      0     0       39.4 2      14     \n",
              "2883 2883 1      0     0       76.4 1      16     \n",
              "2884 2884 1      0     1       48.5 1      12     \n",
              "2885 2885 1      1     1       26.4 1      14     \n",
              "2886 2886 1      0     0       42.2 3      16     \n",
              "2887 2887 1      1     1       50.7 1      12     \n",
              "2888 2888 1      0     1       54.5 1      13     \n",
              "2889 2889 1      0     1       52.5 1      12     \n",
              "2890 2890 1      1     1       62.2 3      16     \n",
              "2891 2891 1      1     1       50.5 1      12     \n",
              "2892 2892 1      1     1       33.1 1      12     \n",
              "2893 2893 1      0     1       38.1 1      12     \n",
              "2894 2894 1      1     1       74.4 1      14     \n",
              "2895 2895 1      1     1         NA 1      13     \n",
              "2896 2896 1      0     1       28.4 1      12     \n",
              "2897 2897 1      0     0       32.4 3      16     \n",
              "2898 2898 1      0     0       28.6 2      14     \n",
              "2899 2899 1      1     1       38.9 1      11     \n",
              "2900 2900 1      0     0       38.1 0      11     \n",
              "2901 2901 1      1     1       38.4 1      12     \n",
              "2902 2902 1      0     1       28.4 1      12     \n",
              "2903 2903 1      0     1       68.1 1       9     \n",
              "2904 2904 1      1     1       32.4 1      12     "
            ],
            "text/latex": "A spec\\_tbl\\_df: 2904 × 7\n\\begin{tabular}{lllllll}\n ID & FEPRES & femme & marital & sei & degree & partner\\\\\n <dbl> & <dbl> & <dbl> & <dbl> & <dbl> & <dbl> & <dbl>\\\\\n\\hline\n\t  1 & 1 & 0 & 1 & 43.4 & 1 & 12\\\\\n\t  2 & 1 & 0 & 0 & 38.9 & 3 & 17\\\\\n\t  3 & 1 & 0 & 1 & 35.1 & 4 & 18\\\\\n\t  4 & 1 & 1 & 1 & 62.5 & 0 &  6\\\\\n\t  5 & 1 & 1 & 1 & 17.1 & 0 &  8\\\\\n\t  6 & 1 & 1 & 1 & 69.2 & 3 & 17\\\\\n\t  7 & 1 & 0 & 1 & 29.8 & 1 & 12\\\\\n\t  8 & 1 & 1 & 0 & 37.7 & 1 & 13\\\\\n\t  9 & 1 & 1 & 1 & 37.7 & 1 & 13\\\\\n\t 10 & 1 & 1 & 1 &   NA & 1 & 13\\\\\n\t 11 & 1 & 1 & 0 & 92.3 & 4 & 19\\\\\n\t 12 & 0 & 1 & 1 & 80.9 & 4 & 16\\\\\n\t 13 & 1 & 1 & 0 & 76.4 & 3 & 16\\\\\n\t 14 & 1 & 0 & 1 & 37.4 & 1 & 13\\\\\n\t 15 & 1 & 1 & 1 & 38.4 & 3 & 16\\\\\n\t 16 & 1 & 0 & 0 & 38.9 & 3 & 16\\\\\n\t 17 & 1 & 0 & 1 & 62.5 & 1 & 15\\\\\n\t 18 & 1 & 0 & 0 & 83.9 & 4 & 19\\\\\n\t 19 & 1 & 0 & 1 & 17.1 & 1 & 13\\\\\n\t 20 & 1 & 1 & 0 & 37.7 & 1 & 12\\\\\n\t 21 & 1 & 0 & 1 & 39.4 & 1 & 12\\\\\n\t 22 & 1 & 1 & 1 & 27.5 & 0 &  4\\\\\n\t 23 & 1 & 0 & 0 & 49.9 & 1 & 15\\\\\n\t 24 & 1 & 1 & 1 & 29.3 & 1 & 12\\\\\n\t 25 & 1 & 1 & 0 & 29.3 & 0 & 11\\\\\n\t 26 & 1 & 1 & 0 & 52.5 & 1 & 16\\\\\n\t 27 & 1 & 1 & 1 & 53.7 & 3 & 20\\\\\n\t 28 & 1 & 0 & 0 & 76.3 & 3 & 17\\\\\n\t 29 & 1 & 1 & 0 & 72.5 & 3 & 16\\\\\n\t 30 & 1 & 1 & 0 & 33.9 & 3 & 16\\\\\n\t ⋮ & ⋮ & ⋮ & ⋮ & ⋮ & ⋮ & ⋮\\\\\n\t 2875 & 1 & 0 & 1 & 87.9 & 4 & 20\\\\\n\t 2876 & 1 & 1 & 0 & 62.5 & 4 & 18\\\\\n\t 2877 & 1 & 1 & 0 & 33.1 & 1 & 13\\\\\n\t 2878 & 1 & 0 & 1 & 39.7 & 0 & 10\\\\\n\t 2879 & 1 & 1 & 1 & 69.7 & 1 & 12\\\\\n\t 2880 & 1 & 1 & 1 & 49.9 & 1 & 12\\\\\n\t 2881 & 1 & 0 & 1 & 38.9 & 1 & 13\\\\\n\t 2882 & 1 & 0 & 0 & 39.4 & 2 & 14\\\\\n\t 2883 & 1 & 0 & 0 & 76.4 & 1 & 16\\\\\n\t 2884 & 1 & 0 & 1 & 48.5 & 1 & 12\\\\\n\t 2885 & 1 & 1 & 1 & 26.4 & 1 & 14\\\\\n\t 2886 & 1 & 0 & 0 & 42.2 & 3 & 16\\\\\n\t 2887 & 1 & 1 & 1 & 50.7 & 1 & 12\\\\\n\t 2888 & 1 & 0 & 1 & 54.5 & 1 & 13\\\\\n\t 2889 & 1 & 0 & 1 & 52.5 & 1 & 12\\\\\n\t 2890 & 1 & 1 & 1 & 62.2 & 3 & 16\\\\\n\t 2891 & 1 & 1 & 1 & 50.5 & 1 & 12\\\\\n\t 2892 & 1 & 1 & 1 & 33.1 & 1 & 12\\\\\n\t 2893 & 1 & 0 & 1 & 38.1 & 1 & 12\\\\\n\t 2894 & 1 & 1 & 1 & 74.4 & 1 & 14\\\\\n\t 2895 & 1 & 1 & 1 &   NA & 1 & 13\\\\\n\t 2896 & 1 & 0 & 1 & 28.4 & 1 & 12\\\\\n\t 2897 & 1 & 0 & 0 & 32.4 & 3 & 16\\\\\n\t 2898 & 1 & 0 & 0 & 28.6 & 2 & 14\\\\\n\t 2899 & 1 & 1 & 1 & 38.9 & 1 & 11\\\\\n\t 2900 & 1 & 0 & 0 & 38.1 & 0 & 11\\\\\n\t 2901 & 1 & 1 & 1 & 38.4 & 1 & 12\\\\\n\t 2902 & 1 & 0 & 1 & 28.4 & 1 & 12\\\\\n\t 2903 & 1 & 0 & 1 & 68.1 & 1 &  9\\\\\n\t 2904 & 1 & 1 & 1 & 32.4 & 1 & 12\\\\\n\\end{tabular}\n",
            "text/markdown": "\nA spec_tbl_df: 2904 × 7\n\n| ID &lt;dbl&gt; | FEPRES &lt;dbl&gt; | femme &lt;dbl&gt; | marital &lt;dbl&gt; | sei &lt;dbl&gt; | degree &lt;dbl&gt; | partner &lt;dbl&gt; |\n|---|---|---|---|---|---|---|\n|  1 | 1 | 0 | 1 | 43.4 | 1 | 12 |\n|  2 | 1 | 0 | 0 | 38.9 | 3 | 17 |\n|  3 | 1 | 0 | 1 | 35.1 | 4 | 18 |\n|  4 | 1 | 1 | 1 | 62.5 | 0 |  6 |\n|  5 | 1 | 1 | 1 | 17.1 | 0 |  8 |\n|  6 | 1 | 1 | 1 | 69.2 | 3 | 17 |\n|  7 | 1 | 0 | 1 | 29.8 | 1 | 12 |\n|  8 | 1 | 1 | 0 | 37.7 | 1 | 13 |\n|  9 | 1 | 1 | 1 | 37.7 | 1 | 13 |\n| 10 | 1 | 1 | 1 |   NA | 1 | 13 |\n| 11 | 1 | 1 | 0 | 92.3 | 4 | 19 |\n| 12 | 0 | 1 | 1 | 80.9 | 4 | 16 |\n| 13 | 1 | 1 | 0 | 76.4 | 3 | 16 |\n| 14 | 1 | 0 | 1 | 37.4 | 1 | 13 |\n| 15 | 1 | 1 | 1 | 38.4 | 3 | 16 |\n| 16 | 1 | 0 | 0 | 38.9 | 3 | 16 |\n| 17 | 1 | 0 | 1 | 62.5 | 1 | 15 |\n| 18 | 1 | 0 | 0 | 83.9 | 4 | 19 |\n| 19 | 1 | 0 | 1 | 17.1 | 1 | 13 |\n| 20 | 1 | 1 | 0 | 37.7 | 1 | 12 |\n| 21 | 1 | 0 | 1 | 39.4 | 1 | 12 |\n| 22 | 1 | 1 | 1 | 27.5 | 0 |  4 |\n| 23 | 1 | 0 | 0 | 49.9 | 1 | 15 |\n| 24 | 1 | 1 | 1 | 29.3 | 1 | 12 |\n| 25 | 1 | 1 | 0 | 29.3 | 0 | 11 |\n| 26 | 1 | 1 | 0 | 52.5 | 1 | 16 |\n| 27 | 1 | 1 | 1 | 53.7 | 3 | 20 |\n| 28 | 1 | 0 | 0 | 76.3 | 3 | 17 |\n| 29 | 1 | 1 | 0 | 72.5 | 3 | 16 |\n| 30 | 1 | 1 | 0 | 33.9 | 3 | 16 |\n| ⋮ | ⋮ | ⋮ | ⋮ | ⋮ | ⋮ | ⋮ |\n| 2875 | 1 | 0 | 1 | 87.9 | 4 | 20 |\n| 2876 | 1 | 1 | 0 | 62.5 | 4 | 18 |\n| 2877 | 1 | 1 | 0 | 33.1 | 1 | 13 |\n| 2878 | 1 | 0 | 1 | 39.7 | 0 | 10 |\n| 2879 | 1 | 1 | 1 | 69.7 | 1 | 12 |\n| 2880 | 1 | 1 | 1 | 49.9 | 1 | 12 |\n| 2881 | 1 | 0 | 1 | 38.9 | 1 | 13 |\n| 2882 | 1 | 0 | 0 | 39.4 | 2 | 14 |\n| 2883 | 1 | 0 | 0 | 76.4 | 1 | 16 |\n| 2884 | 1 | 0 | 1 | 48.5 | 1 | 12 |\n| 2885 | 1 | 1 | 1 | 26.4 | 1 | 14 |\n| 2886 | 1 | 0 | 0 | 42.2 | 3 | 16 |\n| 2887 | 1 | 1 | 1 | 50.7 | 1 | 12 |\n| 2888 | 1 | 0 | 1 | 54.5 | 1 | 13 |\n| 2889 | 1 | 0 | 1 | 52.5 | 1 | 12 |\n| 2890 | 1 | 1 | 1 | 62.2 | 3 | 16 |\n| 2891 | 1 | 1 | 1 | 50.5 | 1 | 12 |\n| 2892 | 1 | 1 | 1 | 33.1 | 1 | 12 |\n| 2893 | 1 | 0 | 1 | 38.1 | 1 | 12 |\n| 2894 | 1 | 1 | 1 | 74.4 | 1 | 14 |\n| 2895 | 1 | 1 | 1 |   NA | 1 | 13 |\n| 2896 | 1 | 0 | 1 | 28.4 | 1 | 12 |\n| 2897 | 1 | 0 | 0 | 32.4 | 3 | 16 |\n| 2898 | 1 | 0 | 0 | 28.6 | 2 | 14 |\n| 2899 | 1 | 1 | 1 | 38.9 | 1 | 11 |\n| 2900 | 1 | 0 | 0 | 38.1 | 0 | 11 |\n| 2901 | 1 | 1 | 1 | 38.4 | 1 | 12 |\n| 2902 | 1 | 0 | 1 | 28.4 | 1 | 12 |\n| 2903 | 1 | 0 | 1 | 68.1 | 1 |  9 |\n| 2904 | 1 | 1 | 1 | 32.4 | 1 | 12 |\n\n",
            "text/html": [
              "<table>\n",
              "<caption>A spec_tbl_df: 2904 × 7</caption>\n",
              "<thead>\n",
              "\t<tr><th scope=col>ID</th><th scope=col>FEPRES</th><th scope=col>femme</th><th scope=col>marital</th><th scope=col>sei</th><th scope=col>degree</th><th scope=col>partner</th></tr>\n",
              "\t<tr><th scope=col>&lt;dbl&gt;</th><th scope=col>&lt;dbl&gt;</th><th scope=col>&lt;dbl&gt;</th><th scope=col>&lt;dbl&gt;</th><th scope=col>&lt;dbl&gt;</th><th scope=col>&lt;dbl&gt;</th><th scope=col>&lt;dbl&gt;</th></tr>\n",
              "</thead>\n",
              "<tbody>\n",
              "\t<tr><td> 1</td><td>1</td><td>0</td><td>1</td><td>43.4</td><td>1</td><td>12</td></tr>\n",
              "\t<tr><td> 2</td><td>1</td><td>0</td><td>0</td><td>38.9</td><td>3</td><td>17</td></tr>\n",
              "\t<tr><td> 3</td><td>1</td><td>0</td><td>1</td><td>35.1</td><td>4</td><td>18</td></tr>\n",
              "\t<tr><td> 4</td><td>1</td><td>1</td><td>1</td><td>62.5</td><td>0</td><td> 6</td></tr>\n",
              "\t<tr><td> 5</td><td>1</td><td>1</td><td>1</td><td>17.1</td><td>0</td><td> 8</td></tr>\n",
              "\t<tr><td> 6</td><td>1</td><td>1</td><td>1</td><td>69.2</td><td>3</td><td>17</td></tr>\n",
              "\t<tr><td> 7</td><td>1</td><td>0</td><td>1</td><td>29.8</td><td>1</td><td>12</td></tr>\n",
              "\t<tr><td> 8</td><td>1</td><td>1</td><td>0</td><td>37.7</td><td>1</td><td>13</td></tr>\n",
              "\t<tr><td> 9</td><td>1</td><td>1</td><td>1</td><td>37.7</td><td>1</td><td>13</td></tr>\n",
              "\t<tr><td>10</td><td>1</td><td>1</td><td>1</td><td>  NA</td><td>1</td><td>13</td></tr>\n",
              "\t<tr><td>11</td><td>1</td><td>1</td><td>0</td><td>92.3</td><td>4</td><td>19</td></tr>\n",
              "\t<tr><td>12</td><td>0</td><td>1</td><td>1</td><td>80.9</td><td>4</td><td>16</td></tr>\n",
              "\t<tr><td>13</td><td>1</td><td>1</td><td>0</td><td>76.4</td><td>3</td><td>16</td></tr>\n",
              "\t<tr><td>14</td><td>1</td><td>0</td><td>1</td><td>37.4</td><td>1</td><td>13</td></tr>\n",
              "\t<tr><td>15</td><td>1</td><td>1</td><td>1</td><td>38.4</td><td>3</td><td>16</td></tr>\n",
              "\t<tr><td>16</td><td>1</td><td>0</td><td>0</td><td>38.9</td><td>3</td><td>16</td></tr>\n",
              "\t<tr><td>17</td><td>1</td><td>0</td><td>1</td><td>62.5</td><td>1</td><td>15</td></tr>\n",
              "\t<tr><td>18</td><td>1</td><td>0</td><td>0</td><td>83.9</td><td>4</td><td>19</td></tr>\n",
              "\t<tr><td>19</td><td>1</td><td>0</td><td>1</td><td>17.1</td><td>1</td><td>13</td></tr>\n",
              "\t<tr><td>20</td><td>1</td><td>1</td><td>0</td><td>37.7</td><td>1</td><td>12</td></tr>\n",
              "\t<tr><td>21</td><td>1</td><td>0</td><td>1</td><td>39.4</td><td>1</td><td>12</td></tr>\n",
              "\t<tr><td>22</td><td>1</td><td>1</td><td>1</td><td>27.5</td><td>0</td><td> 4</td></tr>\n",
              "\t<tr><td>23</td><td>1</td><td>0</td><td>0</td><td>49.9</td><td>1</td><td>15</td></tr>\n",
              "\t<tr><td>24</td><td>1</td><td>1</td><td>1</td><td>29.3</td><td>1</td><td>12</td></tr>\n",
              "\t<tr><td>25</td><td>1</td><td>1</td><td>0</td><td>29.3</td><td>0</td><td>11</td></tr>\n",
              "\t<tr><td>26</td><td>1</td><td>1</td><td>0</td><td>52.5</td><td>1</td><td>16</td></tr>\n",
              "\t<tr><td>27</td><td>1</td><td>1</td><td>1</td><td>53.7</td><td>3</td><td>20</td></tr>\n",
              "\t<tr><td>28</td><td>1</td><td>0</td><td>0</td><td>76.3</td><td>3</td><td>17</td></tr>\n",
              "\t<tr><td>29</td><td>1</td><td>1</td><td>0</td><td>72.5</td><td>3</td><td>16</td></tr>\n",
              "\t<tr><td>30</td><td>1</td><td>1</td><td>0</td><td>33.9</td><td>3</td><td>16</td></tr>\n",
              "\t<tr><td>⋮</td><td>⋮</td><td>⋮</td><td>⋮</td><td>⋮</td><td>⋮</td><td>⋮</td></tr>\n",
              "\t<tr><td>2875</td><td>1</td><td>0</td><td>1</td><td>87.9</td><td>4</td><td>20</td></tr>\n",
              "\t<tr><td>2876</td><td>1</td><td>1</td><td>0</td><td>62.5</td><td>4</td><td>18</td></tr>\n",
              "\t<tr><td>2877</td><td>1</td><td>1</td><td>0</td><td>33.1</td><td>1</td><td>13</td></tr>\n",
              "\t<tr><td>2878</td><td>1</td><td>0</td><td>1</td><td>39.7</td><td>0</td><td>10</td></tr>\n",
              "\t<tr><td>2879</td><td>1</td><td>1</td><td>1</td><td>69.7</td><td>1</td><td>12</td></tr>\n",
              "\t<tr><td>2880</td><td>1</td><td>1</td><td>1</td><td>49.9</td><td>1</td><td>12</td></tr>\n",
              "\t<tr><td>2881</td><td>1</td><td>0</td><td>1</td><td>38.9</td><td>1</td><td>13</td></tr>\n",
              "\t<tr><td>2882</td><td>1</td><td>0</td><td>0</td><td>39.4</td><td>2</td><td>14</td></tr>\n",
              "\t<tr><td>2883</td><td>1</td><td>0</td><td>0</td><td>76.4</td><td>1</td><td>16</td></tr>\n",
              "\t<tr><td>2884</td><td>1</td><td>0</td><td>1</td><td>48.5</td><td>1</td><td>12</td></tr>\n",
              "\t<tr><td>2885</td><td>1</td><td>1</td><td>1</td><td>26.4</td><td>1</td><td>14</td></tr>\n",
              "\t<tr><td>2886</td><td>1</td><td>0</td><td>0</td><td>42.2</td><td>3</td><td>16</td></tr>\n",
              "\t<tr><td>2887</td><td>1</td><td>1</td><td>1</td><td>50.7</td><td>1</td><td>12</td></tr>\n",
              "\t<tr><td>2888</td><td>1</td><td>0</td><td>1</td><td>54.5</td><td>1</td><td>13</td></tr>\n",
              "\t<tr><td>2889</td><td>1</td><td>0</td><td>1</td><td>52.5</td><td>1</td><td>12</td></tr>\n",
              "\t<tr><td>2890</td><td>1</td><td>1</td><td>1</td><td>62.2</td><td>3</td><td>16</td></tr>\n",
              "\t<tr><td>2891</td><td>1</td><td>1</td><td>1</td><td>50.5</td><td>1</td><td>12</td></tr>\n",
              "\t<tr><td>2892</td><td>1</td><td>1</td><td>1</td><td>33.1</td><td>1</td><td>12</td></tr>\n",
              "\t<tr><td>2893</td><td>1</td><td>0</td><td>1</td><td>38.1</td><td>1</td><td>12</td></tr>\n",
              "\t<tr><td>2894</td><td>1</td><td>1</td><td>1</td><td>74.4</td><td>1</td><td>14</td></tr>\n",
              "\t<tr><td>2895</td><td>1</td><td>1</td><td>1</td><td>  NA</td><td>1</td><td>13</td></tr>\n",
              "\t<tr><td>2896</td><td>1</td><td>0</td><td>1</td><td>28.4</td><td>1</td><td>12</td></tr>\n",
              "\t<tr><td>2897</td><td>1</td><td>0</td><td>0</td><td>32.4</td><td>3</td><td>16</td></tr>\n",
              "\t<tr><td>2898</td><td>1</td><td>0</td><td>0</td><td>28.6</td><td>2</td><td>14</td></tr>\n",
              "\t<tr><td>2899</td><td>1</td><td>1</td><td>1</td><td>38.9</td><td>1</td><td>11</td></tr>\n",
              "\t<tr><td>2900</td><td>1</td><td>0</td><td>0</td><td>38.1</td><td>0</td><td>11</td></tr>\n",
              "\t<tr><td>2901</td><td>1</td><td>1</td><td>1</td><td>38.4</td><td>1</td><td>12</td></tr>\n",
              "\t<tr><td>2902</td><td>1</td><td>0</td><td>1</td><td>28.4</td><td>1</td><td>12</td></tr>\n",
              "\t<tr><td>2903</td><td>1</td><td>0</td><td>1</td><td>68.1</td><td>1</td><td> 9</td></tr>\n",
              "\t<tr><td>2904</td><td>1</td><td>1</td><td>1</td><td>32.4</td><td>1</td><td>12</td></tr>\n",
              "</tbody>\n",
              "</table>\n"
            ]
          },
          "metadata": {
            "tags": []
          }
        }
      ]
    },
    {
      "cell_type": "markdown",
      "metadata": {
        "id": "LwnG_KXU-vE_"
      },
      "source": [
        "Voici les variables à l'étude dans cet exemple:\n",
        "- FEPRES: accord de l'individu à voter pour une femme candidate à la présidence (USA) (0 = non, 1 = oui)\n",
        "- femme: genre de l'individu ( 0 = homme, 1 = femme)\n",
        "- sei: statut socioéconomqiue (score de 0 à 100)\n",
        "\n",
        "Nous allons d'abord examiner la relation entre la variable FEPRES et femme.\n",
        "\n",
        "Commençons par produire quelques statistiques descriptives de base (fréquences) pour se familiariser avec les variables à l'étude."
      ]
    },
    {
      "cell_type": "code",
      "metadata": {
        "id": "BK_FbVC7-Tnv",
        "colab": {
          "base_uri": "https://localhost:8080/",
          "height": 1000
        },
        "outputId": "51ddd487-9618-4c9b-cc08-4483b9f43aa5"
      },
      "source": [
        "#Fréquences et distribution VI régions\n",
        "\n",
        "freq(bd$FEPRES)\n",
        "freq(bd$femme)"
      ],
      "execution_count": null,
      "outputs": [
        {
          "output_type": "display_data",
          "data": {
            "text/plain": [
              "      Frequency Percent   \n",
              "0      189        6.508264\n",
              "1     2715       93.491736\n",
              "Total 2904      100.000000"
            ],
            "text/latex": "A freqtable: 3 × 2 of type dbl\n\\begin{tabular}{r|ll}\n  & Frequency & Percent\\\\\n\\hline\n\t0 &  189 &   6.508264\\\\\n\t1 & 2715 &  93.491736\\\\\n\tTotal & 2904 & 100.000000\\\\\n\\end{tabular}\n",
            "text/markdown": "\nA freqtable: 3 × 2 of type dbl\n\n| <!--/--> | Frequency | Percent |\n|---|---|---|\n| 0 |  189 |   6.508264 |\n| 1 | 2715 |  93.491736 |\n| Total | 2904 | 100.000000 |\n\n",
            "text/html": [
              "<table>\n",
              "<caption>A freqtable: 3 × 2 of type dbl</caption>\n",
              "<thead>\n",
              "\t<tr><th></th><th scope=col>Frequency</th><th scope=col>Percent</th></tr>\n",
              "</thead>\n",
              "<tbody>\n",
              "\t<tr><th scope=row>0</th><td> 189</td><td>  6.508264</td></tr>\n",
              "\t<tr><th scope=row>1</th><td>2715</td><td> 93.491736</td></tr>\n",
              "\t<tr><th scope=row>Total</th><td>2904</td><td>100.000000</td></tr>\n",
              "</tbody>\n",
              "</table>\n"
            ]
          },
          "metadata": {
            "tags": []
          }
        },
        {
          "output_type": "display_data",
          "data": {
            "image/png": "[encoded data removed]",
            "text/plain": [
              "plot without title"
            ]
          },
          "metadata": {
            "tags": [],
            "image/png": {
              "width": 420,
              "height": 420
            }
          }
        },
        {
          "output_type": "display_data",
          "data": {
            "text/plain": [
              "      Frequency Percent  \n",
              "0     1285       44.24931\n",
              "1     1619       55.75069\n",
              "Total 2904      100.00000"
            ],
            "text/latex": "A freqtable: 3 × 2 of type dbl\n\\begin{tabular}{r|ll}\n  & Frequency & Percent\\\\\n\\hline\n\t0 & 1285 &  44.24931\\\\\n\t1 & 1619 &  55.75069\\\\\n\tTotal & 2904 & 100.00000\\\\\n\\end{tabular}\n",
            "text/markdown": "\nA freqtable: 3 × 2 of type dbl\n\n| <!--/--> | Frequency | Percent |\n|---|---|---|\n| 0 | 1285 |  44.24931 |\n| 1 | 1619 |  55.75069 |\n| Total | 2904 | 100.00000 |\n\n",
            "text/html": [
              "<table>\n",
              "<caption>A freqtable: 3 × 2 of type dbl</caption>\n",
              "<thead>\n",
              "\t<tr><th></th><th scope=col>Frequency</th><th scope=col>Percent</th></tr>\n",
              "</thead>\n",
              "<tbody>\n",
              "\t<tr><th scope=row>0</th><td>1285</td><td> 44.24931</td></tr>\n",
              "\t<tr><th scope=row>1</th><td>1619</td><td> 55.75069</td></tr>\n",
              "\t<tr><th scope=row>Total</th><td>2904</td><td>100.00000</td></tr>\n",
              "</tbody>\n",
              "</table>\n"
            ]
          },
          "metadata": {
            "tags": []
          }
        },
        {
          "output_type": "display_data",
          "data": {
            "image/png": "[encoded data removed]",
            "text/plain": [
              "plot without title"
            ]
          },
          "metadata": {
            "tags": [],
            "image/png": {
              "width": 420,
              "height": 420
            }
          }
        }
      ]
    },
    {
      "cell_type": "markdown",
      "metadata": {
        "id": "53ipiyDpCBvE"
      },
      "source": [
        "Interprétation:\n",
        "\n",
        "Le tableau de fréquence, accompagné d’un graphique à barres par défaut, nous montre qu’une très forte majorité de l’échantillon, 93,5% pour être exact, s’est prononcé en accord avec le fait de voter pour une femme à la présidence. On peut aussi observer que l’échantillon est assez bien divisé entre hommes et femmes, même si on a un peu plus de femmes (55% de l’échantillon)."
      ]
    },
    {
      "cell_type": "code",
      "metadata": {
        "id": "ExD_NIHH-T0Y",
        "colab": {
          "base_uri": "https://localhost:8080/",
          "height": 434
        },
        "outputId": "149610f0-9249-4f9b-fb54-b30d17f005cc"
      },
      "source": [
        "reglog <- glm(FEPRES ~ femme, data = bd, family=\"binomial\")\n",
        "summary(rstandard(reglog))\n",
        "summary(reglog)"
      ],
      "execution_count": null,
      "outputs": [
        {
          "output_type": "display_data",
          "data": {
            "text/plain": [
              "   Min. 1st Qu.  Median    Mean 3rd Qu.    Max. \n",
              "-2.4141  0.3344  0.3344  0.1897  0.4048  0.4048 "
            ]
          },
          "metadata": {
            "tags": []
          }
        },
        {
          "output_type": "display_data",
          "data": {
            "text/plain": [
              "\n",
              "Call:\n",
              "glm(formula = FEPRES ~ femme, family = \"binomial\", data = bd)\n",
              "\n",
              "Deviance Residuals: \n",
              "    Min       1Q   Median       3Q      Max  \n",
              "-2.4134   0.3343   0.3343   0.4046   0.4046  \n",
              "\n",
              "Coefficients:\n",
              "            Estimate Std. Error z value Pr(>|z|)    \n",
              "(Intercept)   2.4615     0.1037  23.746  < 2e-16 ***\n",
              "femme         0.3948     0.1509   2.617  0.00887 ** \n",
              "---\n",
              "Signif. codes:  0 ‘***’ 0.001 ‘**’ 0.01 ‘*’ 0.05 ‘.’ 0.1 ‘ ’ 1\n",
              "\n",
              "(Dispersion parameter for binomial family taken to be 1)\n",
              "\n",
              "    Null deviance: 1398.2  on 2903  degrees of freedom\n",
              "Residual deviance: 1391.3  on 2902  degrees of freedom\n",
              "AIC: 1395.3\n",
              "\n",
              "Number of Fisher Scoring iterations: 5\n"
            ]
          },
          "metadata": {
            "tags": []
          }
        }
      ]
    },
    {
      "cell_type": "markdown",
      "metadata": {
        "id": "EDP_6CnArzGe"
      },
      "source": [
        "Interprétation:\n",
        "\n",
        "Il n’y a pas de données extrêmes, puisque les résidus sont inclus dans l’intervalle de 3 écart-types au-dessus et au-dessous de la moyenne.\n",
        "\n",
        "La constante ou intercept est à 2,5 et le coefficient non standardisé pour la variable femme est de 0,39 et les deux sont significatifs au seuil de 0,001."
      ]
    },
    {
      "cell_type": "markdown",
      "metadata": {
        "id": "WPd1R861qA4e"
      },
      "source": [
        "Rappel des équations en lien avec la régression logistique :\n",
        "\n",
        "- Calcul de probabilité : $ prob(evenement) = \\frac {1} {1 + e^{-(B0+B1(X))}} $\n",
        "\n",
        "- Calcul de la cote :  $ \\frac {prob(evenement)} {prob(non-evenement)} $\n",
        "\n",
        "\n"
      ]
    },
    {
      "cell_type": "markdown",
      "metadata": {
        "id": "o9_V5lTsqAw4"
      },
      "source": [
        "Commençons par la probabilité. Dans l’équation, on remplace le B0 par le coefficient de la ligne « intercept », et le B1 par le coefficient de la VI femme.\n",
        "\n",
        "Probabilité d'être en accord avec le fait de voter pour une femme à la présidence si X=1 (femme) : 0,945\n",
        "\n",
        "Probabilité d'être en accord avec le fait de voter pour une femme à la présidence si X=0 (homme) : 0,921\n",
        "\n",
        "Cote si X=1 (femme): 17,18\n",
        "\n",
        "Cote si X=0 (homme): 11,65\n",
        "\n",
        "Rapport de cote: 17,18/11,65 = 1,47\n",
        "\n",
        "La probabilité qu’une femme soit d’accord avec le fait de voter pour une femme à la présidence est de 94,5%. la probabilité qu’un homme soit d’accord avec le fait de voter pour une femme à la présidence est de 92,1%, 2 points de pourcentage de moins que pour les femmes. En fonction du rapport de cotes, les femmes ont 1,47 fois plus de chances d’être en accord avec le fait de voter pour femme à la présidence que les hommes."
      ]
    },
    {
      "cell_type": "markdown",
      "metadata": {
        "id": "vb6NGD0Go6Du"
      },
      "source": [
        "Nous allons maintenant examiner la relation entre la variable FEPRES et sei.\n",
        "\n",
        "Commençons par produire quelques statistiques descriptives de base pour se familiariser avec la VI:\n",
        "  - La moyenne\n",
        "  - La médiane\n",
        "  - Le minimum\n",
        "  - Le maximum\n",
        "  - l'écart-type"
      ]
    },
    {
      "cell_type": "code",
      "metadata": {
        "id": "KEOY9L_xXVCb",
        "colab": {
          "base_uri": "https://localhost:8080/",
          "height": 69
        },
        "outputId": "7b7d4f4a-4be4-4d37-a460-4263dc61e99c"
      },
      "source": [
        "#Statistiques descriptives\n",
        "\n",
        "summary(bd$sei)\n",
        "sd(bd$sei, na.rm=TRUE)"
      ],
      "execution_count": null,
      "outputs": [
        {
          "output_type": "display_data",
          "data": {
            "text/plain": [
              "   Min. 1st Qu.  Median    Mean 3rd Qu.    Max.    NA's \n",
              "  17.10   32.30   38.90   47.85   63.50   97.20     123 "
            ]
          },
          "metadata": {
            "tags": []
          }
        },
        {
          "output_type": "display_data",
          "data": {
            "text/plain": [
              "[1] 18.99283"
            ],
            "text/latex": "18.9928291642819",
            "text/markdown": "18.9928291642819",
            "text/html": [
              "18.9928291642819"
            ]
          },
          "metadata": {
            "tags": []
          }
        }
      ]
    },
    {
      "cell_type": "code",
      "metadata": {
        "id": "zfiaz6LPXRRF",
        "colab": {
          "base_uri": "https://localhost:8080/",
          "height": 472
        },
        "outputId": "dd67973b-5d86-4839-c68d-73c156f876a5"
      },
      "source": [
        "#Histogramme\n",
        "ggplot(bd, aes(x=sei)) +\n",
        "  geom_histogram(binwidth=5, fill=\"#69b3a2\", color=\"#e9ecef\", alpha=0.9) +\n",
        "    ggtitle(\"Distribution: statut socioéconomique\") +\n",
        "    theme(\n",
        "      plot.title = element_text(size=20)\n",
        "    )"
      ],
      "execution_count": null,
      "outputs": [
        {
          "output_type": "stream",
          "text": [
            "Warning message:\n",
            "“Removed 123 rows containing non-finite values (stat_bin).”\n"
          ],
          "name": "stderr"
        },
        {
          "output_type": "display_data",
          "data": {
            "image/png": "[encoded data removed]",
            "text/plain": [
              "plot without title"
            ]
          },
          "metadata": {
            "tags": [],
            "image/png": {
              "width": 420,
              "height": 420
            }
          }
        }
      ]
    },
    {
      "cell_type": "markdown",
      "metadata": {
        "id": "oXTOfs0TpDp6"
      },
      "source": [
        "Interprétation:\n",
        "\n",
        "Notons la présence de 123 données manquantes. Le statut socioéconomique varie de 17,10 à 97,20, avec une moyenne de 47,85 et un écart-type de 18,99. L’histogramme montre une certaine asymétrie dans la distribution, mais on peut quand même réaliser la régression logistique."
      ]
    },
    {
      "cell_type": "code",
      "metadata": {
        "id": "Le-OQufa-UAp",
        "colab": {
          "base_uri": "https://localhost:8080/",
          "height": 451
        },
        "outputId": "e473242f-9db7-48b6-986d-277b2242b4ef"
      },
      "source": [
        "reglog2 <- glm(FEPRES ~ sei, data = bd, family=\"binomial\")\n",
        "summary(rstandard(reglog2))\n",
        "summary(reglog2)"
      ],
      "execution_count": null,
      "outputs": [
        {
          "output_type": "display_data",
          "data": {
            "text/plain": [
              "   Min. 1st Qu.  Median    Mean 3rd Qu.    Max. \n",
              "-2.5455  0.3285  0.3708  0.1894  0.3930  0.4289 "
            ]
          },
          "metadata": {
            "tags": []
          }
        },
        {
          "output_type": "display_data",
          "data": {
            "text/plain": [
              "\n",
              "Call:\n",
              "glm(formula = FEPRES ~ sei, family = \"binomial\", data = bd)\n",
              "\n",
              "Deviance Residuals: \n",
              "    Min       1Q   Median       3Q      Max  \n",
              "-2.5431   0.3283   0.3707   0.3928   0.4285  \n",
              "\n",
              "Coefficients:\n",
              "            Estimate Std. Error z value Pr(>|z|)    \n",
              "(Intercept) 2.148092   0.208142  10.320  < 2e-16 ***\n",
              "sei         0.011327   0.004345   2.607  0.00914 ** \n",
              "---\n",
              "Signif. codes:  0 ‘***’ 0.001 ‘**’ 0.01 ‘*’ 0.05 ‘.’ 0.1 ‘ ’ 1\n",
              "\n",
              "(Dispersion parameter for binomial family taken to be 1)\n",
              "\n",
              "    Null deviance: 1333.6  on 2780  degrees of freedom\n",
              "Residual deviance: 1326.5  on 2779  degrees of freedom\n",
              "  (123 observations deleted due to missingness)\n",
              "AIC: 1330.5\n",
              "\n",
              "Number of Fisher Scoring iterations: 5\n"
            ]
          },
          "metadata": {
            "tags": []
          }
        }
      ]
    },
    {
      "cell_type": "markdown",
      "metadata": {
        "id": "6wwMGdnlpX_2"
      },
      "source": [
        "Interprétation:\n",
        "\n",
        "On confirme qu’il n’y a pas de données extrêmes grâce au résidus standard. La constante ou intercept est à 2,14 et le coefficient non standardisé pour la variable sei est de 0,011, tous deux significatifs au seuil de 0,001.\n",
        "\n",
        "Probabilité d'être en accord avec le fait de voter pour une femme à la présidence si X=47: 0,943\n",
        "\n",
        "Probabilité d'être en accord avec le fait de voter pour une femme à la présidence si X=90: 0,958\n",
        "\n",
        "Cote si X=47: 16,5\n",
        "\n",
        "Cote si X=90: 22,8\n",
        "\n",
        "Rapport de cote: 22,8/16,5 = 1,39\n",
        "\n",
        "Les individus au statut socioéconomique de 90 ont 1,39 plus de chance d’être en accord de voter pour une femme à la présidence que la moyenne des Américains. "
      ]
    },
    {
      "cell_type": "markdown",
      "metadata": {
        "id": "niiIgtjxpHL7"
      },
      "source": [
        "###Bonus\n",
        "\n",
        "Représentation visuelle des probabilités prédites"
      ]
    },
    {
      "cell_type": "code",
      "metadata": {
        "id": "2n_b_uvZKLzU",
        "colab": {
          "base_uri": "https://localhost:8080/",
          "height": 1000
        },
        "outputId": "ee9ef344-1b84-4c11-b8f1-b842cbd16304"
      },
      "source": [
        "#Nouvelle base de données sans les données manquantes\n",
        "bd2 <- bd[!is.na(bd$sei),]\n",
        "bd2"
      ],
      "execution_count": null,
      "outputs": [
        {
          "output_type": "display_data",
          "data": {
            "text/plain": [
              "     ID   FEPRES femme marital sei  degree partner\n",
              "1     1   1      0     1       43.4 1      12     \n",
              "2     2   1      0     0       38.9 3      17     \n",
              "3     3   1      0     1       35.1 4      18     \n",
              "4     4   1      1     1       62.5 0       6     \n",
              "5     5   1      1     1       17.1 0       8     \n",
              "6     6   1      1     1       69.2 3      17     \n",
              "7     7   1      0     1       29.8 1      12     \n",
              "8     8   1      1     0       37.7 1      13     \n",
              "9     9   1      1     1       37.7 1      13     \n",
              "10   11   1      1     0       92.3 4      19     \n",
              "11   12   0      1     1       80.9 4      16     \n",
              "12   13   1      1     0       76.4 3      16     \n",
              "13   14   1      0     1       37.4 1      13     \n",
              "14   15   1      1     1       38.4 3      16     \n",
              "15   16   1      0     0       38.9 3      16     \n",
              "16   17   1      0     1       62.5 1      15     \n",
              "17   18   1      0     0       83.9 4      19     \n",
              "18   19   1      0     1       17.1 1      13     \n",
              "19   20   1      1     0       37.7 1      12     \n",
              "20   21   1      0     1       39.4 1      12     \n",
              "21   22   1      1     1       27.5 0       4     \n",
              "22   23   1      0     0       49.9 1      15     \n",
              "23   24   1      1     1       29.3 1      12     \n",
              "24   25   1      1     0       29.3 0      11     \n",
              "25   26   1      1     0       52.5 1      16     \n",
              "26   27   1      1     1       53.7 3      20     \n",
              "27   28   1      0     0       76.3 3      17     \n",
              "28   29   1      1     0       72.5 3      16     \n",
              "29   30   1      1     0       33.9 3      16     \n",
              "30   31   1      1     1       78.7 4      20     \n",
              "⋮    ⋮    ⋮      ⋮     ⋮       ⋮    ⋮      ⋮      \n",
              "2752 2874 1      1     1       29.3 1      13     \n",
              "2753 2875 1      0     1       87.9 4      20     \n",
              "2754 2876 1      1     0       62.5 4      18     \n",
              "2755 2877 1      1     0       33.1 1      13     \n",
              "2756 2878 1      0     1       39.7 0      10     \n",
              "2757 2879 1      1     1       69.7 1      12     \n",
              "2758 2880 1      1     1       49.9 1      12     \n",
              "2759 2881 1      0     1       38.9 1      13     \n",
              "2760 2882 1      0     0       39.4 2      14     \n",
              "2761 2883 1      0     0       76.4 1      16     \n",
              "2762 2884 1      0     1       48.5 1      12     \n",
              "2763 2885 1      1     1       26.4 1      14     \n",
              "2764 2886 1      0     0       42.2 3      16     \n",
              "2765 2887 1      1     1       50.7 1      12     \n",
              "2766 2888 1      0     1       54.5 1      13     \n",
              "2767 2889 1      0     1       52.5 1      12     \n",
              "2768 2890 1      1     1       62.2 3      16     \n",
              "2769 2891 1      1     1       50.5 1      12     \n",
              "2770 2892 1      1     1       33.1 1      12     \n",
              "2771 2893 1      0     1       38.1 1      12     \n",
              "2772 2894 1      1     1       74.4 1      14     \n",
              "2773 2896 1      0     1       28.4 1      12     \n",
              "2774 2897 1      0     0       32.4 3      16     \n",
              "2775 2898 1      0     0       28.6 2      14     \n",
              "2776 2899 1      1     1       38.9 1      11     \n",
              "2777 2900 1      0     0       38.1 0      11     \n",
              "2778 2901 1      1     1       38.4 1      12     \n",
              "2779 2902 1      0     1       28.4 1      12     \n",
              "2780 2903 1      0     1       68.1 1       9     \n",
              "2781 2904 1      1     1       32.4 1      12     "
            ],
            "text/latex": "A tibble: 2781 × 7\n\\begin{tabular}{lllllll}\n ID & FEPRES & femme & marital & sei & degree & partner\\\\\n <dbl> & <dbl> & <dbl> & <dbl> & <dbl> & <dbl> & <dbl>\\\\\n\\hline\n\t  1 & 1 & 0 & 1 & 43.4 & 1 & 12\\\\\n\t  2 & 1 & 0 & 0 & 38.9 & 3 & 17\\\\\n\t  3 & 1 & 0 & 1 & 35.1 & 4 & 18\\\\\n\t  4 & 1 & 1 & 1 & 62.5 & 0 &  6\\\\\n\t  5 & 1 & 1 & 1 & 17.1 & 0 &  8\\\\\n\t  6 & 1 & 1 & 1 & 69.2 & 3 & 17\\\\\n\t  7 & 1 & 0 & 1 & 29.8 & 1 & 12\\\\\n\t  8 & 1 & 1 & 0 & 37.7 & 1 & 13\\\\\n\t  9 & 1 & 1 & 1 & 37.7 & 1 & 13\\\\\n\t 11 & 1 & 1 & 0 & 92.3 & 4 & 19\\\\\n\t 12 & 0 & 1 & 1 & 80.9 & 4 & 16\\\\\n\t 13 & 1 & 1 & 0 & 76.4 & 3 & 16\\\\\n\t 14 & 1 & 0 & 1 & 37.4 & 1 & 13\\\\\n\t 15 & 1 & 1 & 1 & 38.4 & 3 & 16\\\\\n\t 16 & 1 & 0 & 0 & 38.9 & 3 & 16\\\\\n\t 17 & 1 & 0 & 1 & 62.5 & 1 & 15\\\\\n\t 18 & 1 & 0 & 0 & 83.9 & 4 & 19\\\\\n\t 19 & 1 & 0 & 1 & 17.1 & 1 & 13\\\\\n\t 20 & 1 & 1 & 0 & 37.7 & 1 & 12\\\\\n\t 21 & 1 & 0 & 1 & 39.4 & 1 & 12\\\\\n\t 22 & 1 & 1 & 1 & 27.5 & 0 &  4\\\\\n\t 23 & 1 & 0 & 0 & 49.9 & 1 & 15\\\\\n\t 24 & 1 & 1 & 1 & 29.3 & 1 & 12\\\\\n\t 25 & 1 & 1 & 0 & 29.3 & 0 & 11\\\\\n\t 26 & 1 & 1 & 0 & 52.5 & 1 & 16\\\\\n\t 27 & 1 & 1 & 1 & 53.7 & 3 & 20\\\\\n\t 28 & 1 & 0 & 0 & 76.3 & 3 & 17\\\\\n\t 29 & 1 & 1 & 0 & 72.5 & 3 & 16\\\\\n\t 30 & 1 & 1 & 0 & 33.9 & 3 & 16\\\\\n\t 31 & 1 & 1 & 1 & 78.7 & 4 & 20\\\\\n\t ⋮ & ⋮ & ⋮ & ⋮ & ⋮ & ⋮ & ⋮\\\\\n\t 2874 & 1 & 1 & 1 & 29.3 & 1 & 13\\\\\n\t 2875 & 1 & 0 & 1 & 87.9 & 4 & 20\\\\\n\t 2876 & 1 & 1 & 0 & 62.5 & 4 & 18\\\\\n\t 2877 & 1 & 1 & 0 & 33.1 & 1 & 13\\\\\n\t 2878 & 1 & 0 & 1 & 39.7 & 0 & 10\\\\\n\t 2879 & 1 & 1 & 1 & 69.7 & 1 & 12\\\\\n\t 2880 & 1 & 1 & 1 & 49.9 & 1 & 12\\\\\n\t 2881 & 1 & 0 & 1 & 38.9 & 1 & 13\\\\\n\t 2882 & 1 & 0 & 0 & 39.4 & 2 & 14\\\\\n\t 2883 & 1 & 0 & 0 & 76.4 & 1 & 16\\\\\n\t 2884 & 1 & 0 & 1 & 48.5 & 1 & 12\\\\\n\t 2885 & 1 & 1 & 1 & 26.4 & 1 & 14\\\\\n\t 2886 & 1 & 0 & 0 & 42.2 & 3 & 16\\\\\n\t 2887 & 1 & 1 & 1 & 50.7 & 1 & 12\\\\\n\t 2888 & 1 & 0 & 1 & 54.5 & 1 & 13\\\\\n\t 2889 & 1 & 0 & 1 & 52.5 & 1 & 12\\\\\n\t 2890 & 1 & 1 & 1 & 62.2 & 3 & 16\\\\\n\t 2891 & 1 & 1 & 1 & 50.5 & 1 & 12\\\\\n\t 2892 & 1 & 1 & 1 & 33.1 & 1 & 12\\\\\n\t 2893 & 1 & 0 & 1 & 38.1 & 1 & 12\\\\\n\t 2894 & 1 & 1 & 1 & 74.4 & 1 & 14\\\\\n\t 2896 & 1 & 0 & 1 & 28.4 & 1 & 12\\\\\n\t 2897 & 1 & 0 & 0 & 32.4 & 3 & 16\\\\\n\t 2898 & 1 & 0 & 0 & 28.6 & 2 & 14\\\\\n\t 2899 & 1 & 1 & 1 & 38.9 & 1 & 11\\\\\n\t 2900 & 1 & 0 & 0 & 38.1 & 0 & 11\\\\\n\t 2901 & 1 & 1 & 1 & 38.4 & 1 & 12\\\\\n\t 2902 & 1 & 0 & 1 & 28.4 & 1 & 12\\\\\n\t 2903 & 1 & 0 & 1 & 68.1 & 1 &  9\\\\\n\t 2904 & 1 & 1 & 1 & 32.4 & 1 & 12\\\\\n\\end{tabular}\n",
            "text/markdown": "\nA tibble: 2781 × 7\n\n| ID &lt;dbl&gt; | FEPRES &lt;dbl&gt; | femme &lt;dbl&gt; | marital &lt;dbl&gt; | sei &lt;dbl&gt; | degree &lt;dbl&gt; | partner &lt;dbl&gt; |\n|---|---|---|---|---|---|---|\n|  1 | 1 | 0 | 1 | 43.4 | 1 | 12 |\n|  2 | 1 | 0 | 0 | 38.9 | 3 | 17 |\n|  3 | 1 | 0 | 1 | 35.1 | 4 | 18 |\n|  4 | 1 | 1 | 1 | 62.5 | 0 |  6 |\n|  5 | 1 | 1 | 1 | 17.1 | 0 |  8 |\n|  6 | 1 | 1 | 1 | 69.2 | 3 | 17 |\n|  7 | 1 | 0 | 1 | 29.8 | 1 | 12 |\n|  8 | 1 | 1 | 0 | 37.7 | 1 | 13 |\n|  9 | 1 | 1 | 1 | 37.7 | 1 | 13 |\n| 11 | 1 | 1 | 0 | 92.3 | 4 | 19 |\n| 12 | 0 | 1 | 1 | 80.9 | 4 | 16 |\n| 13 | 1 | 1 | 0 | 76.4 | 3 | 16 |\n| 14 | 1 | 0 | 1 | 37.4 | 1 | 13 |\n| 15 | 1 | 1 | 1 | 38.4 | 3 | 16 |\n| 16 | 1 | 0 | 0 | 38.9 | 3 | 16 |\n| 17 | 1 | 0 | 1 | 62.5 | 1 | 15 |\n| 18 | 1 | 0 | 0 | 83.9 | 4 | 19 |\n| 19 | 1 | 0 | 1 | 17.1 | 1 | 13 |\n| 20 | 1 | 1 | 0 | 37.7 | 1 | 12 |\n| 21 | 1 | 0 | 1 | 39.4 | 1 | 12 |\n| 22 | 1 | 1 | 1 | 27.5 | 0 |  4 |\n| 23 | 1 | 0 | 0 | 49.9 | 1 | 15 |\n| 24 | 1 | 1 | 1 | 29.3 | 1 | 12 |\n| 25 | 1 | 1 | 0 | 29.3 | 0 | 11 |\n| 26 | 1 | 1 | 0 | 52.5 | 1 | 16 |\n| 27 | 1 | 1 | 1 | 53.7 | 3 | 20 |\n| 28 | 1 | 0 | 0 | 76.3 | 3 | 17 |\n| 29 | 1 | 1 | 0 | 72.5 | 3 | 16 |\n| 30 | 1 | 1 | 0 | 33.9 | 3 | 16 |\n| 31 | 1 | 1 | 1 | 78.7 | 4 | 20 |\n| ⋮ | ⋮ | ⋮ | ⋮ | ⋮ | ⋮ | ⋮ |\n| 2874 | 1 | 1 | 1 | 29.3 | 1 | 13 |\n| 2875 | 1 | 0 | 1 | 87.9 | 4 | 20 |\n| 2876 | 1 | 1 | 0 | 62.5 | 4 | 18 |\n| 2877 | 1 | 1 | 0 | 33.1 | 1 | 13 |\n| 2878 | 1 | 0 | 1 | 39.7 | 0 | 10 |\n| 2879 | 1 | 1 | 1 | 69.7 | 1 | 12 |\n| 2880 | 1 | 1 | 1 | 49.9 | 1 | 12 |\n| 2881 | 1 | 0 | 1 | 38.9 | 1 | 13 |\n| 2882 | 1 | 0 | 0 | 39.4 | 2 | 14 |\n| 2883 | 1 | 0 | 0 | 76.4 | 1 | 16 |\n| 2884 | 1 | 0 | 1 | 48.5 | 1 | 12 |\n| 2885 | 1 | 1 | 1 | 26.4 | 1 | 14 |\n| 2886 | 1 | 0 | 0 | 42.2 | 3 | 16 |\n| 2887 | 1 | 1 | 1 | 50.7 | 1 | 12 |\n| 2888 | 1 | 0 | 1 | 54.5 | 1 | 13 |\n| 2889 | 1 | 0 | 1 | 52.5 | 1 | 12 |\n| 2890 | 1 | 1 | 1 | 62.2 | 3 | 16 |\n| 2891 | 1 | 1 | 1 | 50.5 | 1 | 12 |\n| 2892 | 1 | 1 | 1 | 33.1 | 1 | 12 |\n| 2893 | 1 | 0 | 1 | 38.1 | 1 | 12 |\n| 2894 | 1 | 1 | 1 | 74.4 | 1 | 14 |\n| 2896 | 1 | 0 | 1 | 28.4 | 1 | 12 |\n| 2897 | 1 | 0 | 0 | 32.4 | 3 | 16 |\n| 2898 | 1 | 0 | 0 | 28.6 | 2 | 14 |\n| 2899 | 1 | 1 | 1 | 38.9 | 1 | 11 |\n| 2900 | 1 | 0 | 0 | 38.1 | 0 | 11 |\n| 2901 | 1 | 1 | 1 | 38.4 | 1 | 12 |\n| 2902 | 1 | 0 | 1 | 28.4 | 1 | 12 |\n| 2903 | 1 | 0 | 1 | 68.1 | 1 |  9 |\n| 2904 | 1 | 1 | 1 | 32.4 | 1 | 12 |\n\n",
            "text/html": [
              "<table>\n",
              "<caption>A tibble: 2781 × 7</caption>\n",
              "<thead>\n",
              "\t<tr><th scope=col>ID</th><th scope=col>FEPRES</th><th scope=col>femme</th><th scope=col>marital</th><th scope=col>sei</th><th scope=col>degree</th><th scope=col>partner</th></tr>\n",
              "\t<tr><th scope=col>&lt;dbl&gt;</th><th scope=col>&lt;dbl&gt;</th><th scope=col>&lt;dbl&gt;</th><th scope=col>&lt;dbl&gt;</th><th scope=col>&lt;dbl&gt;</th><th scope=col>&lt;dbl&gt;</th><th scope=col>&lt;dbl&gt;</th></tr>\n",
              "</thead>\n",
              "<tbody>\n",
              "\t<tr><td> 1</td><td>1</td><td>0</td><td>1</td><td>43.4</td><td>1</td><td>12</td></tr>\n",
              "\t<tr><td> 2</td><td>1</td><td>0</td><td>0</td><td>38.9</td><td>3</td><td>17</td></tr>\n",
              "\t<tr><td> 3</td><td>1</td><td>0</td><td>1</td><td>35.1</td><td>4</td><td>18</td></tr>\n",
              "\t<tr><td> 4</td><td>1</td><td>1</td><td>1</td><td>62.5</td><td>0</td><td> 6</td></tr>\n",
              "\t<tr><td> 5</td><td>1</td><td>1</td><td>1</td><td>17.1</td><td>0</td><td> 8</td></tr>\n",
              "\t<tr><td> 6</td><td>1</td><td>1</td><td>1</td><td>69.2</td><td>3</td><td>17</td></tr>\n",
              "\t<tr><td> 7</td><td>1</td><td>0</td><td>1</td><td>29.8</td><td>1</td><td>12</td></tr>\n",
              "\t<tr><td> 8</td><td>1</td><td>1</td><td>0</td><td>37.7</td><td>1</td><td>13</td></tr>\n",
              "\t<tr><td> 9</td><td>1</td><td>1</td><td>1</td><td>37.7</td><td>1</td><td>13</td></tr>\n",
              "\t<tr><td>11</td><td>1</td><td>1</td><td>0</td><td>92.3</td><td>4</td><td>19</td></tr>\n",
              "\t<tr><td>12</td><td>0</td><td>1</td><td>1</td><td>80.9</td><td>4</td><td>16</td></tr>\n",
              "\t<tr><td>13</td><td>1</td><td>1</td><td>0</td><td>76.4</td><td>3</td><td>16</td></tr>\n",
              "\t<tr><td>14</td><td>1</td><td>0</td><td>1</td><td>37.4</td><td>1</td><td>13</td></tr>\n",
              "\t<tr><td>15</td><td>1</td><td>1</td><td>1</td><td>38.4</td><td>3</td><td>16</td></tr>\n",
              "\t<tr><td>16</td><td>1</td><td>0</td><td>0</td><td>38.9</td><td>3</td><td>16</td></tr>\n",
              "\t<tr><td>17</td><td>1</td><td>0</td><td>1</td><td>62.5</td><td>1</td><td>15</td></tr>\n",
              "\t<tr><td>18</td><td>1</td><td>0</td><td>0</td><td>83.9</td><td>4</td><td>19</td></tr>\n",
              "\t<tr><td>19</td><td>1</td><td>0</td><td>1</td><td>17.1</td><td>1</td><td>13</td></tr>\n",
              "\t<tr><td>20</td><td>1</td><td>1</td><td>0</td><td>37.7</td><td>1</td><td>12</td></tr>\n",
              "\t<tr><td>21</td><td>1</td><td>0</td><td>1</td><td>39.4</td><td>1</td><td>12</td></tr>\n",
              "\t<tr><td>22</td><td>1</td><td>1</td><td>1</td><td>27.5</td><td>0</td><td> 4</td></tr>\n",
              "\t<tr><td>23</td><td>1</td><td>0</td><td>0</td><td>49.9</td><td>1</td><td>15</td></tr>\n",
              "\t<tr><td>24</td><td>1</td><td>1</td><td>1</td><td>29.3</td><td>1</td><td>12</td></tr>\n",
              "\t<tr><td>25</td><td>1</td><td>1</td><td>0</td><td>29.3</td><td>0</td><td>11</td></tr>\n",
              "\t<tr><td>26</td><td>1</td><td>1</td><td>0</td><td>52.5</td><td>1</td><td>16</td></tr>\n",
              "\t<tr><td>27</td><td>1</td><td>1</td><td>1</td><td>53.7</td><td>3</td><td>20</td></tr>\n",
              "\t<tr><td>28</td><td>1</td><td>0</td><td>0</td><td>76.3</td><td>3</td><td>17</td></tr>\n",
              "\t<tr><td>29</td><td>1</td><td>1</td><td>0</td><td>72.5</td><td>3</td><td>16</td></tr>\n",
              "\t<tr><td>30</td><td>1</td><td>1</td><td>0</td><td>33.9</td><td>3</td><td>16</td></tr>\n",
              "\t<tr><td>31</td><td>1</td><td>1</td><td>1</td><td>78.7</td><td>4</td><td>20</td></tr>\n",
              "\t<tr><td>⋮</td><td>⋮</td><td>⋮</td><td>⋮</td><td>⋮</td><td>⋮</td><td>⋮</td></tr>\n",
              "\t<tr><td>2874</td><td>1</td><td>1</td><td>1</td><td>29.3</td><td>1</td><td>13</td></tr>\n",
              "\t<tr><td>2875</td><td>1</td><td>0</td><td>1</td><td>87.9</td><td>4</td><td>20</td></tr>\n",
              "\t<tr><td>2876</td><td>1</td><td>1</td><td>0</td><td>62.5</td><td>4</td><td>18</td></tr>\n",
              "\t<tr><td>2877</td><td>1</td><td>1</td><td>0</td><td>33.1</td><td>1</td><td>13</td></tr>\n",
              "\t<tr><td>2878</td><td>1</td><td>0</td><td>1</td><td>39.7</td><td>0</td><td>10</td></tr>\n",
              "\t<tr><td>2879</td><td>1</td><td>1</td><td>1</td><td>69.7</td><td>1</td><td>12</td></tr>\n",
              "\t<tr><td>2880</td><td>1</td><td>1</td><td>1</td><td>49.9</td><td>1</td><td>12</td></tr>\n",
              "\t<tr><td>2881</td><td>1</td><td>0</td><td>1</td><td>38.9</td><td>1</td><td>13</td></tr>\n",
              "\t<tr><td>2882</td><td>1</td><td>0</td><td>0</td><td>39.4</td><td>2</td><td>14</td></tr>\n",
              "\t<tr><td>2883</td><td>1</td><td>0</td><td>0</td><td>76.4</td><td>1</td><td>16</td></tr>\n",
              "\t<tr><td>2884</td><td>1</td><td>0</td><td>1</td><td>48.5</td><td>1</td><td>12</td></tr>\n",
              "\t<tr><td>2885</td><td>1</td><td>1</td><td>1</td><td>26.4</td><td>1</td><td>14</td></tr>\n",
              "\t<tr><td>2886</td><td>1</td><td>0</td><td>0</td><td>42.2</td><td>3</td><td>16</td></tr>\n",
              "\t<tr><td>2887</td><td>1</td><td>1</td><td>1</td><td>50.7</td><td>1</td><td>12</td></tr>\n",
              "\t<tr><td>2888</td><td>1</td><td>0</td><td>1</td><td>54.5</td><td>1</td><td>13</td></tr>\n",
              "\t<tr><td>2889</td><td>1</td><td>0</td><td>1</td><td>52.5</td><td>1</td><td>12</td></tr>\n",
              "\t<tr><td>2890</td><td>1</td><td>1</td><td>1</td><td>62.2</td><td>3</td><td>16</td></tr>\n",
              "\t<tr><td>2891</td><td>1</td><td>1</td><td>1</td><td>50.5</td><td>1</td><td>12</td></tr>\n",
              "\t<tr><td>2892</td><td>1</td><td>1</td><td>1</td><td>33.1</td><td>1</td><td>12</td></tr>\n",
              "\t<tr><td>2893</td><td>1</td><td>0</td><td>1</td><td>38.1</td><td>1</td><td>12</td></tr>\n",
              "\t<tr><td>2894</td><td>1</td><td>1</td><td>1</td><td>74.4</td><td>1</td><td>14</td></tr>\n",
              "\t<tr><td>2896</td><td>1</td><td>0</td><td>1</td><td>28.4</td><td>1</td><td>12</td></tr>\n",
              "\t<tr><td>2897</td><td>1</td><td>0</td><td>0</td><td>32.4</td><td>3</td><td>16</td></tr>\n",
              "\t<tr><td>2898</td><td>1</td><td>0</td><td>0</td><td>28.6</td><td>2</td><td>14</td></tr>\n",
              "\t<tr><td>2899</td><td>1</td><td>1</td><td>1</td><td>38.9</td><td>1</td><td>11</td></tr>\n",
              "\t<tr><td>2900</td><td>1</td><td>0</td><td>0</td><td>38.1</td><td>0</td><td>11</td></tr>\n",
              "\t<tr><td>2901</td><td>1</td><td>1</td><td>1</td><td>38.4</td><td>1</td><td>12</td></tr>\n",
              "\t<tr><td>2902</td><td>1</td><td>0</td><td>1</td><td>28.4</td><td>1</td><td>12</td></tr>\n",
              "\t<tr><td>2903</td><td>1</td><td>0</td><td>1</td><td>68.1</td><td>1</td><td> 9</td></tr>\n",
              "\t<tr><td>2904</td><td>1</td><td>1</td><td>1</td><td>32.4</td><td>1</td><td>12</td></tr>\n",
              "</tbody>\n",
              "</table>\n"
            ]
          },
          "metadata": {
            "tags": []
          }
        }
      ]
    },
    {
      "cell_type": "code",
      "metadata": {
        "id": "NCAU1MLdEH7-",
        "colab": {
          "base_uri": "https://localhost:8080/",
          "height": 52
        },
        "outputId": "dc7acee7-9a26-4c56-f491-d77185252614"
      },
      "source": [
        "#Calcul des probabilités prédites\n",
        "bd2$pred2 <- predict(reglog2, type=\"response\")\n",
        "summary(bd2$pred2)"
      ],
      "execution_count": null,
      "outputs": [
        {
          "output_type": "display_data",
          "data": {
            "text/plain": [
              "   Min. 1st Qu.  Median    Mean 3rd Qu.    Max. \n",
              " 0.9123  0.9251  0.9301  0.9353  0.9462  0.9626 "
            ]
          },
          "metadata": {
            "tags": []
          }
        }
      ]
    },
    {
      "cell_type": "code",
      "metadata": {
        "id": "FslAqkSfEIBt",
        "colab": {
          "base_uri": "https://localhost:8080/",
          "height": 437
        },
        "outputId": "dceb7e05-de8f-4fad-a524-44ac0e91c6e7"
      },
      "source": [
        "#Nuage de points\n",
        "ggplot(bd2, aes(x=sei, y=pred2)) + \n",
        "    geom_point()"
      ],
      "execution_count": null,
      "outputs": [
        {
          "output_type": "display_data",
          "data": {
            "image/png": "[encoded data removed]",
            "text/plain": [
              "plot without title"
            ]
          },
          "metadata": {
            "tags": [],
            "image/png": {
              "width": 420,
              "height": 420
            }
          }
        }
      ]
    }
  ]
}