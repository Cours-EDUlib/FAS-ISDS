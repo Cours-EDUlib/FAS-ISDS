{
  "nbformat": 4,
  "nbformat_minor": 0,
  "metadata": {
    "colab": {
      "name": "6-4_solution_exercice.ipynb",
      "provenance": [],
      "collapsed_sections": [],
      "authorship_tag": "ABX9TyNDo9w+OVs+8cs4/3QXb2pY",
      "include_colab_link": true
    },
    "kernelspec": {
      "name": "ir",
      "display_name": "R"
    }
  },
  "cells": [
    {
      "cell_type": "markdown",
      "metadata": {
        "id": "view-in-github",
        "colab_type": "text"
      },
      "source": [
        "<a href=\"https://colab.research.google.com/github/Cours-EDUlib/FAS-ISDS/blob/restructuration-finale/module-6/Exercices/6_4_solution_exercice.ipynb\" target=\"_parent\"><img src=\"https://colab.research.google.com/assets/colab-badge.svg\" alt=\"Open In Colab\"/></a>"
      ]
    },
    {
      "cell_type": "markdown",
      "metadata": {
        "id": "MLsTSTpSU7iv"
      },
      "source": [
        "#Les statistiques et la science des données appliquées\n",
        "##Exercice 4\n",
        "###Solutionnaire"
      ]
    },
    {
      "cell_type": "code",
      "metadata": {
        "id": "caV0Vk3HfLx4",
        "colab": {
          "base_uri": "https://localhost:8080/"
        },
        "outputId": "da93a82e-07fb-4736-d33f-5508c0bbd8e3"
      },
      "source": [
        "#Téléchargement des packages nécessaires\n",
        "library (tidyverse)\n",
        "install.packages(\"rsq\")\n",
        "require(rsq)\n",
        "library(ggplot2)\n",
        "install.packages(\"descr\")\n",
        "require(descr)"
      ],
      "execution_count": null,
      "outputs": [
        {
          "output_type": "stream",
          "text": [
            "Installing package into ‘/usr/local/lib/R/site-library’\n",
            "(as ‘lib’ is unspecified)\n",
            "\n",
            "Installing package into ‘/usr/local/lib/R/site-library’\n",
            "(as ‘lib’ is unspecified)\n",
            "\n"
          ],
          "name": "stderr"
        }
      ]
    },
    {
      "cell_type": "code",
      "metadata": {
        "id": "2DDyJkB8uPY6",
        "colab": {
          "base_uri": "https://localhost:8080/",
          "height": 1000
        },
        "outputId": "18963ad0-71d3-459a-f3df-0811f629928f"
      },
      "source": [
        "path_to_csv = 'https://github.com/Cours-EDUlib/FAS-ISDS/blob/main/module-7/Exercices/7-4_donnees.csv?raw=true' #Téléchargement de la base de données depuis github\n",
        "\n",
        "bd <- read_csv(path_to_csv) #Enregistrement de la base de données dans l'ojet \"bd\"\n",
        "bd #Lecture des données"
      ],
      "execution_count": null,
      "outputs": [
        {
          "output_type": "stream",
          "text": [
            "Warning message:\n",
            "“Missing column names filled in: 'X1' [1]”\n",
            "Warning message:\n",
            "“Duplicated column names deduplicated: 'X1' => 'X1_1' [2]”\n",
            "\n",
            "\u001b[36m──\u001b[39m \u001b[1m\u001b[1mColumn specification\u001b[1m\u001b[22m \u001b[36m────────────────────────────────────────────────────────\u001b[39m\n",
            "cols(\n",
            "  X1 = \u001b[32mcol_double()\u001b[39m,\n",
            "  X1_1 = \u001b[32mcol_double()\u001b[39m,\n",
            "  childs = \u001b[32mcol_double()\u001b[39m,\n",
            "  degree = \u001b[32mcol_double()\u001b[39m,\n",
            "  educ = \u001b[32mcol_double()\u001b[39m,\n",
            "  sei = \u001b[32mcol_double()\u001b[39m,\n",
            "  divorce = \u001b[32mcol_double()\u001b[39m\n",
            ")\n",
            "\n",
            "\n"
          ],
          "name": "stderr"
        },
        {
          "output_type": "display_data",
          "data": {
            "text/plain": [
              "     X1   X1_1 childs degree educ sei divorce\n",
              "1     1    1   0      1      12   434 0      \n",
              "2     2    2   0      3      17   389 0      \n",
              "3     3    3   1      4      18   351 0      \n",
              "4     4    4   1      0       6   625 1      \n",
              "5     5    5   1      0       8   171 0      \n",
              "6     6    6   1      3      17   692 1      \n",
              "7     7    7   1      1      12   298 1      \n",
              "8     8    8   1      1      13   377 1      \n",
              "9     9    9   0      1      13   377 0      \n",
              "10   10   10   1      1      13    NA 0      \n",
              "11   11   11   0      4      19   923 0      \n",
              "12   12   12   0      4      16   809 1      \n",
              "13   13   13   0      3      16   764 1      \n",
              "14   14   14   0      1      13   374 1      \n",
              "15   15   15   1      3      16   384 1      \n",
              "16   16   16   0      3      16   389 0      \n",
              "17   17   17   0      1      15   625 0      \n",
              "18   18   18   0      4      19   839 1      \n",
              "19   19   19   0      1      13   171 1      \n",
              "20   20   20   1      1      12   377 0      \n",
              "21   21   21   1      1      12   394 1      \n",
              "22   22   22   1      0       4   275 0      \n",
              "23   23   23   1      1      15   499 1      \n",
              "24   24   24   0      1      12   293 0      \n",
              "25   25   25   1      0      11   293 0      \n",
              "26   26   26   0      1      16   525 1      \n",
              "27   27   27   1      3      20   537 0      \n",
              "28   28   28   0      3      17   763 1      \n",
              "29   29   29   0      3      16   725 0      \n",
              "30   30   30   0      3      16   339 0      \n",
              "⋮    ⋮    ⋮    ⋮      ⋮      ⋮    ⋮   ⋮      \n",
              "2860 2860 2875 1      4      20   879 0      \n",
              "2861 2861 2876 0      4      18   625 0      \n",
              "2862 2862 2877 1      1      13   331 0      \n",
              "2863 2863 2878 1      0      10   397 0      \n",
              "2864 2864 2879 1      1      12   697 1      \n",
              "2865 2865 2880 1      1      12   499 0      \n",
              "2866 2866 2881 0      1      13   389 1      \n",
              "2867 2867 2882 0      2      14   394 0      \n",
              "2868 2868 2883 0      1      16   764 1      \n",
              "2869 2869 2884 1      1      12   485 0      \n",
              "2870 2870 2885 0      1      14   264 0      \n",
              "2871 2871 2886 0      3      16   422 1      \n",
              "2872 2872 2887 1      1      12   507 0      \n",
              "2873 2873 2888 1      1      13   545 0      \n",
              "2874 2874 2889 1      1      12   525 0      \n",
              "2875 2875 2890 1      3      16   622 1      \n",
              "2876 2876 2891 1      1      12   505 0      \n",
              "2877 2877 2892 1      1      12   331 1      \n",
              "2878 2878 2893 1      1      12   381 0      \n",
              "2879 2879 2894 1      1      14   744 0      \n",
              "2880 2880 2895 1      1      13    NA 0      \n",
              "2881 2881 2896 1      1      12   284 1      \n",
              "2882 2882 2897 0      3      16   324 0      \n",
              "2883 2883 2898 0      2      14   286 1      \n",
              "2884 2884 2899 1      1      11   389 1      \n",
              "2885 2885 2900 0      0      11   381 0      \n",
              "2886 2886 2901 1      1      12   384 0      \n",
              "2887 2887 2902 1      1      12   284 0      \n",
              "2888 2888 2903 1      1       9   681 0      \n",
              "2889 2889 2904 1      1      12   324 0      "
            ],
            "text/latex": "A spec\\_tbl\\_df: 2889 × 7\n\\begin{tabular}{lllllll}\n X1 & X1\\_1 & childs & degree & educ & sei & divorce\\\\\n <dbl> & <dbl> & <dbl> & <dbl> & <dbl> & <dbl> & <dbl>\\\\\n\\hline\n\t  1 &  1 & 0 & 1 & 12 & 434 & 0\\\\\n\t  2 &  2 & 0 & 3 & 17 & 389 & 0\\\\\n\t  3 &  3 & 1 & 4 & 18 & 351 & 0\\\\\n\t  4 &  4 & 1 & 0 &  6 & 625 & 1\\\\\n\t  5 &  5 & 1 & 0 &  8 & 171 & 0\\\\\n\t  6 &  6 & 1 & 3 & 17 & 692 & 1\\\\\n\t  7 &  7 & 1 & 1 & 12 & 298 & 1\\\\\n\t  8 &  8 & 1 & 1 & 13 & 377 & 1\\\\\n\t  9 &  9 & 0 & 1 & 13 & 377 & 0\\\\\n\t 10 & 10 & 1 & 1 & 13 &  NA & 0\\\\\n\t 11 & 11 & 0 & 4 & 19 & 923 & 0\\\\\n\t 12 & 12 & 0 & 4 & 16 & 809 & 1\\\\\n\t 13 & 13 & 0 & 3 & 16 & 764 & 1\\\\\n\t 14 & 14 & 0 & 1 & 13 & 374 & 1\\\\\n\t 15 & 15 & 1 & 3 & 16 & 384 & 1\\\\\n\t 16 & 16 & 0 & 3 & 16 & 389 & 0\\\\\n\t 17 & 17 & 0 & 1 & 15 & 625 & 0\\\\\n\t 18 & 18 & 0 & 4 & 19 & 839 & 1\\\\\n\t 19 & 19 & 0 & 1 & 13 & 171 & 1\\\\\n\t 20 & 20 & 1 & 1 & 12 & 377 & 0\\\\\n\t 21 & 21 & 1 & 1 & 12 & 394 & 1\\\\\n\t 22 & 22 & 1 & 0 &  4 & 275 & 0\\\\\n\t 23 & 23 & 1 & 1 & 15 & 499 & 1\\\\\n\t 24 & 24 & 0 & 1 & 12 & 293 & 0\\\\\n\t 25 & 25 & 1 & 0 & 11 & 293 & 0\\\\\n\t 26 & 26 & 0 & 1 & 16 & 525 & 1\\\\\n\t 27 & 27 & 1 & 3 & 20 & 537 & 0\\\\\n\t 28 & 28 & 0 & 3 & 17 & 763 & 1\\\\\n\t 29 & 29 & 0 & 3 & 16 & 725 & 0\\\\\n\t 30 & 30 & 0 & 3 & 16 & 339 & 0\\\\\n\t ⋮ & ⋮ & ⋮ & ⋮ & ⋮ & ⋮ & ⋮\\\\\n\t 2860 & 2875 & 1 & 4 & 20 & 879 & 0\\\\\n\t 2861 & 2876 & 0 & 4 & 18 & 625 & 0\\\\\n\t 2862 & 2877 & 1 & 1 & 13 & 331 & 0\\\\\n\t 2863 & 2878 & 1 & 0 & 10 & 397 & 0\\\\\n\t 2864 & 2879 & 1 & 1 & 12 & 697 & 1\\\\\n\t 2865 & 2880 & 1 & 1 & 12 & 499 & 0\\\\\n\t 2866 & 2881 & 0 & 1 & 13 & 389 & 1\\\\\n\t 2867 & 2882 & 0 & 2 & 14 & 394 & 0\\\\\n\t 2868 & 2883 & 0 & 1 & 16 & 764 & 1\\\\\n\t 2869 & 2884 & 1 & 1 & 12 & 485 & 0\\\\\n\t 2870 & 2885 & 0 & 1 & 14 & 264 & 0\\\\\n\t 2871 & 2886 & 0 & 3 & 16 & 422 & 1\\\\\n\t 2872 & 2887 & 1 & 1 & 12 & 507 & 0\\\\\n\t 2873 & 2888 & 1 & 1 & 13 & 545 & 0\\\\\n\t 2874 & 2889 & 1 & 1 & 12 & 525 & 0\\\\\n\t 2875 & 2890 & 1 & 3 & 16 & 622 & 1\\\\\n\t 2876 & 2891 & 1 & 1 & 12 & 505 & 0\\\\\n\t 2877 & 2892 & 1 & 1 & 12 & 331 & 1\\\\\n\t 2878 & 2893 & 1 & 1 & 12 & 381 & 0\\\\\n\t 2879 & 2894 & 1 & 1 & 14 & 744 & 0\\\\\n\t 2880 & 2895 & 1 & 1 & 13 &  NA & 0\\\\\n\t 2881 & 2896 & 1 & 1 & 12 & 284 & 1\\\\\n\t 2882 & 2897 & 0 & 3 & 16 & 324 & 0\\\\\n\t 2883 & 2898 & 0 & 2 & 14 & 286 & 1\\\\\n\t 2884 & 2899 & 1 & 1 & 11 & 389 & 1\\\\\n\t 2885 & 2900 & 0 & 0 & 11 & 381 & 0\\\\\n\t 2886 & 2901 & 1 & 1 & 12 & 384 & 0\\\\\n\t 2887 & 2902 & 1 & 1 & 12 & 284 & 0\\\\\n\t 2888 & 2903 & 1 & 1 &  9 & 681 & 0\\\\\n\t 2889 & 2904 & 1 & 1 & 12 & 324 & 0\\\\\n\\end{tabular}\n",
            "text/markdown": "\nA spec_tbl_df: 2889 × 7\n\n| X1 &lt;dbl&gt; | X1_1 &lt;dbl&gt; | childs &lt;dbl&gt; | degree &lt;dbl&gt; | educ &lt;dbl&gt; | sei &lt;dbl&gt; | divorce &lt;dbl&gt; |\n|---|---|---|---|---|---|---|\n|  1 |  1 | 0 | 1 | 12 | 434 | 0 |\n|  2 |  2 | 0 | 3 | 17 | 389 | 0 |\n|  3 |  3 | 1 | 4 | 18 | 351 | 0 |\n|  4 |  4 | 1 | 0 |  6 | 625 | 1 |\n|  5 |  5 | 1 | 0 |  8 | 171 | 0 |\n|  6 |  6 | 1 | 3 | 17 | 692 | 1 |\n|  7 |  7 | 1 | 1 | 12 | 298 | 1 |\n|  8 |  8 | 1 | 1 | 13 | 377 | 1 |\n|  9 |  9 | 0 | 1 | 13 | 377 | 0 |\n| 10 | 10 | 1 | 1 | 13 |  NA | 0 |\n| 11 | 11 | 0 | 4 | 19 | 923 | 0 |\n| 12 | 12 | 0 | 4 | 16 | 809 | 1 |\n| 13 | 13 | 0 | 3 | 16 | 764 | 1 |\n| 14 | 14 | 0 | 1 | 13 | 374 | 1 |\n| 15 | 15 | 1 | 3 | 16 | 384 | 1 |\n| 16 | 16 | 0 | 3 | 16 | 389 | 0 |\n| 17 | 17 | 0 | 1 | 15 | 625 | 0 |\n| 18 | 18 | 0 | 4 | 19 | 839 | 1 |\n| 19 | 19 | 0 | 1 | 13 | 171 | 1 |\n| 20 | 20 | 1 | 1 | 12 | 377 | 0 |\n| 21 | 21 | 1 | 1 | 12 | 394 | 1 |\n| 22 | 22 | 1 | 0 |  4 | 275 | 0 |\n| 23 | 23 | 1 | 1 | 15 | 499 | 1 |\n| 24 | 24 | 0 | 1 | 12 | 293 | 0 |\n| 25 | 25 | 1 | 0 | 11 | 293 | 0 |\n| 26 | 26 | 0 | 1 | 16 | 525 | 1 |\n| 27 | 27 | 1 | 3 | 20 | 537 | 0 |\n| 28 | 28 | 0 | 3 | 17 | 763 | 1 |\n| 29 | 29 | 0 | 3 | 16 | 725 | 0 |\n| 30 | 30 | 0 | 3 | 16 | 339 | 0 |\n| ⋮ | ⋮ | ⋮ | ⋮ | ⋮ | ⋮ | ⋮ |\n| 2860 | 2875 | 1 | 4 | 20 | 879 | 0 |\n| 2861 | 2876 | 0 | 4 | 18 | 625 | 0 |\n| 2862 | 2877 | 1 | 1 | 13 | 331 | 0 |\n| 2863 | 2878 | 1 | 0 | 10 | 397 | 0 |\n| 2864 | 2879 | 1 | 1 | 12 | 697 | 1 |\n| 2865 | 2880 | 1 | 1 | 12 | 499 | 0 |\n| 2866 | 2881 | 0 | 1 | 13 | 389 | 1 |\n| 2867 | 2882 | 0 | 2 | 14 | 394 | 0 |\n| 2868 | 2883 | 0 | 1 | 16 | 764 | 1 |\n| 2869 | 2884 | 1 | 1 | 12 | 485 | 0 |\n| 2870 | 2885 | 0 | 1 | 14 | 264 | 0 |\n| 2871 | 2886 | 0 | 3 | 16 | 422 | 1 |\n| 2872 | 2887 | 1 | 1 | 12 | 507 | 0 |\n| 2873 | 2888 | 1 | 1 | 13 | 545 | 0 |\n| 2874 | 2889 | 1 | 1 | 12 | 525 | 0 |\n| 2875 | 2890 | 1 | 3 | 16 | 622 | 1 |\n| 2876 | 2891 | 1 | 1 | 12 | 505 | 0 |\n| 2877 | 2892 | 1 | 1 | 12 | 331 | 1 |\n| 2878 | 2893 | 1 | 1 | 12 | 381 | 0 |\n| 2879 | 2894 | 1 | 1 | 14 | 744 | 0 |\n| 2880 | 2895 | 1 | 1 | 13 |  NA | 0 |\n| 2881 | 2896 | 1 | 1 | 12 | 284 | 1 |\n| 2882 | 2897 | 0 | 3 | 16 | 324 | 0 |\n| 2883 | 2898 | 0 | 2 | 14 | 286 | 1 |\n| 2884 | 2899 | 1 | 1 | 11 | 389 | 1 |\n| 2885 | 2900 | 0 | 0 | 11 | 381 | 0 |\n| 2886 | 2901 | 1 | 1 | 12 | 384 | 0 |\n| 2887 | 2902 | 1 | 1 | 12 | 284 | 0 |\n| 2888 | 2903 | 1 | 1 |  9 | 681 | 0 |\n| 2889 | 2904 | 1 | 1 | 12 | 324 | 0 |\n\n",
            "text/html": [
              "<table>\n",
              "<caption>A spec_tbl_df: 2889 × 7</caption>\n",
              "<thead>\n",
              "\t<tr><th scope=col>X1</th><th scope=col>X1_1</th><th scope=col>childs</th><th scope=col>degree</th><th scope=col>educ</th><th scope=col>sei</th><th scope=col>divorce</th></tr>\n",
              "\t<tr><th scope=col>&lt;dbl&gt;</th><th scope=col>&lt;dbl&gt;</th><th scope=col>&lt;dbl&gt;</th><th scope=col>&lt;dbl&gt;</th><th scope=col>&lt;dbl&gt;</th><th scope=col>&lt;dbl&gt;</th><th scope=col>&lt;dbl&gt;</th></tr>\n",
              "</thead>\n",
              "<tbody>\n",
              "\t<tr><td> 1</td><td> 1</td><td>0</td><td>1</td><td>12</td><td>434</td><td>0</td></tr>\n",
              "\t<tr><td> 2</td><td> 2</td><td>0</td><td>3</td><td>17</td><td>389</td><td>0</td></tr>\n",
              "\t<tr><td> 3</td><td> 3</td><td>1</td><td>4</td><td>18</td><td>351</td><td>0</td></tr>\n",
              "\t<tr><td> 4</td><td> 4</td><td>1</td><td>0</td><td> 6</td><td>625</td><td>1</td></tr>\n",
              "\t<tr><td> 5</td><td> 5</td><td>1</td><td>0</td><td> 8</td><td>171</td><td>0</td></tr>\n",
              "\t<tr><td> 6</td><td> 6</td><td>1</td><td>3</td><td>17</td><td>692</td><td>1</td></tr>\n",
              "\t<tr><td> 7</td><td> 7</td><td>1</td><td>1</td><td>12</td><td>298</td><td>1</td></tr>\n",
              "\t<tr><td> 8</td><td> 8</td><td>1</td><td>1</td><td>13</td><td>377</td><td>1</td></tr>\n",
              "\t<tr><td> 9</td><td> 9</td><td>0</td><td>1</td><td>13</td><td>377</td><td>0</td></tr>\n",
              "\t<tr><td>10</td><td>10</td><td>1</td><td>1</td><td>13</td><td> NA</td><td>0</td></tr>\n",
              "\t<tr><td>11</td><td>11</td><td>0</td><td>4</td><td>19</td><td>923</td><td>0</td></tr>\n",
              "\t<tr><td>12</td><td>12</td><td>0</td><td>4</td><td>16</td><td>809</td><td>1</td></tr>\n",
              "\t<tr><td>13</td><td>13</td><td>0</td><td>3</td><td>16</td><td>764</td><td>1</td></tr>\n",
              "\t<tr><td>14</td><td>14</td><td>0</td><td>1</td><td>13</td><td>374</td><td>1</td></tr>\n",
              "\t<tr><td>15</td><td>15</td><td>1</td><td>3</td><td>16</td><td>384</td><td>1</td></tr>\n",
              "\t<tr><td>16</td><td>16</td><td>0</td><td>3</td><td>16</td><td>389</td><td>0</td></tr>\n",
              "\t<tr><td>17</td><td>17</td><td>0</td><td>1</td><td>15</td><td>625</td><td>0</td></tr>\n",
              "\t<tr><td>18</td><td>18</td><td>0</td><td>4</td><td>19</td><td>839</td><td>1</td></tr>\n",
              "\t<tr><td>19</td><td>19</td><td>0</td><td>1</td><td>13</td><td>171</td><td>1</td></tr>\n",
              "\t<tr><td>20</td><td>20</td><td>1</td><td>1</td><td>12</td><td>377</td><td>0</td></tr>\n",
              "\t<tr><td>21</td><td>21</td><td>1</td><td>1</td><td>12</td><td>394</td><td>1</td></tr>\n",
              "\t<tr><td>22</td><td>22</td><td>1</td><td>0</td><td> 4</td><td>275</td><td>0</td></tr>\n",
              "\t<tr><td>23</td><td>23</td><td>1</td><td>1</td><td>15</td><td>499</td><td>1</td></tr>\n",
              "\t<tr><td>24</td><td>24</td><td>0</td><td>1</td><td>12</td><td>293</td><td>0</td></tr>\n",
              "\t<tr><td>25</td><td>25</td><td>1</td><td>0</td><td>11</td><td>293</td><td>0</td></tr>\n",
              "\t<tr><td>26</td><td>26</td><td>0</td><td>1</td><td>16</td><td>525</td><td>1</td></tr>\n",
              "\t<tr><td>27</td><td>27</td><td>1</td><td>3</td><td>20</td><td>537</td><td>0</td></tr>\n",
              "\t<tr><td>28</td><td>28</td><td>0</td><td>3</td><td>17</td><td>763</td><td>1</td></tr>\n",
              "\t<tr><td>29</td><td>29</td><td>0</td><td>3</td><td>16</td><td>725</td><td>0</td></tr>\n",
              "\t<tr><td>30</td><td>30</td><td>0</td><td>3</td><td>16</td><td>339</td><td>0</td></tr>\n",
              "\t<tr><td>⋮</td><td>⋮</td><td>⋮</td><td>⋮</td><td>⋮</td><td>⋮</td><td>⋮</td></tr>\n",
              "\t<tr><td>2860</td><td>2875</td><td>1</td><td>4</td><td>20</td><td>879</td><td>0</td></tr>\n",
              "\t<tr><td>2861</td><td>2876</td><td>0</td><td>4</td><td>18</td><td>625</td><td>0</td></tr>\n",
              "\t<tr><td>2862</td><td>2877</td><td>1</td><td>1</td><td>13</td><td>331</td><td>0</td></tr>\n",
              "\t<tr><td>2863</td><td>2878</td><td>1</td><td>0</td><td>10</td><td>397</td><td>0</td></tr>\n",
              "\t<tr><td>2864</td><td>2879</td><td>1</td><td>1</td><td>12</td><td>697</td><td>1</td></tr>\n",
              "\t<tr><td>2865</td><td>2880</td><td>1</td><td>1</td><td>12</td><td>499</td><td>0</td></tr>\n",
              "\t<tr><td>2866</td><td>2881</td><td>0</td><td>1</td><td>13</td><td>389</td><td>1</td></tr>\n",
              "\t<tr><td>2867</td><td>2882</td><td>0</td><td>2</td><td>14</td><td>394</td><td>0</td></tr>\n",
              "\t<tr><td>2868</td><td>2883</td><td>0</td><td>1</td><td>16</td><td>764</td><td>1</td></tr>\n",
              "\t<tr><td>2869</td><td>2884</td><td>1</td><td>1</td><td>12</td><td>485</td><td>0</td></tr>\n",
              "\t<tr><td>2870</td><td>2885</td><td>0</td><td>1</td><td>14</td><td>264</td><td>0</td></tr>\n",
              "\t<tr><td>2871</td><td>2886</td><td>0</td><td>3</td><td>16</td><td>422</td><td>1</td></tr>\n",
              "\t<tr><td>2872</td><td>2887</td><td>1</td><td>1</td><td>12</td><td>507</td><td>0</td></tr>\n",
              "\t<tr><td>2873</td><td>2888</td><td>1</td><td>1</td><td>13</td><td>545</td><td>0</td></tr>\n",
              "\t<tr><td>2874</td><td>2889</td><td>1</td><td>1</td><td>12</td><td>525</td><td>0</td></tr>\n",
              "\t<tr><td>2875</td><td>2890</td><td>1</td><td>3</td><td>16</td><td>622</td><td>1</td></tr>\n",
              "\t<tr><td>2876</td><td>2891</td><td>1</td><td>1</td><td>12</td><td>505</td><td>0</td></tr>\n",
              "\t<tr><td>2877</td><td>2892</td><td>1</td><td>1</td><td>12</td><td>331</td><td>1</td></tr>\n",
              "\t<tr><td>2878</td><td>2893</td><td>1</td><td>1</td><td>12</td><td>381</td><td>0</td></tr>\n",
              "\t<tr><td>2879</td><td>2894</td><td>1</td><td>1</td><td>14</td><td>744</td><td>0</td></tr>\n",
              "\t<tr><td>2880</td><td>2895</td><td>1</td><td>1</td><td>13</td><td> NA</td><td>0</td></tr>\n",
              "\t<tr><td>2881</td><td>2896</td><td>1</td><td>1</td><td>12</td><td>284</td><td>1</td></tr>\n",
              "\t<tr><td>2882</td><td>2897</td><td>0</td><td>3</td><td>16</td><td>324</td><td>0</td></tr>\n",
              "\t<tr><td>2883</td><td>2898</td><td>0</td><td>2</td><td>14</td><td>286</td><td>1</td></tr>\n",
              "\t<tr><td>2884</td><td>2899</td><td>1</td><td>1</td><td>11</td><td>389</td><td>1</td></tr>\n",
              "\t<tr><td>2885</td><td>2900</td><td>0</td><td>0</td><td>11</td><td>381</td><td>0</td></tr>\n",
              "\t<tr><td>2886</td><td>2901</td><td>1</td><td>1</td><td>12</td><td>384</td><td>0</td></tr>\n",
              "\t<tr><td>2887</td><td>2902</td><td>1</td><td>1</td><td>12</td><td>284</td><td>0</td></tr>\n",
              "\t<tr><td>2888</td><td>2903</td><td>1</td><td>1</td><td> 9</td><td>681</td><td>0</td></tr>\n",
              "\t<tr><td>2889</td><td>2904</td><td>1</td><td>1</td><td>12</td><td>324</td><td>0</td></tr>\n",
              "</tbody>\n",
              "</table>\n"
            ]
          },
          "metadata": {
            "tags": []
          }
        }
      ]
    },
    {
      "cell_type": "markdown",
      "metadata": {
        "id": "9QdOYNf0ty_U"
      },
      "source": [
        "##Exercice A\n",
        "\n",
        "En utilisant la variable recodée « divorce », testez l'hypothèse que le fait d'avoir des enfants a un effet sur la probabilité qu'une personne vive un divorce. Utilisez la régression logistique.\n",
        "\n",
        "Variables:\n",
        "\n",
        "- childs: avoir des enfants (0= non, 1 = oui)\n",
        "- divorce: être divorcé (0= non, 1 = oui)"
      ]
    },
    {
      "cell_type": "code",
      "metadata": {
        "id": "BK_FbVC7-Tnv",
        "colab": {
          "base_uri": "https://localhost:8080/",
          "height": 1000
        },
        "outputId": "c2a30ff4-b7f7-4a08-beb5-5dd94c2547e7"
      },
      "source": [
        "#Fréquences et distribution\n",
        "\n",
        "freq(bd$childs)\n",
        "freq(bd$divorce)"
      ],
      "execution_count": null,
      "outputs": [
        {
          "output_type": "display_data",
          "data": {
            "text/plain": [
              "      Frequency Percent  \n",
              "0      822       28.45275\n",
              "1     2067       71.54725\n",
              "Total 2889      100.00000"
            ],
            "text/latex": "A freqtable: 3 × 2 of type dbl\n\\begin{tabular}{r|ll}\n  & Frequency & Percent\\\\\n\\hline\n\t0 &  822 &  28.45275\\\\\n\t1 & 2067 &  71.54725\\\\\n\tTotal & 2889 & 100.00000\\\\\n\\end{tabular}\n",
            "text/markdown": "\nA freqtable: 3 × 2 of type dbl\n\n| <!--/--> | Frequency | Percent |\n|---|---|---|\n| 0 |  822 |  28.45275 |\n| 1 | 2067 |  71.54725 |\n| Total | 2889 | 100.00000 |\n\n",
            "text/html": [
              "<table>\n",
              "<caption>A freqtable: 3 × 2 of type dbl</caption>\n",
              "<thead>\n",
              "\t<tr><th></th><th scope=col>Frequency</th><th scope=col>Percent</th></tr>\n",
              "</thead>\n",
              "<tbody>\n",
              "\t<tr><th scope=row>0</th><td> 822</td><td> 28.45275</td></tr>\n",
              "\t<tr><th scope=row>1</th><td>2067</td><td> 71.54725</td></tr>\n",
              "\t<tr><th scope=row>Total</th><td>2889</td><td>100.00000</td></tr>\n",
              "</tbody>\n",
              "</table>\n"
            ]
          },
          "metadata": {
            "tags": []
          }
        },
        {
          "output_type": "display_data",
          "data": {
            "image/png": "[encoded data removed]",
            "text/plain": [
              "plot without title"
            ]
          },
          "metadata": {
            "tags": [],
            "image/png": {
              "width": 420,
              "height": 420
            }
          }
        },
        {
          "output_type": "display_data",
          "data": {
            "text/plain": [
              "      Frequency Percent  \n",
              "0     1871       64.76289\n",
              "1     1018       35.23711\n",
              "Total 2889      100.00000"
            ],
            "text/latex": "A freqtable: 3 × 2 of type dbl\n\\begin{tabular}{r|ll}\n  & Frequency & Percent\\\\\n\\hline\n\t0 & 1871 &  64.76289\\\\\n\t1 & 1018 &  35.23711\\\\\n\tTotal & 2889 & 100.00000\\\\\n\\end{tabular}\n",
            "text/markdown": "\nA freqtable: 3 × 2 of type dbl\n\n| <!--/--> | Frequency | Percent |\n|---|---|---|\n| 0 | 1871 |  64.76289 |\n| 1 | 1018 |  35.23711 |\n| Total | 2889 | 100.00000 |\n\n",
            "text/html": [
              "<table>\n",
              "<caption>A freqtable: 3 × 2 of type dbl</caption>\n",
              "<thead>\n",
              "\t<tr><th></th><th scope=col>Frequency</th><th scope=col>Percent</th></tr>\n",
              "</thead>\n",
              "<tbody>\n",
              "\t<tr><th scope=row>0</th><td>1871</td><td> 64.76289</td></tr>\n",
              "\t<tr><th scope=row>1</th><td>1018</td><td> 35.23711</td></tr>\n",
              "\t<tr><th scope=row>Total</th><td>2889</td><td>100.00000</td></tr>\n",
              "</tbody>\n",
              "</table>\n"
            ]
          },
          "metadata": {
            "tags": []
          }
        },
        {
          "output_type": "display_data",
          "data": {
            "image/png": "[encoded data removed]",
            "text/plain": [
              "plot without title"
            ]
          },
          "metadata": {
            "tags": [],
            "image/png": {
              "width": 420,
              "height": 420
            }
          }
        }
      ]
    },
    {
      "cell_type": "code",
      "metadata": {
        "id": "ExD_NIHH-T0Y",
        "colab": {
          "base_uri": "https://localhost:8080/",
          "height": 434
        },
        "outputId": "a72a5b4f-15cb-4592-b6ee-6146fb5a51d7"
      },
      "source": [
        "reglog <- glm(divorce ~ childs, data = bd, family=\"binomial\")\n",
        "summary(rstandard(reglog))\n",
        "summary(reglog)"
      ],
      "execution_count": null,
      "outputs": [
        {
          "output_type": "display_data",
          "data": {
            "text/plain": [
              "    Min.  1st Qu.   Median     Mean  3rd Qu.     Max. \n",
              "-1.03387 -0.89186 -0.89186 -0.09432  1.32956  1.49348 "
            ]
          },
          "metadata": {
            "tags": []
          }
        },
        {
          "output_type": "display_data",
          "data": {
            "text/plain": [
              "\n",
              "Call:\n",
              "glm(formula = divorce ~ childs, family = \"binomial\", data = bd)\n",
              "\n",
              "Deviance Residuals: \n",
              "    Min       1Q   Median       3Q      Max  \n",
              "-1.0332  -0.8916  -0.8916   1.3288   1.4931  \n",
              "\n",
              "Coefficients:\n",
              "            Estimate Std. Error z value Pr(>|z|)    \n",
              "(Intercept) -0.34900    0.07082  -4.928 8.32e-07 ***\n",
              "childs      -0.36819    0.08492  -4.336 1.45e-05 ***\n",
              "---\n",
              "Signif. codes:  0 ‘***’ 0.001 ‘**’ 0.01 ‘*’ 0.05 ‘.’ 0.1 ‘ ’ 1\n",
              "\n",
              "(Dispersion parameter for binomial family taken to be 1)\n",
              "\n",
              "    Null deviance: 3749.4  on 2888  degrees of freedom\n",
              "Residual deviance: 3730.7  on 2887  degrees of freedom\n",
              "AIC: 3734.7\n",
              "\n",
              "Number of Fisher Scoring iterations: 4\n"
            ]
          },
          "metadata": {
            "tags": []
          }
        }
      ]
    },
    {
      "cell_type": "markdown",
      "metadata": {
        "id": "1sPALKBBtzIn"
      },
      "source": [
        "##Exercice B\n",
        "\n",
        "Faites le même exercice, mais en utilisant le nombre d'années de scolarité (*educ*) des personnes dans l'échantillon (VD toujours divorce)."
      ]
    },
    {
      "cell_type": "code",
      "metadata": {
        "id": "KEOY9L_xXVCb",
        "colab": {
          "base_uri": "https://localhost:8080/",
          "height": 69
        },
        "outputId": "d0faa9f6-daef-4046-9566-b6dae93c6be0"
      },
      "source": [
        "#Statistiques descriptives\n",
        "\n",
        "summary(bd$educ)\n",
        "sd(bd$educ, na.rm=TRUE)"
      ],
      "execution_count": null,
      "outputs": [
        {
          "output_type": "display_data",
          "data": {
            "text/plain": [
              "   Min. 1st Qu.  Median    Mean 3rd Qu.    Max.    NA's \n",
              "   0.00   12.00   13.00   13.37   16.00   20.00       9 "
            ]
          },
          "metadata": {
            "tags": []
          }
        },
        {
          "output_type": "display_data",
          "data": {
            "text/plain": [
              "[1] 2.934529"
            ],
            "text/latex": "2.93452857738988",
            "text/markdown": "2.93452857738988",
            "text/html": [
              "2.93452857738988"
            ]
          },
          "metadata": {
            "tags": []
          }
        }
      ]
    },
    {
      "cell_type": "code",
      "metadata": {
        "id": "zfiaz6LPXRRF",
        "colab": {
          "base_uri": "https://localhost:8080/",
          "height": 472
        },
        "outputId": "8425c52e-339d-4149-c697-e5a15b27de64"
      },
      "source": [
        "#Histogramme\n",
        "ggplot(bd, aes(x=educ)) +\n",
        "  geom_histogram(binwidth=1, fill=\"#69b3a2\", color=\"#e9ecef\", alpha=0.9) +\n",
        "    ggtitle(\"Distribution: années d'éducation\") +\n",
        "    theme(\n",
        "      plot.title = element_text(size=20)\n",
        "    )"
      ],
      "execution_count": null,
      "outputs": [
        {
          "output_type": "stream",
          "text": [
            "Warning message:\n",
            "“Removed 9 rows containing non-finite values (stat_bin).”\n"
          ],
          "name": "stderr"
        },
        {
          "output_type": "display_data",
          "data": {
            "image/png": "[encoded data removed]",
            "text/plain": [
              "plot without title"
            ]
          },
          "metadata": {
            "tags": [],
            "image/png": {
              "width": 420,
              "height": 420
            }
          }
        }
      ]
    },
    {
      "cell_type": "code",
      "metadata": {
        "id": "Le-OQufa-UAp",
        "colab": {
          "base_uri": "https://localhost:8080/",
          "height": 451
        },
        "outputId": "bdca08e4-d109-4678-f45e-239bbd3cc823"
      },
      "source": [
        "reglog2 <- glm(divorce ~ educ, data = bd, family=\"binomial\")\n",
        "summary(rstandard(reglog2))\n",
        "summary(reglog2)"
      ],
      "execution_count": null,
      "outputs": [
        {
          "output_type": "display_data",
          "data": {
            "text/plain": [
              "    Min.  1st Qu.   Median     Mean  3rd Qu.     Max. \n",
              "-1.00381 -0.93863 -0.91875 -0.09492  1.43719  1.48599 "
            ]
          },
          "metadata": {
            "tags": []
          }
        },
        {
          "output_type": "display_data",
          "data": {
            "text/plain": [
              "\n",
              "Call:\n",
              "glm(formula = divorce ~ educ, family = \"binomial\", data = bd)\n",
              "\n",
              "Deviance Residuals: \n",
              "    Min       1Q   Median       3Q      Max  \n",
              "-0.9999  -0.9384  -0.9185   1.4369   1.4845  \n",
              "\n",
              "Coefficients:\n",
              "            Estimate Std. Error z value Pr(>|z|)  \n",
              "(Intercept) -0.43312    0.18153  -2.386    0.017 *\n",
              "educ        -0.01324    0.01329  -0.996    0.319  \n",
              "---\n",
              "Signif. codes:  0 ‘***’ 0.001 ‘**’ 0.01 ‘*’ 0.05 ‘.’ 0.1 ‘ ’ 1\n",
              "\n",
              "(Dispersion parameter for binomial family taken to be 1)\n",
              "\n",
              "    Null deviance: 3736.7  on 2879  degrees of freedom\n",
              "Residual deviance: 3735.7  on 2878  degrees of freedom\n",
              "  (9 observations deleted due to missingness)\n",
              "AIC: 3739.7\n",
              "\n",
              "Number of Fisher Scoring iterations: 4\n"
            ]
          },
          "metadata": {
            "tags": []
          }
        }
      ]
    }
  ]
}