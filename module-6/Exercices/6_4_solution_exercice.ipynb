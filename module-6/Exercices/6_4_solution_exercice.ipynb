{
  "nbformat": 4,
  "nbformat_minor": 0,
  "metadata": {
    "colab": {
      "name": "6-4_solution_exercice.ipynb",
      "provenance": [],
      "collapsed_sections": [],
      "authorship_tag": "ABX9TyPAP1qrBHk5icTBljz9Uuar",
      "include_colab_link": true
    },
    "kernelspec": {
      "name": "ir",
      "display_name": "R"
    }
  },
  "cells": [
    {
      "cell_type": "markdown",
      "metadata": {
        "id": "view-in-github",
        "colab_type": "text"
      },
      "source": [
        "<a href=\"https://colab.research.google.com/github/Cours-EDUlib/FAS-ISDS/blob/main/module-6/Exercices/6_4_solution_exercice.ipynb\" target=\"_parent\"><img src=\"https://colab.research.google.com/assets/colab-badge.svg\" alt=\"Open In Colab\"/></a>"
      ]
    },
    {
      "cell_type": "markdown",
      "metadata": {
        "id": "MLsTSTpSU7iv"
      },
      "source": [
        "#Les statistiques et la science des données appliquées\n",
        "##Exercice 4\n",
        "###Solutionnaire"
      ]
    },
    {
      "cell_type": "code",
      "metadata": {
        "id": "caV0Vk3HfLx4"
      },
      "source": [
        "#Téléchargement des packages nécessaires\n",
        "library (tidyverse)\n",
        "install.packages(\"rsq\")\n",
        "require(rsq)\n",
        "library(ggplot2)\n",
        "install.packages(\"descr\")\n",
        "require(descr)"
      ],
      "execution_count": null,
      "outputs": []
    },
    {
      "cell_type": "code",
      "metadata": {
        "id": "2DDyJkB8uPY6"
      },
      "source": [
        "path_to_csv = 'https://github.com/Cours-EDUlib/FAS-ISDS/blob/main/module-6/Exercices/6-4_donnees.csv?raw=true' #Téléchargement de la base de données depuis github\n",
        "\n",
        "bd <- read_csv(path_to_csv) #Enregistrement de la base de données dans l'ojet \"bd\"\n",
        "bd #Lecture des données"
      ],
      "execution_count": null,
      "outputs": []
    },
    {
      "cell_type": "markdown",
      "metadata": {
        "id": "9QdOYNf0ty_U"
      },
      "source": [
        "##Exercice A\n",
        "\n",
        "En utilisant la variable recodée « divorce », testez l'hypothèse que le fait d'avoir des enfants a un effet sur la probabilité qu'une personne vive un divorce. Utilisez la régression logistique.\n",
        "\n",
        "Variables:\n",
        "\n",
        "- childs: avoir des enfants (0= non, 1 = oui)\n",
        "- divorce: être divorcé (0= non, 1 = oui)"
      ]
    },
    {
      "cell_type": "code",
      "metadata": {
        "id": "BK_FbVC7-Tnv"
      },
      "source": [
        "#Fréquences et distribution\n",
        "\n",
        "freq(bd$childs)\n",
        "freq(bd$divorce)"
      ],
      "execution_count": null,
      "outputs": []
    },
    {
      "cell_type": "code",
      "metadata": {
        "id": "ExD_NIHH-T0Y"
      },
      "source": [
        "reglog <- glm(divorce ~ childs, data = bd, family=\"binomial\")\n",
        "summary(rstandard(reglog))\n",
        "summary(reglog)"
      ],
      "execution_count": null,
      "outputs": []
    },
    {
      "cell_type": "markdown",
      "metadata": {
        "id": "1sPALKBBtzIn"
      },
      "source": [
        "##Exercice B\n",
        "\n",
        "Faites le même exercice, mais en utilisant le nombre d'années de scolarité (*educ*) des personnes dans l'échantillon (la variable dépendante étant toujours le divorce)."
      ]
    },
    {
      "cell_type": "code",
      "metadata": {
        "id": "KEOY9L_xXVCb"
      },
      "source": [
        "#Statistiques descriptives\n",
        "\n",
        "summary(bd$educ)\n",
        "sd(bd$educ, na.rm=TRUE)"
      ],
      "execution_count": null,
      "outputs": []
    },
    {
      "cell_type": "code",
      "metadata": {
        "id": "zfiaz6LPXRRF"
      },
      "source": [
        "#Histogramme\n",
        "ggplot(bd, aes(x=educ)) +\n",
        "  geom_histogram(binwidth=1, fill=\"#69b3a2\", color=\"#e9ecef\", alpha=0.9) +\n",
        "    ggtitle(\"Distribution: années d'éducation\") +\n",
        "    theme(\n",
        "      plot.title = element_text(size=20)\n",
        "    )"
      ],
      "execution_count": null,
      "outputs": []
    },
    {
      "cell_type": "code",
      "metadata": {
        "id": "Le-OQufa-UAp"
      },
      "source": [
        "reglog2 <- glm(divorce ~ educ, data = bd, family=\"binomial\")\n",
        "summary(rstandard(reglog2))\n",
        "summary(reglog2)"
      ],
      "execution_count": null,
      "outputs": []
    }
  ]
}