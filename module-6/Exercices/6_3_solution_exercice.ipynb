{
  "nbformat": 4,
  "nbformat_minor": 0,
  "metadata": {
    "colab": {
      "name": "6-3_solution_exercice.ipynb",
      "provenance": [],
      "collapsed_sections": [],
      "authorship_tag": "ABX9TyOHtgFtWnz5bDzQAKDd8l4/",
      "include_colab_link": true
    },
    "kernelspec": {
      "name": "ir",
      "display_name": "R"
    }
  },
  "cells": [
    {
      "cell_type": "markdown",
      "metadata": {
        "id": "view-in-github",
        "colab_type": "text"
      },
      "source": [
        "<a href=\"https://colab.research.google.com/github/Cours-EDUlib/FAS-ISDS/blob/restructuration-finale/module-6/Exercices/6_3_solution_exercice.ipynb\" target=\"_parent\"><img src=\"https://colab.research.google.com/assets/colab-badge.svg\" alt=\"Open In Colab\"/></a>"
      ]
    },
    {
      "cell_type": "markdown",
      "metadata": {
        "id": "Drlzm4vNVtMK"
      },
      "source": [
        "#Les statistiques et la science des données appliquées\n",
        "##Exercice 3\n",
        "###Solutionnaire"
      ]
    },
    {
      "cell_type": "code",
      "metadata": {
        "id": "wxIFmsc2fDJa",
        "colab": {
          "base_uri": "https://localhost:8080/"
        },
        "outputId": "a07dd653-ad89-4ad7-c97e-0f4d1538fedc"
      },
      "source": [
        "#Téléchargement des packages nécessaires\n",
        "library (tidyverse)\n",
        "install.packages(\"rsq\")\n",
        "require(rsq)\n",
        "library(ggplot2)\n",
        "install.packages(\"descr\")\n",
        "require(descr)"
      ],
      "execution_count": null,
      "outputs": [
        {
          "output_type": "stream",
          "text": [
            "── \u001b[1mAttaching packages\u001b[22m ─────────────────────────────────────── tidyverse 1.3.0 ──\n",
            "\n",
            "\u001b[32m✔\u001b[39m \u001b[34mggplot2\u001b[39m 3.3.2     \u001b[32m✔\u001b[39m \u001b[34mpurrr  \u001b[39m 0.3.4\n",
            "\u001b[32m✔\u001b[39m \u001b[34mtibble \u001b[39m 3.0.4     \u001b[32m✔\u001b[39m \u001b[34mdplyr  \u001b[39m 1.0.2\n",
            "\u001b[32m✔\u001b[39m \u001b[34mtidyr  \u001b[39m 1.1.2     \u001b[32m✔\u001b[39m \u001b[34mstringr\u001b[39m 1.4.0\n",
            "\u001b[32m✔\u001b[39m \u001b[34mreadr  \u001b[39m 1.4.0     \u001b[32m✔\u001b[39m \u001b[34mforcats\u001b[39m 0.5.0\n",
            "\n",
            "── \u001b[1mConflicts\u001b[22m ────────────────────────────────────────── tidyverse_conflicts() ──\n",
            "\u001b[31m✖\u001b[39m \u001b[34mdplyr\u001b[39m::\u001b[32mfilter()\u001b[39m masks \u001b[34mstats\u001b[39m::filter()\n",
            "\u001b[31m✖\u001b[39m \u001b[34mdplyr\u001b[39m::\u001b[32mlag()\u001b[39m    masks \u001b[34mstats\u001b[39m::lag()\n",
            "\n",
            "Installing package into ‘/usr/local/lib/R/site-library’\n",
            "(as ‘lib’ is unspecified)\n",
            "\n",
            "also installing the dependencies ‘minqa’, ‘nloptr’, ‘statmod’, ‘RcppEigen’, ‘lme4’, ‘Deriv’\n",
            "\n",
            "\n",
            "Loading required package: rsq\n",
            "\n",
            "Installing package into ‘/usr/local/lib/R/site-library’\n",
            "(as ‘lib’ is unspecified)\n",
            "\n",
            "also installing the dependency ‘xtable’\n",
            "\n",
            "\n",
            "Loading required package: descr\n",
            "\n"
          ],
          "name": "stderr"
        }
      ]
    },
    {
      "cell_type": "code",
      "metadata": {
        "id": "2DDyJkB8uPY6",
        "colab": {
          "base_uri": "https://localhost:8080/",
          "height": 1000
        },
        "outputId": "d4c6aacf-eb08-45ab-b4ff-a35471580685"
      },
      "source": [
        "path_to_csv = 'https://github.com/Cours-EDUlib/FAS-ISDS/blob/main/module-7/Exercices/7-3_donnees.csv?raw=true' #Téléchargement de la base de données depuis github\n",
        "\n",
        "bd <- read_csv(path_to_csv) #Enregistrement de la base de données dans l'ojet \"bd\" + identification des données manquantes\n",
        "\n",
        "bd #Lecture des données (ignorez le message d'erreur, tant que la base de données s'affiche éventuellement)"
      ],
      "execution_count": null,
      "outputs": [
        {
          "output_type": "stream",
          "text": [
            "Warning message:\n",
            "“Missing column names filled in: 'X1' [1]”\n",
            "\n",
            "\u001b[36m──\u001b[39m \u001b[1m\u001b[1mColumn specification\u001b[1m\u001b[22m \u001b[36m────────────────────────────────────────────────────────\u001b[39m\n",
            "cols(\n",
            "  X1 = \u001b[32mcol_double()\u001b[39m,\n",
            "  id = \u001b[32mcol_double()\u001b[39m,\n",
            "  ses = \u001b[32mcol_double()\u001b[39m,\n",
            "  genre = \u001b[32mcol_double()\u001b[39m,\n",
            "  reseau = \u001b[32mcol_double()\u001b[39m,\n",
            "  scolarite = \u001b[32mcol_double()\u001b[39m,\n",
            "  experience = \u001b[32mcol_double()\u001b[39m\n",
            ")\n",
            "\n",
            "\n"
          ],
          "name": "stderr"
        },
        {
          "output_type": "display_data",
          "data": {
            "text/plain": [
              "     X1   id   ses      genre reseau scolarite experience\n",
              "1     1      4 62.50000 2     24     2          6        \n",
              "2     2      5 17.10000 2     10     0          1        \n",
              "3     3      6 69.20000 2     13     3         12        \n",
              "4     4      7 29.80000 1      4     0          4        \n",
              "5     5      8 37.70000 2     24     1          4        \n",
              "6     6      9 37.70000 2      6     1          6        \n",
              "7     7     10 47.85451 2     14     2          9        \n",
              "8     8     11 92.30000 2      9     4         27        \n",
              "9     9     12 80.90000 2      5     4         14        \n",
              "10   10     13 76.40000 2     10     3         13        \n",
              "11   11     14 37.40000 1      5     1          3        \n",
              "12   12     15 38.40000 2      8     1          8        \n",
              "13   13     16 38.90000 1     14     1          6        \n",
              "14   14     18 83.90000 1      3     4         21        \n",
              "15   15     20 37.70000 2      5     1          4        \n",
              "16   16     21 39.40000 1      5     1          5        \n",
              "17   17     73 47.85451 2     12     2          9        \n",
              "18   18     78 45.80000 1      8     2          7        \n",
              "19   19   2377 38.40000 2      2     1          8        \n",
              "20   20   2396 69.70000 2     14     3         17        \n",
              "21   21   2476 18.50000 2     16     0          6        \n",
              "22   22   2545 60.60000 2     21     2         12        \n",
              "23   23   2747 38.40000 2      7     1          6        \n",
              "24   24   2887 50.70000 2     21     2         10        \n",
              "25   25   2897 32.40000 1      4     1          7        \n",
              "26   26   2251 62.50000 2      3     2         16        \n",
              "27   27   2898 28.60000 1     15     0         12        \n",
              "28   28   2899 38.90000 2     12     1          6        \n",
              "29   29   1087 38.90000 2     10     1          9        \n",
              "30   30   2715 50.70000 2     19     2          9        \n",
              "⋮    ⋮    ⋮    ⋮        ⋮     ⋮      ⋮         ⋮         \n",
              "2875 2875  799 28.6     1     16     0          4        \n",
              "2876 2876  872 86.6     1     17     4         21        \n",
              "2877 2877 1029 52.4     1     17     2         16        \n",
              "2878 2878 1216 17.1     2      6     0          2        \n",
              "2879 2879 1237 74.9     1      1     3         20        \n",
              "2880 2880 1264 32.4     2      1     1          3        \n",
              "2881 2881 1403 38.1     1      1     1          6        \n",
              "2882 2882 1866 37.6     1     15     1          5        \n",
              "2883 2883 1969 29.2     1      9     0          5        \n",
              "2884 2884 1972 31.5     1     17     1          2        \n",
              "2885 2885 1996 78.5     1      7     3         18        \n",
              "2886 2886 1998 76.5     2      0     3         15        \n",
              "2887 2887 2053 39.4     1     16     1         12        \n",
              "2888 2888 2087 46.8     2     30     2          5        \n",
              "2889 2889 2160 29.2     1      9     0          5        \n",
              "2890 2890  690 73.6     2     23     3         30        \n",
              "2891 2891 1981 37.2     1     10     1          6        \n",
              "2892 2892  181 76.4     2      6     3         14        \n",
              "2893 2893  375 63.2     2     18     3         11        \n",
              "2894 2894  509 66.1     1     13     3         14        \n",
              "2895 2895 1011 51.9     1      1     2         11        \n",
              "2896 2896 1590 63.5     2     10     3         17        \n",
              "2897 2897 1764 54.9     1      9     2         10        \n",
              "2898 2898 2291 52.4     2     19     2          6        \n",
              "2899 2899 2285 30.1     1     17     0          5        \n",
              "2900 2900 2364 26.7     2     12     0          5        \n",
              "2901 2901 1973 38.9     1     11     1          6        \n",
              "2902 2902  285 28.6     1      7     0          4        \n",
              "2903 2903  473 69.2     1     16     3          9        \n",
              "2904 2904 1915 63.5     2      8     3         15        "
            ],
            "text/latex": "A spec\\_tbl\\_df: 2904 × 7\n\\begin{tabular}{lllllll}\n X1 & id & ses & genre & reseau & scolarite & experience\\\\\n <dbl> & <dbl> & <dbl> & <dbl> & <dbl> & <dbl> & <dbl>\\\\\n\\hline\n\t  1 &    4 & 62.50000 & 2 & 24 & 2 &  6\\\\\n\t  2 &    5 & 17.10000 & 2 & 10 & 0 &  1\\\\\n\t  3 &    6 & 69.20000 & 2 & 13 & 3 & 12\\\\\n\t  4 &    7 & 29.80000 & 1 &  4 & 0 &  4\\\\\n\t  5 &    8 & 37.70000 & 2 & 24 & 1 &  4\\\\\n\t  6 &    9 & 37.70000 & 2 &  6 & 1 &  6\\\\\n\t  7 &   10 & 47.85451 & 2 & 14 & 2 &  9\\\\\n\t  8 &   11 & 92.30000 & 2 &  9 & 4 & 27\\\\\n\t  9 &   12 & 80.90000 & 2 &  5 & 4 & 14\\\\\n\t 10 &   13 & 76.40000 & 2 & 10 & 3 & 13\\\\\n\t 11 &   14 & 37.40000 & 1 &  5 & 1 &  3\\\\\n\t 12 &   15 & 38.40000 & 2 &  8 & 1 &  8\\\\\n\t 13 &   16 & 38.90000 & 1 & 14 & 1 &  6\\\\\n\t 14 &   18 & 83.90000 & 1 &  3 & 4 & 21\\\\\n\t 15 &   20 & 37.70000 & 2 &  5 & 1 &  4\\\\\n\t 16 &   21 & 39.40000 & 1 &  5 & 1 &  5\\\\\n\t 17 &   73 & 47.85451 & 2 & 12 & 2 &  9\\\\\n\t 18 &   78 & 45.80000 & 1 &  8 & 2 &  7\\\\\n\t 19 & 2377 & 38.40000 & 2 &  2 & 1 &  8\\\\\n\t 20 & 2396 & 69.70000 & 2 & 14 & 3 & 17\\\\\n\t 21 & 2476 & 18.50000 & 2 & 16 & 0 &  6\\\\\n\t 22 & 2545 & 60.60000 & 2 & 21 & 2 & 12\\\\\n\t 23 & 2747 & 38.40000 & 2 &  7 & 1 &  6\\\\\n\t 24 & 2887 & 50.70000 & 2 & 21 & 2 & 10\\\\\n\t 25 & 2897 & 32.40000 & 1 &  4 & 1 &  7\\\\\n\t 26 & 2251 & 62.50000 & 2 &  3 & 2 & 16\\\\\n\t 27 & 2898 & 28.60000 & 1 & 15 & 0 & 12\\\\\n\t 28 & 2899 & 38.90000 & 2 & 12 & 1 &  6\\\\\n\t 29 & 1087 & 38.90000 & 2 & 10 & 1 &  9\\\\\n\t 30 & 2715 & 50.70000 & 2 & 19 & 2 &  9\\\\\n\t ⋮ & ⋮ & ⋮ & ⋮ & ⋮ & ⋮ & ⋮\\\\\n\t 2875 &  799 & 28.6 & 1 & 16 & 0 &  4\\\\\n\t 2876 &  872 & 86.6 & 1 & 17 & 4 & 21\\\\\n\t 2877 & 1029 & 52.4 & 1 & 17 & 2 & 16\\\\\n\t 2878 & 1216 & 17.1 & 2 &  6 & 0 &  2\\\\\n\t 2879 & 1237 & 74.9 & 1 &  1 & 3 & 20\\\\\n\t 2880 & 1264 & 32.4 & 2 &  1 & 1 &  3\\\\\n\t 2881 & 1403 & 38.1 & 1 &  1 & 1 &  6\\\\\n\t 2882 & 1866 & 37.6 & 1 & 15 & 1 &  5\\\\\n\t 2883 & 1969 & 29.2 & 1 &  9 & 0 &  5\\\\\n\t 2884 & 1972 & 31.5 & 1 & 17 & 1 &  2\\\\\n\t 2885 & 1996 & 78.5 & 1 &  7 & 3 & 18\\\\\n\t 2886 & 1998 & 76.5 & 2 &  0 & 3 & 15\\\\\n\t 2887 & 2053 & 39.4 & 1 & 16 & 1 & 12\\\\\n\t 2888 & 2087 & 46.8 & 2 & 30 & 2 &  5\\\\\n\t 2889 & 2160 & 29.2 & 1 &  9 & 0 &  5\\\\\n\t 2890 &  690 & 73.6 & 2 & 23 & 3 & 30\\\\\n\t 2891 & 1981 & 37.2 & 1 & 10 & 1 &  6\\\\\n\t 2892 &  181 & 76.4 & 2 &  6 & 3 & 14\\\\\n\t 2893 &  375 & 63.2 & 2 & 18 & 3 & 11\\\\\n\t 2894 &  509 & 66.1 & 1 & 13 & 3 & 14\\\\\n\t 2895 & 1011 & 51.9 & 1 &  1 & 2 & 11\\\\\n\t 2896 & 1590 & 63.5 & 2 & 10 & 3 & 17\\\\\n\t 2897 & 1764 & 54.9 & 1 &  9 & 2 & 10\\\\\n\t 2898 & 2291 & 52.4 & 2 & 19 & 2 &  6\\\\\n\t 2899 & 2285 & 30.1 & 1 & 17 & 0 &  5\\\\\n\t 2900 & 2364 & 26.7 & 2 & 12 & 0 &  5\\\\\n\t 2901 & 1973 & 38.9 & 1 & 11 & 1 &  6\\\\\n\t 2902 &  285 & 28.6 & 1 &  7 & 0 &  4\\\\\n\t 2903 &  473 & 69.2 & 1 & 16 & 3 &  9\\\\\n\t 2904 & 1915 & 63.5 & 2 &  8 & 3 & 15\\\\\n\\end{tabular}\n",
            "text/markdown": "\nA spec_tbl_df: 2904 × 7\n\n| X1 &lt;dbl&gt; | id &lt;dbl&gt; | ses &lt;dbl&gt; | genre &lt;dbl&gt; | reseau &lt;dbl&gt; | scolarite &lt;dbl&gt; | experience &lt;dbl&gt; |\n|---|---|---|---|---|---|---|\n|  1 |    4 | 62.50000 | 2 | 24 | 2 |  6 |\n|  2 |    5 | 17.10000 | 2 | 10 | 0 |  1 |\n|  3 |    6 | 69.20000 | 2 | 13 | 3 | 12 |\n|  4 |    7 | 29.80000 | 1 |  4 | 0 |  4 |\n|  5 |    8 | 37.70000 | 2 | 24 | 1 |  4 |\n|  6 |    9 | 37.70000 | 2 |  6 | 1 |  6 |\n|  7 |   10 | 47.85451 | 2 | 14 | 2 |  9 |\n|  8 |   11 | 92.30000 | 2 |  9 | 4 | 27 |\n|  9 |   12 | 80.90000 | 2 |  5 | 4 | 14 |\n| 10 |   13 | 76.40000 | 2 | 10 | 3 | 13 |\n| 11 |   14 | 37.40000 | 1 |  5 | 1 |  3 |\n| 12 |   15 | 38.40000 | 2 |  8 | 1 |  8 |\n| 13 |   16 | 38.90000 | 1 | 14 | 1 |  6 |\n| 14 |   18 | 83.90000 | 1 |  3 | 4 | 21 |\n| 15 |   20 | 37.70000 | 2 |  5 | 1 |  4 |\n| 16 |   21 | 39.40000 | 1 |  5 | 1 |  5 |\n| 17 |   73 | 47.85451 | 2 | 12 | 2 |  9 |\n| 18 |   78 | 45.80000 | 1 |  8 | 2 |  7 |\n| 19 | 2377 | 38.40000 | 2 |  2 | 1 |  8 |\n| 20 | 2396 | 69.70000 | 2 | 14 | 3 | 17 |\n| 21 | 2476 | 18.50000 | 2 | 16 | 0 |  6 |\n| 22 | 2545 | 60.60000 | 2 | 21 | 2 | 12 |\n| 23 | 2747 | 38.40000 | 2 |  7 | 1 |  6 |\n| 24 | 2887 | 50.70000 | 2 | 21 | 2 | 10 |\n| 25 | 2897 | 32.40000 | 1 |  4 | 1 |  7 |\n| 26 | 2251 | 62.50000 | 2 |  3 | 2 | 16 |\n| 27 | 2898 | 28.60000 | 1 | 15 | 0 | 12 |\n| 28 | 2899 | 38.90000 | 2 | 12 | 1 |  6 |\n| 29 | 1087 | 38.90000 | 2 | 10 | 1 |  9 |\n| 30 | 2715 | 50.70000 | 2 | 19 | 2 |  9 |\n| ⋮ | ⋮ | ⋮ | ⋮ | ⋮ | ⋮ | ⋮ |\n| 2875 |  799 | 28.6 | 1 | 16 | 0 |  4 |\n| 2876 |  872 | 86.6 | 1 | 17 | 4 | 21 |\n| 2877 | 1029 | 52.4 | 1 | 17 | 2 | 16 |\n| 2878 | 1216 | 17.1 | 2 |  6 | 0 |  2 |\n| 2879 | 1237 | 74.9 | 1 |  1 | 3 | 20 |\n| 2880 | 1264 | 32.4 | 2 |  1 | 1 |  3 |\n| 2881 | 1403 | 38.1 | 1 |  1 | 1 |  6 |\n| 2882 | 1866 | 37.6 | 1 | 15 | 1 |  5 |\n| 2883 | 1969 | 29.2 | 1 |  9 | 0 |  5 |\n| 2884 | 1972 | 31.5 | 1 | 17 | 1 |  2 |\n| 2885 | 1996 | 78.5 | 1 |  7 | 3 | 18 |\n| 2886 | 1998 | 76.5 | 2 |  0 | 3 | 15 |\n| 2887 | 2053 | 39.4 | 1 | 16 | 1 | 12 |\n| 2888 | 2087 | 46.8 | 2 | 30 | 2 |  5 |\n| 2889 | 2160 | 29.2 | 1 |  9 | 0 |  5 |\n| 2890 |  690 | 73.6 | 2 | 23 | 3 | 30 |\n| 2891 | 1981 | 37.2 | 1 | 10 | 1 |  6 |\n| 2892 |  181 | 76.4 | 2 |  6 | 3 | 14 |\n| 2893 |  375 | 63.2 | 2 | 18 | 3 | 11 |\n| 2894 |  509 | 66.1 | 1 | 13 | 3 | 14 |\n| 2895 | 1011 | 51.9 | 1 |  1 | 2 | 11 |\n| 2896 | 1590 | 63.5 | 2 | 10 | 3 | 17 |\n| 2897 | 1764 | 54.9 | 1 |  9 | 2 | 10 |\n| 2898 | 2291 | 52.4 | 2 | 19 | 2 |  6 |\n| 2899 | 2285 | 30.1 | 1 | 17 | 0 |  5 |\n| 2900 | 2364 | 26.7 | 2 | 12 | 0 |  5 |\n| 2901 | 1973 | 38.9 | 1 | 11 | 1 |  6 |\n| 2902 |  285 | 28.6 | 1 |  7 | 0 |  4 |\n| 2903 |  473 | 69.2 | 1 | 16 | 3 |  9 |\n| 2904 | 1915 | 63.5 | 2 |  8 | 3 | 15 |\n\n",
            "text/html": [
              "<table>\n",
              "<caption>A spec_tbl_df: 2904 × 7</caption>\n",
              "<thead>\n",
              "\t<tr><th scope=col>X1</th><th scope=col>id</th><th scope=col>ses</th><th scope=col>genre</th><th scope=col>reseau</th><th scope=col>scolarite</th><th scope=col>experience</th></tr>\n",
              "\t<tr><th scope=col>&lt;dbl&gt;</th><th scope=col>&lt;dbl&gt;</th><th scope=col>&lt;dbl&gt;</th><th scope=col>&lt;dbl&gt;</th><th scope=col>&lt;dbl&gt;</th><th scope=col>&lt;dbl&gt;</th><th scope=col>&lt;dbl&gt;</th></tr>\n",
              "</thead>\n",
              "<tbody>\n",
              "\t<tr><td> 1</td><td>   4</td><td>62.50000</td><td>2</td><td>24</td><td>2</td><td> 6</td></tr>\n",
              "\t<tr><td> 2</td><td>   5</td><td>17.10000</td><td>2</td><td>10</td><td>0</td><td> 1</td></tr>\n",
              "\t<tr><td> 3</td><td>   6</td><td>69.20000</td><td>2</td><td>13</td><td>3</td><td>12</td></tr>\n",
              "\t<tr><td> 4</td><td>   7</td><td>29.80000</td><td>1</td><td> 4</td><td>0</td><td> 4</td></tr>\n",
              "\t<tr><td> 5</td><td>   8</td><td>37.70000</td><td>2</td><td>24</td><td>1</td><td> 4</td></tr>\n",
              "\t<tr><td> 6</td><td>   9</td><td>37.70000</td><td>2</td><td> 6</td><td>1</td><td> 6</td></tr>\n",
              "\t<tr><td> 7</td><td>  10</td><td>47.85451</td><td>2</td><td>14</td><td>2</td><td> 9</td></tr>\n",
              "\t<tr><td> 8</td><td>  11</td><td>92.30000</td><td>2</td><td> 9</td><td>4</td><td>27</td></tr>\n",
              "\t<tr><td> 9</td><td>  12</td><td>80.90000</td><td>2</td><td> 5</td><td>4</td><td>14</td></tr>\n",
              "\t<tr><td>10</td><td>  13</td><td>76.40000</td><td>2</td><td>10</td><td>3</td><td>13</td></tr>\n",
              "\t<tr><td>11</td><td>  14</td><td>37.40000</td><td>1</td><td> 5</td><td>1</td><td> 3</td></tr>\n",
              "\t<tr><td>12</td><td>  15</td><td>38.40000</td><td>2</td><td> 8</td><td>1</td><td> 8</td></tr>\n",
              "\t<tr><td>13</td><td>  16</td><td>38.90000</td><td>1</td><td>14</td><td>1</td><td> 6</td></tr>\n",
              "\t<tr><td>14</td><td>  18</td><td>83.90000</td><td>1</td><td> 3</td><td>4</td><td>21</td></tr>\n",
              "\t<tr><td>15</td><td>  20</td><td>37.70000</td><td>2</td><td> 5</td><td>1</td><td> 4</td></tr>\n",
              "\t<tr><td>16</td><td>  21</td><td>39.40000</td><td>1</td><td> 5</td><td>1</td><td> 5</td></tr>\n",
              "\t<tr><td>17</td><td>  73</td><td>47.85451</td><td>2</td><td>12</td><td>2</td><td> 9</td></tr>\n",
              "\t<tr><td>18</td><td>  78</td><td>45.80000</td><td>1</td><td> 8</td><td>2</td><td> 7</td></tr>\n",
              "\t<tr><td>19</td><td>2377</td><td>38.40000</td><td>2</td><td> 2</td><td>1</td><td> 8</td></tr>\n",
              "\t<tr><td>20</td><td>2396</td><td>69.70000</td><td>2</td><td>14</td><td>3</td><td>17</td></tr>\n",
              "\t<tr><td>21</td><td>2476</td><td>18.50000</td><td>2</td><td>16</td><td>0</td><td> 6</td></tr>\n",
              "\t<tr><td>22</td><td>2545</td><td>60.60000</td><td>2</td><td>21</td><td>2</td><td>12</td></tr>\n",
              "\t<tr><td>23</td><td>2747</td><td>38.40000</td><td>2</td><td> 7</td><td>1</td><td> 6</td></tr>\n",
              "\t<tr><td>24</td><td>2887</td><td>50.70000</td><td>2</td><td>21</td><td>2</td><td>10</td></tr>\n",
              "\t<tr><td>25</td><td>2897</td><td>32.40000</td><td>1</td><td> 4</td><td>1</td><td> 7</td></tr>\n",
              "\t<tr><td>26</td><td>2251</td><td>62.50000</td><td>2</td><td> 3</td><td>2</td><td>16</td></tr>\n",
              "\t<tr><td>27</td><td>2898</td><td>28.60000</td><td>1</td><td>15</td><td>0</td><td>12</td></tr>\n",
              "\t<tr><td>28</td><td>2899</td><td>38.90000</td><td>2</td><td>12</td><td>1</td><td> 6</td></tr>\n",
              "\t<tr><td>29</td><td>1087</td><td>38.90000</td><td>2</td><td>10</td><td>1</td><td> 9</td></tr>\n",
              "\t<tr><td>30</td><td>2715</td><td>50.70000</td><td>2</td><td>19</td><td>2</td><td> 9</td></tr>\n",
              "\t<tr><td>⋮</td><td>⋮</td><td>⋮</td><td>⋮</td><td>⋮</td><td>⋮</td><td>⋮</td></tr>\n",
              "\t<tr><td>2875</td><td> 799</td><td>28.6</td><td>1</td><td>16</td><td>0</td><td> 4</td></tr>\n",
              "\t<tr><td>2876</td><td> 872</td><td>86.6</td><td>1</td><td>17</td><td>4</td><td>21</td></tr>\n",
              "\t<tr><td>2877</td><td>1029</td><td>52.4</td><td>1</td><td>17</td><td>2</td><td>16</td></tr>\n",
              "\t<tr><td>2878</td><td>1216</td><td>17.1</td><td>2</td><td> 6</td><td>0</td><td> 2</td></tr>\n",
              "\t<tr><td>2879</td><td>1237</td><td>74.9</td><td>1</td><td> 1</td><td>3</td><td>20</td></tr>\n",
              "\t<tr><td>2880</td><td>1264</td><td>32.4</td><td>2</td><td> 1</td><td>1</td><td> 3</td></tr>\n",
              "\t<tr><td>2881</td><td>1403</td><td>38.1</td><td>1</td><td> 1</td><td>1</td><td> 6</td></tr>\n",
              "\t<tr><td>2882</td><td>1866</td><td>37.6</td><td>1</td><td>15</td><td>1</td><td> 5</td></tr>\n",
              "\t<tr><td>2883</td><td>1969</td><td>29.2</td><td>1</td><td> 9</td><td>0</td><td> 5</td></tr>\n",
              "\t<tr><td>2884</td><td>1972</td><td>31.5</td><td>1</td><td>17</td><td>1</td><td> 2</td></tr>\n",
              "\t<tr><td>2885</td><td>1996</td><td>78.5</td><td>1</td><td> 7</td><td>3</td><td>18</td></tr>\n",
              "\t<tr><td>2886</td><td>1998</td><td>76.5</td><td>2</td><td> 0</td><td>3</td><td>15</td></tr>\n",
              "\t<tr><td>2887</td><td>2053</td><td>39.4</td><td>1</td><td>16</td><td>1</td><td>12</td></tr>\n",
              "\t<tr><td>2888</td><td>2087</td><td>46.8</td><td>2</td><td>30</td><td>2</td><td> 5</td></tr>\n",
              "\t<tr><td>2889</td><td>2160</td><td>29.2</td><td>1</td><td> 9</td><td>0</td><td> 5</td></tr>\n",
              "\t<tr><td>2890</td><td> 690</td><td>73.6</td><td>2</td><td>23</td><td>3</td><td>30</td></tr>\n",
              "\t<tr><td>2891</td><td>1981</td><td>37.2</td><td>1</td><td>10</td><td>1</td><td> 6</td></tr>\n",
              "\t<tr><td>2892</td><td> 181</td><td>76.4</td><td>2</td><td> 6</td><td>3</td><td>14</td></tr>\n",
              "\t<tr><td>2893</td><td> 375</td><td>63.2</td><td>2</td><td>18</td><td>3</td><td>11</td></tr>\n",
              "\t<tr><td>2894</td><td> 509</td><td>66.1</td><td>1</td><td>13</td><td>3</td><td>14</td></tr>\n",
              "\t<tr><td>2895</td><td>1011</td><td>51.9</td><td>1</td><td> 1</td><td>2</td><td>11</td></tr>\n",
              "\t<tr><td>2896</td><td>1590</td><td>63.5</td><td>2</td><td>10</td><td>3</td><td>17</td></tr>\n",
              "\t<tr><td>2897</td><td>1764</td><td>54.9</td><td>1</td><td> 9</td><td>2</td><td>10</td></tr>\n",
              "\t<tr><td>2898</td><td>2291</td><td>52.4</td><td>2</td><td>19</td><td>2</td><td> 6</td></tr>\n",
              "\t<tr><td>2899</td><td>2285</td><td>30.1</td><td>1</td><td>17</td><td>0</td><td> 5</td></tr>\n",
              "\t<tr><td>2900</td><td>2364</td><td>26.7</td><td>2</td><td>12</td><td>0</td><td> 5</td></tr>\n",
              "\t<tr><td>2901</td><td>1973</td><td>38.9</td><td>1</td><td>11</td><td>1</td><td> 6</td></tr>\n",
              "\t<tr><td>2902</td><td> 285</td><td>28.6</td><td>1</td><td> 7</td><td>0</td><td> 4</td></tr>\n",
              "\t<tr><td>2903</td><td> 473</td><td>69.2</td><td>1</td><td>16</td><td>3</td><td> 9</td></tr>\n",
              "\t<tr><td>2904</td><td>1915</td><td>63.5</td><td>2</td><td> 8</td><td>3</td><td>15</td></tr>\n",
              "</tbody>\n",
              "</table>\n"
            ]
          },
          "metadata": {
            "tags": []
          }
        }
      ]
    },
    {
      "cell_type": "markdown",
      "metadata": {
        "id": "cd7WfvVw6i7k"
      },
      "source": [
        "A) Effectuez une régression simple visant à déterminer si le genre peut prédire le statut socioéconomique. Utilisez les femmes comme catégorie de référence."
      ]
    },
    {
      "cell_type": "code",
      "metadata": {
        "id": "paM6dv-kg5uR"
      },
      "source": [
        "#Identification des genres (ajout d'étiquettes)\n",
        "\n",
        "bd$genre <- factor(bd$genre,\n",
        "levels = c(1,2),\n",
        "labels = c(\"Homme\", \"Femme\")) "
      ],
      "execution_count": null,
      "outputs": []
    },
    {
      "cell_type": "code",
      "metadata": {
        "id": "mGFuN4we7TyR",
        "colab": {
          "base_uri": "https://localhost:8080/",
          "height": 542
        },
        "outputId": "a4cd982f-0a32-4e44-cf98-7fa1e86c09a2"
      },
      "source": [
        "#Fréquences et distribution VI\n",
        "\n",
        "freq(bd$genre)"
      ],
      "execution_count": null,
      "outputs": [
        {
          "output_type": "display_data",
          "data": {
            "text/plain": [
              "      Frequency Percent  \n",
              "Homme 1285       44.24931\n",
              "Femme 1619       55.75069\n",
              "Total 2904      100.00000"
            ],
            "text/latex": "A freqtable: 3 × 2 of type dbl\n\\begin{tabular}{r|ll}\n  & Frequency & Percent\\\\\n\\hline\n\tHomme & 1285 &  44.24931\\\\\n\tFemme & 1619 &  55.75069\\\\\n\tTotal & 2904 & 100.00000\\\\\n\\end{tabular}\n",
            "text/markdown": "\nA freqtable: 3 × 2 of type dbl\n\n| <!--/--> | Frequency | Percent |\n|---|---|---|\n| Homme | 1285 |  44.24931 |\n| Femme | 1619 |  55.75069 |\n| Total | 2904 | 100.00000 |\n\n",
            "text/html": [
              "<table>\n",
              "<caption>A freqtable: 3 × 2 of type dbl</caption>\n",
              "<thead>\n",
              "\t<tr><th></th><th scope=col>Frequency</th><th scope=col>Percent</th></tr>\n",
              "</thead>\n",
              "<tbody>\n",
              "\t<tr><th scope=row>Homme</th><td>1285</td><td> 44.24931</td></tr>\n",
              "\t<tr><th scope=row>Femme</th><td>1619</td><td> 55.75069</td></tr>\n",
              "\t<tr><th scope=row>Total</th><td>2904</td><td>100.00000</td></tr>\n",
              "</tbody>\n",
              "</table>\n"
            ]
          },
          "metadata": {
            "tags": []
          }
        },
        {
          "output_type": "display_data",
          "data": {
            "image/png": "[encoded data removed]",
            "text/plain": [
              "plot without title"
            ]
          },
          "metadata": {
            "tags": [],
            "image/png": {
              "width": 420,
              "height": 420
            }
          }
        }
      ]
    },
    {
      "cell_type": "code",
      "metadata": {
        "id": "2EJqpqY87VdS",
        "colab": {
          "base_uri": "https://localhost:8080/",
          "height": 86
        },
        "outputId": "2fc22b7a-4aa2-4eec-9b1d-8091d2a50c0a"
      },
      "source": [
        "#Statistiques descriptives VD\n",
        "\n",
        "summary(bd$ses)\n",
        "sd(bd$ses)"
      ],
      "execution_count": null,
      "outputs": [
        {
          "output_type": "display_data",
          "data": {
            "text/plain": [
              "   Min. 1st Qu.  Median    Mean 3rd Qu.    Max. \n",
              "  17.10   32.40   40.20   47.85   63.50   97.20 "
            ]
          },
          "metadata": {
            "tags": []
          }
        },
        {
          "output_type": "display_data",
          "data": {
            "text/plain": [
              "[1] 18.58611"
            ],
            "text/latex": "18.5861116597657",
            "text/markdown": "18.5861116597657",
            "text/html": [
              "18.5861116597657"
            ]
          },
          "metadata": {
            "tags": []
          }
        },
        {
          "output_type": "display_data",
          "data": {
            "text/plain": [
              "[1] 18.58611"
            ],
            "text/latex": "18.5861116597657",
            "text/markdown": "18.5861116597657",
            "text/html": [
              "18.5861116597657"
            ]
          },
          "metadata": {
            "tags": []
          }
        }
      ]
    },
    {
      "cell_type": "code",
      "metadata": {
        "id": "uYU1hvwr7Vjh",
        "colab": {
          "base_uri": "https://localhost:8080/",
          "height": 437
        },
        "outputId": "6e15e3df-7d48-4966-e569-79f24b0575c5"
      },
      "source": [
        "#Distribution VD statut socioéconomique\n",
        "\n",
        "ggplot(bd, aes(x=ses)) +\n",
        "  geom_histogram(binwidth=10, fill=\"#69b3a2\", color=\"#e9ecef\", alpha=0.9) +\n",
        "    ggtitle(\"Distribution: statut socioéconomique\") +\n",
        "    theme(\n",
        "      plot.title = element_text(size=20)\n",
        "    )"
      ],
      "execution_count": null,
      "outputs": [
        {
          "output_type": "display_data",
          "data": {
            "image/png": "[encoded data removed]",
            "text/plain": [
              "plot without title"
            ]
          },
          "metadata": {
            "tags": [],
            "image/png": {
              "width": 420,
              "height": 420
            }
          }
        }
      ]
    },
    {
      "cell_type": "code",
      "metadata": {
        "id": "nHlSRRWV7VoD",
        "colab": {
          "base_uri": "https://localhost:8080/",
          "height": 434
        },
        "outputId": "0ce7b852-9c7e-47e4-e08e-48c0078811f2"
      },
      "source": [
        "reglineaire <- glm(ses ~ genre, data = bd, family=\"gaussian\")\n",
        "summary(rstandard(reglineaire))\n",
        "summary(reglineaire)"
      ],
      "execution_count": null,
      "outputs": [
        {
          "output_type": "display_data",
          "data": {
            "text/plain": [
              "   Min. 1st Qu.  Median    Mean 3rd Qu.    Max. \n",
              "-1.7065 -0.8177 -0.3755  0.0000  0.7930  2.6975 "
            ]
          },
          "metadata": {
            "tags": []
          }
        },
        {
          "output_type": "display_data",
          "data": {
            "text/plain": [
              "\n",
              "Call:\n",
              "glm(formula = ses ~ genre, family = \"gaussian\", data = bd)\n",
              "\n",
              "Deviance Residuals: \n",
              "    Min       1Q   Median       3Q      Max  \n",
              "-31.679  -15.179   -6.971   14.721   50.079  \n",
              "\n",
              "Coefficients:\n",
              "            Estimate Std. Error t value Pr(>|t|)    \n",
              "(Intercept)  48.7791     0.5181   94.16   <2e-16 ***\n",
              "genreFemme   -1.6585     0.6938   -2.39   0.0169 *  \n",
              "---\n",
              "Signif. codes:  0 ‘***’ 0.001 ‘**’ 0.01 ‘*’ 0.05 ‘.’ 0.1 ‘ ’ 1\n",
              "\n",
              "(Dispersion parameter for gaussian family taken to be 344.8836)\n",
              "\n",
              "    Null deviance: 1002823  on 2903  degrees of freedom\n",
              "Residual deviance: 1000852  on 2902  degrees of freedom\n",
              "AIC: 25214\n",
              "\n",
              "Number of Fisher Scoring iterations: 2\n"
            ]
          },
          "metadata": {
            "tags": []
          }
        }
      ]
    },
    {
      "cell_type": "markdown",
      "metadata": {
        "id": "sYjKRbM2PIA3"
      },
      "source": [
        "B) Effectuez une régression simple visant à déterminer si le niveau de scolarité peut prédire le statut socioéconomique."
      ]
    },
    {
      "cell_type": "code",
      "metadata": {
        "id": "e8rcLMFP66ba"
      },
      "source": [
        "#Identification des niveaux de scolarité 1 à 4 (ajout d'étiquettes)\n",
        "\n",
        "bd$scolarite <- factor(bd$scolarite,\n",
        "levels = c(0,1,2,3,4),\n",
        "labels = c(\"Secondaire non terminé\", \"Secondaire\", \"Collégial\", \"Universitaire 1er cycle\", \"Universitaire études supérieures\")) "
      ],
      "execution_count": null,
      "outputs": []
    },
    {
      "cell_type": "code",
      "metadata": {
        "id": "1JWKC40ziIsD",
        "colab": {
          "base_uri": "https://localhost:8080/",
          "height": 606
        },
        "outputId": "0187a383-5181-4338-c162-47edfa063864"
      },
      "source": [
        "#Fréquences et distribution VI\n",
        "\n",
        "freq(bd$scolarite)"
      ],
      "execution_count": null,
      "outputs": [
        {
          "output_type": "display_data",
          "data": {
            "text/plain": [
              "                                 Frequency Percent   \n",
              "Secondaire non terminé            542       18.663912\n",
              "Secondaire                        930       32.024793\n",
              "Collégial                         677       23.312672\n",
              "Universitaire 1er cycle           507       17.458678\n",
              "Universitaire études supérieures  248        8.539945\n",
              "Total                            2904      100.000000"
            ],
            "text/latex": "A freqtable: 6 × 2 of type dbl\n\\begin{tabular}{r|ll}\n  & Frequency & Percent\\\\\n\\hline\n\tSecondaire non terminé &  542 &  18.663912\\\\\n\tSecondaire &  930 &  32.024793\\\\\n\tCollégial &  677 &  23.312672\\\\\n\tUniversitaire 1er cycle &  507 &  17.458678\\\\\n\tUniversitaire études supérieures &  248 &   8.539945\\\\\n\tTotal & 2904 & 100.000000\\\\\n\\end{tabular}\n",
            "text/markdown": "\nA freqtable: 6 × 2 of type dbl\n\n| <!--/--> | Frequency | Percent |\n|---|---|---|\n| Secondaire non terminé |  542 |  18.663912 |\n| Secondaire |  930 |  32.024793 |\n| Collégial |  677 |  23.312672 |\n| Universitaire 1er cycle |  507 |  17.458678 |\n| Universitaire études supérieures |  248 |   8.539945 |\n| Total | 2904 | 100.000000 |\n\n",
            "text/html": [
              "<table>\n",
              "<caption>A freqtable: 6 × 2 of type dbl</caption>\n",
              "<thead>\n",
              "\t<tr><th></th><th scope=col>Frequency</th><th scope=col>Percent</th></tr>\n",
              "</thead>\n",
              "<tbody>\n",
              "\t<tr><th scope=row>Secondaire non terminé</th><td> 542</td><td> 18.663912</td></tr>\n",
              "\t<tr><th scope=row>Secondaire</th><td> 930</td><td> 32.024793</td></tr>\n",
              "\t<tr><th scope=row>Collégial</th><td> 677</td><td> 23.312672</td></tr>\n",
              "\t<tr><th scope=row>Universitaire 1er cycle</th><td> 507</td><td> 17.458678</td></tr>\n",
              "\t<tr><th scope=row>Universitaire études supérieures</th><td> 248</td><td>  8.539945</td></tr>\n",
              "\t<tr><th scope=row>Total</th><td>2904</td><td>100.000000</td></tr>\n",
              "</tbody>\n",
              "</table>\n"
            ]
          },
          "metadata": {
            "tags": []
          }
        },
        {
          "output_type": "display_data",
          "data": {
            "image/png": "[encoded data removed]",
            "text/plain": [
              "plot without title"
            ]
          },
          "metadata": {
            "tags": [],
            "image/png": {
              "width": 420,
              "height": 420
            }
          }
        }
      ]
    },
    {
      "cell_type": "code",
      "metadata": {
        "id": "j0_eAxGadaek"
      },
      "source": [
        "#Statistiques descriptives VD + histogramme\n",
        "\n",
        "#Voir exercice A"
      ],
      "execution_count": null,
      "outputs": []
    },
    {
      "cell_type": "code",
      "metadata": {
        "id": "daInhNp2fmwd",
        "colab": {
          "base_uri": "https://localhost:8080/",
          "height": 1000
        },
        "outputId": "43091ba0-37a1-46f1-ff60-d2df7b46e48a"
      },
      "source": [
        "#Création des variables factices\n",
        "bdB <- bd \n",
        "\n",
        "bdB$SecNC <- ifelse(bdB$scolarite==\"Secondaire non terminé\", 1, 0)\n",
        "bdB$Secondaire <- ifelse(bdB$scolarite==\"Secondaire\", 1, 0)\n",
        "bdB$Collegial <- ifelse(bdB$scolarite==\"Collégial\", 1, 0)\n",
        "bdB$Uni1 <- ifelse(bdB$scolarite==\"Universitaire 1er cycle\", 1, 0)\n",
        "bdB$UniSup <- ifelse(bdB$scolarite==\"Universitaire études supérieures\", 1, 0)\n",
        "\n",
        "#Visualiser la nouvelle base de données\n",
        "bdB"
      ],
      "execution_count": null,
      "outputs": [
        {
          "output_type": "display_data",
          "data": {
            "text/plain": [
              "     X1   id   ses      genre reseau scolarite                       \n",
              "1     1      4 62.50000 Femme 24     Collégial                       \n",
              "2     2      5 17.10000 Femme 10     Secondaire non terminé          \n",
              "3     3      6 69.20000 Femme 13     Universitaire 1er cycle         \n",
              "4     4      7 29.80000 Homme  4     Secondaire non terminé          \n",
              "5     5      8 37.70000 Femme 24     Secondaire                      \n",
              "6     6      9 37.70000 Femme  6     Secondaire                      \n",
              "7     7     10 47.85451 Femme 14     Collégial                       \n",
              "8     8     11 92.30000 Femme  9     Universitaire études supérieures\n",
              "9     9     12 80.90000 Femme  5     Universitaire études supérieures\n",
              "10   10     13 76.40000 Femme 10     Universitaire 1er cycle         \n",
              "11   11     14 37.40000 Homme  5     Secondaire                      \n",
              "12   12     15 38.40000 Femme  8     Secondaire                      \n",
              "13   13     16 38.90000 Homme 14     Secondaire                      \n",
              "14   14     18 83.90000 Homme  3     Universitaire études supérieures\n",
              "15   15     20 37.70000 Femme  5     Secondaire                      \n",
              "16   16     21 39.40000 Homme  5     Secondaire                      \n",
              "17   17     73 47.85451 Femme 12     Collégial                       \n",
              "18   18     78 45.80000 Homme  8     Collégial                       \n",
              "19   19   2377 38.40000 Femme  2     Secondaire                      \n",
              "20   20   2396 69.70000 Femme 14     Universitaire 1er cycle         \n",
              "21   21   2476 18.50000 Femme 16     Secondaire non terminé          \n",
              "22   22   2545 60.60000 Femme 21     Collégial                       \n",
              "23   23   2747 38.40000 Femme  7     Secondaire                      \n",
              "24   24   2887 50.70000 Femme 21     Collégial                       \n",
              "25   25   2897 32.40000 Homme  4     Secondaire                      \n",
              "26   26   2251 62.50000 Femme  3     Collégial                       \n",
              "27   27   2898 28.60000 Homme 15     Secondaire non terminé          \n",
              "28   28   2899 38.90000 Femme 12     Secondaire                      \n",
              "29   29   1087 38.90000 Femme 10     Secondaire                      \n",
              "30   30   2715 50.70000 Femme 19     Collégial                       \n",
              "⋮    ⋮    ⋮    ⋮        ⋮     ⋮      ⋮                               \n",
              "2875 2875  799 28.6     Homme 16     Secondaire non terminé          \n",
              "2876 2876  872 86.6     Homme 17     Universitaire études supérieures\n",
              "2877 2877 1029 52.4     Homme 17     Collégial                       \n",
              "2878 2878 1216 17.1     Femme  6     Secondaire non terminé          \n",
              "2879 2879 1237 74.9     Homme  1     Universitaire 1er cycle         \n",
              "2880 2880 1264 32.4     Femme  1     Secondaire                      \n",
              "2881 2881 1403 38.1     Homme  1     Secondaire                      \n",
              "2882 2882 1866 37.6     Homme 15     Secondaire                      \n",
              "2883 2883 1969 29.2     Homme  9     Secondaire non terminé          \n",
              "2884 2884 1972 31.5     Homme 17     Secondaire                      \n",
              "2885 2885 1996 78.5     Homme  7     Universitaire 1er cycle         \n",
              "2886 2886 1998 76.5     Femme  0     Universitaire 1er cycle         \n",
              "2887 2887 2053 39.4     Homme 16     Secondaire                      \n",
              "2888 2888 2087 46.8     Femme 30     Collégial                       \n",
              "2889 2889 2160 29.2     Homme  9     Secondaire non terminé          \n",
              "2890 2890  690 73.6     Femme 23     Universitaire 1er cycle         \n",
              "2891 2891 1981 37.2     Homme 10     Secondaire                      \n",
              "2892 2892  181 76.4     Femme  6     Universitaire 1er cycle         \n",
              "2893 2893  375 63.2     Femme 18     Universitaire 1er cycle         \n",
              "2894 2894  509 66.1     Homme 13     Universitaire 1er cycle         \n",
              "2895 2895 1011 51.9     Homme  1     Collégial                       \n",
              "2896 2896 1590 63.5     Femme 10     Universitaire 1er cycle         \n",
              "2897 2897 1764 54.9     Homme  9     Collégial                       \n",
              "2898 2898 2291 52.4     Femme 19     Collégial                       \n",
              "2899 2899 2285 30.1     Homme 17     Secondaire non terminé          \n",
              "2900 2900 2364 26.7     Femme 12     Secondaire non terminé          \n",
              "2901 2901 1973 38.9     Homme 11     Secondaire                      \n",
              "2902 2902  285 28.6     Homme  7     Secondaire non terminé          \n",
              "2903 2903  473 69.2     Homme 16     Universitaire 1er cycle         \n",
              "2904 2904 1915 63.5     Femme  8     Universitaire 1er cycle         \n",
              "     experience SecNC Secondaire Collegial Uni1 UniSup\n",
              "1     6         0     0          1         0    0     \n",
              "2     1         1     0          0         0    0     \n",
              "3    12         0     0          0         1    0     \n",
              "4     4         1     0          0         0    0     \n",
              "5     4         0     1          0         0    0     \n",
              "6     6         0     1          0         0    0     \n",
              "7     9         0     0          1         0    0     \n",
              "8    27         0     0          0         0    1     \n",
              "9    14         0     0          0         0    1     \n",
              "10   13         0     0          0         1    0     \n",
              "11    3         0     1          0         0    0     \n",
              "12    8         0     1          0         0    0     \n",
              "13    6         0     1          0         0    0     \n",
              "14   21         0     0          0         0    1     \n",
              "15    4         0     1          0         0    0     \n",
              "16    5         0     1          0         0    0     \n",
              "17    9         0     0          1         0    0     \n",
              "18    7         0     0          1         0    0     \n",
              "19    8         0     1          0         0    0     \n",
              "20   17         0     0          0         1    0     \n",
              "21    6         1     0          0         0    0     \n",
              "22   12         0     0          1         0    0     \n",
              "23    6         0     1          0         0    0     \n",
              "24   10         0     0          1         0    0     \n",
              "25    7         0     1          0         0    0     \n",
              "26   16         0     0          1         0    0     \n",
              "27   12         1     0          0         0    0     \n",
              "28    6         0     1          0         0    0     \n",
              "29    9         0     1          0         0    0     \n",
              "30    9         0     0          1         0    0     \n",
              "⋮    ⋮          ⋮     ⋮          ⋮         ⋮    ⋮     \n",
              "2875  4         1     0          0         0    0     \n",
              "2876 21         0     0          0         0    1     \n",
              "2877 16         0     0          1         0    0     \n",
              "2878  2         1     0          0         0    0     \n",
              "2879 20         0     0          0         1    0     \n",
              "2880  3         0     1          0         0    0     \n",
              "2881  6         0     1          0         0    0     \n",
              "2882  5         0     1          0         0    0     \n",
              "2883  5         1     0          0         0    0     \n",
              "2884  2         0     1          0         0    0     \n",
              "2885 18         0     0          0         1    0     \n",
              "2886 15         0     0          0         1    0     \n",
              "2887 12         0     1          0         0    0     \n",
              "2888  5         0     0          1         0    0     \n",
              "2889  5         1     0          0         0    0     \n",
              "2890 30         0     0          0         1    0     \n",
              "2891  6         0     1          0         0    0     \n",
              "2892 14         0     0          0         1    0     \n",
              "2893 11         0     0          0         1    0     \n",
              "2894 14         0     0          0         1    0     \n",
              "2895 11         0     0          1         0    0     \n",
              "2896 17         0     0          0         1    0     \n",
              "2897 10         0     0          1         0    0     \n",
              "2898  6         0     0          1         0    0     \n",
              "2899  5         1     0          0         0    0     \n",
              "2900  5         1     0          0         0    0     \n",
              "2901  6         0     1          0         0    0     \n",
              "2902  4         1     0          0         0    0     \n",
              "2903  9         0     0          0         1    0     \n",
              "2904 15         0     0          0         1    0     "
            ],
            "text/latex": "A spec\\_tbl\\_df: 2904 × 12\n\\begin{tabular}{llllllllllll}\n X1 & id & ses & genre & reseau & scolarite & experience & SecNC & Secondaire & Collegial & Uni1 & UniSup\\\\\n <dbl> & <dbl> & <dbl> & <fct> & <dbl> & <fct> & <dbl> & <dbl> & <dbl> & <dbl> & <dbl> & <dbl>\\\\\n\\hline\n\t  1 &    4 & 62.50000 & Femme & 24 & Collégial                        &  6 & 0 & 0 & 1 & 0 & 0\\\\\n\t  2 &    5 & 17.10000 & Femme & 10 & Secondaire non terminé           &  1 & 1 & 0 & 0 & 0 & 0\\\\\n\t  3 &    6 & 69.20000 & Femme & 13 & Universitaire 1er cycle          & 12 & 0 & 0 & 0 & 1 & 0\\\\\n\t  4 &    7 & 29.80000 & Homme &  4 & Secondaire non terminé           &  4 & 1 & 0 & 0 & 0 & 0\\\\\n\t  5 &    8 & 37.70000 & Femme & 24 & Secondaire                       &  4 & 0 & 1 & 0 & 0 & 0\\\\\n\t  6 &    9 & 37.70000 & Femme &  6 & Secondaire                       &  6 & 0 & 1 & 0 & 0 & 0\\\\\n\t  7 &   10 & 47.85451 & Femme & 14 & Collégial                        &  9 & 0 & 0 & 1 & 0 & 0\\\\\n\t  8 &   11 & 92.30000 & Femme &  9 & Universitaire études supérieures & 27 & 0 & 0 & 0 & 0 & 1\\\\\n\t  9 &   12 & 80.90000 & Femme &  5 & Universitaire études supérieures & 14 & 0 & 0 & 0 & 0 & 1\\\\\n\t 10 &   13 & 76.40000 & Femme & 10 & Universitaire 1er cycle          & 13 & 0 & 0 & 0 & 1 & 0\\\\\n\t 11 &   14 & 37.40000 & Homme &  5 & Secondaire                       &  3 & 0 & 1 & 0 & 0 & 0\\\\\n\t 12 &   15 & 38.40000 & Femme &  8 & Secondaire                       &  8 & 0 & 1 & 0 & 0 & 0\\\\\n\t 13 &   16 & 38.90000 & Homme & 14 & Secondaire                       &  6 & 0 & 1 & 0 & 0 & 0\\\\\n\t 14 &   18 & 83.90000 & Homme &  3 & Universitaire études supérieures & 21 & 0 & 0 & 0 & 0 & 1\\\\\n\t 15 &   20 & 37.70000 & Femme &  5 & Secondaire                       &  4 & 0 & 1 & 0 & 0 & 0\\\\\n\t 16 &   21 & 39.40000 & Homme &  5 & Secondaire                       &  5 & 0 & 1 & 0 & 0 & 0\\\\\n\t 17 &   73 & 47.85451 & Femme & 12 & Collégial                        &  9 & 0 & 0 & 1 & 0 & 0\\\\\n\t 18 &   78 & 45.80000 & Homme &  8 & Collégial                        &  7 & 0 & 0 & 1 & 0 & 0\\\\\n\t 19 & 2377 & 38.40000 & Femme &  2 & Secondaire                       &  8 & 0 & 1 & 0 & 0 & 0\\\\\n\t 20 & 2396 & 69.70000 & Femme & 14 & Universitaire 1er cycle          & 17 & 0 & 0 & 0 & 1 & 0\\\\\n\t 21 & 2476 & 18.50000 & Femme & 16 & Secondaire non terminé           &  6 & 1 & 0 & 0 & 0 & 0\\\\\n\t 22 & 2545 & 60.60000 & Femme & 21 & Collégial                        & 12 & 0 & 0 & 1 & 0 & 0\\\\\n\t 23 & 2747 & 38.40000 & Femme &  7 & Secondaire                       &  6 & 0 & 1 & 0 & 0 & 0\\\\\n\t 24 & 2887 & 50.70000 & Femme & 21 & Collégial                        & 10 & 0 & 0 & 1 & 0 & 0\\\\\n\t 25 & 2897 & 32.40000 & Homme &  4 & Secondaire                       &  7 & 0 & 1 & 0 & 0 & 0\\\\\n\t 26 & 2251 & 62.50000 & Femme &  3 & Collégial                        & 16 & 0 & 0 & 1 & 0 & 0\\\\\n\t 27 & 2898 & 28.60000 & Homme & 15 & Secondaire non terminé           & 12 & 1 & 0 & 0 & 0 & 0\\\\\n\t 28 & 2899 & 38.90000 & Femme & 12 & Secondaire                       &  6 & 0 & 1 & 0 & 0 & 0\\\\\n\t 29 & 1087 & 38.90000 & Femme & 10 & Secondaire                       &  9 & 0 & 1 & 0 & 0 & 0\\\\\n\t 30 & 2715 & 50.70000 & Femme & 19 & Collégial                        &  9 & 0 & 0 & 1 & 0 & 0\\\\\n\t ⋮ & ⋮ & ⋮ & ⋮ & ⋮ & ⋮ & ⋮ & ⋮ & ⋮ & ⋮ & ⋮ & ⋮\\\\\n\t 2875 &  799 & 28.6 & Homme & 16 & Secondaire non terminé           &  4 & 1 & 0 & 0 & 0 & 0\\\\\n\t 2876 &  872 & 86.6 & Homme & 17 & Universitaire études supérieures & 21 & 0 & 0 & 0 & 0 & 1\\\\\n\t 2877 & 1029 & 52.4 & Homme & 17 & Collégial                        & 16 & 0 & 0 & 1 & 0 & 0\\\\\n\t 2878 & 1216 & 17.1 & Femme &  6 & Secondaire non terminé           &  2 & 1 & 0 & 0 & 0 & 0\\\\\n\t 2879 & 1237 & 74.9 & Homme &  1 & Universitaire 1er cycle          & 20 & 0 & 0 & 0 & 1 & 0\\\\\n\t 2880 & 1264 & 32.4 & Femme &  1 & Secondaire                       &  3 & 0 & 1 & 0 & 0 & 0\\\\\n\t 2881 & 1403 & 38.1 & Homme &  1 & Secondaire                       &  6 & 0 & 1 & 0 & 0 & 0\\\\\n\t 2882 & 1866 & 37.6 & Homme & 15 & Secondaire                       &  5 & 0 & 1 & 0 & 0 & 0\\\\\n\t 2883 & 1969 & 29.2 & Homme &  9 & Secondaire non terminé           &  5 & 1 & 0 & 0 & 0 & 0\\\\\n\t 2884 & 1972 & 31.5 & Homme & 17 & Secondaire                       &  2 & 0 & 1 & 0 & 0 & 0\\\\\n\t 2885 & 1996 & 78.5 & Homme &  7 & Universitaire 1er cycle          & 18 & 0 & 0 & 0 & 1 & 0\\\\\n\t 2886 & 1998 & 76.5 & Femme &  0 & Universitaire 1er cycle          & 15 & 0 & 0 & 0 & 1 & 0\\\\\n\t 2887 & 2053 & 39.4 & Homme & 16 & Secondaire                       & 12 & 0 & 1 & 0 & 0 & 0\\\\\n\t 2888 & 2087 & 46.8 & Femme & 30 & Collégial                        &  5 & 0 & 0 & 1 & 0 & 0\\\\\n\t 2889 & 2160 & 29.2 & Homme &  9 & Secondaire non terminé           &  5 & 1 & 0 & 0 & 0 & 0\\\\\n\t 2890 &  690 & 73.6 & Femme & 23 & Universitaire 1er cycle          & 30 & 0 & 0 & 0 & 1 & 0\\\\\n\t 2891 & 1981 & 37.2 & Homme & 10 & Secondaire                       &  6 & 0 & 1 & 0 & 0 & 0\\\\\n\t 2892 &  181 & 76.4 & Femme &  6 & Universitaire 1er cycle          & 14 & 0 & 0 & 0 & 1 & 0\\\\\n\t 2893 &  375 & 63.2 & Femme & 18 & Universitaire 1er cycle          & 11 & 0 & 0 & 0 & 1 & 0\\\\\n\t 2894 &  509 & 66.1 & Homme & 13 & Universitaire 1er cycle          & 14 & 0 & 0 & 0 & 1 & 0\\\\\n\t 2895 & 1011 & 51.9 & Homme &  1 & Collégial                        & 11 & 0 & 0 & 1 & 0 & 0\\\\\n\t 2896 & 1590 & 63.5 & Femme & 10 & Universitaire 1er cycle          & 17 & 0 & 0 & 0 & 1 & 0\\\\\n\t 2897 & 1764 & 54.9 & Homme &  9 & Collégial                        & 10 & 0 & 0 & 1 & 0 & 0\\\\\n\t 2898 & 2291 & 52.4 & Femme & 19 & Collégial                        &  6 & 0 & 0 & 1 & 0 & 0\\\\\n\t 2899 & 2285 & 30.1 & Homme & 17 & Secondaire non terminé           &  5 & 1 & 0 & 0 & 0 & 0\\\\\n\t 2900 & 2364 & 26.7 & Femme & 12 & Secondaire non terminé           &  5 & 1 & 0 & 0 & 0 & 0\\\\\n\t 2901 & 1973 & 38.9 & Homme & 11 & Secondaire                       &  6 & 0 & 1 & 0 & 0 & 0\\\\\n\t 2902 &  285 & 28.6 & Homme &  7 & Secondaire non terminé           &  4 & 1 & 0 & 0 & 0 & 0\\\\\n\t 2903 &  473 & 69.2 & Homme & 16 & Universitaire 1er cycle          &  9 & 0 & 0 & 0 & 1 & 0\\\\\n\t 2904 & 1915 & 63.5 & Femme &  8 & Universitaire 1er cycle          & 15 & 0 & 0 & 0 & 1 & 0\\\\\n\\end{tabular}\n",
            "text/markdown": "\nA spec_tbl_df: 2904 × 12\n\n| X1 &lt;dbl&gt; | id &lt;dbl&gt; | ses &lt;dbl&gt; | genre &lt;fct&gt; | reseau &lt;dbl&gt; | scolarite &lt;fct&gt; | experience &lt;dbl&gt; | SecNC &lt;dbl&gt; | Secondaire &lt;dbl&gt; | Collegial &lt;dbl&gt; | Uni1 &lt;dbl&gt; | UniSup &lt;dbl&gt; |\n|---|---|---|---|---|---|---|---|---|---|---|---|\n|  1 |    4 | 62.50000 | Femme | 24 | Collégial                        |  6 | 0 | 0 | 1 | 0 | 0 |\n|  2 |    5 | 17.10000 | Femme | 10 | Secondaire non terminé           |  1 | 1 | 0 | 0 | 0 | 0 |\n|  3 |    6 | 69.20000 | Femme | 13 | Universitaire 1er cycle          | 12 | 0 | 0 | 0 | 1 | 0 |\n|  4 |    7 | 29.80000 | Homme |  4 | Secondaire non terminé           |  4 | 1 | 0 | 0 | 0 | 0 |\n|  5 |    8 | 37.70000 | Femme | 24 | Secondaire                       |  4 | 0 | 1 | 0 | 0 | 0 |\n|  6 |    9 | 37.70000 | Femme |  6 | Secondaire                       |  6 | 0 | 1 | 0 | 0 | 0 |\n|  7 |   10 | 47.85451 | Femme | 14 | Collégial                        |  9 | 0 | 0 | 1 | 0 | 0 |\n|  8 |   11 | 92.30000 | Femme |  9 | Universitaire études supérieures | 27 | 0 | 0 | 0 | 0 | 1 |\n|  9 |   12 | 80.90000 | Femme |  5 | Universitaire études supérieures | 14 | 0 | 0 | 0 | 0 | 1 |\n| 10 |   13 | 76.40000 | Femme | 10 | Universitaire 1er cycle          | 13 | 0 | 0 | 0 | 1 | 0 |\n| 11 |   14 | 37.40000 | Homme |  5 | Secondaire                       |  3 | 0 | 1 | 0 | 0 | 0 |\n| 12 |   15 | 38.40000 | Femme |  8 | Secondaire                       |  8 | 0 | 1 | 0 | 0 | 0 |\n| 13 |   16 | 38.90000 | Homme | 14 | Secondaire                       |  6 | 0 | 1 | 0 | 0 | 0 |\n| 14 |   18 | 83.90000 | Homme |  3 | Universitaire études supérieures | 21 | 0 | 0 | 0 | 0 | 1 |\n| 15 |   20 | 37.70000 | Femme |  5 | Secondaire                       |  4 | 0 | 1 | 0 | 0 | 0 |\n| 16 |   21 | 39.40000 | Homme |  5 | Secondaire                       |  5 | 0 | 1 | 0 | 0 | 0 |\n| 17 |   73 | 47.85451 | Femme | 12 | Collégial                        |  9 | 0 | 0 | 1 | 0 | 0 |\n| 18 |   78 | 45.80000 | Homme |  8 | Collégial                        |  7 | 0 | 0 | 1 | 0 | 0 |\n| 19 | 2377 | 38.40000 | Femme |  2 | Secondaire                       |  8 | 0 | 1 | 0 | 0 | 0 |\n| 20 | 2396 | 69.70000 | Femme | 14 | Universitaire 1er cycle          | 17 | 0 | 0 | 0 | 1 | 0 |\n| 21 | 2476 | 18.50000 | Femme | 16 | Secondaire non terminé           |  6 | 1 | 0 | 0 | 0 | 0 |\n| 22 | 2545 | 60.60000 | Femme | 21 | Collégial                        | 12 | 0 | 0 | 1 | 0 | 0 |\n| 23 | 2747 | 38.40000 | Femme |  7 | Secondaire                       |  6 | 0 | 1 | 0 | 0 | 0 |\n| 24 | 2887 | 50.70000 | Femme | 21 | Collégial                        | 10 | 0 | 0 | 1 | 0 | 0 |\n| 25 | 2897 | 32.40000 | Homme |  4 | Secondaire                       |  7 | 0 | 1 | 0 | 0 | 0 |\n| 26 | 2251 | 62.50000 | Femme |  3 | Collégial                        | 16 | 0 | 0 | 1 | 0 | 0 |\n| 27 | 2898 | 28.60000 | Homme | 15 | Secondaire non terminé           | 12 | 1 | 0 | 0 | 0 | 0 |\n| 28 | 2899 | 38.90000 | Femme | 12 | Secondaire                       |  6 | 0 | 1 | 0 | 0 | 0 |\n| 29 | 1087 | 38.90000 | Femme | 10 | Secondaire                       |  9 | 0 | 1 | 0 | 0 | 0 |\n| 30 | 2715 | 50.70000 | Femme | 19 | Collégial                        |  9 | 0 | 0 | 1 | 0 | 0 |\n| ⋮ | ⋮ | ⋮ | ⋮ | ⋮ | ⋮ | ⋮ | ⋮ | ⋮ | ⋮ | ⋮ | ⋮ |\n| 2875 |  799 | 28.6 | Homme | 16 | Secondaire non terminé           |  4 | 1 | 0 | 0 | 0 | 0 |\n| 2876 |  872 | 86.6 | Homme | 17 | Universitaire études supérieures | 21 | 0 | 0 | 0 | 0 | 1 |\n| 2877 | 1029 | 52.4 | Homme | 17 | Collégial                        | 16 | 0 | 0 | 1 | 0 | 0 |\n| 2878 | 1216 | 17.1 | Femme |  6 | Secondaire non terminé           |  2 | 1 | 0 | 0 | 0 | 0 |\n| 2879 | 1237 | 74.9 | Homme |  1 | Universitaire 1er cycle          | 20 | 0 | 0 | 0 | 1 | 0 |\n| 2880 | 1264 | 32.4 | Femme |  1 | Secondaire                       |  3 | 0 | 1 | 0 | 0 | 0 |\n| 2881 | 1403 | 38.1 | Homme |  1 | Secondaire                       |  6 | 0 | 1 | 0 | 0 | 0 |\n| 2882 | 1866 | 37.6 | Homme | 15 | Secondaire                       |  5 | 0 | 1 | 0 | 0 | 0 |\n| 2883 | 1969 | 29.2 | Homme |  9 | Secondaire non terminé           |  5 | 1 | 0 | 0 | 0 | 0 |\n| 2884 | 1972 | 31.5 | Homme | 17 | Secondaire                       |  2 | 0 | 1 | 0 | 0 | 0 |\n| 2885 | 1996 | 78.5 | Homme |  7 | Universitaire 1er cycle          | 18 | 0 | 0 | 0 | 1 | 0 |\n| 2886 | 1998 | 76.5 | Femme |  0 | Universitaire 1er cycle          | 15 | 0 | 0 | 0 | 1 | 0 |\n| 2887 | 2053 | 39.4 | Homme | 16 | Secondaire                       | 12 | 0 | 1 | 0 | 0 | 0 |\n| 2888 | 2087 | 46.8 | Femme | 30 | Collégial                        |  5 | 0 | 0 | 1 | 0 | 0 |\n| 2889 | 2160 | 29.2 | Homme |  9 | Secondaire non terminé           |  5 | 1 | 0 | 0 | 0 | 0 |\n| 2890 |  690 | 73.6 | Femme | 23 | Universitaire 1er cycle          | 30 | 0 | 0 | 0 | 1 | 0 |\n| 2891 | 1981 | 37.2 | Homme | 10 | Secondaire                       |  6 | 0 | 1 | 0 | 0 | 0 |\n| 2892 |  181 | 76.4 | Femme |  6 | Universitaire 1er cycle          | 14 | 0 | 0 | 0 | 1 | 0 |\n| 2893 |  375 | 63.2 | Femme | 18 | Universitaire 1er cycle          | 11 | 0 | 0 | 0 | 1 | 0 |\n| 2894 |  509 | 66.1 | Homme | 13 | Universitaire 1er cycle          | 14 | 0 | 0 | 0 | 1 | 0 |\n| 2895 | 1011 | 51.9 | Homme |  1 | Collégial                        | 11 | 0 | 0 | 1 | 0 | 0 |\n| 2896 | 1590 | 63.5 | Femme | 10 | Universitaire 1er cycle          | 17 | 0 | 0 | 0 | 1 | 0 |\n| 2897 | 1764 | 54.9 | Homme |  9 | Collégial                        | 10 | 0 | 0 | 1 | 0 | 0 |\n| 2898 | 2291 | 52.4 | Femme | 19 | Collégial                        |  6 | 0 | 0 | 1 | 0 | 0 |\n| 2899 | 2285 | 30.1 | Homme | 17 | Secondaire non terminé           |  5 | 1 | 0 | 0 | 0 | 0 |\n| 2900 | 2364 | 26.7 | Femme | 12 | Secondaire non terminé           |  5 | 1 | 0 | 0 | 0 | 0 |\n| 2901 | 1973 | 38.9 | Homme | 11 | Secondaire                       |  6 | 0 | 1 | 0 | 0 | 0 |\n| 2902 |  285 | 28.6 | Homme |  7 | Secondaire non terminé           |  4 | 1 | 0 | 0 | 0 | 0 |\n| 2903 |  473 | 69.2 | Homme | 16 | Universitaire 1er cycle          |  9 | 0 | 0 | 0 | 1 | 0 |\n| 2904 | 1915 | 63.5 | Femme |  8 | Universitaire 1er cycle          | 15 | 0 | 0 | 0 | 1 | 0 |\n\n",
            "text/html": [
              "<table>\n",
              "<caption>A spec_tbl_df: 2904 × 12</caption>\n",
              "<thead>\n",
              "\t<tr><th scope=col>X1</th><th scope=col>id</th><th scope=col>ses</th><th scope=col>genre</th><th scope=col>reseau</th><th scope=col>scolarite</th><th scope=col>experience</th><th scope=col>SecNC</th><th scope=col>Secondaire</th><th scope=col>Collegial</th><th scope=col>Uni1</th><th scope=col>UniSup</th></tr>\n",
              "\t<tr><th scope=col>&lt;dbl&gt;</th><th scope=col>&lt;dbl&gt;</th><th scope=col>&lt;dbl&gt;</th><th scope=col>&lt;fct&gt;</th><th scope=col>&lt;dbl&gt;</th><th scope=col>&lt;fct&gt;</th><th scope=col>&lt;dbl&gt;</th><th scope=col>&lt;dbl&gt;</th><th scope=col>&lt;dbl&gt;</th><th scope=col>&lt;dbl&gt;</th><th scope=col>&lt;dbl&gt;</th><th scope=col>&lt;dbl&gt;</th></tr>\n",
              "</thead>\n",
              "<tbody>\n",
              "\t<tr><td> 1</td><td>   4</td><td>62.50000</td><td>Femme</td><td>24</td><td>Collégial                       </td><td> 6</td><td>0</td><td>0</td><td>1</td><td>0</td><td>0</td></tr>\n",
              "\t<tr><td> 2</td><td>   5</td><td>17.10000</td><td>Femme</td><td>10</td><td>Secondaire non terminé          </td><td> 1</td><td>1</td><td>0</td><td>0</td><td>0</td><td>0</td></tr>\n",
              "\t<tr><td> 3</td><td>   6</td><td>69.20000</td><td>Femme</td><td>13</td><td>Universitaire 1er cycle         </td><td>12</td><td>0</td><td>0</td><td>0</td><td>1</td><td>0</td></tr>\n",
              "\t<tr><td> 4</td><td>   7</td><td>29.80000</td><td>Homme</td><td> 4</td><td>Secondaire non terminé          </td><td> 4</td><td>1</td><td>0</td><td>0</td><td>0</td><td>0</td></tr>\n",
              "\t<tr><td> 5</td><td>   8</td><td>37.70000</td><td>Femme</td><td>24</td><td>Secondaire                      </td><td> 4</td><td>0</td><td>1</td><td>0</td><td>0</td><td>0</td></tr>\n",
              "\t<tr><td> 6</td><td>   9</td><td>37.70000</td><td>Femme</td><td> 6</td><td>Secondaire                      </td><td> 6</td><td>0</td><td>1</td><td>0</td><td>0</td><td>0</td></tr>\n",
              "\t<tr><td> 7</td><td>  10</td><td>47.85451</td><td>Femme</td><td>14</td><td>Collégial                       </td><td> 9</td><td>0</td><td>0</td><td>1</td><td>0</td><td>0</td></tr>\n",
              "\t<tr><td> 8</td><td>  11</td><td>92.30000</td><td>Femme</td><td> 9</td><td>Universitaire études supérieures</td><td>27</td><td>0</td><td>0</td><td>0</td><td>0</td><td>1</td></tr>\n",
              "\t<tr><td> 9</td><td>  12</td><td>80.90000</td><td>Femme</td><td> 5</td><td>Universitaire études supérieures</td><td>14</td><td>0</td><td>0</td><td>0</td><td>0</td><td>1</td></tr>\n",
              "\t<tr><td>10</td><td>  13</td><td>76.40000</td><td>Femme</td><td>10</td><td>Universitaire 1er cycle         </td><td>13</td><td>0</td><td>0</td><td>0</td><td>1</td><td>0</td></tr>\n",
              "\t<tr><td>11</td><td>  14</td><td>37.40000</td><td>Homme</td><td> 5</td><td>Secondaire                      </td><td> 3</td><td>0</td><td>1</td><td>0</td><td>0</td><td>0</td></tr>\n",
              "\t<tr><td>12</td><td>  15</td><td>38.40000</td><td>Femme</td><td> 8</td><td>Secondaire                      </td><td> 8</td><td>0</td><td>1</td><td>0</td><td>0</td><td>0</td></tr>\n",
              "\t<tr><td>13</td><td>  16</td><td>38.90000</td><td>Homme</td><td>14</td><td>Secondaire                      </td><td> 6</td><td>0</td><td>1</td><td>0</td><td>0</td><td>0</td></tr>\n",
              "\t<tr><td>14</td><td>  18</td><td>83.90000</td><td>Homme</td><td> 3</td><td>Universitaire études supérieures</td><td>21</td><td>0</td><td>0</td><td>0</td><td>0</td><td>1</td></tr>\n",
              "\t<tr><td>15</td><td>  20</td><td>37.70000</td><td>Femme</td><td> 5</td><td>Secondaire                      </td><td> 4</td><td>0</td><td>1</td><td>0</td><td>0</td><td>0</td></tr>\n",
              "\t<tr><td>16</td><td>  21</td><td>39.40000</td><td>Homme</td><td> 5</td><td>Secondaire                      </td><td> 5</td><td>0</td><td>1</td><td>0</td><td>0</td><td>0</td></tr>\n",
              "\t<tr><td>17</td><td>  73</td><td>47.85451</td><td>Femme</td><td>12</td><td>Collégial                       </td><td> 9</td><td>0</td><td>0</td><td>1</td><td>0</td><td>0</td></tr>\n",
              "\t<tr><td>18</td><td>  78</td><td>45.80000</td><td>Homme</td><td> 8</td><td>Collégial                       </td><td> 7</td><td>0</td><td>0</td><td>1</td><td>0</td><td>0</td></tr>\n",
              "\t<tr><td>19</td><td>2377</td><td>38.40000</td><td>Femme</td><td> 2</td><td>Secondaire                      </td><td> 8</td><td>0</td><td>1</td><td>0</td><td>0</td><td>0</td></tr>\n",
              "\t<tr><td>20</td><td>2396</td><td>69.70000</td><td>Femme</td><td>14</td><td>Universitaire 1er cycle         </td><td>17</td><td>0</td><td>0</td><td>0</td><td>1</td><td>0</td></tr>\n",
              "\t<tr><td>21</td><td>2476</td><td>18.50000</td><td>Femme</td><td>16</td><td>Secondaire non terminé          </td><td> 6</td><td>1</td><td>0</td><td>0</td><td>0</td><td>0</td></tr>\n",
              "\t<tr><td>22</td><td>2545</td><td>60.60000</td><td>Femme</td><td>21</td><td>Collégial                       </td><td>12</td><td>0</td><td>0</td><td>1</td><td>0</td><td>0</td></tr>\n",
              "\t<tr><td>23</td><td>2747</td><td>38.40000</td><td>Femme</td><td> 7</td><td>Secondaire                      </td><td> 6</td><td>0</td><td>1</td><td>0</td><td>0</td><td>0</td></tr>\n",
              "\t<tr><td>24</td><td>2887</td><td>50.70000</td><td>Femme</td><td>21</td><td>Collégial                       </td><td>10</td><td>0</td><td>0</td><td>1</td><td>0</td><td>0</td></tr>\n",
              "\t<tr><td>25</td><td>2897</td><td>32.40000</td><td>Homme</td><td> 4</td><td>Secondaire                      </td><td> 7</td><td>0</td><td>1</td><td>0</td><td>0</td><td>0</td></tr>\n",
              "\t<tr><td>26</td><td>2251</td><td>62.50000</td><td>Femme</td><td> 3</td><td>Collégial                       </td><td>16</td><td>0</td><td>0</td><td>1</td><td>0</td><td>0</td></tr>\n",
              "\t<tr><td>27</td><td>2898</td><td>28.60000</td><td>Homme</td><td>15</td><td>Secondaire non terminé          </td><td>12</td><td>1</td><td>0</td><td>0</td><td>0</td><td>0</td></tr>\n",
              "\t<tr><td>28</td><td>2899</td><td>38.90000</td><td>Femme</td><td>12</td><td>Secondaire                      </td><td> 6</td><td>0</td><td>1</td><td>0</td><td>0</td><td>0</td></tr>\n",
              "\t<tr><td>29</td><td>1087</td><td>38.90000</td><td>Femme</td><td>10</td><td>Secondaire                      </td><td> 9</td><td>0</td><td>1</td><td>0</td><td>0</td><td>0</td></tr>\n",
              "\t<tr><td>30</td><td>2715</td><td>50.70000</td><td>Femme</td><td>19</td><td>Collégial                       </td><td> 9</td><td>0</td><td>0</td><td>1</td><td>0</td><td>0</td></tr>\n",
              "\t<tr><td>⋮</td><td>⋮</td><td>⋮</td><td>⋮</td><td>⋮</td><td>⋮</td><td>⋮</td><td>⋮</td><td>⋮</td><td>⋮</td><td>⋮</td><td>⋮</td></tr>\n",
              "\t<tr><td>2875</td><td> 799</td><td>28.6</td><td>Homme</td><td>16</td><td>Secondaire non terminé          </td><td> 4</td><td>1</td><td>0</td><td>0</td><td>0</td><td>0</td></tr>\n",
              "\t<tr><td>2876</td><td> 872</td><td>86.6</td><td>Homme</td><td>17</td><td>Universitaire études supérieures</td><td>21</td><td>0</td><td>0</td><td>0</td><td>0</td><td>1</td></tr>\n",
              "\t<tr><td>2877</td><td>1029</td><td>52.4</td><td>Homme</td><td>17</td><td>Collégial                       </td><td>16</td><td>0</td><td>0</td><td>1</td><td>0</td><td>0</td></tr>\n",
              "\t<tr><td>2878</td><td>1216</td><td>17.1</td><td>Femme</td><td> 6</td><td>Secondaire non terminé          </td><td> 2</td><td>1</td><td>0</td><td>0</td><td>0</td><td>0</td></tr>\n",
              "\t<tr><td>2879</td><td>1237</td><td>74.9</td><td>Homme</td><td> 1</td><td>Universitaire 1er cycle         </td><td>20</td><td>0</td><td>0</td><td>0</td><td>1</td><td>0</td></tr>\n",
              "\t<tr><td>2880</td><td>1264</td><td>32.4</td><td>Femme</td><td> 1</td><td>Secondaire                      </td><td> 3</td><td>0</td><td>1</td><td>0</td><td>0</td><td>0</td></tr>\n",
              "\t<tr><td>2881</td><td>1403</td><td>38.1</td><td>Homme</td><td> 1</td><td>Secondaire                      </td><td> 6</td><td>0</td><td>1</td><td>0</td><td>0</td><td>0</td></tr>\n",
              "\t<tr><td>2882</td><td>1866</td><td>37.6</td><td>Homme</td><td>15</td><td>Secondaire                      </td><td> 5</td><td>0</td><td>1</td><td>0</td><td>0</td><td>0</td></tr>\n",
              "\t<tr><td>2883</td><td>1969</td><td>29.2</td><td>Homme</td><td> 9</td><td>Secondaire non terminé          </td><td> 5</td><td>1</td><td>0</td><td>0</td><td>0</td><td>0</td></tr>\n",
              "\t<tr><td>2884</td><td>1972</td><td>31.5</td><td>Homme</td><td>17</td><td>Secondaire                      </td><td> 2</td><td>0</td><td>1</td><td>0</td><td>0</td><td>0</td></tr>\n",
              "\t<tr><td>2885</td><td>1996</td><td>78.5</td><td>Homme</td><td> 7</td><td>Universitaire 1er cycle         </td><td>18</td><td>0</td><td>0</td><td>0</td><td>1</td><td>0</td></tr>\n",
              "\t<tr><td>2886</td><td>1998</td><td>76.5</td><td>Femme</td><td> 0</td><td>Universitaire 1er cycle         </td><td>15</td><td>0</td><td>0</td><td>0</td><td>1</td><td>0</td></tr>\n",
              "\t<tr><td>2887</td><td>2053</td><td>39.4</td><td>Homme</td><td>16</td><td>Secondaire                      </td><td>12</td><td>0</td><td>1</td><td>0</td><td>0</td><td>0</td></tr>\n",
              "\t<tr><td>2888</td><td>2087</td><td>46.8</td><td>Femme</td><td>30</td><td>Collégial                       </td><td> 5</td><td>0</td><td>0</td><td>1</td><td>0</td><td>0</td></tr>\n",
              "\t<tr><td>2889</td><td>2160</td><td>29.2</td><td>Homme</td><td> 9</td><td>Secondaire non terminé          </td><td> 5</td><td>1</td><td>0</td><td>0</td><td>0</td><td>0</td></tr>\n",
              "\t<tr><td>2890</td><td> 690</td><td>73.6</td><td>Femme</td><td>23</td><td>Universitaire 1er cycle         </td><td>30</td><td>0</td><td>0</td><td>0</td><td>1</td><td>0</td></tr>\n",
              "\t<tr><td>2891</td><td>1981</td><td>37.2</td><td>Homme</td><td>10</td><td>Secondaire                      </td><td> 6</td><td>0</td><td>1</td><td>0</td><td>0</td><td>0</td></tr>\n",
              "\t<tr><td>2892</td><td> 181</td><td>76.4</td><td>Femme</td><td> 6</td><td>Universitaire 1er cycle         </td><td>14</td><td>0</td><td>0</td><td>0</td><td>1</td><td>0</td></tr>\n",
              "\t<tr><td>2893</td><td> 375</td><td>63.2</td><td>Femme</td><td>18</td><td>Universitaire 1er cycle         </td><td>11</td><td>0</td><td>0</td><td>0</td><td>1</td><td>0</td></tr>\n",
              "\t<tr><td>2894</td><td> 509</td><td>66.1</td><td>Homme</td><td>13</td><td>Universitaire 1er cycle         </td><td>14</td><td>0</td><td>0</td><td>0</td><td>1</td><td>0</td></tr>\n",
              "\t<tr><td>2895</td><td>1011</td><td>51.9</td><td>Homme</td><td> 1</td><td>Collégial                       </td><td>11</td><td>0</td><td>0</td><td>1</td><td>0</td><td>0</td></tr>\n",
              "\t<tr><td>2896</td><td>1590</td><td>63.5</td><td>Femme</td><td>10</td><td>Universitaire 1er cycle         </td><td>17</td><td>0</td><td>0</td><td>0</td><td>1</td><td>0</td></tr>\n",
              "\t<tr><td>2897</td><td>1764</td><td>54.9</td><td>Homme</td><td> 9</td><td>Collégial                       </td><td>10</td><td>0</td><td>0</td><td>1</td><td>0</td><td>0</td></tr>\n",
              "\t<tr><td>2898</td><td>2291</td><td>52.4</td><td>Femme</td><td>19</td><td>Collégial                       </td><td> 6</td><td>0</td><td>0</td><td>1</td><td>0</td><td>0</td></tr>\n",
              "\t<tr><td>2899</td><td>2285</td><td>30.1</td><td>Homme</td><td>17</td><td>Secondaire non terminé          </td><td> 5</td><td>1</td><td>0</td><td>0</td><td>0</td><td>0</td></tr>\n",
              "\t<tr><td>2900</td><td>2364</td><td>26.7</td><td>Femme</td><td>12</td><td>Secondaire non terminé          </td><td> 5</td><td>1</td><td>0</td><td>0</td><td>0</td><td>0</td></tr>\n",
              "\t<tr><td>2901</td><td>1973</td><td>38.9</td><td>Homme</td><td>11</td><td>Secondaire                      </td><td> 6</td><td>0</td><td>1</td><td>0</td><td>0</td><td>0</td></tr>\n",
              "\t<tr><td>2902</td><td> 285</td><td>28.6</td><td>Homme</td><td> 7</td><td>Secondaire non terminé          </td><td> 4</td><td>1</td><td>0</td><td>0</td><td>0</td><td>0</td></tr>\n",
              "\t<tr><td>2903</td><td> 473</td><td>69.2</td><td>Homme</td><td>16</td><td>Universitaire 1er cycle         </td><td> 9</td><td>0</td><td>0</td><td>0</td><td>1</td><td>0</td></tr>\n",
              "\t<tr><td>2904</td><td>1915</td><td>63.5</td><td>Femme</td><td> 8</td><td>Universitaire 1er cycle         </td><td>15</td><td>0</td><td>0</td><td>0</td><td>1</td><td>0</td></tr>\n",
              "</tbody>\n",
              "</table>\n"
            ]
          },
          "metadata": {
            "tags": []
          }
        }
      ]
    },
    {
      "cell_type": "code",
      "metadata": {
        "id": "GMe_VZ2snued",
        "colab": {
          "base_uri": "https://localhost:8080/",
          "height": 625
        },
        "outputId": "88e0b4da-ecd7-4de9-a89b-7113bbdab1f3"
      },
      "source": [
        "#Fréquences et distribution des variables factices\n",
        "\n",
        "table(bdB$scolarite, bdB$SecNC)\n",
        "table(bdB$scolarite, bdB$Secondaire)\n",
        "table(bdB$scolarite, bdB$Collegial)\n",
        "table(bdB$scolarite, bdB$Uni1)\n",
        "table(bdB$scolarite, bdB$UniSup)\n"
      ],
      "execution_count": null,
      "outputs": [
        {
          "output_type": "display_data",
          "data": {
            "text/plain": [
              "                                  \n",
              "                                     0   1\n",
              "  Secondaire non terminé             0 542\n",
              "  Secondaire                       930   0\n",
              "  Collégial                        677   0\n",
              "  Universitaire 1er cycle          507   0\n",
              "  Universitaire études supérieures 248   0"
            ]
          },
          "metadata": {
            "tags": []
          }
        },
        {
          "output_type": "display_data",
          "data": {
            "text/plain": [
              "                                  \n",
              "                                     0   1\n",
              "  Secondaire non terminé           542   0\n",
              "  Secondaire                         0 930\n",
              "  Collégial                        677   0\n",
              "  Universitaire 1er cycle          507   0\n",
              "  Universitaire études supérieures 248   0"
            ]
          },
          "metadata": {
            "tags": []
          }
        },
        {
          "output_type": "display_data",
          "data": {
            "text/plain": [
              "                                  \n",
              "                                     0   1\n",
              "  Secondaire non terminé           542   0\n",
              "  Secondaire                       930   0\n",
              "  Collégial                          0 677\n",
              "  Universitaire 1er cycle          507   0\n",
              "  Universitaire études supérieures 248   0"
            ]
          },
          "metadata": {
            "tags": []
          }
        },
        {
          "output_type": "display_data",
          "data": {
            "text/plain": [
              "                                  \n",
              "                                     0   1\n",
              "  Secondaire non terminé           542   0\n",
              "  Secondaire                       930   0\n",
              "  Collégial                        677   0\n",
              "  Universitaire 1er cycle            0 507\n",
              "  Universitaire études supérieures 248   0"
            ]
          },
          "metadata": {
            "tags": []
          }
        },
        {
          "output_type": "display_data",
          "data": {
            "text/plain": [
              "                                  \n",
              "                                     0   1\n",
              "  Secondaire non terminé           542   0\n",
              "  Secondaire                       930   0\n",
              "  Collégial                        677   0\n",
              "  Universitaire 1er cycle          507   0\n",
              "  Universitaire études supérieures   0 248"
            ]
          },
          "metadata": {
            "tags": []
          }
        }
      ]
    },
    {
      "cell_type": "code",
      "metadata": {
        "id": "UBEYzLHlfm8i",
        "colab": {
          "base_uri": "https://localhost:8080/",
          "height": 503
        },
        "outputId": "5a40579b-2393-4a4b-997b-14d0b2304085"
      },
      "source": [
        "reglineaireB <- glm(ses ~ Secondaire+Collegial+Uni1+UniSup, data = bdB, family=\"gaussian\")\n",
        "summary(rstandard(reglineaireB))\n",
        "summary(reglineaireB)"
      ],
      "execution_count": null,
      "outputs": [
        {
          "output_type": "display_data",
          "data": {
            "text/plain": [
              "     Min.   1st Qu.    Median      Mean   3rd Qu.      Max. \n",
              "-2.282744 -0.854778 -0.001727  0.000000  0.560414  2.873737 "
            ]
          },
          "metadata": {
            "tags": []
          }
        },
        {
          "output_type": "display_data",
          "data": {
            "text/plain": [
              "\n",
              "Call:\n",
              "glm(formula = ses ~ Secondaire + Collegial + Uni1 + UniSup, family = \"gaussian\", \n",
              "    data = bdB)\n",
              "\n",
              "Deviance Residuals: \n",
              "     Min        1Q    Median        3Q       Max  \n",
              "-10.2310   -3.8310   -0.0077    2.5113   12.8633  \n",
              "\n",
              "Coefficients:\n",
              "            Estimate Std. Error t value Pr(>|t|)    \n",
              "(Intercept)  26.7887     0.1927   139.0   <2e-16 ***\n",
              "Secondaire    8.9190     0.2424    36.8   <2e-16 ***\n",
              "Collegial    25.5423     0.2585    98.8   <2e-16 ***\n",
              "Uni1         42.0440     0.2771   151.7   <2e-16 ***\n",
              "UniSup       57.5479     0.3439   167.4   <2e-16 ***\n",
              "---\n",
              "Signif. codes:  0 ‘***’ 0.001 ‘**’ 0.01 ‘*’ 0.05 ‘.’ 0.1 ‘ ’ 1\n",
              "\n",
              "(Dispersion parameter for gaussian family taken to be 20.11712)\n",
              "\n",
              "    Null deviance: 1002823  on 2903  degrees of freedom\n",
              "Residual deviance:   58320  on 2899  degrees of freedom\n",
              "AIC: 16965\n",
              "\n",
              "Number of Fisher Scoring iterations: 2\n"
            ]
          },
          "metadata": {
            "tags": []
          }
        }
      ]
    }
  ]
}