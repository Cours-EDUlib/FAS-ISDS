{
  "nbformat": 4,
  "nbformat_minor": 0,
  "metadata": {
    "colab": {
      "name": "6-1_solution_exercice.ipynb",
      "provenance": [],
      "collapsed_sections": [],
      "authorship_tag": "ABX9TyPbn5utj4BtqttWrvCjT5D5",
      "include_colab_link": true
    },
    "kernelspec": {
      "name": "ir",
      "display_name": "R"
    }
  },
  "cells": [
    {
      "cell_type": "markdown",
      "metadata": {
        "id": "view-in-github",
        "colab_type": "text"
      },
      "source": [
        "<a href=\"https://colab.research.google.com/github/Cours-EDUlib/FAS-ISDS/blob/main/module-6/Exercices/6_1_solution_exercice.ipynb\" target=\"_parent\"><img src=\"https://colab.research.google.com/assets/colab-badge.svg\" alt=\"Open In Colab\"/></a>"
      ]
    },
    {
      "cell_type": "markdown",
      "metadata": {
        "id": "aK-9GXtb3QW9"
      },
      "source": [
        "#Les statistiques et la science des données appliquées\n",
        "##Exercice 1\n",
        "###Solutionnaire"
      ]
    },
    {
      "cell_type": "markdown",
      "metadata": {
        "id": "wMt7KUc23QqZ"
      },
      "source": [
        "Effectuez une régression simple en testant l'hypothèse que la taille du réseau professionnel est associée au statut socioéconomique.\n",
        "\n",
        "*Ne vous préoccupez pas des données extrêmes pour l'instant."
      ]
    },
    {
      "cell_type": "code",
      "metadata": {
        "id": "q-aWD5sK3cke"
      },
      "source": [
        "#Téléchargement des packages nécessaires\n",
        "library (tidyverse)\n",
        "install.packages(\"rsq\")\n",
        "require(rsq)\n",
        "library(ggplot2)"
      ],
      "execution_count": null,
      "outputs": []
    },
    {
      "cell_type": "code",
      "metadata": {
        "id": "yh5Lr_QI3ff2"
      },
      "source": [
        "path_to_csv = 'https://github.com/Cours-EDUlib/FAS-ISDS/blob/main/module-6/Exercices/6-1-2_donnees.csv?raw=true' #Téléchargement de la base de données depuis github\n",
        "\n",
        "bd <- read_csv(path_to_csv) #Enregistrement de la base de données dans l'ojet \"bd\"\n",
        "bd #Lecture des données"
      ],
      "execution_count": null,
      "outputs": []
    },
    {
      "cell_type": "code",
      "metadata": {
        "id": "jzKC0bfL3lKK"
      },
      "source": [
        "#Statistiques descriptives\n",
        "\n",
        "summary(bd$ses)\n",
        "summary(bd$experience)\n",
        "\n",
        "sd(bd$ses)\n",
        "sd(bd$experience)"
      ],
      "execution_count": null,
      "outputs": []
    },
    {
      "cell_type": "code",
      "metadata": {
        "id": "mNvxSLRo35Br"
      },
      "source": [
        "#Histogramme pour vérification du postulat de normalité\n",
        "\n",
        "ggplot(bd, aes(x=experience)) +\n",
        "  geom_histogram(binwidth=2, fill=\"#69b3a2\", color=\"#e9ecef\", alpha=0.9) +\n",
        "    ggtitle(\"Distribution: expérience\") +\n",
        "    theme(\n",
        "      plot.title = element_text(size=20)\n",
        "    )\n",
        "\n",
        "ggplot(bd, aes(x=ses)) +\n",
        "  geom_histogram(binwidth=5, fill=\"#69b3a2\", color=\"#e9ecef\", alpha=0.9) +\n",
        "    ggtitle(\"Distribution: statut socioéconomique\") +\n",
        "    theme(\n",
        "      plot.title = element_text(size=20)\n",
        "    )"
      ],
      "execution_count": null,
      "outputs": []
    },
    {
      "cell_type": "code",
      "metadata": {
        "id": "n8PHSrEN38h9"
      },
      "source": [
        "#Nuage de points\n",
        "ggplot(bd, aes(x=experience, y=ses)) + \n",
        "    geom_point()"
      ],
      "execution_count": null,
      "outputs": []
    },
    {
      "cell_type": "code",
      "metadata": {
        "id": "1rmnJUSR3-Ob"
      },
      "source": [
        "#Faire la régression linéaire\n",
        "\n",
        "reglineaire <- glm(experience ~ ses, data = bd, family=\"gaussian\")\n",
        "summary(rstandard(reglineaire))\n",
        "summary(reglineaire)\n"
      ],
      "execution_count": null,
      "outputs": []
    },
    {
      "cell_type": "code",
      "metadata": {
        "id": "36Ztj3fScqRs"
      },
      "source": [
        "#Calcul du r-carré\n",
        "\n",
        "rsq(reglineaire)"
      ],
      "execution_count": null,
      "outputs": []
    }
  ]
}