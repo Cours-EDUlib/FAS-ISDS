{
  "nbformat": 4,
  "nbformat_minor": 0,
  "metadata": {
    "colab": {
      "name": "Ex_application_1",
      "provenance": [],
      "collapsed_sections": [],
      "authorship_tag": "ABX9TyPPl4DhFc9hluCvERDf/fPV",
      "include_colab_link": true
    },
    "kernelspec": {
      "name": "ir",
      "display_name": "R"
    }
  },
  "cells": [
    {
      "cell_type": "markdown",
      "metadata": {
        "id": "view-in-github",
        "colab_type": "text"
      },
      "source": [
        "<a href=\"https://colab.research.google.com/github/Cours-EDUlib/FAS-ISDS/blob/main/Exemples-applications-mod7/Ex_application_1.ipynb\" target=\"_parent\"><img src=\"https://colab.research.google.com/assets/colab-badge.svg\" alt=\"Open In Colab\"/></a>"
      ]
    },
    {
      "cell_type": "code",
      "metadata": {
        "id": "sEMRHTFeeZAx"
      },
      "source": [
        "#Téléchargement des packages nécessaires\n",
        "library (tidyverse)\n",
        "install.packages(\"rsq\")\n",
        "require(rsq)"
      ],
      "execution_count": null,
      "outputs": []
    },
    {
      "cell_type": "code",
      "metadata": {
        "id": "17KBWubhusku",
        "outputId": "8e6530ed-cdd4-4deb-8d83-b90702913c36",
        "colab": {
          "base_uri": "https://localhost:8080/",
          "height": 1000
        }
      },
      "source": [
        "path_to_csv = 'https://github.com/Cours-EDUlib/FAS-ISDS/blob/main/Exemples-applications-mod7/donnees_app1-2-4.csv?raw=true' #Téléchargement de la base de données depuis github\n",
        "\n",
        "bd <- read_csv(path_to_csv) #Enregistrement de la base de données dans l'ojet \"bd\"\n",
        "bd #Lecture des données"
      ],
      "execution_count": null,
      "outputs": [
        {
          "output_type": "stream",
          "text": [
            "── \u001b[1mAttaching packages\u001b[22m ─────────────────────────────────────── tidyverse 1.3.0 ──\n",
            "\n",
            "\u001b[32m✔\u001b[39m \u001b[34mggplot2\u001b[39m 3.3.2     \u001b[32m✔\u001b[39m \u001b[34mpurrr  \u001b[39m 0.3.4\n",
            "\u001b[32m✔\u001b[39m \u001b[34mtibble \u001b[39m 3.0.4     \u001b[32m✔\u001b[39m \u001b[34mdplyr  \u001b[39m 1.0.2\n",
            "\u001b[32m✔\u001b[39m \u001b[34mtidyr  \u001b[39m 1.1.2     \u001b[32m✔\u001b[39m \u001b[34mstringr\u001b[39m 1.4.0\n",
            "\u001b[32m✔\u001b[39m \u001b[34mreadr  \u001b[39m 1.4.0     \u001b[32m✔\u001b[39m \u001b[34mforcats\u001b[39m 0.5.0\n",
            "\n",
            "── \u001b[1mConflicts\u001b[22m ────────────────────────────────────────── tidyverse_conflicts() ──\n",
            "\u001b[31m✖\u001b[39m \u001b[34mdplyr\u001b[39m::\u001b[32mfilter()\u001b[39m masks \u001b[34mstats\u001b[39m::filter()\n",
            "\u001b[31m✖\u001b[39m \u001b[34mdplyr\u001b[39m::\u001b[32mlag()\u001b[39m    masks \u001b[34mstats\u001b[39m::lag()\n",
            "\n",
            "\n",
            "\u001b[36m──\u001b[39m \u001b[1m\u001b[1mColumn specification\u001b[1m\u001b[22m \u001b[36m────────────────────────────────────────────────────────\u001b[39m\n",
            "cols(\n",
            "  st = \u001b[32mcol_double()\u001b[39m,\n",
            "  state = \u001b[31mcol_character()\u001b[39m,\n",
            "  region4 = \u001b[32mcol_double()\u001b[39m,\n",
            "  scs134 = \u001b[32mcol_double()\u001b[39m,\n",
            "  scs155 = \u001b[32mcol_double()\u001b[39m,\n",
            "  crc402 = \u001b[32mcol_double()\u001b[39m,\n",
            "  jbs170 = \u001b[32mcol_double()\u001b[39m,\n",
            "  pvs501 = \u001b[32mcol_double()\u001b[39m,\n",
            "  dms451 = \u001b[32mcol_double()\u001b[39m,\n",
            "  scs142 = \u001b[32mcol_double()\u001b[39m,\n",
            "  hts384 = \u001b[32mcol_double()\u001b[39m,\n",
            "  dms439 = \u001b[32mcol_double()\u001b[39m\n",
            ")\n",
            "\n",
            "\n"
          ],
          "name": "stderr"
        },
        {
          "output_type": "display_data",
          "data": {
            "text/plain": [
              "   st state                region4 scs134 scs155 crc402  jbs170 pvs501 dms451\n",
              "1   1 ALABAMA              3       12.6   1.9     5662.3  5.0   20.1   25.56 \n",
              "2   2 ALASKA               4        9.6   3.1     6921.2 15.2    7.1    4.30 \n",
              "3   3 ARIZONA              4       14.3   2.0     8703.6  5.2   16.1    3.46 \n",
              "4   4 ARKANSAS             3       10.9   2.1     6178.1  5.2   14.9   15.86 \n",
              "5   5 CALIFORNIA           4       14.3   1.9     5877.7  6.9   16.7    7.64 \n",
              "6   6 COLORADO             4        9.6   2.6     5677.9  3.7    8.8    4.38 \n",
              "7   7 CONNECTICUT          1        9.2   4.2     4662.8  5.1    9.7    9.16 \n",
              "8   8 DELAWARE             3       11.2   1.8     5379.1  5.4   10.3   18.27 \n",
              "9   9 DISTRICT OF COLUMBIA 3       19.1   3.1    12173.5  7.3   22.2   63.54 \n",
              "10 10 FLORIDA              3       14.2   1.6     7920.5  4.9   16.2   14.67 \n",
              "11 11 GEORGIA              3       14.1   1.9     6819.3  4.5   12.1   28.04 \n",
              "12 12 HAWAII               4        7.0   2.3     7576.0  6.0   10.3    2.44 \n",
              "13 13 IDAHO                4        9.6   3.3     5496.3  5.0   14.5    0.52 \n",
              "14 14 ILLINOIS             2       10.4   3.4         NA  5.0   12.4   15.33 \n",
              "15 15 INDIANA              2       11.4   3.7     5241.4  3.6    9.6    8.12 \n",
              "16 16 IOWA                 2        6.5   3.9     5354.4  3.4   12.2    1.97 \n",
              "17 17 KANSAS               2        8.4   4.3         NA  4.0   10.8    6.16 \n",
              "18 18 KENTUCKY             3       13.0   1.9     4485.7  5.0   14.7    7.10 \n",
              "19 19 LOUISIANA            3       11.9   2.2     7471.6  6.1   19.7   31.83 \n",
              "20 20 MAINE                1        8.4   4.9     3888.1  4.2   11.2    0.40 \n",
              "21 21 MARYLAND             3       11.0   2.7     6500.7  4.4   10.1   26.72 \n",
              "22 22 MASSACHUSETTS        1        9.5   4.7     4348.8  3.9   11.0    6.14 \n",
              "23 23 MICHIGAN             2        9.9   2.5     5516.5  4.7   12.2   14.44 \n",
              "24 24 MINNESOTA            2        6.1   2.8     5031.7  3.7    9.2    2.75 \n",
              "25 25 MISSISSIPPI          3       11.7   2.0     6629.3  5.5   23.5   35.89 \n",
              "26 26 MISSOURI             2       11.2   3.9     6249.2  4.5    9.4   11.06 \n",
              "27 27 MONTANA              4        7.1   3.0         NA  4.6   15.3    0.34 \n",
              "28 28 NEBRASKA             2        6.6   3.8     5601.4  2.7    9.6    3.91 \n",
              "29 29 NEVADA               4       14.9   2.0     6993.9  5.0   11.1    7.12 \n",
              "30 30 NEW HAMPSHIRE        1        9.9   4.6     2955.1  3.9    5.3    0.70 \n",
              "31 31 NEW JERSEY           1        9.3   3.8     4703.7  6.2    7.8   14.49 \n",
              "32 32 NEW MEXICO           4       10.8   3.1     7144.3  7.1   25.3    2.43 \n",
              "33 33 NEW YORK             1       10.1   3.8     4674.6  6.0   16.5   17.60 \n",
              "34 34 NORTH CAROLINA       3       13.2   2.0     6513.4  4.0   12.6   22.21 \n",
              "35 35 NORTH DAKOTA         2        4.3   3.5     3879.0  2.7   12.0    0.47 \n",
              "36 36 OHIO                 2        8.8   3.6     4795.1  5.0   11.5   11.21 \n",
              "37 37 OKLAHOMA             3        9.9   2.2     6514.9  4.3   17.1    7.84 \n",
              "38 38 OREGON               4       11.0   2.4     7230.2  5.5   11.2    1.78 \n",
              "39 39 PENNSYLVANIA         1        9.4   2.1     3533.4  4.7   12.2    9.68 \n",
              "40 40 RHODE ISLAND         1       12.9   4.0     4241.3  4.9   10.6    4.85 \n",
              "41 41 SOUTH CAROLINA       3       11.9   1.7     6605.1  6.1   19.9   30.03 \n",
              "42 42 SOUTH DAKOTA         2        7.1   4.2     4556.7  2.9   14.5    0.41 \n",
              "43 43 TENNESSEE            3       13.6   1.6     6293.5  5.1   15.5   16.23 \n",
              "44 44 TEXAS                3       12.5   2.0     6034.9  5.5   17.4   12.24 \n",
              "45 45 UTAH                 4        7.9   2.5     6505.7  3.0    8.4    0.92 \n",
              "46 46 VERMONT              1        8.7   4.8     4666.9  4.5   10.3    0.34 \n",
              "47 47 VIRGINIA             3       10.4   2.5     4458.8  4.0   10.2   19.61 \n",
              "48 48 WASHINGTON           4       10.2   2.7     6573.6  5.8   12.5    3.31 \n",
              "49 49 WEST VIRGINIA        3       10.6   2.4     3332.5  7.2   16.7    3.12 \n",
              "50 50 WISCONSIN            2        6.9   3.2     4399.8  3.1    8.5    5.52 \n",
              "51 51 WYOMING              4        6.3   4.9     5062.6  4.6   12.2    0.63 \n",
              "   scs142 hts384 dms439\n",
              "1  4295     9.4   60.4 \n",
              "2  8353     3.3   67.5 \n",
              "3  4012    10.6   87.5 \n",
              "4  4086     6.2   53.5 \n",
              "5  4878    21.5   92.6 \n",
              "6  5086    10.5   82.4 \n",
              "7  8270    17.2   79.1 \n",
              "8  6944    19.4   73.0 \n",
              "9  6767   116.8  100.0 \n",
              "10 5355    29.8   84.8 \n",
              "11 5069    20.4   63.2 \n",
              "12 5831    11.0   89.0 \n",
              "13 4237     2.7   57.4 \n",
              "14 4991    12.0   84.6 \n",
              "15 5719     5.5   64.9 \n",
              "16 5407     2.9   60.6 \n",
              "17 5296     4.2   69.1 \n",
              "18 5414     4.9   51.8 \n",
              "19 4537    14.9   68.1 \n",
              "20 6116     5.9   44.6 \n",
              "21 6407    24.2   81.3 \n",
              "22 6832    15.6   84.3 \n",
              "23 6565     8.0   70.5 \n",
              "24 5689     5.6   69.9 \n",
              "25 3912    10.1   47.1 \n",
              "26 4629     8.6   68.7 \n",
              "27 5300     3.0   52.5 \n",
              "28 5190     5.1   66.1 \n",
              "29 4709    15.3   88.3 \n",
              "30 5999     3.8   51.0 \n",
              "31 9318    29.5   89.4 \n",
              "32 5089     8.3   73.0 \n",
              "33 8700    44.5   84.3 \n",
              "34 4809    13.8   50.4 \n",
              "35 4534      NA   53.3 \n",
              "36 5295     7.1   74.1 \n",
              "37 4175     7.9   67.7 \n",
              "38 5844     9.8   70.5 \n",
              "39 6744    10.7   68.9 \n",
              "40 7091    11.5   86.0 \n",
              "41 4697    14.3   54.6 \n",
              "42 4773      NA   50.0 \n",
              "43 4386     8.8   60.9 \n",
              "44 5168    14.9   80.3 \n",
              "45 3670     4.2   87.0 \n",
              "46 6505     6.2   32.2 \n",
              "47 5490    11.1   69.4 \n",
              "48 5708    11.3   76.4 \n",
              "49 6391     3.3   36.1 \n",
              "50 6457     4.0   65.7 \n",
              "51 5720      NA   65.0 "
            ],
            "text/latex": "A spec\\_tbl\\_df: 51 × 12\n\\begin{tabular}{llllllllllll}\n st & state & region4 & scs134 & scs155 & crc402 & jbs170 & pvs501 & dms451 & scs142 & hts384 & dms439\\\\\n <dbl> & <chr> & <dbl> & <dbl> & <dbl> & <dbl> & <dbl> & <dbl> & <dbl> & <dbl> & <dbl> & <dbl>\\\\\n\\hline\n\t  1 & ALABAMA              & 3 & 12.6 & 1.9 &  5662.3 &  5.0 & 20.1 & 25.56 & 4295 &   9.4 &  60.4\\\\\n\t  2 & ALASKA               & 4 &  9.6 & 3.1 &  6921.2 & 15.2 &  7.1 &  4.30 & 8353 &   3.3 &  67.5\\\\\n\t  3 & ARIZONA              & 4 & 14.3 & 2.0 &  8703.6 &  5.2 & 16.1 &  3.46 & 4012 &  10.6 &  87.5\\\\\n\t  4 & ARKANSAS             & 3 & 10.9 & 2.1 &  6178.1 &  5.2 & 14.9 & 15.86 & 4086 &   6.2 &  53.5\\\\\n\t  5 & CALIFORNIA           & 4 & 14.3 & 1.9 &  5877.7 &  6.9 & 16.7 &  7.64 & 4878 &  21.5 &  92.6\\\\\n\t  6 & COLORADO             & 4 &  9.6 & 2.6 &  5677.9 &  3.7 &  8.8 &  4.38 & 5086 &  10.5 &  82.4\\\\\n\t  7 & CONNECTICUT          & 1 &  9.2 & 4.2 &  4662.8 &  5.1 &  9.7 &  9.16 & 8270 &  17.2 &  79.1\\\\\n\t  8 & DELAWARE             & 3 & 11.2 & 1.8 &  5379.1 &  5.4 & 10.3 & 18.27 & 6944 &  19.4 &  73.0\\\\\n\t  9 & DISTRICT OF COLUMBIA & 3 & 19.1 & 3.1 & 12173.5 &  7.3 & 22.2 & 63.54 & 6767 & 116.8 & 100.0\\\\\n\t 10 & FLORIDA              & 3 & 14.2 & 1.6 &  7920.5 &  4.9 & 16.2 & 14.67 & 5355 &  29.8 &  84.8\\\\\n\t 11 & GEORGIA              & 3 & 14.1 & 1.9 &  6819.3 &  4.5 & 12.1 & 28.04 & 5069 &  20.4 &  63.2\\\\\n\t 12 & HAWAII               & 4 &  7.0 & 2.3 &  7576.0 &  6.0 & 10.3 &  2.44 & 5831 &  11.0 &  89.0\\\\\n\t 13 & IDAHO                & 4 &  9.6 & 3.3 &  5496.3 &  5.0 & 14.5 &  0.52 & 4237 &   2.7 &  57.4\\\\\n\t 14 & ILLINOIS             & 2 & 10.4 & 3.4 &      NA &  5.0 & 12.4 & 15.33 & 4991 &  12.0 &  84.6\\\\\n\t 15 & INDIANA              & 2 & 11.4 & 3.7 &  5241.4 &  3.6 &  9.6 &  8.12 & 5719 &   5.5 &  64.9\\\\\n\t 16 & IOWA                 & 2 &  6.5 & 3.9 &  5354.4 &  3.4 & 12.2 &  1.97 & 5407 &   2.9 &  60.6\\\\\n\t 17 & KANSAS               & 2 &  8.4 & 4.3 &      NA &  4.0 & 10.8 &  6.16 & 5296 &   4.2 &  69.1\\\\\n\t 18 & KENTUCKY             & 3 & 13.0 & 1.9 &  4485.7 &  5.0 & 14.7 &  7.10 & 5414 &   4.9 &  51.8\\\\\n\t 19 & LOUISIANA            & 3 & 11.9 & 2.2 &  7471.6 &  6.1 & 19.7 & 31.83 & 4537 &  14.9 &  68.1\\\\\n\t 20 & MAINE                & 1 &  8.4 & 4.9 &  3888.1 &  4.2 & 11.2 &  0.40 & 6116 &   5.9 &  44.6\\\\\n\t 21 & MARYLAND             & 3 & 11.0 & 2.7 &  6500.7 &  4.4 & 10.1 & 26.72 & 6407 &  24.2 &  81.3\\\\\n\t 22 & MASSACHUSETTS        & 1 &  9.5 & 4.7 &  4348.8 &  3.9 & 11.0 &  6.14 & 6832 &  15.6 &  84.3\\\\\n\t 23 & MICHIGAN             & 2 &  9.9 & 2.5 &  5516.5 &  4.7 & 12.2 & 14.44 & 6565 &   8.0 &  70.5\\\\\n\t 24 & MINNESOTA            & 2 &  6.1 & 2.8 &  5031.7 &  3.7 &  9.2 &  2.75 & 5689 &   5.6 &  69.9\\\\\n\t 25 & MISSISSIPPI          & 3 & 11.7 & 2.0 &  6629.3 &  5.5 & 23.5 & 35.89 & 3912 &  10.1 &  47.1\\\\\n\t 26 & MISSOURI             & 2 & 11.2 & 3.9 &  6249.2 &  4.5 &  9.4 & 11.06 & 4629 &   8.6 &  68.7\\\\\n\t 27 & MONTANA              & 4 &  7.1 & 3.0 &      NA &  4.6 & 15.3 &  0.34 & 5300 &   3.0 &  52.5\\\\\n\t 28 & NEBRASKA             & 2 &  6.6 & 3.8 &  5601.4 &  2.7 &  9.6 &  3.91 & 5190 &   5.1 &  66.1\\\\\n\t 29 & NEVADA               & 4 & 14.9 & 2.0 &  6993.9 &  5.0 & 11.1 &  7.12 & 4709 &  15.3 &  88.3\\\\\n\t 30 & NEW HAMPSHIRE        & 1 &  9.9 & 4.6 &  2955.1 &  3.9 &  5.3 &  0.70 & 5999 &   3.8 &  51.0\\\\\n\t 31 & NEW JERSEY           & 1 &  9.3 & 3.8 &  4703.7 &  6.2 &  7.8 & 14.49 & 9318 &  29.5 &  89.4\\\\\n\t 32 & NEW MEXICO           & 4 & 10.8 & 3.1 &  7144.3 &  7.1 & 25.3 &  2.43 & 5089 &   8.3 &  73.0\\\\\n\t 33 & NEW YORK             & 1 & 10.1 & 3.8 &  4674.6 &  6.0 & 16.5 & 17.60 & 8700 &  44.5 &  84.3\\\\\n\t 34 & NORTH CAROLINA       & 3 & 13.2 & 2.0 &  6513.4 &  4.0 & 12.6 & 22.21 & 4809 &  13.8 &  50.4\\\\\n\t 35 & NORTH DAKOTA         & 2 &  4.3 & 3.5 &  3879.0 &  2.7 & 12.0 &  0.47 & 4534 &    NA &  53.3\\\\\n\t 36 & OHIO                 & 2 &  8.8 & 3.6 &  4795.1 &  5.0 & 11.5 & 11.21 & 5295 &   7.1 &  74.1\\\\\n\t 37 & OKLAHOMA             & 3 &  9.9 & 2.2 &  6514.9 &  4.3 & 17.1 &  7.84 & 4175 &   7.9 &  67.7\\\\\n\t 38 & OREGON               & 4 & 11.0 & 2.4 &  7230.2 &  5.5 & 11.2 &  1.78 & 5844 &   9.8 &  70.5\\\\\n\t 39 & PENNSYLVANIA         & 1 &  9.4 & 2.1 &  3533.4 &  4.7 & 12.2 &  9.68 & 6744 &  10.7 &  68.9\\\\\n\t 40 & RHODE ISLAND         & 1 & 12.9 & 4.0 &  4241.3 &  4.9 & 10.6 &  4.85 & 7091 &  11.5 &  86.0\\\\\n\t 41 & SOUTH CAROLINA       & 3 & 11.9 & 1.7 &  6605.1 &  6.1 & 19.9 & 30.03 & 4697 &  14.3 &  54.6\\\\\n\t 42 & SOUTH DAKOTA         & 2 &  7.1 & 4.2 &  4556.7 &  2.9 & 14.5 &  0.41 & 4773 &    NA &  50.0\\\\\n\t 43 & TENNESSEE            & 3 & 13.6 & 1.6 &  6293.5 &  5.1 & 15.5 & 16.23 & 4386 &   8.8 &  60.9\\\\\n\t 44 & TEXAS                & 3 & 12.5 & 2.0 &  6034.9 &  5.5 & 17.4 & 12.24 & 5168 &  14.9 &  80.3\\\\\n\t 45 & UTAH                 & 4 &  7.9 & 2.5 &  6505.7 &  3.0 &  8.4 &  0.92 & 3670 &   4.2 &  87.0\\\\\n\t 46 & VERMONT              & 1 &  8.7 & 4.8 &  4666.9 &  4.5 & 10.3 &  0.34 & 6505 &   6.2 &  32.2\\\\\n\t 47 & VIRGINIA             & 3 & 10.4 & 2.5 &  4458.8 &  4.0 & 10.2 & 19.61 & 5490 &  11.1 &  69.4\\\\\n\t 48 & WASHINGTON           & 4 & 10.2 & 2.7 &  6573.6 &  5.8 & 12.5 &  3.31 & 5708 &  11.3 &  76.4\\\\\n\t 49 & WEST VIRGINIA        & 3 & 10.6 & 2.4 &  3332.5 &  7.2 & 16.7 &  3.12 & 6391 &   3.3 &  36.1\\\\\n\t 50 & WISCONSIN            & 2 &  6.9 & 3.2 &  4399.8 &  3.1 &  8.5 &  5.52 & 6457 &   4.0 &  65.7\\\\\n\t 51 & WYOMING              & 4 &  6.3 & 4.9 &  5062.6 &  4.6 & 12.2 &  0.63 & 5720 &    NA &  65.0\\\\\n\\end{tabular}\n",
            "text/markdown": "\nA spec_tbl_df: 51 × 12\n\n| st &lt;dbl&gt; | state &lt;chr&gt; | region4 &lt;dbl&gt; | scs134 &lt;dbl&gt; | scs155 &lt;dbl&gt; | crc402 &lt;dbl&gt; | jbs170 &lt;dbl&gt; | pvs501 &lt;dbl&gt; | dms451 &lt;dbl&gt; | scs142 &lt;dbl&gt; | hts384 &lt;dbl&gt; | dms439 &lt;dbl&gt; |\n|---|---|---|---|---|---|---|---|---|---|---|---|\n|  1 | ALABAMA              | 3 | 12.6 | 1.9 |  5662.3 |  5.0 | 20.1 | 25.56 | 4295 |   9.4 |  60.4 |\n|  2 | ALASKA               | 4 |  9.6 | 3.1 |  6921.2 | 15.2 |  7.1 |  4.30 | 8353 |   3.3 |  67.5 |\n|  3 | ARIZONA              | 4 | 14.3 | 2.0 |  8703.6 |  5.2 | 16.1 |  3.46 | 4012 |  10.6 |  87.5 |\n|  4 | ARKANSAS             | 3 | 10.9 | 2.1 |  6178.1 |  5.2 | 14.9 | 15.86 | 4086 |   6.2 |  53.5 |\n|  5 | CALIFORNIA           | 4 | 14.3 | 1.9 |  5877.7 |  6.9 | 16.7 |  7.64 | 4878 |  21.5 |  92.6 |\n|  6 | COLORADO             | 4 |  9.6 | 2.6 |  5677.9 |  3.7 |  8.8 |  4.38 | 5086 |  10.5 |  82.4 |\n|  7 | CONNECTICUT          | 1 |  9.2 | 4.2 |  4662.8 |  5.1 |  9.7 |  9.16 | 8270 |  17.2 |  79.1 |\n|  8 | DELAWARE             | 3 | 11.2 | 1.8 |  5379.1 |  5.4 | 10.3 | 18.27 | 6944 |  19.4 |  73.0 |\n|  9 | DISTRICT OF COLUMBIA | 3 | 19.1 | 3.1 | 12173.5 |  7.3 | 22.2 | 63.54 | 6767 | 116.8 | 100.0 |\n| 10 | FLORIDA              | 3 | 14.2 | 1.6 |  7920.5 |  4.9 | 16.2 | 14.67 | 5355 |  29.8 |  84.8 |\n| 11 | GEORGIA              | 3 | 14.1 | 1.9 |  6819.3 |  4.5 | 12.1 | 28.04 | 5069 |  20.4 |  63.2 |\n| 12 | HAWAII               | 4 |  7.0 | 2.3 |  7576.0 |  6.0 | 10.3 |  2.44 | 5831 |  11.0 |  89.0 |\n| 13 | IDAHO                | 4 |  9.6 | 3.3 |  5496.3 |  5.0 | 14.5 |  0.52 | 4237 |   2.7 |  57.4 |\n| 14 | ILLINOIS             | 2 | 10.4 | 3.4 |      NA |  5.0 | 12.4 | 15.33 | 4991 |  12.0 |  84.6 |\n| 15 | INDIANA              | 2 | 11.4 | 3.7 |  5241.4 |  3.6 |  9.6 |  8.12 | 5719 |   5.5 |  64.9 |\n| 16 | IOWA                 | 2 |  6.5 | 3.9 |  5354.4 |  3.4 | 12.2 |  1.97 | 5407 |   2.9 |  60.6 |\n| 17 | KANSAS               | 2 |  8.4 | 4.3 |      NA |  4.0 | 10.8 |  6.16 | 5296 |   4.2 |  69.1 |\n| 18 | KENTUCKY             | 3 | 13.0 | 1.9 |  4485.7 |  5.0 | 14.7 |  7.10 | 5414 |   4.9 |  51.8 |\n| 19 | LOUISIANA            | 3 | 11.9 | 2.2 |  7471.6 |  6.1 | 19.7 | 31.83 | 4537 |  14.9 |  68.1 |\n| 20 | MAINE                | 1 |  8.4 | 4.9 |  3888.1 |  4.2 | 11.2 |  0.40 | 6116 |   5.9 |  44.6 |\n| 21 | MARYLAND             | 3 | 11.0 | 2.7 |  6500.7 |  4.4 | 10.1 | 26.72 | 6407 |  24.2 |  81.3 |\n| 22 | MASSACHUSETTS        | 1 |  9.5 | 4.7 |  4348.8 |  3.9 | 11.0 |  6.14 | 6832 |  15.6 |  84.3 |\n| 23 | MICHIGAN             | 2 |  9.9 | 2.5 |  5516.5 |  4.7 | 12.2 | 14.44 | 6565 |   8.0 |  70.5 |\n| 24 | MINNESOTA            | 2 |  6.1 | 2.8 |  5031.7 |  3.7 |  9.2 |  2.75 | 5689 |   5.6 |  69.9 |\n| 25 | MISSISSIPPI          | 3 | 11.7 | 2.0 |  6629.3 |  5.5 | 23.5 | 35.89 | 3912 |  10.1 |  47.1 |\n| 26 | MISSOURI             | 2 | 11.2 | 3.9 |  6249.2 |  4.5 |  9.4 | 11.06 | 4629 |   8.6 |  68.7 |\n| 27 | MONTANA              | 4 |  7.1 | 3.0 |      NA |  4.6 | 15.3 |  0.34 | 5300 |   3.0 |  52.5 |\n| 28 | NEBRASKA             | 2 |  6.6 | 3.8 |  5601.4 |  2.7 |  9.6 |  3.91 | 5190 |   5.1 |  66.1 |\n| 29 | NEVADA               | 4 | 14.9 | 2.0 |  6993.9 |  5.0 | 11.1 |  7.12 | 4709 |  15.3 |  88.3 |\n| 30 | NEW HAMPSHIRE        | 1 |  9.9 | 4.6 |  2955.1 |  3.9 |  5.3 |  0.70 | 5999 |   3.8 |  51.0 |\n| 31 | NEW JERSEY           | 1 |  9.3 | 3.8 |  4703.7 |  6.2 |  7.8 | 14.49 | 9318 |  29.5 |  89.4 |\n| 32 | NEW MEXICO           | 4 | 10.8 | 3.1 |  7144.3 |  7.1 | 25.3 |  2.43 | 5089 |   8.3 |  73.0 |\n| 33 | NEW YORK             | 1 | 10.1 | 3.8 |  4674.6 |  6.0 | 16.5 | 17.60 | 8700 |  44.5 |  84.3 |\n| 34 | NORTH CAROLINA       | 3 | 13.2 | 2.0 |  6513.4 |  4.0 | 12.6 | 22.21 | 4809 |  13.8 |  50.4 |\n| 35 | NORTH DAKOTA         | 2 |  4.3 | 3.5 |  3879.0 |  2.7 | 12.0 |  0.47 | 4534 |    NA |  53.3 |\n| 36 | OHIO                 | 2 |  8.8 | 3.6 |  4795.1 |  5.0 | 11.5 | 11.21 | 5295 |   7.1 |  74.1 |\n| 37 | OKLAHOMA             | 3 |  9.9 | 2.2 |  6514.9 |  4.3 | 17.1 |  7.84 | 4175 |   7.9 |  67.7 |\n| 38 | OREGON               | 4 | 11.0 | 2.4 |  7230.2 |  5.5 | 11.2 |  1.78 | 5844 |   9.8 |  70.5 |\n| 39 | PENNSYLVANIA         | 1 |  9.4 | 2.1 |  3533.4 |  4.7 | 12.2 |  9.68 | 6744 |  10.7 |  68.9 |\n| 40 | RHODE ISLAND         | 1 | 12.9 | 4.0 |  4241.3 |  4.9 | 10.6 |  4.85 | 7091 |  11.5 |  86.0 |\n| 41 | SOUTH CAROLINA       | 3 | 11.9 | 1.7 |  6605.1 |  6.1 | 19.9 | 30.03 | 4697 |  14.3 |  54.6 |\n| 42 | SOUTH DAKOTA         | 2 |  7.1 | 4.2 |  4556.7 |  2.9 | 14.5 |  0.41 | 4773 |    NA |  50.0 |\n| 43 | TENNESSEE            | 3 | 13.6 | 1.6 |  6293.5 |  5.1 | 15.5 | 16.23 | 4386 |   8.8 |  60.9 |\n| 44 | TEXAS                | 3 | 12.5 | 2.0 |  6034.9 |  5.5 | 17.4 | 12.24 | 5168 |  14.9 |  80.3 |\n| 45 | UTAH                 | 4 |  7.9 | 2.5 |  6505.7 |  3.0 |  8.4 |  0.92 | 3670 |   4.2 |  87.0 |\n| 46 | VERMONT              | 1 |  8.7 | 4.8 |  4666.9 |  4.5 | 10.3 |  0.34 | 6505 |   6.2 |  32.2 |\n| 47 | VIRGINIA             | 3 | 10.4 | 2.5 |  4458.8 |  4.0 | 10.2 | 19.61 | 5490 |  11.1 |  69.4 |\n| 48 | WASHINGTON           | 4 | 10.2 | 2.7 |  6573.6 |  5.8 | 12.5 |  3.31 | 5708 |  11.3 |  76.4 |\n| 49 | WEST VIRGINIA        | 3 | 10.6 | 2.4 |  3332.5 |  7.2 | 16.7 |  3.12 | 6391 |   3.3 |  36.1 |\n| 50 | WISCONSIN            | 2 |  6.9 | 3.2 |  4399.8 |  3.1 |  8.5 |  5.52 | 6457 |   4.0 |  65.7 |\n| 51 | WYOMING              | 4 |  6.3 | 4.9 |  5062.6 |  4.6 | 12.2 |  0.63 | 5720 |    NA |  65.0 |\n\n",
            "text/html": [
              "<table>\n",
              "<caption>A spec_tbl_df: 51 × 12</caption>\n",
              "<thead>\n",
              "\t<tr><th scope=col>st</th><th scope=col>state</th><th scope=col>region4</th><th scope=col>scs134</th><th scope=col>scs155</th><th scope=col>crc402</th><th scope=col>jbs170</th><th scope=col>pvs501</th><th scope=col>dms451</th><th scope=col>scs142</th><th scope=col>hts384</th><th scope=col>dms439</th></tr>\n",
              "\t<tr><th scope=col>&lt;dbl&gt;</th><th scope=col>&lt;chr&gt;</th><th scope=col>&lt;dbl&gt;</th><th scope=col>&lt;dbl&gt;</th><th scope=col>&lt;dbl&gt;</th><th scope=col>&lt;dbl&gt;</th><th scope=col>&lt;dbl&gt;</th><th scope=col>&lt;dbl&gt;</th><th scope=col>&lt;dbl&gt;</th><th scope=col>&lt;dbl&gt;</th><th scope=col>&lt;dbl&gt;</th><th scope=col>&lt;dbl&gt;</th></tr>\n",
              "</thead>\n",
              "<tbody>\n",
              "\t<tr><td> 1</td><td>ALABAMA             </td><td>3</td><td>12.6</td><td>1.9</td><td> 5662.3</td><td> 5.0</td><td>20.1</td><td>25.56</td><td>4295</td><td>  9.4</td><td> 60.4</td></tr>\n",
              "\t<tr><td> 2</td><td>ALASKA              </td><td>4</td><td> 9.6</td><td>3.1</td><td> 6921.2</td><td>15.2</td><td> 7.1</td><td> 4.30</td><td>8353</td><td>  3.3</td><td> 67.5</td></tr>\n",
              "\t<tr><td> 3</td><td>ARIZONA             </td><td>4</td><td>14.3</td><td>2.0</td><td> 8703.6</td><td> 5.2</td><td>16.1</td><td> 3.46</td><td>4012</td><td> 10.6</td><td> 87.5</td></tr>\n",
              "\t<tr><td> 4</td><td>ARKANSAS            </td><td>3</td><td>10.9</td><td>2.1</td><td> 6178.1</td><td> 5.2</td><td>14.9</td><td>15.86</td><td>4086</td><td>  6.2</td><td> 53.5</td></tr>\n",
              "\t<tr><td> 5</td><td>CALIFORNIA          </td><td>4</td><td>14.3</td><td>1.9</td><td> 5877.7</td><td> 6.9</td><td>16.7</td><td> 7.64</td><td>4878</td><td> 21.5</td><td> 92.6</td></tr>\n",
              "\t<tr><td> 6</td><td>COLORADO            </td><td>4</td><td> 9.6</td><td>2.6</td><td> 5677.9</td><td> 3.7</td><td> 8.8</td><td> 4.38</td><td>5086</td><td> 10.5</td><td> 82.4</td></tr>\n",
              "\t<tr><td> 7</td><td>CONNECTICUT         </td><td>1</td><td> 9.2</td><td>4.2</td><td> 4662.8</td><td> 5.1</td><td> 9.7</td><td> 9.16</td><td>8270</td><td> 17.2</td><td> 79.1</td></tr>\n",
              "\t<tr><td> 8</td><td>DELAWARE            </td><td>3</td><td>11.2</td><td>1.8</td><td> 5379.1</td><td> 5.4</td><td>10.3</td><td>18.27</td><td>6944</td><td> 19.4</td><td> 73.0</td></tr>\n",
              "\t<tr><td> 9</td><td>DISTRICT OF COLUMBIA</td><td>3</td><td>19.1</td><td>3.1</td><td>12173.5</td><td> 7.3</td><td>22.2</td><td>63.54</td><td>6767</td><td>116.8</td><td>100.0</td></tr>\n",
              "\t<tr><td>10</td><td>FLORIDA             </td><td>3</td><td>14.2</td><td>1.6</td><td> 7920.5</td><td> 4.9</td><td>16.2</td><td>14.67</td><td>5355</td><td> 29.8</td><td> 84.8</td></tr>\n",
              "\t<tr><td>11</td><td>GEORGIA             </td><td>3</td><td>14.1</td><td>1.9</td><td> 6819.3</td><td> 4.5</td><td>12.1</td><td>28.04</td><td>5069</td><td> 20.4</td><td> 63.2</td></tr>\n",
              "\t<tr><td>12</td><td>HAWAII              </td><td>4</td><td> 7.0</td><td>2.3</td><td> 7576.0</td><td> 6.0</td><td>10.3</td><td> 2.44</td><td>5831</td><td> 11.0</td><td> 89.0</td></tr>\n",
              "\t<tr><td>13</td><td>IDAHO               </td><td>4</td><td> 9.6</td><td>3.3</td><td> 5496.3</td><td> 5.0</td><td>14.5</td><td> 0.52</td><td>4237</td><td>  2.7</td><td> 57.4</td></tr>\n",
              "\t<tr><td>14</td><td>ILLINOIS            </td><td>2</td><td>10.4</td><td>3.4</td><td>     NA</td><td> 5.0</td><td>12.4</td><td>15.33</td><td>4991</td><td> 12.0</td><td> 84.6</td></tr>\n",
              "\t<tr><td>15</td><td>INDIANA             </td><td>2</td><td>11.4</td><td>3.7</td><td> 5241.4</td><td> 3.6</td><td> 9.6</td><td> 8.12</td><td>5719</td><td>  5.5</td><td> 64.9</td></tr>\n",
              "\t<tr><td>16</td><td>IOWA                </td><td>2</td><td> 6.5</td><td>3.9</td><td> 5354.4</td><td> 3.4</td><td>12.2</td><td> 1.97</td><td>5407</td><td>  2.9</td><td> 60.6</td></tr>\n",
              "\t<tr><td>17</td><td>KANSAS              </td><td>2</td><td> 8.4</td><td>4.3</td><td>     NA</td><td> 4.0</td><td>10.8</td><td> 6.16</td><td>5296</td><td>  4.2</td><td> 69.1</td></tr>\n",
              "\t<tr><td>18</td><td>KENTUCKY            </td><td>3</td><td>13.0</td><td>1.9</td><td> 4485.7</td><td> 5.0</td><td>14.7</td><td> 7.10</td><td>5414</td><td>  4.9</td><td> 51.8</td></tr>\n",
              "\t<tr><td>19</td><td>LOUISIANA           </td><td>3</td><td>11.9</td><td>2.2</td><td> 7471.6</td><td> 6.1</td><td>19.7</td><td>31.83</td><td>4537</td><td> 14.9</td><td> 68.1</td></tr>\n",
              "\t<tr><td>20</td><td>MAINE               </td><td>1</td><td> 8.4</td><td>4.9</td><td> 3888.1</td><td> 4.2</td><td>11.2</td><td> 0.40</td><td>6116</td><td>  5.9</td><td> 44.6</td></tr>\n",
              "\t<tr><td>21</td><td>MARYLAND            </td><td>3</td><td>11.0</td><td>2.7</td><td> 6500.7</td><td> 4.4</td><td>10.1</td><td>26.72</td><td>6407</td><td> 24.2</td><td> 81.3</td></tr>\n",
              "\t<tr><td>22</td><td>MASSACHUSETTS       </td><td>1</td><td> 9.5</td><td>4.7</td><td> 4348.8</td><td> 3.9</td><td>11.0</td><td> 6.14</td><td>6832</td><td> 15.6</td><td> 84.3</td></tr>\n",
              "\t<tr><td>23</td><td>MICHIGAN            </td><td>2</td><td> 9.9</td><td>2.5</td><td> 5516.5</td><td> 4.7</td><td>12.2</td><td>14.44</td><td>6565</td><td>  8.0</td><td> 70.5</td></tr>\n",
              "\t<tr><td>24</td><td>MINNESOTA           </td><td>2</td><td> 6.1</td><td>2.8</td><td> 5031.7</td><td> 3.7</td><td> 9.2</td><td> 2.75</td><td>5689</td><td>  5.6</td><td> 69.9</td></tr>\n",
              "\t<tr><td>25</td><td>MISSISSIPPI         </td><td>3</td><td>11.7</td><td>2.0</td><td> 6629.3</td><td> 5.5</td><td>23.5</td><td>35.89</td><td>3912</td><td> 10.1</td><td> 47.1</td></tr>\n",
              "\t<tr><td>26</td><td>MISSOURI            </td><td>2</td><td>11.2</td><td>3.9</td><td> 6249.2</td><td> 4.5</td><td> 9.4</td><td>11.06</td><td>4629</td><td>  8.6</td><td> 68.7</td></tr>\n",
              "\t<tr><td>27</td><td>MONTANA             </td><td>4</td><td> 7.1</td><td>3.0</td><td>     NA</td><td> 4.6</td><td>15.3</td><td> 0.34</td><td>5300</td><td>  3.0</td><td> 52.5</td></tr>\n",
              "\t<tr><td>28</td><td>NEBRASKA            </td><td>2</td><td> 6.6</td><td>3.8</td><td> 5601.4</td><td> 2.7</td><td> 9.6</td><td> 3.91</td><td>5190</td><td>  5.1</td><td> 66.1</td></tr>\n",
              "\t<tr><td>29</td><td>NEVADA              </td><td>4</td><td>14.9</td><td>2.0</td><td> 6993.9</td><td> 5.0</td><td>11.1</td><td> 7.12</td><td>4709</td><td> 15.3</td><td> 88.3</td></tr>\n",
              "\t<tr><td>30</td><td>NEW HAMPSHIRE       </td><td>1</td><td> 9.9</td><td>4.6</td><td> 2955.1</td><td> 3.9</td><td> 5.3</td><td> 0.70</td><td>5999</td><td>  3.8</td><td> 51.0</td></tr>\n",
              "\t<tr><td>31</td><td>NEW JERSEY          </td><td>1</td><td> 9.3</td><td>3.8</td><td> 4703.7</td><td> 6.2</td><td> 7.8</td><td>14.49</td><td>9318</td><td> 29.5</td><td> 89.4</td></tr>\n",
              "\t<tr><td>32</td><td>NEW MEXICO          </td><td>4</td><td>10.8</td><td>3.1</td><td> 7144.3</td><td> 7.1</td><td>25.3</td><td> 2.43</td><td>5089</td><td>  8.3</td><td> 73.0</td></tr>\n",
              "\t<tr><td>33</td><td>NEW YORK            </td><td>1</td><td>10.1</td><td>3.8</td><td> 4674.6</td><td> 6.0</td><td>16.5</td><td>17.60</td><td>8700</td><td> 44.5</td><td> 84.3</td></tr>\n",
              "\t<tr><td>34</td><td>NORTH CAROLINA      </td><td>3</td><td>13.2</td><td>2.0</td><td> 6513.4</td><td> 4.0</td><td>12.6</td><td>22.21</td><td>4809</td><td> 13.8</td><td> 50.4</td></tr>\n",
              "\t<tr><td>35</td><td>NORTH DAKOTA        </td><td>2</td><td> 4.3</td><td>3.5</td><td> 3879.0</td><td> 2.7</td><td>12.0</td><td> 0.47</td><td>4534</td><td>   NA</td><td> 53.3</td></tr>\n",
              "\t<tr><td>36</td><td>OHIO                </td><td>2</td><td> 8.8</td><td>3.6</td><td> 4795.1</td><td> 5.0</td><td>11.5</td><td>11.21</td><td>5295</td><td>  7.1</td><td> 74.1</td></tr>\n",
              "\t<tr><td>37</td><td>OKLAHOMA            </td><td>3</td><td> 9.9</td><td>2.2</td><td> 6514.9</td><td> 4.3</td><td>17.1</td><td> 7.84</td><td>4175</td><td>  7.9</td><td> 67.7</td></tr>\n",
              "\t<tr><td>38</td><td>OREGON              </td><td>4</td><td>11.0</td><td>2.4</td><td> 7230.2</td><td> 5.5</td><td>11.2</td><td> 1.78</td><td>5844</td><td>  9.8</td><td> 70.5</td></tr>\n",
              "\t<tr><td>39</td><td>PENNSYLVANIA        </td><td>1</td><td> 9.4</td><td>2.1</td><td> 3533.4</td><td> 4.7</td><td>12.2</td><td> 9.68</td><td>6744</td><td> 10.7</td><td> 68.9</td></tr>\n",
              "\t<tr><td>40</td><td>RHODE ISLAND        </td><td>1</td><td>12.9</td><td>4.0</td><td> 4241.3</td><td> 4.9</td><td>10.6</td><td> 4.85</td><td>7091</td><td> 11.5</td><td> 86.0</td></tr>\n",
              "\t<tr><td>41</td><td>SOUTH CAROLINA      </td><td>3</td><td>11.9</td><td>1.7</td><td> 6605.1</td><td> 6.1</td><td>19.9</td><td>30.03</td><td>4697</td><td> 14.3</td><td> 54.6</td></tr>\n",
              "\t<tr><td>42</td><td>SOUTH DAKOTA        </td><td>2</td><td> 7.1</td><td>4.2</td><td> 4556.7</td><td> 2.9</td><td>14.5</td><td> 0.41</td><td>4773</td><td>   NA</td><td> 50.0</td></tr>\n",
              "\t<tr><td>43</td><td>TENNESSEE           </td><td>3</td><td>13.6</td><td>1.6</td><td> 6293.5</td><td> 5.1</td><td>15.5</td><td>16.23</td><td>4386</td><td>  8.8</td><td> 60.9</td></tr>\n",
              "\t<tr><td>44</td><td>TEXAS               </td><td>3</td><td>12.5</td><td>2.0</td><td> 6034.9</td><td> 5.5</td><td>17.4</td><td>12.24</td><td>5168</td><td> 14.9</td><td> 80.3</td></tr>\n",
              "\t<tr><td>45</td><td>UTAH                </td><td>4</td><td> 7.9</td><td>2.5</td><td> 6505.7</td><td> 3.0</td><td> 8.4</td><td> 0.92</td><td>3670</td><td>  4.2</td><td> 87.0</td></tr>\n",
              "\t<tr><td>46</td><td>VERMONT             </td><td>1</td><td> 8.7</td><td>4.8</td><td> 4666.9</td><td> 4.5</td><td>10.3</td><td> 0.34</td><td>6505</td><td>  6.2</td><td> 32.2</td></tr>\n",
              "\t<tr><td>47</td><td>VIRGINIA            </td><td>3</td><td>10.4</td><td>2.5</td><td> 4458.8</td><td> 4.0</td><td>10.2</td><td>19.61</td><td>5490</td><td> 11.1</td><td> 69.4</td></tr>\n",
              "\t<tr><td>48</td><td>WASHINGTON          </td><td>4</td><td>10.2</td><td>2.7</td><td> 6573.6</td><td> 5.8</td><td>12.5</td><td> 3.31</td><td>5708</td><td> 11.3</td><td> 76.4</td></tr>\n",
              "\t<tr><td>49</td><td>WEST VIRGINIA       </td><td>3</td><td>10.6</td><td>2.4</td><td> 3332.5</td><td> 7.2</td><td>16.7</td><td> 3.12</td><td>6391</td><td>  3.3</td><td> 36.1</td></tr>\n",
              "\t<tr><td>50</td><td>WISCONSIN           </td><td>2</td><td> 6.9</td><td>3.2</td><td> 4399.8</td><td> 3.1</td><td> 8.5</td><td> 5.52</td><td>6457</td><td>  4.0</td><td> 65.7</td></tr>\n",
              "\t<tr><td>51</td><td>WYOMING             </td><td>4</td><td> 6.3</td><td>4.9</td><td> 5062.6</td><td> 4.6</td><td>12.2</td><td> 0.63</td><td>5720</td><td>   NA</td><td> 65.0</td></tr>\n",
              "</tbody>\n",
              "</table>\n"
            ]
          },
          "metadata": {
            "tags": []
          }
        }
      ]
    },
    {
      "cell_type": "code",
      "metadata": {
        "id": "jBTVMgV29JKw",
        "outputId": "22511837-10e6-42ad-e74f-ff164285ec83",
        "colab": {
          "base_uri": "https://localhost:8080/",
          "height": 399
        }
      },
      "source": [
        "#Faire la régression linéaire\n",
        "\n",
        "reglineaire <- glm(jbs170 ~ scs134, data = bd, family=\"gaussian\")\n",
        "summary(reglineaire)"
      ],
      "execution_count": null,
      "outputs": [
        {
          "output_type": "display_data",
          "data": {
            "text/plain": [
              "\n",
              "Call:\n",
              "glm(formula = jbs170 ~ scs134, family = \"gaussian\", data = bd)\n",
              "\n",
              "Deviance Residuals: \n",
              "    Min       1Q   Median       3Q      Max  \n",
              "-1.6271  -0.9204  -0.4051   0.3424  10.3461  \n",
              "\n",
              "Coefficients:\n",
              "            Estimate Std. Error t value Pr(>|t|)   \n",
              "(Intercept)  2.86367    0.97099   2.949  0.00487 **\n",
              "scs134       0.20732    0.09047   2.291  0.02627 * \n",
              "---\n",
              "Signif. codes:  0 ‘***’ 0.001 ‘**’ 0.01 ‘*’ 0.05 ‘.’ 0.1 ‘ ’ 1\n",
              "\n",
              "(Dispersion parameter for gaussian family taken to be 3.103496)\n",
              "\n",
              "    Null deviance: 168.37  on 50  degrees of freedom\n",
              "Residual deviance: 152.07  on 49  degrees of freedom\n",
              "AIC: 206.45\n",
              "\n",
              "Number of Fisher Scoring iterations: 2\n"
            ]
          },
          "metadata": {
            "tags": []
          }
        }
      ]
    },
    {
      "cell_type": "code",
      "metadata": {
        "id": "UtoHSA1IaJIa",
        "outputId": "9865c268-ed5d-4428-ea0a-64bd07556f78",
        "colab": {
          "base_uri": "https://localhost:8080/",
          "height": 34
        }
      },
      "source": [
        "#Calcul du r-carré\n",
        "rsq(reglineaire)"
      ],
      "execution_count": null,
      "outputs": [
        {
          "output_type": "display_data",
          "data": {
            "text/plain": [
              "[1] 0.09678918"
            ],
            "text/latex": "0.096789183613903",
            "text/markdown": "0.096789183613903",
            "text/html": [
              "0.096789183613903"
            ]
          },
          "metadata": {
            "tags": []
          }
        }
      ]
    }
  ]
}