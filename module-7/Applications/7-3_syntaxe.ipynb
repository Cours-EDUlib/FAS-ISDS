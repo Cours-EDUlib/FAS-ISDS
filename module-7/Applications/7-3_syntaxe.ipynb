{
  "nbformat": 4,
  "nbformat_minor": 0,
  "metadata": {
    "colab": {
      "name": "7-3_syntaxe.ipynb",
      "provenance": [],
      "collapsed_sections": [],
      "authorship_tag": "ABX9TyPTxaZwO4bduAurvjaYdZh4",
      "include_colab_link": true
    },
    "kernelspec": {
      "name": "ir",
      "display_name": "R"
    }
  },
  "cells": [
    {
      "cell_type": "markdown",
      "metadata": {
        "id": "view-in-github",
        "colab_type": "text"
      },
      "source": [
        "<a href=\"https://colab.research.google.com/github/Cours-EDUlib/FAS-ISDS/blob/main/module-7/Applications/7-3_syntaxe.ipynb\" target=\"_parent\"><img src=\"https://colab.research.google.com/assets/colab-badge.svg\" alt=\"Open In Colab\"/></a>"
      ]
    },
    {
      "cell_type": "markdown",
      "metadata": {
        "id": "Drlzm4vNVtMK"
      },
      "source": [
        "#Module 7: Les statistiques et la science des données appliquées\n",
        "##Application 3: régression linéaire simple avec VI catégorielle\n",
        "###Syntaxe de l'exemple présenté"
      ]
    },
    {
      "cell_type": "code",
      "metadata": {
        "id": "wxIFmsc2fDJa"
      },
      "source": [
        "#Téléchargement des packages nécessaires\n",
        "library (tidyverse)\n",
        "install.packages(\"rsq\")\n",
        "require(rsq)\n",
        "library(ggplot2)\n",
        "install.packages(\"descr\")\n",
        "require(descr)"
      ],
      "execution_count": null,
      "outputs": []
    },
    {
      "cell_type": "markdown",
      "metadata": {
        "id": "eBpp0u9-OpWr"
      },
      "source": [
        "Pour cet exemple, nous utiliserons une base de données contenant des informations sur 109 pays. Nous étudierons le lien entre les régions du monde et la consommation calorique quotidienne par habitant dans un pays."
      ]
    },
    {
      "cell_type": "code",
      "metadata": {
        "id": "2DDyJkB8uPY6"
      },
      "source": [
        "path_to_csv = 'https://github.com/Cours-EDUlib/FAS-ISDS/blob/main/module-7/Applications/7-3_donnees.csv?raw=true' #Téléchargement de la base de données depuis github\n",
        "\n",
        "bd <- read_csv(path_to_csv) #Enregistrement de la base de données dans l'ojet \"bd\" + identification des données manquantes\n",
        "\n",
        "bd #Lecture des données (ignorez le message d'erreur, tant que la base de données s'affiche éventuellement)"
      ],
      "execution_count": null,
      "outputs": []
    },
    {
      "cell_type": "markdown",
      "metadata": {
        "id": "Qm9kfkuB-0Xf"
      },
      "source": [
        "Voici les variables à l'étude dans cet exemple:\n",
        "- calories: nombre de calories consommé par habitant par jour dans un pays\n",
        "- region: région du monde à laquelle appartient un pays"
      ]
    },
    {
      "cell_type": "markdown",
      "metadata": {
        "id": "fVERX3UcO8Sg"
      },
      "source": [
        "Remarquez la présence des lettres « NA » pour certains pays dans la variable calories. Ces lettres indiquent la présence d’une valeur manquante (Non Available), donc il faudra préciser à R de retirer ces observations de l’analyse en ajoutant l’argument correspondant dans les procédures exécutées."
      ]
    },
    {
      "cell_type": "markdown",
      "metadata": {
        "id": "kijXeGItPBau"
      },
      "source": [
        "Avant de continuer, il est utile d’attribuer des étiquettes aux valeurs de la variables régions. Les régions sont les suivantes : les pays de l’OCDE, qui comprennent globalement l’Europe occidentale et l’Amérique du Nord, l’Europe de l’est, l’Asie-Pacifique, l’Afrique, le Moyen-Orient et l’Amérique latine. "
      ]
    },
    {
      "cell_type": "code",
      "metadata": {
        "id": "paM6dv-kg5uR"
      },
      "source": [
        "#Identification des régions 1 à 6 (ajout d'étiquettes)\n",
        "\n",
        "bd$region <- factor(bd$region,\n",
        "levels = c(1,2,3,4,5,6),\n",
        "labels = c(\"OCDE\", \"Europe de l'Est\", \"Asie-Pacifique\", \"Afrique\", \"Moyen-Orient\", \"Amérique latine\")) "
      ],
      "execution_count": null,
      "outputs": []
    },
    {
      "cell_type": "markdown",
      "metadata": {
        "id": "sYjKRbM2PIA3"
      },
      "source": [
        "Commençons par produire quelques statistiques descriptives de base pour se familiariser avec la variable indépendante à l'étude, soit les régions du monde."
      ]
    },
    {
      "cell_type": "code",
      "metadata": {
        "id": "1JWKC40ziIsD"
      },
      "source": [
        "#Fréquences et distribution VI régions\n",
        "\n",
        "freq(bd$region)"
      ],
      "execution_count": null,
      "outputs": []
    },
    {
      "cell_type": "markdown",
      "metadata": {
        "id": "78DooM2NPZeW"
      },
      "source": [
        "Interprétation:\n",
        "\n",
        "Le tableau de fréquence, accompagné d’un graphique à barres par défaut, nous montre que chaque région contient un nombre similaire de pays, ce qui est important pour la régression linéaire, une région avec beaucoup moins ou plus de pays que les autres pouvant affecter les résultats. On a donc autour de 20 pays par régions, avec l’Europe de l’Est comme plus petite région avec 14 pays."
      ]
    },
    {
      "cell_type": "markdown",
      "metadata": {
        "id": "6edlpd7PPL3t"
      },
      "source": [
        "Produisons maintenant quelques statistiques descriptives de base pour la VD calories:\n",
        "  - La moyenne\n",
        "  - La médiane\n",
        "  - Le minimum\n",
        "  - Le maximum\n",
        "  - l'écart-type"
      ]
    },
    {
      "cell_type": "code",
      "metadata": {
        "id": "j0_eAxGadaek"
      },
      "source": [
        "#Statistiques descriptives VD\n",
        "\n",
        "summary(bd$calories)\n",
        "sd(bd$calories)\n",
        "sd(bd$calories, na.rm=TRUE)"
      ],
      "execution_count": null,
      "outputs": []
    },
    {
      "cell_type": "markdown",
      "metadata": {
        "id": "4ndJeqF3PgYM"
      },
      "source": [
        "Interprétation:\n",
        "\n",
        "La consommation calorique varie donc de 1667 à 3825 calories par habitants par jour selon les pays, avec un écart-type de 567,8. Notez la présence de 34 valeurs manquantes, indiquées à la fin de la ligne de statistiques descriptives. Dans notre analyse de régression, il n’y aura donc que 75 pays d’inclus puisque les autres n’ont pas de valeur valide pour la consommation calorique."
      ]
    },
    {
      "cell_type": "code",
      "metadata": {
        "id": "Iy-noq3LiMGI"
      },
      "source": [
        "#Distribution VD calories\n",
        "\n",
        "ggplot(bd, aes(x=calories)) +\n",
        "  geom_histogram(binwidth=100, fill=\"#69b3a2\", color=\"#e9ecef\", alpha=0.9) +\n",
        "    ggtitle(\"Distribution: consommation calorique\") +\n",
        "    theme(\n",
        "      plot.title = element_text(size=20)\n",
        "    )"
      ],
      "execution_count": null,
      "outputs": []
    },
    {
      "cell_type": "markdown",
      "metadata": {
        "id": "Qlu50JoLPm1m"
      },
      "source": [
        "Interprétation:\n",
        "\n",
        "La distribution semble plus ou moins normale. En fait, l’histogramme est plutôt aplati. Ce n’est pas aussi idéale qu’une distribution normale de la VI, mais l’absence d’asymétrie permet de continuer l’analyse de régression dans le respect des postulats."
      ]
    },
    {
      "cell_type": "markdown",
      "metadata": {
        "id": "YXPBfCGGPwm7"
      },
      "source": [
        "Pour réaliser la régression linéaire avec une Vi catégorielle, il faut recoder celle-ci en variable factice. C'est ce que nous faisons ci-dessus, en enregistrant ces nouvelles variables dans une nouvelle base de données (bd2)."
      ]
    },
    {
      "cell_type": "code",
      "metadata": {
        "id": "daInhNp2fmwd"
      },
      "source": [
        "#Création des variables factices\n",
        "bd2 <- bd \n",
        "\n",
        "bd2$OCDE <- ifelse(bd2$region==\"OCDE\", 1, 0)\n",
        "bd2$EuropeEst <- ifelse(bd2$region==\"Europe de l'Est\", 1, 0)\n",
        "bd2$AsiePacifique <- ifelse(bd2$region==\"Asie-Pacifique\", 1, 0)\n",
        "bd2$Afrique <- ifelse(bd2$region==\"Afrique\", 1, 0)\n",
        "bd2$MoyenOrient <- ifelse(bd2$region==\"Moyen-Orient\", 1, 0)\n",
        "bd2$AmeriqueLatine <- ifelse(bd2$region==\"Amérique latine\", 1, 0)\n",
        "\n",
        "#Visualiser la nouvelle base de données\n",
        "bd2"
      ],
      "execution_count": null,
      "outputs": []
    },
    {
      "cell_type": "markdown",
      "metadata": {
        "id": "K1Bllb9eQBl4"
      },
      "source": [
        "Pour vérifier le succès du recodage, on va sortir des tableaux croisés entre la variable originale et chacune des variables factices, en utilisant la fonction crosstab. Cela nous permet de voir que chaque nouvelle variable contient le même nombre de pays qui valent « 1 » que sa région en contenait dans la variable originale, et qu’il s’agit bien des mêmes observations."
      ]
    },
    {
      "cell_type": "code",
      "metadata": {
        "id": "GMe_VZ2snued"
      },
      "source": [
        "#Fréquences et distribution des variables factices\n",
        "\n",
        "table(bd2$region, bd2$OCDE)\n",
        "table(bd2$region, bd2$EuropeEst)\n",
        "table(bd2$region, bd2$AsiePacifique)\n",
        "table(bd2$region, bd2$Afrique)\n",
        "table(bd2$region, bd2$MoyenOrient)\n",
        "table(bd2$region, bd2$AmeriqueLatine)\n"
      ],
      "execution_count": null,
      "outputs": []
    },
    {
      "cell_type": "markdown",
      "metadata": {
        "id": "Cgb5YTceQIGI"
      },
      "source": [
        "Passons donc à la régression linéaire elle-même. En présence de variables factices binaires, il faut en insérer une de moins que la nombre de catégorie de la VI originale . On va insérer k-1 (k étant le nombre de catégorie de la variable) variable factices dans l’analyse, en gardant la catégorie exclues comme catégorie de référence. Donc ici, `k-1 = 6-1 = 5`. Ici, je vais conserver l’OCDE comme catégorie de référence et donc ne pas l’inclure dans l’analyse.\n"
      ]
    },
    {
      "cell_type": "code",
      "metadata": {
        "id": "UBEYzLHlfm8i"
      },
      "source": [
        "reglineaire <- glm(calories ~ EuropeEst+AsiePacifique+Afrique+MoyenOrient+AmeriqueLatine, data = bd2, family=\"gaussian\")\n",
        "summary(rstandard(reglineaire))\n",
        "summary(reglineaire)"
      ],
      "execution_count": null,
      "outputs": []
    },
    {
      "cell_type": "markdown",
      "metadata": {
        "id": "XfHVu7oGQ0EA"
      },
      "source": [
        "**Équation de régression:**\n",
        "\n",
        "Format: `Y = A + B1*X1 + B2*X2+ B3*X3 + B4*X4 + B5*X5`\n",
        "\n",
        "**Équations: **\n",
        "\n",
        "Générale: `Y = 3435.67 + (41.33*X1) + (-921.39*X2) + (-1283.35*X3) + (-352.29*X4) + (-935.51*X5) `\n",
        "\n",
        "OCDE (X1-5=0): `Y = 3435.67 `\n",
        "\n",
        "Europe de l'Est (X1=1; X2-5=0): `Y = 3435.67 + 41.33`\n",
        "\n",
        "Asie-Pacifique (X2=1; X1,3-5=0): `Y = 3435.67 -921.39`\n",
        "\n",
        "Afrique (X3=1; X1-2,4-5=0): `Y = 3435.67 -1283.35`\n",
        "\n",
        "Moyen-Orient (X4=1; X1-3,5=0): `Y = 3435.67 -352.29`\n",
        "\n",
        "Amérique Latine (X5=1; X1-4=0): `Y = 3435.67 -935.51`\n"
      ]
    },
    {
      "cell_type": "markdown",
      "metadata": {
        "id": "75H76JkZQxhl"
      },
      "source": [
        "Interprétation:\n",
        "\n",
        "En ordre, la moyenne de consommation calorique quotidienne par pays est donc de 3476 en Europe de l’Est, 3435.67 dans l’OCDE, 3083,38 au Moyen-Orient, 2514,28 en Asie-Pacifique, 2500,16 en Amérique Latine et finalement 21152,32 en Afrique. Si on observe le niveau de signification pour chacune des variable ou régions, on voit que la majorité des régions se distinguent significativement de l’OCDE, sauf l’Europe de l’Est, ce qui n’est pas surprenant puisque son coefficient est considérablement plus petit en termes absolus que ceux des autres régions. Avec un écart-type de 567, il n’est pas surprenant qu’une différence de moyenne de 41 calories soit insignifiante.\n",
        "\n"
      ]
    }
  ]
}