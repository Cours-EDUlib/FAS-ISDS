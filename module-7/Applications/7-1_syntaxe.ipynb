{
  "nbformat": 4,
  "nbformat_minor": 0,
  "metadata": {
    "colab": {
      "name": "7_1_syntaxe.ipynb",
      "provenance": [],
      "collapsed_sections": [],
      "include_colab_link": true
    },
    "kernelspec": {
      "name": "ir",
      "display_name": "R"
    }
  },
  "cells": [
    {
      "cell_type": "markdown",
      "metadata": {
        "id": "view-in-github",
        "colab_type": "text"
      },
      "source": [
        "<a href=\"https://colab.research.google.com/github/Cours-EDUlib/FAS-ISDS/blob/main/module-7/Applications/7-1_syntaxe.ipynb\" target=\"_parent\"><img src=\"https://colab.research.google.com/assets/colab-badge.svg\" alt=\"Open In Colab\"/></a>"
      ]
    },
    {
      "cell_type": "markdown",
      "metadata": {
        "id": "3JF0POtvUUYR"
      },
      "source": [
        "#Module 7: Les statistiques et la science des données appliquées\n",
        "##Application 1: régression linéaire simple avec VI continue\n",
        "###Syntaxe de l'exemple présenté"
      ]
    },
    {
      "cell_type": "code",
      "metadata": {
        "id": "sEMRHTFeeZAx"
      },
      "source": [
        "#Téléchargement des packages nécessaires\n",
        "library (tidyverse)\n",
        "install.packages(\"rsq\")\n",
        "require(rsq)\n",
        "library(ggplot2)\n",
        "install.packages(\"descr\")\n",
        "require(descr)"
      ],
      "execution_count": null,
      "outputs": []
    },
    {
      "cell_type": "markdown",
      "metadata": {
        "id": "z4iJCNyNyuAI"
      },
      "source": [
        "Pour ce premier exemple, nous utilisons une base de données qui est composée de données concernant les États américains. On s'intéresse précisément au taux de chômage et au taux de décrochage scolaire au sein de chacun des états. Nous essaierons de voir s'il y a une relation entre ces deux variables. "
      ]
    },
    {
      "cell_type": "code",
      "metadata": {
        "id": "17KBWubhusku"
      },
      "source": [
        "path_to_csv = 'https://github.com/Cours-EDUlib/FAS-ISDS/blob/main/module-7/Applications/7-1-2_donnees.csv?raw=true' #Téléchargement de la base de données depuis github\n",
        "\n",
        "bd <- read_csv(path_to_csv) #Enregistrement de la base de données dans l'ojet \"bd\"\n",
        "bd #Lecture des données"
      ],
      "execution_count": null,
      "outputs": []
    },
    {
      "cell_type": "markdown",
      "metadata": {
        "id": "w8vitEjyUTKW"
      },
      "source": [
        "Voici les variables à l'étude dans cet exemple:\n",
        "- jbs170: taux de chômage par état en pourcentage\n",
        "- scs134: taux de décrochage scolaire par état en pourcentage\n",
        "\n",
        "Commençons par produire quelques statistiques descriptives de base pour se familiariser avec les variables à l’étude:\n",
        "  - La moyenne\n",
        "  - La médiane\n",
        "  - Le minimum\n",
        "  - Le maximum\n",
        "  - l'écart-type"
      ]
    },
    {
      "cell_type": "code",
      "metadata": {
        "id": "eOctrEIfhMU7"
      },
      "source": [
        "#Statistiques descriptives\n",
        "\n",
        "summary(bd$scs134)\n",
        "sd(bd$scs134)\n",
        "\n",
        "summary(bd$jbs170)\n",
        "sd(bd$jbs170)"
      ],
      "execution_count": null,
      "outputs": []
    },
    {
      "cell_type": "markdown",
      "metadata": {
        "id": "8RzKmtXMzp5E"
      },
      "source": [
        "Interprétation:\n",
        "\n",
        "Le taux de décrochage scolaire varie de 4,3% à 19,1%, avec une moyenne de 10,28% et un écart-type de 2,75% autour de la moyenne. Du côté du taux de chômage, il varie de 2,7% et 15,2%, avec une moyenne de 5,02% et un écart-type de 1,84%. "
      ]
    },
    {
      "cell_type": "markdown",
      "metadata": {
        "id": "Bhbud0_Oz2pT"
      },
      "source": [
        "Par la suite, nous produisons des histogrammes, pour vérifier si les variables respectent le postulat de normalité de distribution. "
      ]
    },
    {
      "cell_type": "code",
      "metadata": {
        "id": "UvuMAJ7jioM4"
      },
      "source": [
        "#Histogramme pour vérification du postulat de normalité\n",
        "\n",
        "ggplot(bd, aes(x=jbs170)) +\n",
        "  geom_histogram(binwidth=1, fill=\"#69b3a2\", color=\"#e9ecef\", alpha=0.9) +\n",
        "    ggtitle(\"Distribution: taux de chômage\") +\n",
        "    theme(\n",
        "      plot.title = element_text(size=20)\n",
        "    )\n",
        "\n",
        "ggplot(bd, aes(x=scs134)) +\n",
        "  geom_histogram(binwidth=1, fill=\"#69b3a2\", color=\"#e9ecef\", alpha=0.9) +\n",
        "    ggtitle(\"Distribution: taux de décrochage scolaire\") +\n",
        "    theme(\n",
        "      plot.title = element_text(size=20)\n",
        "    )"
      ],
      "execution_count": null,
      "outputs": []
    },
    {
      "cell_type": "markdown",
      "metadata": {
        "id": "fInhARoVz78B"
      },
      "source": [
        "Interprétation:\n",
        "\n",
        "Pour le taux de chômage, la distribution n’est pas tout à fait normale, surtout en raison d’un état qui semble avoir un taux de chômage beaucoup plus élevé que l'ensemble des autres (autour de 15). En faisant abstraction de cet état, le reste de la distribution semble normale, avec des résultats qui varie entre 2,5 et 7,5%. On considère donc que le postulat est respecté.\n",
        "\n",
        "Pour le taux de décrochage scolaire, l'histogramme montre une distribution très proche d’une distribution normale: le postulat est respecté.\n",
        "\n",
        "Les deux variables sont distribuées assez normalement, donc on peut les utiliser pour faire une analyse de régression linéaire. "
      ]
    },
    {
      "cell_type": "markdown",
      "metadata": {
        "id": "SrjW3QHN0ee2"
      },
      "source": [
        "Enfin, pour avoir un aperçu de la relation entre les variables, nous produisons un graphique de dispersion, ou nuage de points."
      ]
    },
    {
      "cell_type": "code",
      "metadata": {
        "id": "b-wSaGn0lexE"
      },
      "source": [
        "#Nuage de points\n",
        "ggplot(bd, aes(x=scs134, y=jbs170)) + \n",
        "    geom_point()"
      ],
      "execution_count": null,
      "outputs": []
    },
    {
      "cell_type": "markdown",
      "metadata": {
        "id": "Sn15WzvA0iYK"
      },
      "source": [
        "Interprétation:\n",
        "\n",
        "Le nuage de point représente la relation entre le taux de décrochage scolaire, la variable indépendante placée sur l’axe des X, et le taux de chômage, la variable dépendante placée sur l’axe des Y. Chaque point représente un état. On aperçoit  une tendance générale positive, où le taux de chômage augmente avec le taux de décrochage scolaire. Donc plus le taux de décrochage est élevé, plus le taux de chômage l’est également et vice-versa. Toutefois, quelques points semblent s’éloigner du nuage de tendance générale, dont une donnée au sommet du graphique qui semble correpondre à une donnée extrême (voir capsule 7.2)."
      ]
    },
    {
      "cell_type": "markdown",
      "metadata": {
        "id": "5fnoXIaw0imJ"
      },
      "source": [
        "Nous pouvons finalement passer à l’analyse de régression en tant que telle.\n",
        "\n",
        "On produit également les résidus standardisés pour compléter les statistiques de résidus automatiquement produites par la procédure glm."
      ]
    },
    {
      "cell_type": "code",
      "metadata": {
        "id": "jBTVMgV29JKw"
      },
      "source": [
        "#Faire la régression linéaire\n",
        "\n",
        "reglineaire <- glm(jbs170 ~ scs134, data = bd, family=\"gaussian\")\n",
        "summary(reglineaire)"
      ],
      "execution_count": null,
      "outputs": []
    },
    {
      "cell_type": "markdown",
      "metadata": {
        "id": "N4_LIa9YptxP"
      },
      "source": [
        "Interprétation:\n",
        "\n",
        "La régression linéaire sert à qualifier, par une droite, le nuage de points produit auparavant. On s'attendait donc à observer une relation significative positive. Lorsque le taux de décrochage scolaire est élevé, on peut s’attendre à un taux de chômage élevé également.\n",
        "\n",
        "La constante nous indique que dans un état hypothétique au taux de décrochage de 0, le taux de chômage serait de 2,86%. Le coefficient de la variable indépendante, nous prouve l'existence d'une relation positive, de sorte que le taux de chômage augmente d’environ 0,21% pour chaque augmentation d’une unité du taux de décrochage scolaire. La relation est donc faible, mais positive, et surtout significative (p < 0.05). Ces résultats sont cohérents avec ce qu’on a observé dans le nuage de point précédemment.\n"
      ]
    },
    {
      "cell_type": "code",
      "metadata": {
        "id": "UtoHSA1IaJIa"
      },
      "source": [
        "#Calcul du r-carré\n",
        "rsq(reglineaire)"
      ],
      "execution_count": null,
      "outputs": []
    },
    {
      "cell_type": "markdown",
      "metadata": {
        "id": "wpR7WMvs2Av1"
      },
      "source": [
        "Interprétation:\n",
        "\n",
        "Environ 10% de la variance du taux de chômage est expliqué par le taux de décrochage scolaire."
      ]
    }
  ]
}