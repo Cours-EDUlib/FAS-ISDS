{
  "nbformat": 4,
  "nbformat_minor": 0,
  "metadata": {
    "colab": {
      "name": "5.2-tests-statistiques.ipynb",
      "provenance": [],
      "collapsed_sections": [],
      "include_colab_link": true
    },
    "kernelspec": {
      "name": "ir",
      "display_name": "R"
    }
  },
  "cells": [
    {
      "cell_type": "markdown",
      "metadata": {
        "id": "view-in-github",
        "colab_type": "text"
      },
      "source": [
        "<a href=\"https://colab.research.google.com/github/Cours-EDUlib/FAS-ISDS/blob/amelioration-de-la-structure-du-repertoire/module-5/5_2_tests_statistiques.ipynb\" target=\"_parent\"><img src=\"https://colab.research.google.com/assets/colab-badge.svg\" alt=\"Open In Colab\"/></a>"
      ]
    },
    {
      "cell_type": "code",
      "metadata": {
        "id": "YnBdcYPK7dyl"
      },
      "source": [
        "# Installation et chargement des modules nécessaires\n",
        "install.packages(\"car\", dep = TRUE)\n",
        "install.packages(\"questionr\", dep = TRUE)\n",
        "install.packages(\"effects\", dep = TRUE)\n",
        "library(effects)\n",
        "library(car)\n",
        "library(questionr)\n",
        "\n",
        "\n",
        "# Téléchargement de la base de données hdv2003 du module questionr\n",
        "# (Extrait de l'enquête \"Histoire de vie\" de l'Insee - https://www.insee.fr/fr/statistiques/2532244)\n",
        "data(hdv2003)\n",
        "\n",
        "# Copie de la base de données dans un objet (datatable) nommé bd\n",
        "bd <- hdv2003"
      ],
      "execution_count": null,
      "outputs": []
    },
    {
      "cell_type": "markdown",
      "metadata": {
        "id": "ui4h2GNbn2o-"
      },
      "source": [
        "# Analyses statistiques"
      ]
    },
    {
      "cell_type": "markdown",
      "metadata": {
        "id": "lY_ZOb0Kn6RG"
      },
      "source": [
        "* On retrouve une multitude de modules dédiés aux méthodes statistiques (comme stats, MASS, FactoMineR, plm, glm). \n",
        "* La même méthode peut se trouver avec variantes dans plusieurs modules. \n",
        "* Les exemples ci-dessous proviennent principalement du module stats (module par défaut) où l'on retrouve de nombreuses fonctions pour différents types d'analyse."
      ]
    },
    {
      "cell_type": "markdown",
      "metadata": {
        "id": "GVFs3injnfbg"
      },
      "source": [
        "##1.1. Notation formule et objet modèle\n"
      ]
    },
    {
      "cell_type": "code",
      "metadata": {
        "id": "IFMUon2mo1IF"
      },
      "source": [
        "mod <- nom.test(VD ~ VI)"
      ],
      "execution_count": null,
      "outputs": []
    },
    {
      "cell_type": "markdown",
      "metadata": {
        "id": "mdhmtiIfo5dD"
      },
      "source": [
        "* Souvent utilisé dans les modèles d'analyse (régressions...) et les graphiques.\n",
        "* Peut s'interpréter comme en \"fonction de...\": variable dépendante (effet) en fonction (~) de la var indépendante (cause).\n",
        "* Toutes les fonctions n'acceptent pas la notation formule, mais elle est utilisée dans la plupart des modèles d'analyse.\n",
        "* On stocke l'analyse dans un objet qui contiendra les résultats qui, selon l'analyse, inclueront un ensemble d'éléments d'information auxquels on pourra accéder de deux façons:\n",
        "\n",
        "\n"
      ]
    },
    {
      "cell_type": "markdown",
      "metadata": {
        "id": "3GaYuI5apM4B"
      },
      "source": [
        "En passant notre objet-modèle à différentes fonctions génériques (selon le type de test):"
      ]
    },
    {
      "cell_type": "code",
      "metadata": {
        "id": "MUiIJdKYpD2Y"
      },
      "source": [
        "mod <- lm(y ~ x, data=NomObjet) # Créer son objet modèle\n",
        "mod                             # Tappe le nom de l'objet pour voir un résumé des résultats\n",
        "summary(mod)                    # ensemble des résultats détaillés\n",
        "coef(mod)                       # coefficients et erreurs standards\n",
        "residuals(mod)                  # résidus\n",
        "confint(mod)                    # intervalles de confiance\n",
        "fitted(mod)                     # valeurs ajustées\n",
        "anova(mod)                      # appliquer analyse de variance sur modèle\n",
        "predict(mod)                    # calculer des valeurs prédites à partir d'un modèle\n",
        "plot(mod)                       # et nombreuses autres fonctions graphiques  "
      ],
      "execution_count": null,
      "outputs": []
    },
    {
      "cell_type": "markdown",
      "metadata": {
        "id": "072PORVmpJK9"
      },
      "source": [
        " En utilisant la fonction names(NomObjet) et en sélectionnant individuellement le nom de l'élément avec l'opérateur $:"
      ]
    },
    {
      "cell_type": "code",
      "metadata": {
        "id": "ymmXmErIo7fB"
      },
      "source": [
        "mod <- lm(y ~ x) # Créer son objet modèle\n",
        "names(mod)       # Voir les éléments du résultat\n",
        "mod$coefficients # Sélectionner l'élément individuel"
      ],
      "execution_count": null,
      "outputs": []
    },
    {
      "cell_type": "markdown",
      "metadata": {
        "id": "I3nNBYbFUuAz"
      },
      "source": [
        "*À noter: par défaut les résultats sont présentés selon la **notation scientifique**. Pour la désactiver, utiliser l'instruction: options(scipen = 999). Pour la réactiver: options(scipen = 0)*"
      ]
    },
    {
      "cell_type": "markdown",
      "metadata": {
        "id": "x2L22RCYQtln"
      },
      "source": [
        "##1.2. Les modalités de référence\n",
        "- Dans R, il n'est pas nécessaire de recoder ses variables en \"dummy\", les analyses s'en chargent par défaut lorsqu'on utilise des variables qualitatives.\n",
        "- Mais attention à la **modalité de référence** des facteurs définie par défaut: la première dans la liste des niveaux.\n"
      ]
    },
    {
      "cell_type": "code",
      "metadata": {
        "id": "rMaRMUopRQoV"
      },
      "source": [
        "# Pour voir la modalité de référence\n",
        "levels(bd$sport) # \"Non\""
      ],
      "execution_count": null,
      "outputs": []
    },
    {
      "cell_type": "code",
      "metadata": {
        "id": "MGNIIEEJRs0W"
      },
      "source": [
        "# Pour modifier la catégorie de référence - fonction relevel()\n",
        "bd$sport <- relevel(bd$sport, ref = \"Oui\")"
      ],
      "execution_count": null,
      "outputs": []
    },
    {
      "cell_type": "markdown",
      "metadata": {
        "id": "OK8xVWGDwM-g"
      },
      "source": [
        "\r\n",
        "\r\n",
        "---\r\n",
        "\r\n"
      ]
    },
    {
      "cell_type": "markdown",
      "metadata": {
        "id": "zVKRWgD-7r8D"
      },
      "source": [
        "##2. Intervalle de confiance\n",
        "\n"
      ]
    },
    {
      "cell_type": "code",
      "metadata": {
        "id": "DucJu1pR8HSm"
      },
      "source": [
        "# Intervalle de confiance d’une proportion\n",
        "\n",
        "# fonction prop.test\n",
        "prop.test(table(bd$sport))\n",
        "\n",
        "## Calcul l'intervalle pour la première catégorie du tableau"
      ],
      "execution_count": null,
      "outputs": []
    },
    {
      "cell_type": "code",
      "metadata": {
        "id": "aJNyisvcrPP5"
      },
      "source": [
        "options(scipen = 999) # désactiver la notation scientifique"
      ],
      "execution_count": null,
      "outputs": []
    },
    {
      "cell_type": "code",
      "metadata": {
        "id": "I24mX8xO8vTu"
      },
      "source": [
        "# Modifier la catégorie de référence avec la fonction relevel directement dans la fonction table()\n",
        "prop.test(table(relevel(bd$sport, \"Oui\")))"
      ],
      "execution_count": null,
      "outputs": []
    },
    {
      "cell_type": "code",
      "metadata": {
        "id": "xTBqO6VO679M"
      },
      "source": [
        "# Intervalle de confiance d'une moyenne\n",
        "\n",
        "# Fonction t.test\n",
        "t.test(bd$age, conf.level=.99)\n",
        "\n",
        "## Changer le niveau de confiance avec l'argument (bd$age, conf.level=.x)"
      ],
      "execution_count": null,
      "outputs": []
    },
    {
      "cell_type": "markdown",
      "metadata": {
        "id": "MIkZVzYgwK8o"
      },
      "source": [
        "\r\n",
        "\r\n",
        "---\r\n",
        "\r\n"
      ]
    },
    {
      "cell_type": "markdown",
      "metadata": {
        "id": "ZCQUgVtFPPAb"
      },
      "source": [
        "##3.  Test du Khi-carré"
      ]
    },
    {
      "cell_type": "code",
      "metadata": {
        "id": "__xEntzUuvyy"
      },
      "source": [
        "# Passe la table comme argument à la fonction chisq.test() (Module questionr)\n",
        "mod.chi <- chisq.test(bd$sport, bd$sexe) \n",
        "\n",
        "## Applique correction par défaut, sinon ajouter argument: ,correct=FALSE"
      ],
      "execution_count": null,
      "outputs": []
    },
    {
      "cell_type": "code",
      "metadata": {
        "id": "IZhAy7QOfoJ6"
      },
      "source": [
        "# Résumé des résultats\r\n",
        "mod.chi "
      ],
      "execution_count": null,
      "outputs": []
    },
    {
      "cell_type": "code",
      "metadata": {
        "id": "wvtnJa1eWt-P"
      },
      "source": [
        "# Fonction names() pour voir les éléments d'information de nos résultats\n",
        "names(mod.chi)"
      ],
      "execution_count": null,
      "outputs": []
    },
    {
      "cell_type": "code",
      "metadata": {
        "id": "PlotePIQdKS0"
      },
      "source": [
        "# Voir les valeurs attendues\n",
        "mod.chi$expected"
      ],
      "execution_count": null,
      "outputs": []
    },
    {
      "cell_type": "code",
      "metadata": {
        "id": "qplL44qXvCna"
      },
      "source": [
        "# Fonction chisq.residuals() du module questionr pour les résidus\n",
        "tab <- table(bd$sport, bd$sexe)\n",
        "chisq.residuals(tab) "
      ],
      "execution_count": null,
      "outputs": []
    },
    {
      "cell_type": "markdown",
      "metadata": {
        "id": "k2QCj6ytwJmy"
      },
      "source": [
        "\r\n",
        "\r\n",
        "---\r\n",
        "\r\n"
      ]
    },
    {
      "cell_type": "markdown",
      "metadata": {
        "id": "jMSZxt7zGUwJ"
      },
      "source": [
        "##4. Test de fisher"
      ]
    },
    {
      "cell_type": "code",
      "metadata": {
        "id": "h7a-6m1aGWdg"
      },
      "source": [
        "fisher.test(bd$sport, bd$sexe)"
      ],
      "execution_count": null,
      "outputs": []
    },
    {
      "cell_type": "markdown",
      "metadata": {
        "id": "lBIcCA0_wIgI"
      },
      "source": [
        "\r\n",
        "\r\n",
        "---\r\n",
        "\r\n"
      ]
    },
    {
      "cell_type": "markdown",
      "metadata": {
        "id": "1ngfPoh2IsEI"
      },
      "source": [
        "##5. Différence de moyennes entre deux groupes (Test T)\n",
        "\n",
        "*Vérifier si les moyennes d'une variable quantitative de deux groupes sont statistiquement différentes*"
      ]
    },
    {
      "cell_type": "code",
      "metadata": {
        "id": "N_EgLJY9Q3Z7"
      },
      "source": [
        "# Explorer les statistiques descriptives selon les groupes avec la fonction by()\n",
        "\n",
        "by(bd$age, bd$sport, FUN=summary)\n",
        "by(bd$age, bd$sport, FUN=var)"
      ],
      "execution_count": null,
      "outputs": []
    },
    {
      "cell_type": "code",
      "metadata": {
        "id": "dZT81ZcruN1n"
      },
      "source": [
        "# Normalité des distributions - Test de Shapiro-Wilk\n",
        "\n",
        "## Avec la fonction by\n",
        "by(bd$age, bd$sport, FUN=shapiro.test)"
      ],
      "execution_count": null,
      "outputs": []
    },
    {
      "cell_type": "code",
      "metadata": {
        "id": "LXIWmPMQBu0H"
      },
      "source": [
        "# Égalité des variances - test F\n",
        "\n",
        "var.test(age ~ sport, data = bd)"
      ],
      "execution_count": null,
      "outputs": []
    },
    {
      "cell_type": "code",
      "metadata": {
        "id": "tzaJAJEetI8M"
      },
      "source": [
        "# Test de Levene (module car)\n",
        "\n",
        "leveneTest(bd$age, bd$sport) # Accepte aussi notation formule"
      ],
      "execution_count": null,
      "outputs": []
    },
    {
      "cell_type": "code",
      "metadata": {
        "id": "SwMXpi8qI4hA"
      },
      "source": [
        "# Test T \n",
        "\n",
        "t.test(age ~ sport, data = bd)\n",
        "\n",
        "## Par défaut, la fonction t.test est un test de Welsh qui ne suppose pas égalité des variances"
      ],
      "execution_count": null,
      "outputs": []
    },
    {
      "cell_type": "code",
      "metadata": {
        "id": "4bqJzqah-qpo"
      },
      "source": [
        "# Pour un test t classique, ajouter l'argument var.equal = TRUE\n",
        "\n",
        "t.test(age ~ sport, data=bd, var.equal= TRUE)\n",
        "\n",
        "## Pour un test d'échantillons appariés (mesures répétées), ajouter argument paired=TRUE (sans notation formule)"
      ],
      "execution_count": null,
      "outputs": []
    },
    {
      "cell_type": "markdown",
      "metadata": {
        "id": "_MeN5I1twG8A"
      },
      "source": [
        "\r\n",
        "\r\n",
        "---\r\n",
        "\r\n"
      ]
    },
    {
      "cell_type": "markdown",
      "metadata": {
        "id": "lkoPlOUbDMJr"
      },
      "source": [
        "###6. Test Wilcoxon/Mann-Whitney (test non-paramétrique parmi d'autres)"
      ]
    },
    {
      "cell_type": "code",
      "metadata": {
        "id": "yn6wNgmvDPV5"
      },
      "source": [
        "wilcox.test(age ~ sport, data = bd)"
      ],
      "execution_count": null,
      "outputs": []
    },
    {
      "cell_type": "markdown",
      "metadata": {
        "id": "9VXgURTy3rzy"
      },
      "source": [
        "\n",
        "\n",
        "---\n",
        "\n"
      ]
    },
    {
      "cell_type": "markdown",
      "metadata": {
        "id": "iKKtlRhat9LI"
      },
      "source": [
        "> `À noter - erreur de numérotation: 7. ANOVA et 7. Corrélations`"
      ]
    },
    {
      "cell_type": "markdown",
      "metadata": {
        "id": "g3-6E9FUi4tw"
      },
      "source": [
        "##7. Différence de moyenne pour plus de deux groupes (ANOVA)\n",
        "*Évaluer la relation entre une variable quantitative et une variable qualitative avec plus de deux modalités*"
      ]
    },
    {
      "cell_type": "code",
      "metadata": {
        "id": "1cKsUfuNilye"
      },
      "source": [
        "# Explorer les statistiques descriptives avec la fonction tapply()\n",
        "tapply(bd$heures.tv, bd$occup, mean, na.rm=T)\n",
        "\n",
        "## Vérifier si les moyennes semblent différentes entre les groupes"
      ],
      "execution_count": null,
      "outputs": []
    },
    {
      "cell_type": "code",
      "metadata": {
        "id": "PCPQYsqejU5N"
      },
      "source": [
        "# Fonction aov\n",
        "\n",
        "mod.aov <- aov(heures.tv ~ occup, data=bd)\n",
        "\n",
        "## Créé un objet contenant le modèle\n",
        "## Pour voir effet combiné entre facteurs mod.aov <- aov(heures.tv ~ occup*sexe, bd)"
      ],
      "execution_count": null,
      "outputs": []
    },
    {
      "cell_type": "code",
      "metadata": {
        "id": "qaKuMHwQw9Ec"
      },
      "source": [
        "mod.aov\n",
        "\n",
        "## Voir un résumé du modèle"
      ],
      "execution_count": null,
      "outputs": []
    },
    {
      "cell_type": "code",
      "metadata": {
        "id": "bldFk6tAmCKG"
      },
      "source": [
        "# Fonction summary\n",
        "\n",
        "summary(mod.aov)\n",
        "\n",
        "## Applique la fonction summary à l'objet modèle pour voir résultats détaillés"
      ],
      "execution_count": null,
      "outputs": []
    },
    {
      "cell_type": "code",
      "metadata": {
        "id": "VnPkDWD-mSAW"
      },
      "source": [
        "# Fonction lm \n",
        "\n",
        "mod.lm <- lm(heures.tv ~ occup, bd)\n",
        "\n",
        "## Peut également utiliser fonction de régression linéaire pour analyse de variance\n",
        "## Permet de voir les contrastes entre les différents groupes\n",
        "## La modalité de référence est \"Exerce une profession\" (levels(bd$occup))\n",
        "## Pour changer modalité de référence, utiliser la commande relevel: mod.lm <- lm(heures.tv ~ relevel(occup, ref=\"Etudiant, eleve\"), data=bd)\n",
        "## Possède aussi un argument subset= permettant de sélectionner des modalités. Par exemple: \n",
        "## mod2.lm <- lm(heures.tv ~ occup, bd, subset = occup %in% c(\"Exerce une profession\", \"Chomeur\", \"Etudiant, eleve\"))"
      ],
      "execution_count": null,
      "outputs": []
    },
    {
      "cell_type": "code",
      "metadata": {
        "id": "xoNRs0rNU-1P"
      },
      "source": [
        "# Résumé de coefficients\n",
        "\n",
        "mod.lm"
      ],
      "execution_count": null,
      "outputs": []
    },
    {
      "cell_type": "code",
      "metadata": {
        "id": "b81ikDynClfo"
      },
      "source": [
        "# Résultats détaillés\n",
        "\n",
        "summary(mod.lm)\n",
        "\n",
        "## Applique la fonction summary à l'objet modèle -> Coefficients + Tests associés (Test t, degré de significativité)"
      ],
      "execution_count": null,
      "outputs": []
    },
    {
      "cell_type": "code",
      "metadata": {
        "id": "o5au_1KLGNZr"
      },
      "source": [
        "# Fonction anova\n",
        "\n",
        "anova(mod.lm)\n",
        "\n",
        "## Peut aussi obtenir des résultats d'analyse de variance (somme des carrés, degré de liberté,  valeur de F...) en appliquant anova à l'objet modèle\n",
        "## À noter: Les fonctions aov() et anova() retourne la somme des carrés de type I"
      ],
      "execution_count": null,
      "outputs": []
    },
    {
      "cell_type": "markdown",
      "metadata": {
        "id": "JoHBy1qTwVHH"
      },
      "source": [
        "\r\n",
        "\r\n",
        "---\r\n",
        "\r\n"
      ]
    },
    {
      "cell_type": "markdown",
      "metadata": {
        "id": "Xf2G9FOxeZJU"
      },
      "source": [
        "##7. Corrélations"
      ]
    },
    {
      "cell_type": "code",
      "metadata": {
        "id": "Dp5-xQ80ebac"
      },
      "source": [
        "# Fonction cor()\n",
        "\n",
        "cor(bd$age, bd$heures.tv, use=\"pairwise\")\n",
        "\n",
        "## Matrice de corrélations pour deux variables quanti ou plus\n",
        "## pairwise: n'utiliser que les paires d'observations complètes\n",
        "## pour Spearman, rajouter argument ,method = \"spearman\"\n",
        "## instruction suivante si plus de deux variables: cor(bd[ ,c(\"age\", \"heures.tv\", \"freres.soeurs\")], use='pairwise')"
      ],
      "execution_count": null,
      "outputs": []
    },
    {
      "cell_type": "code",
      "metadata": {
        "id": "U7zmxOSgVYQ0"
      },
      "source": [
        "# Fonction cor.test()\n",
        "\n",
        "cor.test(bd$age, bd$heures.tv)\n",
        "\n",
        "## Ou notation formule cor.test( ~ age + heures.tv, bd)"
      ],
      "execution_count": null,
      "outputs": []
    },
    {
      "cell_type": "markdown",
      "metadata": {
        "id": "ZBNhIOKewWq3"
      },
      "source": [
        "\r\n",
        "\r\n",
        "---\r\n",
        "\r\n"
      ]
    },
    {
      "cell_type": "markdown",
      "metadata": {
        "id": "a8roxzN2rRS9"
      },
      "source": [
        "##8. Régression linéaire\n",
        "*Prédire la valeur d'une variable dépendante continue sur la base des valeurs de variables indépendantes*"
      ]
    },
    {
      "cell_type": "code",
      "metadata": {
        "id": "HDdvq-W3rUEh"
      },
      "source": [
        "# Fonction lm()\n",
        "\n",
        "## Quelles variables prédisent les heures de télé écoutées?\n",
        "\n",
        "mod1.lm <- lm(heures.tv ~ occup + nivetud + sexe, data=bd) \n",
        "\n",
        "## On stocke le résultat dans un objet modèle pour pouvoir le manipuler avec d'autres fonctions\n",
        "## Pour limiter à un sous-groupe: argument ( , subset= age > 50\")"
      ],
      "execution_count": null,
      "outputs": []
    },
    {
      "cell_type": "code",
      "metadata": {
        "id": "Fs-TKTWrsFZ3"
      },
      "source": [
        "# Passe notre objet modèle à la fonction summary pour voir le tableau des coefficients et tests de significativité\n",
        "summary(mod1.lm)"
      ],
      "execution_count": null,
      "outputs": []
    },
    {
      "cell_type": "code",
      "metadata": {
        "id": "DmepLTucrRoh"
      },
      "source": [
        "# La fonction coef présente les coefficients du modèle de régression (peut s'appliquer individuellement) \n",
        "coef(mod1.lm)"
      ],
      "execution_count": null,
      "outputs": []
    },
    {
      "cell_type": "code",
      "metadata": {
        "id": "hqmrcugYrCPr"
      },
      "source": [
        "# la fonction confint présente les intervalles de confiance (95% par défaut)\n",
        "confint(mod1.lm)"
      ],
      "execution_count": null,
      "outputs": []
    },
    {
      "cell_type": "code",
      "metadata": {
        "id": "WHa_KKSvsySZ"
      },
      "source": [
        "# Pour le tableau ANOVA appliqué au modèle de régression\n",
        "anova(mod1.lm)"
      ],
      "execution_count": null,
      "outputs": []
    },
    {
      "cell_type": "code",
      "metadata": {
        "id": "zaMA0AknsWGt"
      },
      "source": [
        "# La fonction fitted fournit les valeurs ajustées\n",
        "head(fitted(mod1.lm))"
      ],
      "execution_count": null,
      "outputs": []
    },
    {
      "cell_type": "code",
      "metadata": {
        "id": "ROhNYR7UvJBk"
      },
      "source": [
        "# La fonction resid() founit les résidus de la régression\n",
        "head(resid(mod1.lm))"
      ],
      "execution_count": null,
      "outputs": []
    },
    {
      "cell_type": "markdown",
      "metadata": {
        "id": "AQiwb5oiwY2g"
      },
      "source": [
        "\r\n",
        "\r\n",
        "---\r\n",
        "\r\n"
      ]
    },
    {
      "cell_type": "markdown",
      "metadata": {
        "id": "LbPN7f1GqNPz"
      },
      "source": [
        "##9. Régression logistique binaire\n",
        "*Prédire une variable dépendante dichotomique sur la base des valeurs de variables indépendantes*"
      ]
    },
    {
      "cell_type": "code",
      "metadata": {
        "id": "_FFgJNcgRfxG"
      },
      "source": [
        "# Fonction glm\n",
        "\n",
        "mod.reg <- glm(sport ~ sexe + nivetud + qualif, bd, family = binomial(logit))\n",
        "\n",
        "## La fonction glm permet de calculer plusieurs modèles statistiques que l'on indique avec l’argument family=binomial(logit) "
      ],
      "execution_count": null,
      "outputs": []
    },
    {
      "cell_type": "code",
      "metadata": {
        "id": "Ot8TEYKCSDCo"
      },
      "source": [
        "# Applique fonction summary au modèle pour voir les résultats \n",
        "\n",
        "summary(mod.reg)"
      ],
      "execution_count": null,
      "outputs": []
    },
    {
      "cell_type": "code",
      "metadata": {
        "id": "v7d0N6lhSTLR"
      },
      "source": [
        "# La fonction coef permet aussi de sélectionner les coefficients individuellement\n",
        "\n",
        "coef(mod.reg)[1]"
      ],
      "execution_count": null,
      "outputs": []
    },
    {
      "cell_type": "code",
      "metadata": {
        "id": "Wgbg8BZOSxvg"
      },
      "source": [
        "# La fonction exp pour les odds ratio et leurs intervalles de confiance\n",
        "exp(coef(mod.reg))\n",
        "\n",
        "## Aussi la fonction odds.ratio(mod.reg) du module questionr"
      ],
      "execution_count": null,
      "outputs": []
    },
    {
      "cell_type": "markdown",
      "metadata": {
        "id": "MtHs701RwaW_"
      },
      "source": [
        "\r\n",
        "\r\n",
        "---\r\n",
        "\r\n"
      ]
    },
    {
      "cell_type": "markdown",
      "metadata": {
        "id": "D7pEpYINYtcZ"
      },
      "source": [
        "##10. Visualiser les résultats d'un modèle"
      ]
    },
    {
      "cell_type": "markdown",
      "metadata": {
        "id": "gWfTkQkvdYSE"
      },
      "source": [
        "Exemple du module *effects*"
      ]
    },
    {
      "cell_type": "code",
      "metadata": {
        "id": "yFtLwtZIba6k"
      },
      "source": [
        "# Résultat de l'ANOVA\n",
        "\n",
        "plot(allEffects(mod.aov))"
      ],
      "execution_count": null,
      "outputs": []
    },
    {
      "cell_type": "code",
      "metadata": {
        "id": "ZEy6wssYYs3x"
      },
      "source": [
        "# Résultat de la régression linéaire - effet de tous les prédicteurs\n",
        "\n",
        "plot(allEffects(mod1.lm))"
      ],
      "execution_count": null,
      "outputs": []
    },
    {
      "cell_type": "code",
      "metadata": {
        "id": "iOwIpxn2ZUpt"
      },
      "source": [
        "# Résultat de la régression linéaire - effet d'un seul prédicteur\n",
        "\n",
        "plot(Effect(\"occup\", mod=mod1.lm))"
      ],
      "execution_count": null,
      "outputs": []
    },
    {
      "cell_type": "markdown",
      "metadata": {
        "id": "i2u2GNU3wb7H"
      },
      "source": [
        "\r\n",
        "\r\n",
        "---\r\n",
        "\r\n"
      ]
    }
  ]
}