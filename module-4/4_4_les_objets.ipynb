{
  "nbformat": 4,
  "nbformat_minor": 0,
  "metadata": {
    "colab": {
      "name": "4.4-les-objets.ipynb",
      "provenance": [],
      "collapsed_sections": [],
      "include_colab_link": true
    },
    "kernelspec": {
      "name": "ir",
      "display_name": "R"
    }
  },
  "cells": [
    {
      "cell_type": "markdown",
      "metadata": {
        "id": "view-in-github",
        "colab_type": "text"
      },
      "source": [
        "<a href=\"https://colab.research.google.com/github/Cours-EDUlib/FAS-ISDS/blob/amelioration-de-la-structure-du-repertoire/module-4/4_4_les_objets.ipynb\" target=\"_parent\"><img src=\"https://colab.research.google.com/assets/colab-badge.svg\" alt=\"Open In Colab\"/></a>"
      ]
    },
    {
      "cell_type": "markdown",
      "metadata": {
        "id": "rg0qXhjmOJ16"
      },
      "source": [
        "# Premiers pas avec R: les objets"
      ]
    },
    {
      "cell_type": "markdown",
      "metadata": {
        "id": "Za_mtGASnysP"
      },
      "source": [
        "## Télécharger et charger les *packages* utilisés"
      ]
    },
    {
      "cell_type": "code",
      "metadata": {
        "id": "-4sjD1fVjpt1"
      },
      "source": [
        "# Toujours débuter son script par le code d'installation des packages nécessaires.\n",
        "# Dans Colab, tous les packages sont téléchargés dans l'environnement d'exécution sur le nuage, c'est pourquoi il faut les télécharger à chaque fois.\n",
        "# Cette étape peut prendre plusieurs minutes.\n",
        "# dep=TRUE: assure que tous les modules dépendants nécessaires seront aussi installés.\n",
        "\n",
        "install.packages(\"questionr\", dep = TRUE)\n",
        "install.packages(\"Hmisc\", dep = TRUE)\n",
        "library(questionr)  # ou require()\n",
        "library(Hmisc)\n",
        "\n",
        "# Télécharger des packages de Github\n",
        "library(devtools)\n",
        "install_git(\"https://github.com/hadley/devtools.git\") # package devtools "
      ],
      "execution_count": null,
      "outputs": []
    },
    {
      "cell_type": "markdown",
      "metadata": {
        "id": "s-wk_QD1jqJU"
      },
      "source": [
        "### Gestion de packages\n",
        "\n",
        "\n"
      ]
    },
    {
      "cell_type": "code",
      "metadata": {
        "id": "Hdgx0UHIkZ7k"
      },
      "source": [
        "# Voir les modules téléchargés (chargés ou non)\n",
        "installed.packages()\t"
      ],
      "execution_count": null,
      "outputs": []
    },
    {
      "cell_type": "code",
      "metadata": {
        "id": "4uUU27DikVSn"
      },
      "source": [
        "# Voir les modules chargés\n",
        "search()"
      ],
      "execution_count": null,
      "outputs": []
    },
    {
      "cell_type": "code",
      "metadata": {
        "id": "pMqrgb4vkxfc"
      },
      "source": [
        "# Lister les fonctions d'un module chargé particulier\n",
        "library(help = questionr)"
      ],
      "execution_count": null,
      "outputs": []
    },
    {
      "cell_type": "code",
      "metadata": {
        "id": "MsBhK16wkpyu"
      },
      "source": [
        "# Détacher un module chargé\n",
        "detach(package:NomModule)   # pour éviter les conflits entre fonctions du même nom de différents modules"
      ],
      "execution_count": null,
      "outputs": []
    },
    {
      "cell_type": "code",
      "metadata": {
        "id": "9zVOxxhKaBez"
      },
      "source": [
        "# Documenter les détails de son environnement de travail (système, packages, versions...)\n",
        "sessionInfo()   # Important à noter pour assurer la reproductibilité des analyses"
      ],
      "execution_count": null,
      "outputs": []
    },
    {
      "cell_type": "markdown",
      "metadata": {
        "id": "r-2rxoPlGJBb"
      },
      "source": [
        "\n",
        "\n",
        "---\n",
        "\n"
      ]
    },
    {
      "cell_type": "markdown",
      "metadata": {
        "id": "gNUlaFhkpeNR"
      },
      "source": [
        "# 1. Les objets"
      ]
    },
    {
      "cell_type": "code",
      "metadata": {
        "id": "tyNc83nbDJhS"
      },
      "source": [
        "# R comme une grosse calculatrice\n",
        "\n",
        "2+2"
      ],
      "execution_count": null,
      "outputs": []
    },
    {
      "cell_type": "markdown",
      "metadata": {
        "id": "1hux8E5KR3UH"
      },
      "source": [
        "* Mais l’intérêt du langage est que l’on stocke les valeurs, les résultats, les tableaux, les fonctions... dans des **objets** qui pourront être réutilisés dans d’autres objets, fonctions, analyses.\n",
        "* Un objet est un **contenant** dans lequel on peut placer un chiffre, un mot, un jeu de données d’un \n",
        "million de répondants, une fonction, un graphique…"
      ]
    },
    {
      "cell_type": "code",
      "metadata": {
        "id": "RYkrInWGDxax"
      },
      "source": [
        "# Calcul simple\n",
        "(12+15+20)/3 "
      ],
      "execution_count": null,
      "outputs": []
    },
    {
      "cell_type": "code",
      "metadata": {
        "id": "p4wC2tuL2gck"
      },
      "source": [
        "# Créer un objet en utilisant l'opérateur d'assignation \"<-\" dans lequel on stocke le résultat du calcul\n",
        "moyenne <- (12+15+20)/3 "
      ],
      "execution_count": null,
      "outputs": []
    },
    {
      "cell_type": "code",
      "metadata": {
        "id": "e6p_IWqs2jx0"
      },
      "source": [
        "# Pour voir le contenu de son objet, tapper son nom\n",
        "\n",
        "moyenne  # Utilisation implicite de la fonction print() "
      ],
      "execution_count": null,
      "outputs": []
    },
    {
      "cell_type": "markdown",
      "metadata": {
        "id": "XORKUgO3Ytf9"
      },
      "source": [
        "\n",
        "\n",
        "---\n",
        "\n"
      ]
    },
    {
      "cell_type": "markdown",
      "metadata": {
        "id": "3vhpUEN-W-8T"
      },
      "source": [
        "##2. Les opérateurs"
      ]
    },
    {
      "cell_type": "markdown",
      "metadata": {
        "id": "gB6jGyGZXCHy"
      },
      "source": [
        "*  Opérateurs d'assignation: **<-**, = , ->\n",
        "*  Opérateurs de sélection: [], [[]], $, :\n",
        "*  Opérateurs booléen: !, &, |\n",
        "*  Opérateurs arithmétiques: +, -, *, /, ^\n",
        "* Opérateurs de comparaison: ==, !=, <, >, <=, >= "
      ]
    },
    {
      "cell_type": "markdown",
      "metadata": {
        "id": "sCmSdmpJGMNs"
      },
      "source": [
        "\n",
        "\n",
        "---\n",
        "\n"
      ]
    },
    {
      "cell_type": "markdown",
      "metadata": {
        "id": "eyFQnoIBpoic"
      },
      "source": [
        "##3.  Les fonctions"
      ]
    },
    {
      "cell_type": "markdown",
      "metadata": {
        "id": "kPs-twCDQ6K2"
      },
      "source": [
        "*  Permettent d’effectuer des tâches prédéfinies comme des analyses, graphiques, calculs, … \n",
        "*  Chaque fonction a un nom et plusieurs fonctions peuvent permettre d'effectuer la même tâche: par exemple pour faire une correlation, on retrouve entre autres les fonctions cor(), cor.test(), ...\n",
        "*  On appel une fonction en la nommant et on contrôle son comportement en paramétrant ses arguments.\n",
        "*  On peut imbriquer les fonctions les unes dans les autres avec des parenthèses."
      ]
    },
    {
      "cell_type": "code",
      "metadata": {
        "id": "xpB0u2NVDxim"
      },
      "source": [
        "# Créer un nouvel objet nommé \"age\" composé d’une série de 5 nombres avec la fonction c() (concaténer)\n",
        "age <- c(12, 15, 20, 35, 40) "
      ],
      "execution_count": null,
      "outputs": []
    },
    {
      "cell_type": "code",
      "metadata": {
        "id": "eA6aljJJSw3X"
      },
      "source": [
        "# Voir le contenu de l'objet \n",
        "age "
      ],
      "execution_count": null,
      "outputs": []
    },
    {
      "cell_type": "code",
      "metadata": {
        "id": "IBo969d2UECT"
      },
      "source": [
        "# Passer cet objet comme 1er argument de la fonction mean()\n",
        "mean(age)"
      ],
      "execution_count": null,
      "outputs": []
    },
    {
      "cell_type": "code",
      "metadata": {
        "id": "yJRG5mClUFHj"
      },
      "source": [
        "# Arrondir le résultat sans décimale (argument digits=) en imbriquant la fonction mean() dans la fonction round()\n",
        "round(mean(age), digits=0) "
      ],
      "execution_count": null,
      "outputs": []
    },
    {
      "cell_type": "markdown",
      "metadata": {
        "id": "f0goSNlhhPhz"
      },
      "source": [
        "\r\n",
        "\r\n",
        "---\r\n",
        "\r\n"
      ]
    },
    {
      "cell_type": "markdown",
      "metadata": {
        "id": "0yT9g9_5psbt"
      },
      "source": [
        "##4.  Les arguments"
      ]
    },
    {
      "cell_type": "markdown",
      "metadata": {
        "id": "ce9_JcLGRFlX"
      },
      "source": [
        "* Chaque fonction possède une liste plus ou moins longue d’arguments (paramètres ou options) permettant de paramétrer son fonctionnement.\n",
        "* Certains arguments ont une valeur par défaut. Si ces valeurs nous conviennent, pas besoin de les indiquer.\n",
        "* Si l’argument n’a pas de valeur par défaut, il FAUT le renseigner.\n",
        "* Pour modifier la valeur d’un argument, on le nomme et change sa valeur à la suite d’un =.\n",
        "* La liste d’arguments respecte un ordre. Si on modifie chaque argument dans l’ordre, on peut omettre le nom des arguments. Les arguments peuvent donc être nommés ou non (mais pour assurer la reproductibilité, il est recommandé de toujours les nommer).\n",
        "* Le premier argument, toujours les données (on ne le nomme généralement pas: x=).\n",
        "* Comment savoir quels sont les arguments d’une fonction? Taper Help(NomFonction) ou ?NomFonction ."
      ]
    },
    {
      "cell_type": "code",
      "metadata": {
        "id": "zs_FySvSDxlJ"
      },
      "source": [
        "age <- c(25, 36, 47, 58, 69, NA)  # Créer un vecteur composé de 5 chiffres et une valeur manquante\n",
        "\n",
        "# À noter: lorsque l'on stocke un nouveau contenu dans un  objet existant, le contenu initial est écrasé"
      ],
      "execution_count": null,
      "outputs": []
    },
    {
      "cell_type": "code",
      "metadata": {
        "id": "deSZfBxaVSWc"
      },
      "source": [
        "mean(age)    # OUPS!"
      ],
      "execution_count": null,
      "outputs": []
    },
    {
      "cell_type": "code",
      "metadata": {
        "id": "hJNk9WNKLZCP"
      },
      "source": [
        "help(mean)  # Pour afficher l'aide d'une fonction (ou ?mean)"
      ],
      "execution_count": null,
      "outputs": []
    },
    {
      "cell_type": "code",
      "metadata": {
        "id": "LtFxT1YeVhJT"
      },
      "source": [
        "mean(age, na.rm=TRUE, trim = 0.05)\n",
        "\n",
        "# L'argument na.rm=TRUE indique d'exclure les valeurs manquantes\n",
        "# L'argument trim=.05 indique d'exclure les 5% les plus extrêmes\n",
        "# Puisque les arguments sont nommés, il n'est pas nécessaire de respecter l'ordre indiqué:\n",
        "# mean(x, trim = 0, na.rm = FALSE, ...)"
      ],
      "execution_count": null,
      "outputs": []
    },
    {
      "cell_type": "markdown",
      "metadata": {
        "id": "498QFHQ_GRIR"
      },
      "source": [
        "\n",
        "\n",
        "---\n",
        "\n"
      ]
    },
    {
      "cell_type": "markdown",
      "metadata": {
        "id": "SB9YlqDsp2B5"
      },
      "source": [
        "##5.  Les types d'objets\n",
        "\n",
        "- Les objets sont caractérisés par **différentes structures**\n",
        "- On retrouve **5 différents types de contenants** ayant chacun leurs propriétés "
      ]
    },
    {
      "cell_type": "markdown",
      "metadata": {
        "id": "ofhseZAvSlwZ"
      },
      "source": [
        "\n",
        "\n",
        "\n",
        "1.   **Vecteur**\n",
        "2.   Liste\n",
        "3.   Matrice\n",
        "4.   Arrays (cubes)\n",
        "5.   **Dataframe (tableaux)**\n",
        "\n"
      ]
    },
    {
      "cell_type": "markdown",
      "metadata": {
        "id": "SSSL1WvCp5Mj"
      },
      "source": [
        "###5.1. Vecteurs\n",
        "\n",
        "*  La brique élémentaire = série de valeurs.\n",
        "*  En pratique, c’est une variable (mais qui n’est pas dans un tableau) et ses éléments sont ses valeurs.\n",
        "*  Objet contenant des valeurs (éléments/composantes) d'un seul **mode**: numérique, textuel, logique. "
      ]
    },
    {
      "cell_type": "code",
      "metadata": {
        "id": "HzWwUK2ryrML"
      },
      "source": [
        "# On crée des vecteurs principalement avec la commande c()\n",
        "\n",
        "poids <- c(70, 65, 60)  # vecteur numérique\n",
        "sexe <- c(\"femme\", \"homme\", \"femme\")  # vecteur textuel\n",
        "taille <- c(TRUE, FALSE, FALSE, TRUE)  # vecteur booléen"
      ],
      "execution_count": null,
      "outputs": []
    },
    {
      "cell_type": "code",
      "metadata": {
        "id": "tycxTSvvCKfO"
      },
      "source": [
        "# Pour voir le \"format\" des éléments stockés dans un objet, utiliser la fonction mode() ou typeof()\n",
        "mode(poids)"
      ],
      "execution_count": null,
      "outputs": []
    },
    {
      "cell_type": "code",
      "metadata": {
        "id": "d5TfZydBLZHM"
      },
      "source": [
        "# On peut faire des calculs entre vecteurs - exemple, calcul de l'IMC: poids divisé par taille au carré \n",
        "\n",
        "poids <- c(70, 65, 60) # crée un vecteur nommé \"poids\" avec la fonction c() composé de 3 éléments numériques"
      ],
      "execution_count": null,
      "outputs": []
    },
    {
      "cell_type": "code",
      "metadata": {
        "id": "lMhkZRFIYJgS"
      },
      "source": [
        "taille <- c(1.45, 1.60, 1.70) ^ 2  # crée un vecteur nommé \"taille\" avec la fonction c() composé de 3 éléments numériques au carré"
      ],
      "execution_count": null,
      "outputs": []
    },
    {
      "cell_type": "code",
      "metadata": {
        "id": "J5SBODhFYLrp"
      },
      "source": [
        "IMC <- poids / taille # diviser l'objet \"poids\" par l'objet \"taille\" (Attention! Les vecteurs doivent être de même longueur, sinon le principe de \"recyclage\" s'applique)"
      ],
      "execution_count": null,
      "outputs": []
    },
    {
      "cell_type": "code",
      "metadata": {
        "id": "lYeKRVCLYYwJ"
      },
      "source": [
        "IMC # voir le contenu de l'objet"
      ],
      "execution_count": null,
      "outputs": []
    },
    {
      "cell_type": "code",
      "metadata": {
        "id": "UkFgkFQ7qKee"
      },
      "source": [
        "median(IMC) # obtenir la médiane des éléments de l'objet"
      ],
      "execution_count": null,
      "outputs": []
    },
    {
      "cell_type": "code",
      "metadata": {
        "id": "Zif2DtRqgjv5"
      },
      "source": [
        "IMC - mean(IMC) # obtenir les différences à la moyenne des éléments de l'objet"
      ],
      "execution_count": null,
      "outputs": []
    },
    {
      "cell_type": "markdown",
      "metadata": {
        "id": "rMOeJDXQt7RC"
      },
      "source": [
        "###5.2. Facteurs "
      ]
    },
    {
      "cell_type": "markdown",
      "metadata": {
        "id": "gmmoFrlSt_Fp"
      },
      "source": [
        "* Vecteur avec des attributs spécifiques, dont la structure correspond aux variables qualitatives.\n",
        "* Les modalités de la variable correspondent à des \"niveaux\" (*levels*) uniques et fixes, ie impossible d’assigner une valeur qui n’a pas été préalablement définie comme une des modalités.\n",
        "* Des étiquettes (*labels*) peuvent être associées aux niveaux.\n",
        "* Lors de l’importation de données, tout dépendant de la fonction d'importation, les variables qualitatives seront importées sous forme de *vecteur textuel* ou de *facteur*."
      ]
    },
    {
      "cell_type": "code",
      "metadata": {
        "id": "kxkQEMr1EVv7"
      },
      "source": [
        "# Créer une variable de type facteur à partir d'un vecteur textuel de 4 valeurs de 2 niveaux avec la fonction factor()\n",
        "sexe <- factor(c(\"H\", \"H\", \"F\", \"H\"), labels = c(\"Homme\", \"Femme\"))"
      ],
      "execution_count": null,
      "outputs": []
    },
    {
      "cell_type": "code",
      "metadata": {
        "id": "maTUGiZwYUhA"
      },
      "source": [
        "# L'objet est un facteur avec 2 modalités (niveaux) définies par défaut en fonction des valeurs fournies \n",
        "str(sexe)"
      ],
      "execution_count": null,
      "outputs": []
    },
    {
      "cell_type": "markdown",
      "metadata": {
        "id": "VJqAsG6IsgXm"
      },
      "source": [
        "###5.3. Dataframes\n"
      ]
    },
    {
      "cell_type": "markdown",
      "metadata": {
        "id": "whDLBEP4XbyS"
      },
      "source": [
        "*  Tableau de données pouvant regrouper des vecteurs de différents types (variables numériques et/ou textuelles).\n",
        "\n",
        "*  Crée un jeu de données avec la fonction data.frame(), mais on le crée rarement manuellement dans R, généralement importé en format .txt, .csv..."
      ]
    },
    {
      "cell_type": "code",
      "metadata": {
        "id": "3SJE97y7vVzd"
      },
      "source": [
        "# Créer un dataframe avec 3 variables (2 vecteurs numériques et 1 vecteur textuel) avec la fonction data.frame()\n",
        "age <- c(45,65,22,38,54,31,29,44,56,67) \n",
        "poids <- c(150,125,210,175,110,180,130,155,190,120)\n",
        "sexe <- c(\"H\",\"F\",\"F\",\"H\",\"H\",\"F\",\"F\",\"H\",\"F\",\"H\")\n",
        "bd <- data.frame(age, sexe, poids)"
      ],
      "execution_count": null,
      "outputs": []
    },
    {
      "cell_type": "code",
      "metadata": {
        "id": "FcomKu7r8R5m"
      },
      "source": [
        "bd"
      ],
      "execution_count": null,
      "outputs": []
    },
    {
      "cell_type": "markdown",
      "metadata": {
        "id": "wII8-JjofzRi"
      },
      "source": [
        "\n",
        "\n",
        "---\n",
        "\n"
      ]
    }
  ]
}