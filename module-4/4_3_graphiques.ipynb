{
  "cells": [
    {
      "cell_type": "markdown",
      "metadata": {
        "id": "view-in-github",
        "colab_type": "text"
      },
      "source": [
        "<a href=\"https://colab.research.google.com/github/Cours-EDUlib/FAS-ISDS/blob/main/module-4/4_3_graphiques.ipynb\" target=\"_parent\"><img src=\"https://colab.research.google.com/assets/colab-badge.svg\" alt=\"Open In Colab\"/></a>"
      ]
    },
    {
      "cell_type": "code",
      "execution_count": null,
      "metadata": {
        "colab": {
          "background_save": true
        },
        "id": "N96Qbx4mimwT"
      },
      "outputs": [],
      "source": [
        "# Installation et chargement des modules nécessaires\n",
        "install.packages(\"questionr\", dep = TRUE)\n",
        "install.packages(\"car\", dep = TRUE)\n",
        "install.packages(\"ggplot2\", dep = TRUE)\n",
        "library(questionr)\n",
        "library(car)\n",
        "library(ggplot2)\n",
        "\n",
        "\n",
        "# Téléchargement de la base de données hdv2003 du module questionr\n",
        "# (Extrait de l'enquête \"Histoire de vie\" de l'Insee - https://www.insee.fr/fr/statistiques/2532244)\n",
        "data(hdv2003)\n",
        "\n",
        "# Copie de la base de données dans un objet (datatable) nommé bd\n",
        "bd <- hdv2003"
      ]
    },
    {
      "cell_type": "markdown",
      "metadata": {
        "id": "z3_BHy_3ZOwt"
      },
      "source": [
        "# Graphiques\n",
        "\n",
        "##Deux principales familles de fonctions graphiques\n",
        "\n",
        "\n",
        "1.   Fonctions natives\n",
        "2.   Fonctions GGplot2\n"
      ]
    },
    {
      "cell_type": "markdown",
      "metadata": {
        "id": "EWdlbqfFiD82"
      },
      "source": [
        "##1. Quatre graphiques de base: plot(), hist(), boxplot(), barplot()\n",
        "\n",
        "\n"
      ]
    },
    {
      "cell_type": "markdown",
      "metadata": {
        "id": "QhvJPyZbkEES"
      },
      "source": [
        "###1.1. La fonction générique plot() - le graphique produit dépend du type d'objet fourni\n",
        "\n"
      ]
    },
    {
      "cell_type": "markdown",
      "metadata": {
        "id": "E1tNIkhucW7C"
      },
      "source": [
        "####1.1.1. Variable qualitative = Graphique à barres\n"
      ]
    },
    {
      "cell_type": "code",
      "execution_count": null,
      "metadata": {
        "id": "rw_0Fs8dkG9k"
      },
      "outputs": [],
      "source": [
        "plot(bd$trav.satisf) "
      ]
    },
    {
      "cell_type": "markdown",
      "metadata": {
        "id": "8-gW84X2cnYI"
      },
      "source": [
        "####1.1.2. Variable quantitative = Nuage de points"
      ]
    },
    {
      "cell_type": "code",
      "execution_count": null,
      "metadata": {
        "id": "3rRKoJVFkJqj"
      },
      "outputs": [],
      "source": [
        "plot(bd$freres.soeurs) "
      ]
    },
    {
      "cell_type": "markdown",
      "metadata": {
        "id": "B7AxZt28dIrq"
      },
      "source": [
        "####1.1.3. Table d'effectifs (ou proportions) = Graphique à barres"
      ]
    },
    {
      "cell_type": "code",
      "execution_count": null,
      "metadata": {
        "id": "MNfogU3Pdr8w"
      },
      "outputs": [],
      "source": [
        "plot(table(bd$freres.soeurs))"
      ]
    },
    {
      "cell_type": "markdown",
      "metadata": {
        "id": "6H4Av2rdhq9g"
      },
      "source": [
        "**Fonctions de base s'accompagnent de nombreux arguments dont plusieurs peuvent être utilisés pour tous les graphiques**"
      ]
    },
    {
      "cell_type": "code",
      "execution_count": null,
      "metadata": {
        "id": "H7-h7WhVkQY7"
      },
      "outputs": [],
      "source": [
        "plot(table(bd$freres.soeurs), \n",
        "col=\"red\", \n",
        "main = \"Nombre de frères et soeurs\", \n",
        "ylab = \"Effectif\", \n",
        "xlab=\"Nombre de frères et soeurs\", \n",
        "ylim=c(1, 500),\n",
        "xlim=c(0, 25),\n",
        "type=\"b\")\n",
        "\n",
        "\n",
        "# col=    couleur des barres\n",
        "# main=   titre du grahique\n",
        "# ylab=   titre de l'axe y\n",
        "# xlab=   titre de l'axe x\n",
        "# ylim=   graduation de l'axe y\n",
        "# xlim=   graduation de l'axe x\n",
        "# type=   style de lignes\n",
        "  ## h\tlignes verticales\n",
        "  ## p\tpoints\n",
        "  ## l\tlignes\n",
        "  ## o\tet b lignes et points\n",
        "  ## s escaliers"
      ]
    },
    {
      "cell_type": "markdown",
      "metadata": {
        "id": "pEorbVLsc1fJ"
      },
      "source": [
        "####1.1.4. Variables quanti/quanti = Nuage de points"
      ]
    },
    {
      "cell_type": "code",
      "execution_count": null,
      "metadata": {
        "id": "WAJPIPfCkNIL"
      },
      "outputs": [],
      "source": [
        "plot(bd$age, bd$heures.tv) "
      ]
    },
    {
      "cell_type": "code",
      "execution_count": null,
      "metadata": {
        "id": "90WM773Pkt8W"
      },
      "outputs": [],
      "source": [
        "# Modifications possibles parmi tant d'autres: faire varier les points selon les valeurs d'une autre variable par l'ajout de fonctions superposées\n",
        "\n",
        "plot(bd$age, bd$heures.tv)  # var quanti/quanti\n",
        "points(bd$age[bd$sexe==\"Homme\"], bd$heures.tv[bd$sexe==\"Homme\"], pch=16, col=\"steelblue\")\n",
        "points(bd$age[bd$sexe==\"Femme\"], bd$heures.tv[bd$sexe==\"Femme\"], pch=16, col=\"orange\")\n",
        "legend(\"topright\", legend=c(\"Homme\",\"Femme\"), col=c(\"steelblue\",\"orange\"), pch=c(16))\n",
        "\n",
        "  # plot()    nuage de points\n",
        "  # points()  création d'une séquence de points colorés superposés en fonction de valeurs de variables sélectionnées par condition\n",
        "  # pch=      style de points\n",
        "  # col=      couleur des points\n",
        "  # legend()  ajout d'une légende et ses arguments de paramétrage"
      ]
    },
    {
      "cell_type": "code",
      "execution_count": null,
      "metadata": {
        "id": "81lj4YMnd7Iu"
      },
      "outputs": [],
      "source": [
        "colours() # Voir la liste des couleurs de base"
      ]
    },
    {
      "cell_type": "markdown",
      "metadata": {
        "id": "kUHVBldgeIqT"
      },
      "source": [
        "####1.1.5. Variables quali/quanti = Boite à moustaches"
      ]
    },
    {
      "cell_type": "code",
      "execution_count": null,
      "metadata": {
        "id": "K1RKsP9TkLvb"
      },
      "outputs": [],
      "source": [
        "plot(bd$sexe, bd$heures.tv) \n",
        "\n",
        "# variable indépendante à gauche (x), dépendante à droite (y)\n",
        "# Notation formule: les formules passent la variable y en premier, donc la notation formule de la fonction générique plot(x, y) est plot(y ~ x)"
      ]
    },
    {
      "cell_type": "markdown",
      "metadata": {
        "id": "e2QRsAQXfDpd"
      },
      "source": [
        "####1.1.6. Variable quantitative = Graphique de densité"
      ]
    },
    {
      "cell_type": "code",
      "execution_count": null,
      "metadata": {
        "id": "v7GoLbjwjiJL"
      },
      "outputs": [],
      "source": [
        "# Ajout de la fonction de densité à la fonction plot()\n",
        "\n",
        "plot(density(bd$heures.tv, na.rm = TRUE), main = \"Heures d'écoute de télé\")"
      ]
    },
    {
      "cell_type": "code",
      "execution_count": null,
      "metadata": {
        "id": "YrgJ5F1eguBS"
      },
      "outputs": [],
      "source": [
        "# Ajout de la fonction lines() qui permet de superposer plusieurs éléments graphiques\n",
        "\n",
        "plot(density(bd$age[bd$sexe == \"Femme\"]),  lwd = 3, col = \"red\", main = \"Titre du graphique\")\n",
        "lines(density(bd$age[bd$sexe == \"Homme\"]),  lwd = 3, col = \"blue\")\n",
        "\n",
        "# lwd=  largeur des lignes"
      ]
    },
    {
      "cell_type": "markdown",
      "metadata": {
        "id": "-cOP1_iKZqn6"
      },
      "source": [
        "###1.2. Diagramme à barres: fonction barplot()"
      ]
    },
    {
      "cell_type": "code",
      "execution_count": null,
      "metadata": {
        "id": "huXnxs1Fa8W_"
      },
      "outputs": [],
      "source": [
        "tb.eff <- table(bd$trav.satis, bd$sexe) # tableau d'effectifs\n",
        "tb.prop <- cprop(tb.eff, total = FALSE) # tableau de proportions"
      ]
    },
    {
      "cell_type": "code",
      "execution_count": null,
      "metadata": {
        "id": "iI30D-mpah17"
      },
      "outputs": [],
      "source": [
        "# Graphique à barres avec table d'effectifs superposés\n",
        "\n",
        "barplot(tb.eff , legend = levels(bd$trav.satis))\n",
        "\n",
        "# legend = levels pour faire apparaitre les catégories de la variable choisie"
      ]
    },
    {
      "cell_type": "code",
      "execution_count": null,
      "metadata": {
        "id": "u8q1Cc79aBIT"
      },
      "outputs": [],
      "source": [
        "# Graphique à barres avec table de proportions\n",
        "barplot(tb.prop, beside = TRUE, xlab = \"Satisfaction\", ylab = \"pourcentages\", las=2, ylim=c(0, 100),\n",
        "col = c(\"blue\", \"green\", \"orange\"), legend = levels(bd$trav.satis))\n",
        "\n",
        "# beside = TRUE  barres côtes à côtes\n",
        "# las=2          intitulés à la verticale"
      ]
    },
    {
      "cell_type": "markdown",
      "metadata": {
        "id": "GMKYy6_5iwCr"
      },
      "source": [
        "###1.3. Histogramme: fonction hist()"
      ]
    },
    {
      "cell_type": "code",
      "execution_count": null,
      "metadata": {
        "id": "8riJu9bKh_WY"
      },
      "outputs": [],
      "source": [
        "hist(bd$age) "
      ]
    },
    {
      "cell_type": "code",
      "execution_count": null,
      "metadata": {
        "id": "q7YT7QKKi29b"
      },
      "outputs": [],
      "source": [
        "# Histogramme avec quelques arguments\n",
        "hist(bd$age, main = \"Age\", col=\"violetred2\", breaks = 8, xlab = \"Age\", ylab = \"Effectif\", labels = TRUE)\n",
        "\n",
        "\n",
        "  # main=   titre du grahique\n",
        "  # col=    couleur des barres\n",
        "  # breaks= nombre de \"barres\"\n",
        "  # xlab=   titre de l'axe x\n",
        "  # ylab=   titre de l'axe y\n",
        "  # labels= affichage des valeurs\n",
        "  # Pour ajouter une ligne de densité:\n",
        "    ## argument prob = TRUE affichage de la ligne de densité\n",
        "    ## fonction lines(density(bd$age, na.rm = TRUE), lwd = 4, col = \"green\")\n"
      ]
    },
    {
      "cell_type": "markdown",
      "metadata": {
        "id": "s59kVCyRnmQr"
      },
      "source": [
        "#### La très pratique fonction par()"
      ]
    },
    {
      "cell_type": "code",
      "execution_count": null,
      "metadata": {
        "id": "NO9j-lzRnlvr"
      },
      "outputs": [],
      "source": [
        "par(mfrow = c(1, 2), bg=\"gray\", col.axis=\"green\", mar=c(5, 5, 5, 5))\n",
        "hist(bd$age[bd$sport == \"Oui\"], main = \"Sportif\", col = \"chartreuse2\")\n",
        "hist(bd$age[bd$sport == \"Non\"], main = \"Non sportif\", col = \"cyan4\")\n",
        "\n",
        "# par()       disposition des graphiques\n",
        "# bg=         couleur du \"background\"\n",
        "# col.axis=   couleur de la numérotation des axes\n",
        "# mar=        grosseur des marges"
      ]
    },
    {
      "cell_type": "markdown",
      "metadata": {
        "id": "oyTiu296jGgh"
      },
      "source": [
        "###1.4. Boite à moustaches "
      ]
    },
    {
      "cell_type": "code",
      "execution_count": null,
      "metadata": {
        "id": "Li_3095QjJZU"
      },
      "outputs": [],
      "source": [
        "boxplot(bd$heures.tv, main=\"Heures d'écoute de la télé\", col=\"green\", xlab = \"légende horizontale\", ylab = \"Heures d'écoute\" )"
      ]
    },
    {
      "cell_type": "code",
      "execution_count": null,
      "metadata": {
        "id": "uK5xJ5v2jVZD"
      },
      "outputs": [],
      "source": [
        "## Comparer groupe avec la notation \"formule\" (y ~ x)\n",
        "\n",
        "boxplot(age ~ hard.rock, bd)"
      ]
    },
    {
      "cell_type": "markdown",
      "metadata": {
        "id": "T5D-xkGMZ4A9"
      },
      "source": [
        "###1.5. Autres graphiques divers"
      ]
    },
    {
      "cell_type": "code",
      "execution_count": null,
      "metadata": {
        "id": "MPNmUYwEmKA0"
      },
      "outputs": [],
      "source": [
        "# Graphique mosaique\n",
        "\n",
        "mosaicplot(sport ~ sexe, bd, las = 1, shade = TRUE, main=\"Niveau de qualification selon le sexe\")\n",
        "# Chaque boite correspond à une cellule\n",
        "# largeur: pourcentages en colonnes\n",
        "# hauteur: pourcentages en lignes\n",
        "# Couleurs: résidus du chi2"
      ]
    },
    {
      "cell_type": "code",
      "execution_count": null,
      "metadata": {
        "id": "Vel7gTYV0IlL"
      },
      "outputs": [],
      "source": [
        "# diagramme Q-Q (Module car)\n",
        "\n",
        "qqPlot(bd$heures.tv, col=colors()[9], col.lines=colors()[30], lwd=4, pch=1) \n",
        "\n",
        "# Compare à une distribution normale, quantile par quantile\n",
        "# Trace en pointillé l'intervalle de confiance à 95%\n",
        "# Identifie les points les plus éloignés de leur quantile normal\n",
        "# col=       sélection de couleurs des points par position dans la palette colors()\n",
        "# col.lines= sélection de couleurs des lignes par position dans la palette colors()\n",
        "# lwd=       largeur des lignes\n",
        "# pch=       type de points"
      ]
    },
    {
      "cell_type": "code",
      "execution_count": null,
      "metadata": {
        "id": "wCWpCRQ73ajy"
      },
      "outputs": [],
      "source": [
        "# Nuage de points + ligne de régression non paramétrique et boites à moustache sur les axes (Module car)\n",
        "\n",
        "scatterplot(heures.tv ~ age,  data=bd) "
      ]
    },
    {
      "cell_type": "markdown",
      "metadata": {
        "id": "76Ackl2bUk7U"
      },
      "source": [
        "\n",
        "\n",
        "---\n",
        "\n"
      ]
    },
    {
      "cell_type": "markdown",
      "metadata": {
        "id": "3MvsqSnRlBlT"
      },
      "source": [
        "##2. Package graphique ggplot2 (grammar of graphics)\n",
        "\n",
        "* ggplot fonctionnne en superposant des composantes (couches)\n",
        "* ggplot() spécifie le tableau source des données\n",
        "* geom(): géométrie, ie choix du graphique (ex:geom_histogram)\n",
        "* aes(): aestetics, ie propriétés visuelles incluant l’axe des x , des y, la couleur des lignes ( colour ), ...\n",
        "* Ensuite on peut personnaliser avec des titres, légendes, thèmes, facettes et tout un tas d'options\n",
        "\n",
        "https://ggplot2.tidyverse.org/reference/ "
      ]
    },
    {
      "cell_type": "markdown",
      "metadata": {
        "id": "5ud7YK4-qQDz"
      },
      "source": [
        "###2.1. geom_histogram = Histogramme\n"
      ]
    },
    {
      "cell_type": "code",
      "execution_count": null,
      "metadata": {
        "id": "X0CPA0p5qXAj"
      },
      "outputs": [],
      "source": [
        "ggplot(bd) +                  # objet bd\n",
        "geom_histogram(aes(x = age))  # histogramme de la variable age\n",
        "\n",
        "# Argument aes() imbriqué ici dans le geom() mais peut aussi être défini dans le ggplot()"
      ]
    },
    {
      "cell_type": "code",
      "execution_count": null,
      "metadata": {
        "id": "2WECJG54qYt7"
      },
      "outputs": [],
      "source": [
        "ggplot(bd) + \n",
        "geom_histogram(aes(x = age), fill=\"orchid1\", colour = \"white\", binwidth = 5) +  # arguments de couleurs et largeur des barres\n",
        "ggtitle(\"Age des répondants\") +   # titre du graphique\n",
        "xlab(\"Age\") +                     # titre axe x\n",
        "ylab(\"Effectifs\")                 # titre axe y"
      ]
    },
    {
      "cell_type": "markdown",
      "metadata": {
        "id": "U2U5KBsHpw49"
      },
      "source": [
        "### Le *faceting*"
      ]
    },
    {
      "cell_type": "code",
      "execution_count": null,
      "metadata": {
        "id": "YOM4ZHbvl6c8"
      },
      "outputs": [],
      "source": [
        "# Le \"faceting\" permet d’effectuer plusieurs fois le même graphique selon les valeurs d’une ou plusieurs \n",
        "# variables qualitatives, içi facet_grid(~sexe)\n",
        "\n",
        "ggplot(bd) +  \n",
        "geom_histogram(aes(x = age), fill=\"orchid1\", colour = \"white\", breaks = c(0, 20, 40, 60, 80, 100)) +  # breaks= limites des catégories d'âge\n",
        "ggtitle(\"Age des répondants\") +   # titre du graphique\n",
        "xlab(\"Age\") +                     # titre axe x\n",
        "facet_grid(~sexe)                 # variable de groupes"
      ]
    },
    {
      "cell_type": "markdown",
      "metadata": {
        "id": "SewDKN5IpiPE"
      },
      "source": [
        "###2.2. geom_bar - Graphique en barres"
      ]
    },
    {
      "cell_type": "code",
      "execution_count": null,
      "metadata": {
        "id": "UPxBKyEYlOo9"
      },
      "outputs": [],
      "source": [
        "ggplot(bd) + \n",
        "geom_bar(aes(x = trav.satisf), fill = \"thistle3\", width = .7) + \n",
        "xlab(\"Satisfaction\") +\n",
        "ylab(\"Effectifs\") + \n",
        "ggtitle(\"Satisfaction au travail\") \n"
      ]
    },
    {
      "cell_type": "markdown",
      "metadata": {
        "id": "oeVQd0t7pspg"
      },
      "source": [
        "### Le *mapping*"
      ]
    },
    {
      "cell_type": "code",
      "execution_count": null,
      "metadata": {
        "id": "Hl4B2Mhhl3G8"
      },
      "outputs": [],
      "source": [
        "# Pour faire varier la couleur en fonction des valeurs prises par d'une autre variable, on réalise un \"mappage\"\n",
        "# on doit alors placer l’attribut graphique (ici fill=) à l’intérieur de aes()\n",
        "\n",
        "ggplot(bd) + \n",
        "geom_bar(aes(x = occup, fill = sexe))                     # position = \"stack\" - effectifs de groupes superposés par défaut\n",
        "\n",
        "ggplot(bd) + \n",
        "geom_bar(aes(x = occup, fill = sexe), position = \"dodge\") # position = \"dodge\" - effectifs de groupes  côte à côte\n",
        "\n",
        "ggplot(bd) + \n",
        "geom_bar(aes(x = occup, fill = sexe), position = \"fill\")  # position = \"fill\" - proportions superposées des groupes"
      ]
    },
    {
      "cell_type": "markdown",
      "metadata": {
        "id": "Kh-0nNd4pnRt"
      },
      "source": [
        "###2.3. geom_point: Nuage de points"
      ]
    },
    {
      "cell_type": "code",
      "execution_count": null,
      "metadata": {
        "id": "er8qcde3q_Ml"
      },
      "outputs": [],
      "source": [
        "ggplot(bd) + \n",
        "geom_point(aes(x = age, y = freres.soeurs, color = sexe), size=3, pch=19) + \n",
        "scale_color_brewer(\"sexe\", palette = \"Accent\") +\n",
        "theme(legend.position = \"bottom\", legend.box = \"vertical\") # ou appliquer des thèmes prédéfinis comme theme_dark()\n",
        "\n",
        "\n",
        "# color= à l'intérieur de aes() permet de faire varier la couleur des points en fonction des valeurs d’une troisième variable \n",
        "# Modier la grosseur des points avec size= et le type avec pch=\n",
        "# Autre répertoire de couleurs scale_color_brewer: RColorBrewer::display.brewer.all()\n",
        "# theme() fonction permettant de personnaliser l'apparence des graphiques:\n",
        "## permet d'appliquer des thèmes complets (ex: theme_dark()) ou des composantes spécifiques - voir aide ?theme"
      ]
    },
    {
      "cell_type": "code",
      "execution_count": null,
      "metadata": {
        "id": "PiYCtvX-lksF"
      },
      "outputs": [],
      "source": [
        "ggplot(bd) + \n",
        "geom_point(aes(x = age, y = heures.tv, color=sexe, size=heures.tv), alpha=0.2) +\n",
        "scale_size(\"Heures de télé\", range = c(1,10)) +\n",
        "scale_x_continuous(\"Age\", limits = c(15,100)) +\n",
        "scale_y_continuous(\"Heures de télé\", limits = c(0,15))\n",
        "\n",
        "# size= déplacé à l'intérieur de eas permet de faire varier la grosseur des points selon une variable quantitative\n",
        "# alpha= modifier la transparence\n",
        "# scale() permet de définir les limites des échelles x et y et leur légende respective"
      ]
    },
    {
      "cell_type": "code",
      "execution_count": null,
      "metadata": {
        "id": "A6JISQ2LrV7u"
      },
      "outputs": [],
      "source": [
        "### ajouter une droite de régression + lignes de densité\n",
        "ggplot(bd, aes(x=age, y=freres.soeurs)) +\n",
        "geom_point(col=\"steelblue2\") +\n",
        "geom_smooth(method=\"lm\", col=\"thistle3\") +\n",
        "geom_density2d(color = \"orange\") + \n",
        "scale_x_log10()"
      ]
    },
    {
      "cell_type": "markdown",
      "metadata": {
        "id": "FwBtEf0grsAA"
      },
      "source": [
        "###2.4. geom_boxplot - boite à moustache"
      ]
    },
    {
      "cell_type": "code",
      "execution_count": null,
      "metadata": {
        "id": "zoUl-BuYrrXo"
      },
      "outputs": [],
      "source": [
        "# On passe en y la variable quanti et en x la variable quali\n",
        "ggplot(bd) + \n",
        "geom_boxplot(aes(x = trav.satisf, y =age), varwidth = TRUE, fill = \"midnightblue\", color = \"chartreuse1\") + # varwidth = largeur de la boite selon les effectifs de groupes\n",
        "ggtitle(\"Pratique de la religion\")"
      ]
    },
    {
      "cell_type": "code",
      "execution_count": null,
      "metadata": {
        "id": "6KEiJAIHyeHp"
      },
      "outputs": [],
      "source": [
        "# On fait varier la couleur selon une variable sexe et on \"flip\" le tout\n",
        "ggplot(bd, aes(x = sexe, y = freres.soeurs, color = sexe)) + geom_boxplot() + coord_flip()"
      ]
    },
    {
      "cell_type": "markdown",
      "metadata": {
        "id": "CNr4rBso9Xct"
      },
      "source": [
        "###2.5. geom_density - densité"
      ]
    },
    {
      "cell_type": "code",
      "execution_count": null,
      "metadata": {
        "id": "T0BkFZtul9Cs"
      },
      "outputs": [],
      "source": [
        "# Distribution de l'âge selon le sexe - densité superposée avec transparence\n",
        "\n",
        "ggplot(bd, aes(x = age, color = sexe, fill=sexe)) + \n",
        "geom_density(alpha=0.55)"
      ]
    },
    {
      "cell_type": "markdown",
      "metadata": {
        "id": "tEzoNiq99kKk"
      },
      "source": [
        "\n",
        "\n",
        "---\n",
        "\n"
      ]
    }
  ],
  "metadata": {
    "colab": {
      "provenance": [],
      "authorship_tag": "ABX9TyPIGb5mkWvvdP6GSht/WgzP",
      "include_colab_link": true
    },
    "kernelspec": {
      "display_name": "R",
      "name": "ir"
    }
  },
  "nbformat": 4,
  "nbformat_minor": 0
}