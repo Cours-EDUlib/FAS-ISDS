{
  "nbformat": 4,
  "nbformat_minor": 0,
  "metadata": {
    "colab": {
      "name": "CP-descriptives.ipynb",
      "provenance": [],
      "collapsed_sections": [],
      "include_colab_link": true
    },
    "kernelspec": {
      "name": "ir",
      "display_name": "R"
    }
  },
  "cells": [
    {
      "cell_type": "markdown",
      "metadata": {
        "id": "view-in-github",
        "colab_type": "text"
      },
      "source": [
        "<a href=\"https://colab.research.google.com/github/Cours-EDUlib/FAS-ISDS/blob/main/module-4/4_1_statistiques_descriptives.ipynb\" target=\"_parent\"><img src=\"https://colab.research.google.com/assets/colab-badge.svg\" alt=\"Open In Colab\"/></a>"
      ]
    },
    {
      "cell_type": "code",
      "metadata": {
        "id": "Tb79Pacz3Rof"
      },
      "source": [
        "install.packages(\"questionr\", dep = TRUE)\n",
        "install.packages(\"car\", dep = TRUE)\n",
        "install.packages(\"psych\", dep = TRUE)\n",
        "library(devtools)\n",
        "install_version(\"mnormt\", version = \"1.5-5\", repos = \"http://cran.us.r-project.org\")\n",
        "require(car)\n",
        "require(questionr)\n",
        "require(psych)\n",
        "data(hdv2003)\n",
        "bd <- hdv2003"
      ],
      "execution_count": null,
      "outputs": []
    },
    {
      "cell_type": "markdown",
      "metadata": {
        "id": "fLqENOglObMO"
      },
      "source": [
        "\n",
        "\n",
        "---\n",
        "\n"
      ]
    },
    {
      "cell_type": "markdown",
      "metadata": {
        "id": "2qgjxhOc2pVu"
      },
      "source": [
        "# Statistiques descriptives univariées"
      ]
    },
    {
      "cell_type": "markdown",
      "metadata": {
        "id": "nSqrJHml1Pxp"
      },
      "source": [
        "### Fonction générique summary() \n",
        "*   Fournit les principales mesures de tendance centrale et de dispersion d’une distribution avec quartiles \n",
        "*   C’est une fonction dont le comportement s’adapte au type d’objet\n",
        "*   Élimine d'emblée valeurs manquantes"
      ]
    },
    {
      "cell_type": "code",
      "metadata": {
        "id": "eLkhJ2Du1dGT"
      },
      "source": [
        "summary(bd)"
      ],
      "execution_count": null,
      "outputs": []
    },
    {
      "cell_type": "code",
      "metadata": {
        "id": "AfAn5q_l1f1i",
        "colab": {
          "base_uri": "https://localhost:8080/",
          "height": 51
        },
        "outputId": "0bf08cc3-e718-4fed-b0d0-c12e9ce12e5b"
      },
      "source": [
        "summary(bd$age)"
      ],
      "execution_count": null,
      "outputs": [
        {
          "output_type": "display_data",
          "data": {
            "text/plain": [
              "   Min. 1st Qu.  Median    Mean 3rd Qu.    Max. \n",
              "  18.00   35.00   48.00   48.16   60.00   97.00 "
            ]
          },
          "metadata": {
            "tags": []
          }
        }
      ]
    },
    {
      "cell_type": "code",
      "metadata": {
        "id": "LSOwIyO11fk5",
        "colab": {
          "base_uri": "https://localhost:8080/",
          "height": 34
        },
        "outputId": "c59c8495-190d-4f37-97f1-4eaa9c544f10"
      },
      "source": [
        "summary(bd$occup)"
      ],
      "execution_count": null,
      "outputs": [
        {
          "output_type": "display_data",
          "data": {
            "text/plain": [
              "Exerce une profession               Chomeur       Etudiant, eleve \n",
              "                 1049                   134                    94 \n",
              "             Retraite   Retire des affaires              Au foyer \n",
              "                  392                    77                   171 \n",
              "        Autre inactif \n",
              "                   83 "
            ],
            "text/latex": "\\begin{description*}\n\\item[Exerce une profession] 1049\n\\item[Chomeur] 134\n\\item[Etudiant, eleve] 94\n\\item[Retraite] 392\n\\item[Retire des affaires] 77\n\\item[Au foyer] 171\n\\item[Autre inactif] 83\n\\end{description*}\n",
            "text/markdown": "Exerce une profession\n:   1049Chomeur\n:   134Etudiant, eleve\n:   94Retraite\n:   392Retire des affaires\n:   77Au foyer\n:   171Autre inactif\n:   83\n\n",
            "text/html": [
              "<style>\n",
              ".dl-inline {width: auto; margin:0; padding: 0}\n",
              ".dl-inline>dt, .dl-inline>dd {float: none; width: auto; display: inline-block}\n",
              ".dl-inline>dt::after {content: \":\\0020\"; padding-right: .5ex}\n",
              ".dl-inline>dt:not(:first-of-type) {padding-left: .5ex}\n",
              "</style><dl class=dl-inline><dt>Exerce une profession</dt><dd>1049</dd><dt>Chomeur</dt><dd>134</dd><dt>Etudiant, eleve</dt><dd>94</dd><dt>Retraite</dt><dd>392</dd><dt>Retire des affaires</dt><dd>77</dd><dt>Au foyer</dt><dd>171</dd><dt>Autre inactif</dt><dd>83</dd></dl>\n"
            ]
          },
          "metadata": {
            "tags": []
          }
        }
      ]
    },
    {
      "cell_type": "code",
      "metadata": {
        "id": "dLcrA-pk1faq"
      },
      "source": [
        "str(bd)"
      ],
      "execution_count": null,
      "outputs": []
    },
    {
      "cell_type": "markdown",
      "metadata": {
        "id": "9v7R-adv1tSb"
      },
      "source": [
        "### Autres fonctions utiles"
      ]
    },
    {
      "cell_type": "code",
      "metadata": {
        "id": "d0L6I20d11Np",
        "colab": {
          "base_uri": "https://localhost:8080/",
          "height": 34
        },
        "outputId": "dbddd195-1c12-4969-d637-7871d218edeb"
      },
      "source": [
        "# Fonctions diverses permettant d'explorer les indicateurs de centralité et de dispersion pour variable quantitative\n",
        "# Toujours ajouter na.rm=T en argument\n",
        "\n",
        "median(bd$heures.tv, na.rm=TRUE)\n",
        "mean(bd$heures.tv, na.rm=TRUE)\n",
        "max(bd$heures.tv, na.rm=TRUE)\n",
        "min(bd$heures.tv, na.rm=TRUE)\n",
        "sum(bd$heures.tv, na.rm=TRUE)\n",
        "range(bd$heures.tv, na.rm=TRUE)\n",
        "var(bd$heures.tv, na.rm=TRUE)\n",
        "sd(bd$heures.tv, na.rm=TRUE)quantile(bd$heures.tv, na.rm=TRUE)"
      ],
      "execution_count": null,
      "outputs": [
        {
          "output_type": "display_data",
          "data": {
            "text/plain": [
              "[1] 2"
            ],
            "text/latex": "2",
            "text/markdown": "2",
            "text/html": [
              "2"
            ]
          },
          "metadata": {
            "tags": []
          }
        }
      ]
    },
    {
      "cell_type": "code",
      "metadata": {
        "id": "MOHLN8io2KHy"
      },
      "source": [
        "# Fonctions de normalité\n",
        "\n",
        "skew(bd$heures.tv, na.rm=TRUE) # package psych\n",
        "kurtosi(bd$heures.tv, na.rm=TRUE) # package psych\n",
        "qqPlot(bd$heures.tv) # package car\n"
      ],
      "execution_count": null,
      "outputs": []
    },
    {
      "cell_type": "code",
      "metadata": {
        "id": "msGA3_092T0M"
      },
      "source": [
        "# Fonctions de transformation -> normalité & rang\n",
        "\n",
        "log(bd$age)     # Logarithme (, base=10)\n",
        "sqrt(bd$age)    # Racine carrée\n",
        "scale(bd$age, center = TRUE, scale = TRUE)    # Centrage et réduction avec la fonction scale (Zscore)"
      ],
      "execution_count": null,
      "outputs": []
    },
    {
      "cell_type": "code",
      "metadata": {
        "id": "A1pyiDUXgXSq"
      },
      "source": [
        "## La très utile fonction apply\n",
        "\n",
        "### Pour appliquer une fonction sur plusieurs variables à la fois\n",
        "apply(bd[,c(\"age\", \"heures.tv\",\"freres.soeurs\")], MARGIN=2, FUN=scale)\n",
        "\n",
        "# c() indique les variables à utiliser\n",
        "# MARGIN=2: calcul à travers les participants (colonnes), =1 est à travers les rangées\n",
        "# FUN=scale: la fonction à appliquer, pourrait être n'importe laquelle comme moyenne, somme, variance..."
      ],
      "execution_count": null,
      "outputs": []
    },
    {
      "cell_type": "markdown",
      "metadata": {
        "id": "GF7vFpCz4Wou"
      },
      "source": [
        "## Table de fréquences"
      ]
    },
    {
      "cell_type": "markdown",
      "metadata": {
        "id": "4sga9JIR40w-"
      },
      "source": [
        "### Fonction table() - Tableaux d'effectifs "
      ]
    },
    {
      "cell_type": "code",
      "metadata": {
        "id": "zIb3b0GR4aVH"
      },
      "source": [
        "tb1<-table(bd$freres.soeurs)    # var numérique"
      ],
      "execution_count": null,
      "outputs": []
    },
    {
      "cell_type": "code",
      "metadata": {
        "id": "HHPBSLuJ4nnN"
      },
      "source": [
        "tb2<-table(bd$qualif)            # var quali (résultat pareil à summary())\n",
        "\n",
        "# Exclu NA par défaut, sinon il faut utiliser l’argument useNA =\"always\" ou \"ifany\""
      ],
      "execution_count": null,
      "outputs": []
    },
    {
      "cell_type": "markdown",
      "metadata": {
        "id": "zfPG9nlR4vtG"
      },
      "source": [
        "### Autres fonctions utiles\n"
      ]
    },
    {
      "cell_type": "code",
      "metadata": {
        "id": "9HLGZxSO7rxj"
      },
      "source": [
        "prop.table(tb2)"
      ],
      "execution_count": null,
      "outputs": []
    },
    {
      "cell_type": "code",
      "metadata": {
        "id": "6bGVpM3E74kw"
      },
      "source": [
        "# Afficher en % et arrondir\n",
        "\n",
        "round((prop.table(tb2))*100) "
      ],
      "execution_count": null,
      "outputs": []
    },
    {
      "cell_type": "code",
      "metadata": {
        "id": "vbOsafBB8VNS"
      },
      "source": [
        "# Fonction freq (package questionr)\n",
        "\n",
        "freq(bd$occup) # affiche les NA par défaut\n",
        "\n",
        "### Nombreux arguments utiles possibles\n",
        "\n",
        "freq(bd$occup, cum = FALSE, total = TRUE, sort = \"inc\", digits = 0, exclude = NA)\n",
        "\n",
        "  # cum: afficher ou non les % cumulés\n",
        "  # total: ajouter les effectifs totaux\n",
        "  # sort: trier le tableau par fréquence croissante (sort=\"inc\") ou décroissante (sort=\"dec\")\n",
        "  # digits: arrondir\n",
        "  # exclude: exclure valeurs manquantes"
      ],
      "execution_count": null,
      "outputs": []
    },
    {
      "cell_type": "markdown",
      "metadata": {
        "id": "7Q3sIat0OWvA"
      },
      "source": [
        "\n",
        "\n",
        "---\n",
        "\n"
      ]
    },
    {
      "cell_type": "markdown",
      "metadata": {
        "id": "OgWtOijXFEsS"
      },
      "source": [
        "# Statistiques descriptives bivariées\n",
        "\n",
        "## Tableaux croisées"
      ]
    },
    {
      "cell_type": "markdown",
      "metadata": {
        "id": "oUhvmoJZFZ9y"
      },
      "source": [
        "### Fonction table() et cie.\n",
        "*   1er argument var horizontale (dép.), 2e var verticale (ind.)"
      ]
    },
    {
      "cell_type": "code",
      "metadata": {
        "id": "EG8MM7cuFgPB"
      },
      "source": [
        "tb <-table(bd$qualif, bd$sexe) # pour une table à plus de deux niveaux, simplement ajouter une variable additionnelle\n"
      ],
      "execution_count": null,
      "outputs": []
    },
    {
      "cell_type": "code",
      "metadata": {
        "id": "HqAqyLcJF2Sf"
      },
      "source": [
        "# Ajouter les totaux des effectifs\n",
        "\n",
        "addmargins(tb)    "
      ],
      "execution_count": null,
      "outputs": []
    },
    {
      "cell_type": "code",
      "metadata": {
        "id": "ciK9GqW0F2u0"
      },
      "source": [
        "# % Totaux \n",
        "\n",
        "prop(tb)    \n",
        "prop_table(tb)         "
      ],
      "execution_count": null,
      "outputs": []
    },
    {
      "cell_type": "code",
      "metadata": {
        "id": "GkdKEuY7F2XK"
      },
      "source": [
        "# % Totaux, Arguments 1 pour % en rangées, 2 pour % en colonnes\n",
        "\n",
        "prop.table(tb)    "
      ],
      "execution_count": null,
      "outputs": []
    },
    {
      "cell_type": "code",
      "metadata": {
        "id": "9A5fO22gF2NT"
      },
      "source": [
        "# % en ligne\n",
        "\n",
        "rprop(tb)         \n"
      ],
      "execution_count": null,
      "outputs": []
    },
    {
      "cell_type": "code",
      "metadata": {
        "id": "jAZbfIhvGAwj"
      },
      "source": [
        "# lprop et cprop de questionr pour %\n",
        "\n",
        "cprop(tb, percent = T)    # % en colonnes. Argument percent pour afficher les %"
      ],
      "execution_count": null,
      "outputs": []
    },
    {
      "cell_type": "code",
      "metadata": {
        "id": "HbWIvnEHGAjj"
      },
      "source": [
        "lprop(tb, percent = T)    # % en lignes"
      ],
      "execution_count": null,
      "outputs": []
    },
    {
      "cell_type": "markdown",
      "metadata": {
        "id": "uG97p7iQHBiA"
      },
      "source": [
        "### Comparer des groupes : by() et tapply() \n",
        "\n",
        "Les très pratiques fonctions by() et tapply() (variante de la fonction apply)permettent d'appliquer une fonction sur une variable quantitative (1er) selon les modalités d'une variable catégorielle (2iem)\n"
      ]
    },
    {
      "cell_type": "code",
      "metadata": {
        "id": "jxwTIO5faF9L",
        "colab": {
          "base_uri": "https://localhost:8080/",
          "height": 102
        },
        "outputId": "2e496b01-d645-4ae4-ec48-ae99bb2ce85e"
      },
      "source": [
        "by(bd$age, bd$sexe, mean)"
      ],
      "execution_count": null,
      "outputs": [
        {
          "output_type": "display_data",
          "data": {
            "text/plain": [
              "bd$sexe: Homme\n",
              "[1] 48.16129\n",
              "------------------------------------------------------------ \n",
              "bd$sexe: Femme\n",
              "[1] 48.1535"
            ]
          },
          "metadata": {
            "tags": []
          }
        }
      ]
    },
    {
      "cell_type": "code",
      "metadata": {
        "id": "ThjF0SoQHLre"
      },
      "source": [
        "tapply(bd$age, bd$sexe, mean)"
      ],
      "execution_count": null,
      "outputs": []
    },
    {
      "cell_type": "code",
      "metadata": {
        "id": "7-ixDyruaALQ"
      },
      "source": [
        "tapply(bd$relig, bd$sexe, table) "
      ],
      "execution_count": null,
      "outputs": []
    },
    {
      "cell_type": "code",
      "metadata": {
        "id": "TUjDMl5GaABK"
      },
      "source": [
        "tapply(bd$relig, bd$sexe, freq)"
      ],
      "execution_count": null,
      "outputs": []
    }
  ]
}