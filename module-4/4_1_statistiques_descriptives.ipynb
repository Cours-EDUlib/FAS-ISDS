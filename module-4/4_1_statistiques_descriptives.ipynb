{
  "nbformat": 4,
  "nbformat_minor": 0,
  "metadata": {
    "colab": {
      "name": "5.1-statistiques-descriptives.ipynb",
      "provenance": [],
      "collapsed_sections": [],
      "include_colab_link": true
    },
    "kernelspec": {
      "name": "ir",
      "display_name": "R"
    }
  },
  "cells": [
    {
      "cell_type": "markdown",
      "metadata": {
        "id": "view-in-github",
        "colab_type": "text"
      },
      "source": [
        "<a href=\"https://colab.research.google.com/github/Cours-EDUlib/FAS-ISDS/blob/amelioration-de-la-structure-du-repertoire/module-5/5_1_statistiques_descriptives.ipynb\" target=\"_parent\"><img src=\"https://colab.research.google.com/assets/colab-badge.svg\" alt=\"Open In Colab\"/></a>"
      ]
    },
    {
      "cell_type": "code",
      "metadata": {
        "id": "Tb79Pacz3Rof"
      },
      "source": [
        "# Installation et chargement des modules nécessaires\n",
        "install.packages(\"questionr\", dep = TRUE)\n",
        "install.packages(\"car\", dep = TRUE)\n",
        "install.packages(\"psych\", dep = TRUE)\n",
        "install.packages(\"Hmisc\", dep = TRUE)\n",
        "library(car)\n",
        "library(questionr)\n",
        "library(psych)\n",
        "library(Hmisc)\n",
        "\n",
        "\n",
        "# Téléchargement de la base de données hdv2003 du module questionr\n",
        "# (Extrait de l'enquête \"Histoire de vie\" de l'Insee - https://www.insee.fr/fr/statistiques/2532244)\n",
        "data(hdv2003)\n",
        "\n",
        "# Copie de la base de données dans un objet (datatable) nommé bd\n",
        "bd <- hdv2003"
      ],
      "execution_count": null,
      "outputs": []
    },
    {
      "cell_type": "markdown",
      "metadata": {
        "id": "vkvmBiokHiRq"
      },
      "source": [
        "#Statistiques descriptives"
      ]
    },
    {
      "cell_type": "markdown",
      "metadata": {
        "id": "2qgjxhOc2pVu"
      },
      "source": [
        "#1. Statistiques descriptives univariées"
      ]
    },
    {
      "cell_type": "markdown",
      "metadata": {
        "id": "nSqrJHml1Pxp"
      },
      "source": [
        "##1.1. Fonction générique summary() \n",
        "*   Fournit les principales mesures de tendance centrale et de dispersion d’une distribution avec quartiles \n",
        "*   C’est une fonction dont le comportement s’adapte au type d’objet\n",
        "*   Élimine d'emblée les valeurs manquantes"
      ]
    },
    {
      "cell_type": "code",
      "metadata": {
        "id": "eLkhJ2Du1dGT"
      },
      "source": [
        "summary(bd) # Résumé de la base de données "
      ],
      "execution_count": null,
      "outputs": []
    },
    {
      "cell_type": "code",
      "metadata": {
        "id": "AfAn5q_l1f1i"
      },
      "source": [
        "summary(bd$age) # Résumé d'une variable quantitative"
      ],
      "execution_count": null,
      "outputs": []
    },
    {
      "cell_type": "code",
      "metadata": {
        "id": "LSOwIyO11fk5"
      },
      "source": [
        "summary(bd$occup) # Résumé d'une variable qualitative"
      ],
      "execution_count": null,
      "outputs": []
    },
    {
      "cell_type": "markdown",
      "metadata": {
        "id": "9v7R-adv1tSb"
      },
      "source": [
        "##1.2. Autres fonctions pour indicateurs individuels"
      ]
    },
    {
      "cell_type": "code",
      "metadata": {
        "id": "d0L6I20d11Np"
      },
      "source": [
        "# Fonctions diverses permettant d'explorer les indicateurs de centralité et de dispersion pour variable quantitative\n",
        "# Toujours ajouter na.rm=T en argument\n",
        "\n",
        "median(bd$heures.tv, na.rm=TRUE)"
      ],
      "execution_count": null,
      "outputs": []
    },
    {
      "cell_type": "code",
      "metadata": {
        "id": "6c0Yu6wdP4M6"
      },
      "source": [
        "mean(bd$heures.tv, na.rm=TRUE)"
      ],
      "execution_count": null,
      "outputs": []
    },
    {
      "cell_type": "code",
      "metadata": {
        "id": "1YSNCumrP3rb"
      },
      "source": [
        "max(bd$heures.tv, na.rm=TRUE)"
      ],
      "execution_count": null,
      "outputs": []
    },
    {
      "cell_type": "code",
      "metadata": {
        "id": "7UxebAHbP3vb"
      },
      "source": [
        "min(bd$heures.tv, na.rm=TRUE)"
      ],
      "execution_count": null,
      "outputs": []
    },
    {
      "cell_type": "code",
      "metadata": {
        "id": "dXwu8-iRP3jb"
      },
      "source": [
        "sum(bd$heures.tv, na.rm=TRUE)"
      ],
      "execution_count": null,
      "outputs": []
    },
    {
      "cell_type": "code",
      "metadata": {
        "id": "NrHDZRwhP9Fh"
      },
      "source": [
        "range(bd$heures.tv, na.rm=TRUE)"
      ],
      "execution_count": null,
      "outputs": []
    },
    {
      "cell_type": "code",
      "metadata": {
        "id": "eSzf_lYwP82S"
      },
      "source": [
        "var(bd$heures.tv, na.rm=TRUE)"
      ],
      "execution_count": null,
      "outputs": []
    },
    {
      "cell_type": "code",
      "metadata": {
        "id": "j-KIqO3gP_kC"
      },
      "source": [
        "sd(bd$heures.tv, na.rm=TRUE)"
      ],
      "execution_count": null,
      "outputs": []
    },
    {
      "cell_type": "code",
      "metadata": {
        "id": "XCl5O-XlELJs"
      },
      "source": [
        "quantile(bd$heures.tv, na.rm=TRUE)"
      ],
      "execution_count": null,
      "outputs": []
    },
    {
      "cell_type": "markdown",
      "metadata": {
        "id": "YvqE4LGSQNuo"
      },
      "source": [
        "### Fonctions de normalité"
      ]
    },
    {
      "cell_type": "code",
      "metadata": {
        "id": "MOHLN8io2KHy"
      },
      "source": [
        "skew(bd$heures.tv, na.rm=TRUE) # module psych"
      ],
      "execution_count": null,
      "outputs": []
    },
    {
      "cell_type": "code",
      "metadata": {
        "id": "-LM0Fu_LPrBJ"
      },
      "source": [
        "kurtosi(bd$heures.tv, na.rm=TRUE) # module psych"
      ],
      "execution_count": null,
      "outputs": []
    },
    {
      "cell_type": "markdown",
      "metadata": {
        "id": "iSrz_dLvQUZZ"
      },
      "source": [
        "### Fonctions de transformation: normalité & rang"
      ]
    },
    {
      "cell_type": "code",
      "metadata": {
        "id": "msGA3_092T0M"
      },
      "source": [
        "bd$age.log <- log(bd$age, base=10)     # Logarithme (, base=10)"
      ],
      "execution_count": null,
      "outputs": []
    },
    {
      "cell_type": "code",
      "metadata": {
        "id": "ckdt8JQvPuyP"
      },
      "source": [
        "bd$age.sqrt <- sqrt(bd$age)    # Racine carrée"
      ],
      "execution_count": null,
      "outputs": []
    },
    {
      "cell_type": "code",
      "metadata": {
        "id": "lWx5uXU7PusQ"
      },
      "source": [
        "bd$age.scale <- scale(bd$age, center = TRUE, scale = TRUE)    # Standardisation: centrage et réduction (Zscore)"
      ],
      "execution_count": null,
      "outputs": []
    },
    {
      "cell_type": "markdown",
      "metadata": {
        "id": "mwat867y0X4c"
      },
      "source": [
        "##1.3. La très utile fonction apply()"
      ]
    },
    {
      "cell_type": "code",
      "metadata": {
        "id": "A1pyiDUXgXSq"
      },
      "source": [
        "# Pour appliquer une fonction sur plusieurs variables à la fois\n",
        "apply(bd[ ,c(\"age\", \"heures.tv\",\"freres.soeurs\")], na.rm=TRUE, MARGIN=1, FUN=mean)\n",
        "\n",
        "## c() indique les variables à utiliser dans le calcul\n",
        "## MARGIN=2: calcul à travers les participants (ici moyenne de colonnes), =1 est à travers les rangées\n",
        "## FUN=mean: la fonction à appliquer, pourrait être n'importe laquelle comme somme, variance..."
      ],
      "execution_count": null,
      "outputs": []
    },
    {
      "cell_type": "markdown",
      "metadata": {
        "id": "GF7vFpCz4Wou"
      },
      "source": [
        "##1.4. Table de fréquences"
      ]
    },
    {
      "cell_type": "markdown",
      "metadata": {
        "id": "4sga9JIR40w-"
      },
      "source": [
        "### Fonction table() - Tableaux d'effectifs "
      ]
    },
    {
      "cell_type": "code",
      "metadata": {
        "id": "zIb3b0GR4aVH"
      },
      "source": [
        "table(bd$freres.soeurs)    # var numérique"
      ],
      "execution_count": null,
      "outputs": []
    },
    {
      "cell_type": "code",
      "metadata": {
        "id": "HHPBSLuJ4nnN"
      },
      "source": [
        "tb.cat <- table(bd$qualif) # var quali (résultat pareil à summary())\n",
        "\n",
        "## Exclu NA par défaut, sinon il faut utiliser l’argument useNA =\"always\" ou \"ifany\"\n",
        "## On place la table dans un nouvel objet pour pouvoir lui appliquer d'autres opérations"
      ],
      "execution_count": null,
      "outputs": []
    },
    {
      "cell_type": "markdown",
      "metadata": {
        "id": "zfPG9nlR4vtG"
      },
      "source": [
        "### Autres fonctions pertinentes\n"
      ]
    },
    {
      "cell_type": "code",
      "metadata": {
        "id": "9HLGZxSO7rxj"
      },
      "source": [
        "prop.table(tb.cat) # Appliquée à une table pour transformer les valeurs en proportions"
      ],
      "execution_count": null,
      "outputs": []
    },
    {
      "cell_type": "code",
      "metadata": {
        "id": "6bGVpM3E74kw"
      },
      "source": [
        "# Afficher en % et arrondir\n",
        "\n",
        "round((prop.table(tb.cat))*100) "
      ],
      "execution_count": null,
      "outputs": []
    },
    {
      "cell_type": "code",
      "metadata": {
        "id": "vbOsafBB8VNS"
      },
      "source": [
        "# Fonction freq (module questionr)\n",
        "\n",
        "freq(bd$qualif) # affiche les NA par défaut"
      ],
      "execution_count": null,
      "outputs": []
    },
    {
      "cell_type": "code",
      "metadata": {
        "id": "_UVQRaVB7pmv"
      },
      "source": [
        "# Fonction freq: nombreux arguments utiles possibles\n",
        "\n",
        "freq(bd$qualif, cum = TRUE, total = TRUE, sort = \"inc\", digits = 0, exclude = NA)\n",
        "\n",
        "## cum: afficher ou non les % cumulés\n",
        "## total: ajouter les effectifs totaux\n",
        "## sort: trier le tableau par fréquence croissante (sort=\"inc\") ou décroissante (sort=\"dec\")\n",
        "## digits: arrondir\n",
        "## exclude: exclure valeurs manquantes"
      ],
      "execution_count": null,
      "outputs": []
    },
    {
      "cell_type": "markdown",
      "metadata": {
        "id": "7Q3sIat0OWvA"
      },
      "source": [
        "\n",
        "\n",
        "---\n",
        "\n"
      ]
    },
    {
      "cell_type": "markdown",
      "metadata": {
        "id": "OgWtOijXFEsS"
      },
      "source": [
        "#2. Statistiques descriptives bivariées"
      ]
    },
    {
      "cell_type": "markdown",
      "metadata": {
        "id": "nyotWIiL19--"
      },
      "source": [
        "##2.1. Tableaux croisées"
      ]
    },
    {
      "cell_type": "markdown",
      "metadata": {
        "id": "oUhvmoJZFZ9y"
      },
      "source": [
        "### Fonction table() et cie.\n",
        "*   1er argument var en ligne (x), 2e var en colonne (y)"
      ]
    },
    {
      "cell_type": "code",
      "metadata": {
        "id": "EG8MM7cuFgPB"
      },
      "source": [
        "tb <-table(bd$trav.satis, bd$sexe) \n",
        "\n",
        "## pour un tableau à plus de deux niveaux, simplement ajouter une virgule puis variable additionnelle"
      ],
      "execution_count": null,
      "outputs": []
    },
    {
      "cell_type": "code",
      "metadata": {
        "id": "g81mQmRdWTcN"
      },
      "source": [
        "tb # Tableau de distribution de la satisfaction au travail selon le sexe"
      ],
      "execution_count": null,
      "outputs": []
    },
    {
      "cell_type": "code",
      "metadata": {
        "id": "HqAqyLcJF2Sf"
      },
      "source": [
        "# Ajouter les totaux des effectifs\n",
        "\n",
        "addmargins(tb)    "
      ],
      "execution_count": null,
      "outputs": []
    },
    {
      "cell_type": "code",
      "metadata": {
        "id": "ciK9GqW0F2u0"
      },
      "source": [
        "# % Totaux \n",
        "prop(tb)       "
      ],
      "execution_count": null,
      "outputs": []
    },
    {
      "cell_type": "code",
      "metadata": {
        "id": "GkdKEuY7F2XK"
      },
      "source": [
        "# % Totaux\n",
        "\n",
        "prop.table(tb, margin = 2)    \n",
        "\n",
        "## margin = 1 pour proportion en rangées\n",
        "## margin 2 = pour proportion en colonnes\n",
        "## *100"
      ],
      "execution_count": null,
      "outputs": []
    },
    {
      "cell_type": "code",
      "metadata": {
        "id": "jAZbfIhvGAwj"
      },
      "source": [
        "# rprop et cprop de questionr pour %\n",
        "\n",
        "cprop(tb, percent = TRUE)    # % en colonnes\n",
        "\n",
        "## Argument percent pour afficher les %"
      ],
      "execution_count": null,
      "outputs": []
    },
    {
      "cell_type": "code",
      "metadata": {
        "id": "HbWIvnEHGAjj"
      },
      "source": [
        "rprop(tb, percent = TRUE, digits = 0)    # % en lignes\n",
        "\n",
        "## Argument digits pour arrondir"
      ],
      "execution_count": null,
      "outputs": []
    },
    {
      "cell_type": "markdown",
      "metadata": {
        "id": "uG97p7iQHBiA"
      },
      "source": [
        "###2.2. Comparer des groupes : by() et tapply() \n",
        "\n",
        "*   Les très pratiques fonctions by() et tapply() (variante de la fonction apply)\n",
        "*   Permettent d'appliquer une fonction sur une variable quantitative (1er) selon les modalités d'une variable catégorielle (2iem)\n"
      ]
    },
    {
      "cell_type": "code",
      "metadata": {
        "id": "jxwTIO5faF9L"
      },
      "source": [
        "by(bd$age, bd$sexe, mean, na.rm=TRUE)"
      ],
      "execution_count": null,
      "outputs": []
    },
    {
      "cell_type": "code",
      "metadata": {
        "id": "ThjF0SoQHLre"
      },
      "source": [
        "tapply(bd$age, bd$sexe, mean, na.rm=TRUE)"
      ],
      "execution_count": null,
      "outputs": []
    },
    {
      "cell_type": "code",
      "metadata": {
        "id": "7-ixDyruaALQ"
      },
      "source": [
        "tapply(bd$relig, bd$sexe, table) "
      ],
      "execution_count": null,
      "outputs": []
    },
    {
      "cell_type": "code",
      "metadata": {
        "id": "TUjDMl5GaABK"
      },
      "source": [
        "tapply(bd$relig, bd$sexe, freq)"
      ],
      "execution_count": null,
      "outputs": []
    },
    {
      "cell_type": "markdown",
      "metadata": {
        "id": "Y8JdFPU20AEJ"
      },
      "source": [
        "###2.3. Fonction xtabs - Notation formule\n",
        "\n",
        "* Repose sur l'utilisation de la notation formule qui définit les relations entre les variables : NomFonction(VD ~ VI).\n",
        "* Puisque le tableau croisé n'attribue pas de rôle spécifique aux variables, on place les deux variables après le tilde: ~ x + y.\n",
        "* On indique le nom du tableau après la virgule."
      ]
    },
    {
      "cell_type": "code",
      "metadata": {
        "id": "n79PADruzwx7"
      },
      "source": [
        "xtabs (~ sexe + occup, bd)"
      ],
      "execution_count": null,
      "outputs": []
    },
    {
      "cell_type": "markdown",
      "metadata": {
        "id": "x7gxoIaKoZCq"
      },
      "source": [
        "\n",
        "\n",
        "---\n",
        "\n"
      ]
    }
  ]
}
