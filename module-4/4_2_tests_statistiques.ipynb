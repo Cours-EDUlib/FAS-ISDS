{
  "nbformat": 4,
  "nbformat_minor": 0,
  "metadata": {
    "colab": {
      "name": "CP-formule-tests.ipynb",
      "provenance": [],
      "collapsed_sections": [],
      "include_colab_link": true
    },
    "kernelspec": {
      "name": "ir",
      "display_name": "R"
    }
  },
  "cells": [
    {
      "cell_type": "markdown",
      "metadata": {
        "id": "view-in-github",
        "colab_type": "text"
      },
      "source": [
        "<a href=\"https://colab.research.google.com/github/Cours-EDUlib/FAS-ISDS/blob/main/module-4/4_2_tests_statistiques.ipynb\" target=\"_parent\"><img src=\"https://colab.research.google.com/assets/colab-badge.svg\" alt=\"Open In Colab\"/></a>"
      ]
    },
    {
      "cell_type": "markdown",
      "metadata": {
        "id": "GVFs3injnfbg"
      },
      "source": [
        "## Notation formule\n"
      ]
    },
    {
      "cell_type": "code",
      "metadata": {
        "id": "IFMUon2mo1IF"
      },
      "source": [
        "wilcox.test(bd$age ~ bd$sport)"
      ],
      "execution_count": null,
      "outputs": []
    },
    {
      "cell_type": "markdown",
      "metadata": {
        "id": "mdhmtiIfo5dD"
      },
      "source": [
        "\n",
        "Quelques mots sur le notation formule dans R:\n",
        "* Peut s'interpréter comme en \"fonction de...\"\n",
        "* À gauche se trouve la variable dépendante (effet), à droite indépendante (cause). \n",
        "* Les formules \"passent\" la variable y en premier, donc la notation formule de la fonction générique plot(x,y) est plot(y ~ x).\n",
        "* Souvent utilisé dans les modèles d'analyse (régressions, ...) et les graphiques (ggplot2, lattice, ...)\n",
        "* Le résultat de certaines fonctions variera selon la notation utilisée. Pour des boites à moustaches avec une variable indépendante, il faut utiliser la notation formule."
      ]
    },
    {
      "cell_type": "markdown",
      "metadata": {
        "id": "ui4h2GNbn2o-"
      },
      "source": [
        "## Tests statistiques"
      ]
    },
    {
      "cell_type": "markdown",
      "metadata": {
        "id": "lY_ZOb0Kn6RG"
      },
      "source": [
        "* On retrouve une multitude de packages dédiés aux méthodes statistiques (comme stats, MASS, FactoMineR, plm, glm). \n",
        "* La même méthode peut se trouver dans plusieurs packages. \n",
        "* Ces exemples proviennent du package stats (module par défaut) - sauf le 1er\n",
        "\n"
      ]
    },
    {
      "cell_type": "code",
      "metadata": {
        "id": "O6sT0RJ4naPp"
      },
      "source": [
        "leveneTest(bd$age, bd$sexe) # Test de Levene (package car)\n",
        "t.test(bd$age ~ bd$hard.rock) # Comparaison de moyenne (ttest de student): variable dépendante à gauche du ~, variable indépendante a droite\n",
        "wilcox.test(bd$age ~ bd$sport) # Test des rangs de Wilcoxon (non paramétrique)\n",
        "lm(bd$freres.soeurs ~ bd$age) # fonction utilisée pour régressions linéaires et analyse de variance \n",
        "cor(bd$freres.soeurs,bd$age) # Corrélation linéaire de Pearson (pour Spearman, rajouter argument method = \"spearman\")\n",
        "cor.test # correlation coefficient, Kendall's tau or Spearman's rho\n",
        "var.test # test F - test d’égalité des variances\n",
        "anova( ) # variance\n",
        "aov() # variance\n",
        "confint() # intervalle de confiance\n",
        "chisq.test() # Test du χ²\n",
        "chisq.residuals() # résidus (questionr)\n",
        "shapiro.test() #  test de normalité de Shapiro-Wilk \n",
        "fisher.test() # Test de Ficher avec odds ratio et intervalle de confiance"
      ],
      "execution_count": null,
      "outputs": []
    }
  ]
}