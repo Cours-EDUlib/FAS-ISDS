{
  "nbformat": 4,
  "nbformat_minor": 0,
  "metadata": {
    "colab": {
      "name": "Présentation de Google Colab ",
      "provenance": [],
      "collapsed_sections": [],
      "include_colab_link": true
    },
    "kernelspec": {
      "name": "python3",
      "display_name": "Python 3"
    }
  },
  "cells": [
    {
      "cell_type": "markdown",
      "metadata": {
        "id": "view-in-github",
        "colab_type": "text"
      },
      "source": [
        "<a href=\"https://colab.research.google.com/github/Cours-EDUlib/FAS-ISDS/blob/main/M1/Capsule-1.1.ipynb\" target=\"_parent\"><img src=\"https://colab.research.google.com/assets/colab-badge.svg\" alt=\"Open In Colab\"/></a>"
      ]
    },
    {
      "cell_type": "markdown",
      "metadata": {
        "id": "49__vuYmfhXX"
      },
      "source": [
        "#Présentation de Google Colab\n",
        "\n",
        "Dans ce notebook, nous vous présentons le fonctionnement et les composantes de base de Google Colab, ainsi que ses avantages et ses limites en tant qu'outil en statistique et en science des données."
      ]
    },
    {
      "cell_type": "markdown",
      "metadata": {
        "id": "QCwfHFpTQ4yH"
      },
      "source": [
        "##Qu'est-ce que Google Colab?\n",
        "\n",
        "Google Colaboratory, ou Colab, est un environnement d'exécution de code interactif permettant d'écrire, d'exécuter et de partager du code sur la plateforme de Google. Créé en 2018, ce service en infonuagique a été créé pour encourager la recherche en intelligence artificielle et en apprentissage statistique/automatique (_statistical/machine learning_). \n",
        "\n",
        "L'accès à Google Colab se fait via un compte Google, à partir duquel on peut créer, enregistrer, télécharger et modifier des documents Colab de la même manière que les documents de type Doc ou Sheets de Google. Les documents sont enregistrés et conservés dans Google Drive et ils peuvent être partagés avec des collaborateurs.\n",
        "\n",
        "En tant qu'environnement d'exécution de code, Colab se distingue par sa gratuité, ainsi que sa facilité et sa rapidité d'accès peu importe l'ordinateur que l'on utilise. En effet, l'hébergement de l'environnement exécutif à distance et la présence de plusieurs librairies préinstallées permettent de sauter l'étape de l'installation logicielle souvent longue et complexe et de passer rapidement à la programmation et à l'analyse. Colab est donc un outil très utile pour visualiser et analyser des données, notamment à l'aide de certains packages Python populaires préinstallés.\n",
        "\n"
      ]
    },
    {
      "cell_type": "markdown",
      "metadata": {
        "id": "j1eCZgMZfnwp"
      },
      "source": [
        "Les documents Colab s'appelle également des _notebooks_. Ce format interactif permet d'utiliser et de présenter du code exécutable (ainsi que ses résultats), du texte enrichi, des images, des liens hypertextes ou encore des équations au sein d'un même document.\n",
        "\n",
        "Le notebook le plus communément utilisé est _[Jupyter Notebook](https://jupyter.org/)_; Colab est construit exactement sur le même format et avec les mêmes fonctionnalités, de sorte qu'on peut concevoir les documents Colab comme des Jupyter Notebooks qui sont hébergés dans l'environnement Google.\n",
        "\n",
        "À l'origine, les notebooks Jupyter et Colab fonctionnaient avec du code Python, reconnaissant également des commandes bash et de terminal commençant par un point d'exclamation. Comme nous le verrons plus tard, il est toutefois possible d'exécuter du code dans plusieurs autres langages de programmation fréquemment utilisées en statistique/science des données, dont le langage R dans l'environnement d'exécution de code qu'est Colab.\n",
        "\n",
        "En bref, Google Colaboratory combine les principes du Jupyter Notebook avec les caractéristiques de partage et de collaboration propres à l'environnement Google. Il s'agit d'une  bonne plateforme d'introduction à la programmation, et plus largement à l'analyse de données.\n"
      ]
    },
    {
      "cell_type": "markdown",
      "metadata": {
        "id": "jEDWHl9eRiHn"
      },
      "source": [
        "###Composantes"
      ]
    },
    {
      "cell_type": "markdown",
      "metadata": {
        "id": "Xs0IL1VtggEI"
      },
      "source": [
        "Un document Colab contient deux types de cellules: des cellules de texte et des cellules de code. On peut inclure dans ces cellules d'autres types de contenu, comme des images, des équations, des liens hypertextes, etc.\n",
        "\n",
        "On ajoute des cellules en utilisant les deux boutons **+ Code** et **+ Texte** situé en haut à gauche du document Colab, ajoutant une nouvelle cellule sous celle actuellement sélectionnée. Les onglets en haut à droite de chaque cellule permettent notamment d'en modifier la position (flèches), de les supprimer (poubelle) et de les commenter (bulle). \n",
        "\n",
        "La table des matières à gauche du document permet de suivre le contenu du notebook et d'ordonner les idées à l'aide de titres et de sous-titres. Normalement, on exécute toujours les cellules d'un notebook dans l'ordre, car certains packages ou paramètres prérequis sont souvent présent dans les cellules précédentes, de sorte qu'une exécution désordonnée peut créer des problèmes.\n",
        "\n",
        "Il existe de nombreux raccourcis clavier permettant d'effectuer toutes ces actions plus rapidement, que vous pouvez voir sous l'onglet \"Outils\" en haut à gauche.\n",
        "\n",
        "Notez finalement qu'il est possible d'afficher l'environnement Colab en mode clair ou sombre. Dans le mode clair, les cellules de texte apparaissent blanches alors que les cellules de code ont un fond légèrement gris."
      ]
    },
    {
      "cell_type": "markdown",
      "metadata": {
        "id": "V8ex7WOxjqIf"
      },
      "source": [
        "####Cellules de texte\n"
      ]
    },
    {
      "cell_type": "markdown",
      "metadata": {
        "id": "vpBKl91UEAqY"
      },
      "source": [
        "Les cellules de texte utilisent un format [Markdown](https://en.wikipedia.org/wiki/Markdown) (voir ressources complémentaires pour plus de détails), ce qui permet notamment de créer des titres et des sous-titres à plusieurs niveaux, des listes ou des équations mathématiques. \n",
        "\n",
        "L'utilisation de `#` pour marquer les titres est sous-titres est particulièrement pratique afin d'identifier la hiérarchie des différentes parties du code et de créer la table des matières visible à gauche du document. Cette hiérarchisation permet de voir rapidement le contenu du code et de naviguer plus vite au sein d'un document.\n",
        "\n",
        "En statistique et en science des données, il est d'usage de commenter son code afin de l'expliquer; l'utilisation des cellules de texte est donc primordiale, en particulier si le code est partagé subséquemment."
      ]
    },
    {
      "cell_type": "markdown",
      "metadata": {
        "id": "lMe3fiUcWQ31"
      },
      "source": [
        "##### Markdown\n",
        "\n",
        "Voici quelques raccourcis de formatage du texte:\n",
        "\n",
        "Les # servent à déterminer le niveau de section/titre (# titre principal, ## sous-titre, ### sous-sous-titre).\n",
        "\n",
        "\n",
        "Par exemple\n",
        "```\n",
        "# Titre 1\n",
        "## Titre 2\n",
        "### Titre 3\n",
        "```\n",
        "donne: \n",
        "\n",
        "# Titre 1\n",
        "## Titre 2\n",
        "### Titre 3\n",
        "\n",
        "Les astérisques *\n",
        "servent à identifier le texte en gras (deux astérisques) et en italique (un astérisque)\n",
        "\n",
        "`**gras**` donne **gras** \n",
        "\n",
        " `*italique*` donne *italique*\n",
        "\n",
        "Pour ajouter un hyperlien, vous pouvez insérer le texte entre `[]` suivi du lien entre `()` comme suit: `[texte](URL)`.\n",
        "\n",
        "Les ` permettent d’identifier une partie de texte comme étant du code\n",
        "\n",
        "`x = y * z`\n",
        "\n",
        "Les chevrons >, en début de ligne, permettent de créer des indentations \n",
        "\n",
        "> 1\n",
        ">> 2\n",
        ">>> 3\n",
        "\n",
        "Les signes de dollar ($) permettent de créer des équations en format [LaTex](https://en.wikipedia.org/wiki/Latex)\n",
        "\n",
        "\n",
        "$A_1 = (B − C^d) + λf(|E|)$\n",
        "\n",
        "\n",
        "**Liste numérotée.**\n",
        "> Prendre note que vous pouvez inscrire toujours le chiffre 1. et le logiciel convertira automatiquement le bon chiffre. C'est une technique très apprécié lorsque nous avons à changer l'ordre des étapes souvent.\n",
        "\n",
        "```\n",
        "1. \n",
        "1.\n",
        "1. \n",
        "```\n",
        "1. \n",
        "1.\n",
        "1. \n",
        "\n",
        "**Liste non numérotée.**\n",
        "> Possible d'utiliser un `-` ou un `*`.\n",
        "\n",
        "- \n",
        "- \n",
        "\n",
        "**Création de tableaux**. Utiliser `|` pour séparer les noms des colonnes et les éléments par colonne, et au moins trois tirets --- entre chaque titre  de colonnes et la suite du tableau.\n",
        "```\n",
        "x | y\n",
        "--- | ---\n",
        "1|2\n",
        "3|4\n",
        "```\n",
        "donne\n",
        "\n",
        "x | y\n",
        "--- | ---\n",
        "1|2\n",
        "3|4"
      ]
    },
    {
      "cell_type": "markdown",
      "metadata": {
        "id": "_NNBOmj9kI3t"
      },
      "source": [
        "####Cellules de code"
      ]
    },
    {
      "cell_type": "code",
      "metadata": {
        "id": "_kmZ8QxyDnOy"
      },
      "source": [
        "# Ceci est une cellule de code"
      ],
      "execution_count": null,
      "outputs": []
    },
    {
      "cell_type": "markdown",
      "metadata": {
        "id": "ZlV8C9YSD8pa"
      },
      "source": [
        "Chaque cellule de code a un bouton d'exécution à sa gauche, qui permet d'exécuter le code contenu dans la cellule en cliquant dessus. On peut aussi exécuter une cellule par le raccourci clavier `contrôle (ou majuscule) + entrée`.\n",
        "\n",
        "Les cellules de code permettent d'exécuter du code dans n'importe quel langage compatible avec Colab lorsque préalablement configuré. Le langage configuré par défaut est Python. Les sorties ou les résultats de l'exécution auront l'apparence correspondante au langage utilisé, qu'il s'agisse de texte, de graphique ou d'autres formes diverses de représentation et de visualisation de données."
      ]
    },
    {
      "cell_type": "markdown",
      "metadata": {
        "id": "UvGsHXSvJDOl"
      },
      "source": [
        "Comme vous pouvez le voir ci-dessus, une fois la cellule exécutée au moins une fois, on voit le \"running number\" de la cellule à sa gauche, indiquant sa position dans l'ordre d'exécution du document de la même manière que dans un Jupyter Notebook traditionnel. "
      ]
    },
    {
      "cell_type": "code",
      "metadata": {
        "id": "3qpPol4IDpNq"
      },
      "source": [
        "y = 14"
      ],
      "execution_count": null,
      "outputs": []
    },
    {
      "cell_type": "code",
      "metadata": {
        "id": "zaSx0OlqDq5k",
        "outputId": "50925b20-3759-42be-db14-cbd07fb3ee64",
        "colab": {
          "base_uri": "https://localhost:8080/",
          "height": 34
        }
      },
      "source": [
        "y"
      ],
      "execution_count": null,
      "outputs": [
        {
          "output_type": "execute_result",
          "data": {
            "text/plain": [
              "12"
            ]
          },
          "metadata": {
            "tags": []
          },
          "execution_count": 3
        }
      ]
    },
    {
      "cell_type": "code",
      "metadata": {
        "id": "8zHXh6WUDxzf",
        "outputId": "6b25d1e5-7d1b-4be5-ae42-4a6508f36706",
        "colab": {
          "base_uri": "https://localhost:8080/",
          "height": 34
        }
      },
      "source": [
        "x = y * 5/4\n",
        "x"
      ],
      "execution_count": null,
      "outputs": [
        {
          "output_type": "execute_result",
          "data": {
            "text/plain": [
              "15.0"
            ]
          },
          "metadata": {
            "tags": []
          },
          "execution_count": 4
        }
      ]
    },
    {
      "cell_type": "markdown",
      "metadata": {
        "id": "Ff5V7yLJFOX7"
      },
      "source": [
        "Notez finalement que Colab contient une bibliothèque interactive d’extraits de code (en langage Python) qui peuvent servir d’exemples et de modèles, en particulier pour l'importation et l'exportation de données.\n",
        "\n",
        "Cette bibliothèque est accessible dans l'onglet < > à gauche du notebook. Vous pouvez aussi enregistrer vos propres extraits de code."
      ]
    },
    {
      "cell_type": "markdown",
      "metadata": {
        "id": "g8RJolDoFVcV"
      },
      "source": [
        "###Environnement d'exécution hébergé en infonuagique"
      ]
    },
    {
      "cell_type": "markdown",
      "metadata": {
        "id": "ZAiaqUOIza34"
      },
      "source": [
        "Comme mentionné ci-haut, Colab permet d'exécuter du code via un environnement d'exécution hébergé en infonuagique, sur les serveurs de Google. Cette caractéristique permet d'exécuter du code relativement complexe indépendamment de la puissance de l'ordinateur local, puisque toute l'exécution se fait sur un serveur à distance via Internet. Cela permet également de visualiser des données et d'exécuter des analyses sans devoir installer de logiciel spécifique et faire d'autres configurations parfois compliquées sur l'appareil local, ressemblant en ce sens à un Jupyter Notebook avec la simplicité ajoutée de l'environnement Google, généralement familier, au préalable.\n",
        "\n",
        "Avant d'exécuter une cellule de code, il faut donc vous connecter à l'environnement d'exécution (en haut à droite) ou la connexion se fera automatiquement à la première tentative d'exécution de code. Lors de la connexion, le serveur vous attribue une certaine quantité de mémoire vive (RAM) et quantité de mémoire (disque), que vous pouvez vérifier en tout temps.\n",
        "\n",
        "Par défaut, l'exécution de code dans Google Colab se fait avec un CPU (_Central Processing Unit_). Colab offre également la possibilité d'utiliser des GPU (_Graphics Processing Unit_) et TPU (_Tensor Processing Unit_), soit des processeurs d’accélération permettant d’exécuter du code complexe beaucoup plus rapidement (pour les modèles en grande dimension). Une particularité de Colab est d'offrir cet outil d'accélération entièrement gratuitement et de pouvoir modifier en tout temps le type d'exécution du document (onglet exécution en haut à gauche).\n",
        "\n",
        "Notez que la connexion au serveur d'exécution est limitée dans le temps; en cas d'inactivité prolongée ou de déconnexion à l'environnement en raison d'un redémarrage, vous devrez réexécuter toutes les cellules de code de votre document avant de reprendre ou vous en étiez. En effet, Google Colab gratuit est limité à 12h de calculs sans arrêt, mais il existe une version Pro offrant davantage de puissance de calcul et de mémoire."
      ]
    },
    {
      "cell_type": "markdown",
      "metadata": {
        "id": "g1nzLJjJ7Rvq"
      },
      "source": [
        "Deux inconvénients surviennent toutefois en lien avec l'hébergement du serveur d'exécution en infonuagique: la confidentialité et la déconnexion.\n",
        "\n",
        "D'abord, la nécessité d'une connexion Internet et l'accès aux données implicitement donné à Google par l'utilisation de leurs produit sous-entend qu'il est souvent impossible d'utiliser cet outil en recherche ou en entreprise lorsque les données doivent demeurer confidentielles. Toutefois, cet inconvénient affecte peu l'usage de Colab comme outil d'apprentissage.\n",
        "\n",
        "Deuxièmement, dans le cas d'analyses plus longues à exécuter, un problème peut survenir en lien avec la connexion sur un serveur à distance. En effet, comme l'environnement d'exécution est hébergé en infonuagique, il faut y demeurer connecté pour que le code s'exécute, et Colab étant un outil gratuit, les usagers inactifs sont rapidement déconnectés pour mieux distribuer la capacité des serveurs. Ce dernier inconvénient peut toutefois être contourné, d'abord en restant attentif lors de l'exécution du code, ou encore grâce à certains trucs et codes permettant de garder automatiquement active la page du navigateur web que vous utilisez (voir l'article _[How to prevent Google Colab from disconnecting ?](https://medium.com/@shivamrawat_756/how-to-prevent-google-colab-from-disconnecting-717b88a128c0)_ dans les ressources complémentaires à la fin du présent document)."
      ]
    },
    {
      "cell_type": "markdown",
      "metadata": {
        "id": "N3Hg-RItR29g"
      },
      "source": [
        "##Partage et collaboration"
      ]
    },
    {
      "cell_type": "markdown",
      "metadata": {
        "id": "dwclEPV02Wlo"
      },
      "source": [
        "###Intégration avec Google Drive\n",
        "\n",
        "Comme Colab fait partie de l'environnement Google, les paramètres de partage et de collaboration sont très similaires aux autres types de documents supportés par Google. On peut laisser des commentaires, partager le lien, ou donner accès au document par courriel. \n",
        "\n",
        "Le lien avec Google Drive permet donc de lire, écrire, copier, déplacer et télécharger des fichiers du Drive dans Colab. On peut aussi facilement ouvrir un notebook conservé sur l'ordinateur local dans Drive puis dans Colab.\n",
        "\n",
        "Dans l’esprit d’un document collaboratif partagé, il est possible de laisser des commentaires dans un Colab comme dans les autres formats de documents supportés par Google.\n",
        "\n",
        "La facilité de partage, caractéristique de Colab, permet d’explorer de nombreux fichiers de code à travers le web, dont une grande collection de notebooks disponibles sur le site web: research.google.com/seedbank. Toutefois, lorsqu'on ouvre un Colab ne nous appartenant pas pour s'en inspirer, il est généralement recommandé d'en enregistrer une copie sur son Drive personnel afin de ne pas perdre les modifications effectuées.\n",
        "\n",
        "En cas de problème, une forte communauté d'aide est également présente par le biais des blogues et autres plateformes collaboratives de partage de code."
      ]
    },
    {
      "cell_type": "markdown",
      "metadata": {
        "id": "xIVJEyNm25ps"
      },
      "source": [
        "###Intégration avec GitHub\n",
        "\n",
        "Google Colab est relié à GitHub, une plateforme de partage de code largement utilisée dans le domaine de la science des données et de l'informatique. Grâce à l'intégration entre les deux plateformes, il est possible d'importer et d'exporter des documents de GitHub à Colab et vice-versa.\n",
        "\n",
        "D'abord, on peut ouvrir un nouveau document Colab directement depuis GitHub en recherchant l'usager et le répertoire voulu. \n",
        "\n",
        "De plus, les documents créés dans Colab peuvent être enregistrés directement dans un répertoire GitHub sous l'onglet Fichiers > Enregistrer une copie dans GitHub. Cette manière de sauvegarder crée également un lien dans GitHub permettant l'ouverture directe du document dans Colab pour quiconque visualise le document sur GitHub.\n",
        "\n",
        "\n"
      ]
    },
    {
      "cell_type": "markdown",
      "metadata": {
        "id": "Z-UmK9xR35J2"
      },
      "source": [
        "###Intégration avec Jupyter Lab\n",
        "\n",
        "Les documents Colab sont créés et sauvegardés en format .ipynb , soit le même format que les Jupyter Notebooks standards. Il est donc très facile d'ouvrir des documents créés dans Colab dans l'environnement Jupyter Lab et vice-versa, facilitant la collaboration entre membres d'une même équipe de travail utilisant différents outils d'écriture et d'exécution de code.\n",
        "\n",
        "\n",
        "\n"
      ]
    },
    {
      "cell_type": "markdown",
      "metadata": {
        "id": "YiDtc2iufhaR"
      },
      "source": [
        "##Utiliser R via Google Colab"
      ]
    },
    {
      "cell_type": "markdown",
      "metadata": {
        "id": "pdjHB6ZQ1CMS"
      },
      "source": [
        "Dans le cadre de ce cours, nous vous apprendrons à utiliser le langage R, qui sera le langage de programmation utilisé pour les différentes méthodes d'analyse vues dans le cours.\n",
        "\n",
        "R Studio est un logiciel d'analyse statistique gratuit et relativement facile d'usage; toutefois, nous utiliserons Google Colab comme environnement de travail afin de vous éviter les étapes d'installation requise pour utiliser R dans une environnement conçu uniquement pour ce langage comme R Studio. Pour les utilisateurs plus avancés, nous recommandons toutefois l'utilisation de R Studio.\n",
        "\n",
        "Dans Google Colab, le langage de base est Python. Lorsque vous créez un nouveau document Colab, celui-ci est donc automatiquement réglé pour reconnaitre le code Python. Toutefois, on peut aussi créer de nouveau Colab dont le langage de base est R, à l'aide du lien suivant (à conserver!):\n",
        "\n",
        "https://colab.research.google.com/notebook#create=true&language=r\n",
        "\n",
        "Ainsi, votre nouveau fichier sera entièrement en langage R et vous n'aurez qu'à utiliser le code R comme dans son environnement original. Dans ce document, un R kernel est activé, ce que vous pouvez vérifier en vous rendant dans l'onglet Exécution > Modifier le type d'exécution, où vous verrez la liste des types d'exécution possible (R ou Python 3). Avec cette méthode, le code Python ne sera plus reconnu par Colab.\n",
        "\n",
        "Parfois, il est toutefois utile de pouvoir alterner entre le code Python et R au sein d'un même document. Dans ce cas, nous utiliserons ce qui s'appelle des *magics*."
      ]
    },
    {
      "cell_type": "markdown",
      "metadata": {
        "id": "4T82WWUvfhdF"
      },
      "source": [
        "###Magics"
      ]
    },
    {
      "cell_type": "markdown",
      "metadata": {
        "id": "PUrWnOjM15yQ"
      },
      "source": [
        "Les \"magics\" sont comme des packages téléchargeables dans Python qui permettent à l'environnement d'exécution de reconnaitre d'autres langages. Ainsi, l'environnement d'exécution demeure en Python, mais il est possible de reconnaitre du code dans d'autres langages lorsque la ligne ou cellules en question est identifiée.\n",
        "\n",
        "Il existe beaucoup de \"magics\" permettant d'utiliser divers types de code en modifiant la façon dont le code est exécuté dans la ligne ou la cellule. Le concept de \"magics\" dans Colab est emprunté aux Jupyter Notebooks. Ainsi, plusieurs \"magics\" applicables à une ligne ou à une cellule sont automatiquement disponibles dans Python, notamment le magic %%html et %loadpy qui permet de charger d’autres magics.\n",
        "\n",
        "Les cellules suivantes montrent comment télécharger et utiliser le R magic dans Colab:"
      ]
    },
    {
      "cell_type": "code",
      "metadata": {
        "id": "FeVlamP1fh33",
        "outputId": "1ef84b86-a3f2-4b65-c986-b1e835d85fcf",
        "colab": {
          "base_uri": "https://localhost:8080/",
          "height": 106
        }
      },
      "source": [
        "# Charger R magic pour pouvoir utiliser le code R via Google Colab\n",
        "%load_ext rpy2.ipython"
      ],
      "execution_count": null,
      "outputs": [
        {
          "output_type": "stream",
          "text": [
            "/usr/local/lib/python3.6/dist-packages/rpy2/robjects/pandas2ri.py:14: FutureWarning: pandas.core.index is deprecated and will be removed in a future version.  The public classes are available in the top-level namespace.\n",
            "  from pandas.core.index import Index as PandasIndex\n",
            "/usr/local/lib/python3.6/dist-packages/rpy2/robjects/pandas2ri.py:34: UserWarning: pandas >= 1.0 is not supported.\n",
            "  warnings.warn('pandas >= 1.0 is not supported.')\n"
          ],
          "name": "stderr"
        }
      ]
    },
    {
      "cell_type": "code",
      "metadata": {
        "id": "ipGG_YIjfh6P"
      },
      "source": [
        "%%R #Activer code R pour la cellule\n",
        "\n",
        "library(readr) #Téléchargement d'une librairie"
      ],
      "execution_count": null,
      "outputs": []
    },
    {
      "cell_type": "code",
      "metadata": {
        "id": "Nen2_jnGFKbk",
        "outputId": "01c573b2-8b7d-4f94-a2a0-d3c2df30cab2",
        "colab": {
          "base_uri": "https://localhost:8080/",
          "height": 69
        }
      },
      "source": [
        "#Activation du magic pour une seule ligne de code\n",
        "%R ls(exemple.df) #Lister les variables dans le fichier de données"
      ],
      "execution_count": null,
      "outputs": [
        {
          "output_type": "execute_result",
          "data": {
            "text/plain": [
              "array(['crc402', 'dms439', 'dms451', 'hts384', 'jbs170', 'pvs501',\n",
              "       'region4', 'scs134', 'scs142', 'scs155', 'st', 'state'],\n",
              "      dtype='<U7')"
            ]
          },
          "metadata": {
            "tags": []
          },
          "execution_count": 26
        }
      ]
    },
    {
      "cell_type": "markdown",
      "metadata": {
        "id": "KpXY-0V34Iaw"
      },
      "source": [
        "Que ce soit en modifiant le *kernel* ou en activant le R magic, les cellules de texte demeurent en markdown et s'exécutent exactement de la même manière.\n",
        "\n",
        "Quant aux cellules ou lignes de code R, elles produiront des résultats dont l'apparence est identique aux résultats produits dans le logiciel R. On peut écrire le code exactement comme dans l'environnement R Studio, installer des packages et des librairies, modifier les données, etc. Le seul inconvénient se retrouve au niveau de l'importation et exportation de données, le langage R n'étant pas construit pour fonctionner avec Drive; c'est pourquoi ces opérations seront plus faciles à réaliser en code Python."
      ]
    },
    {
      "cell_type": "markdown",
      "metadata": {
        "id": "n3RYt8OySayo"
      },
      "source": [
        "##Gestion des données "
      ]
    },
    {
      "cell_type": "markdown",
      "metadata": {
        "id": "8lS6Q5mYErBR"
      },
      "source": [
        "###Importer des données"
      ]
    },
    {
      "cell_type": "markdown",
      "metadata": {
        "id": "8s37eSY10VxQ"
      },
      "source": [
        "La première façon d'importer des données est de copier une base de données sur le web (ici sur Github). Il suffit ensuite de lire la base de données et de la conserver dans un objet qu'on nommera par convention \"df\" pour *dataframe*. C'est la méthode que nous utiliserons majoritairement dans ce cours. "
      ]
    },
    {
      "cell_type": "code",
      "metadata": {
        "id": "qK6zZ2Ht0jPL"
      },
      "source": [
        "%%R\n",
        "library (tidyverse) #Téléchargement des packages nécessaires à la lecture de données\n",
        "\n",
        "path_to_csv = 'https://github.com/Cours-EDUlib/FAS-ISDS/blob/main/Intro_donnees1.csv?raw=true'\n",
        "#Aller chercher la base de données conservée dans le dépôt Github du cours en copiant le lien du fichier voulu \n",
        "#et en ajoutant 'raw=true' à la fin du lien\n",
        "\n",
        "df <- read_csv(path_to_csv) #Enregistrer la base de données dans un objet\n",
        "df #Lire les données"
      ],
      "execution_count": null,
      "outputs": []
    },
    {
      "cell_type": "markdown",
      "metadata": {
        "id": "0q2OWy_MGAFr"
      },
      "source": [
        "Une autre façon d'importer des données dans Colab est de cloner un répertoire GitHub dans le fichier Colab. Une fois le répertoire GitHub cloné dans votre Colab, vous pouvez importer les fichiers de données dans Colab par une simple ligne de code.\n",
        "\n",
        "Le clonage du répertoire doit être fait une fois au début de chaque nouveau Colab que vous créez."
      ]
    },
    {
      "cell_type": "code",
      "metadata": {
        "id": "Ghim7B_mBI_W",
        "outputId": "be25bda6-042e-484c-aa62-fd686b012a61",
        "colab": {
          "base_uri": "https://localhost:8080/",
          "height": 121
        }
      },
      "source": [
        "#Télécharger les fichiers du dépôt GitHub du cours\n",
        "!git clone https://github.com/Cours-EDUlib/FAS-ISDS.git"
      ],
      "execution_count": null,
      "outputs": [
        {
          "output_type": "stream",
          "text": [
            "Cloning into 'Introduction-a-la-science-des-donnees-sociales'...\n",
            "remote: Enumerating objects: 14, done.\u001b[K\n",
            "remote: Counting objects: 100% (14/14), done.\u001b[K\n",
            "remote: Compressing objects: 100% (10/10), done.\u001b[K\n",
            "remote: Total 14 (delta 0), reused 0 (delta 0), pack-reused 0\u001b[K\n",
            "Unpacking objects: 100% (14/14), done.\n"
          ],
          "name": "stdout"
        }
      ]
    },
    {
      "cell_type": "markdown",
      "metadata": {
        "id": "Txf4ldX46nhq"
      },
      "source": [
        "*Si vous suivez le lien GitHub dans la cellule précédente, vous trouverez dans le dépôt du cours un fichier nommé \"Intro_donnees1\". Téléchargez ce fichier sur votre ordinateur local, puis téléchargez-le sur votre Google Drive.*\n"
      ]
    },
    {
      "cell_type": "markdown",
      "metadata": {
        "id": "RETAi-2K7sUU"
      },
      "source": [
        "Finalement, un autre moyen d'importer des données dans Colab consiste à \"monter\" votre Drive dans Colab, vous permettant d'accéder directement à tous les fichiers de données qui s'y trouvent. Le code pour monter le Drive génère un lien que vous devez suivre, afin de donner l'autorisation à Colab d'accéder à votre Drive. Une fois l'autorisation accordée, un code d'autorisation est fourni que vous devez copier dans la boite sous le code dans Colab.\n",
        "\n",
        "Voici le code en question:"
      ]
    },
    {
      "cell_type": "code",
      "metadata": {
        "id": "vGiFIBJoB4ze",
        "outputId": "a584089f-aa71-4d04-d3a4-973f57b8891b",
        "colab": {
          "base_uri": "https://localhost:8080/",
          "height": 34
        }
      },
      "source": [
        "from google.colab import drive\n",
        "drive.mount('/gdrive')"
      ],
      "execution_count": null,
      "outputs": [
        {
          "output_type": "stream",
          "text": [
            "Mounted at /gdrive\n"
          ],
          "name": "stdout"
        }
      ]
    },
    {
      "cell_type": "code",
      "metadata": {
        "id": "0rcQMv3pCne3",
        "outputId": "94bf9028-72c6-480f-ea25-dec36b69fed0",
        "colab": {
          "base_uri": "https://localhost:8080/",
          "height": 295
        }
      },
      "source": [
        "%%R\n",
        "\n",
        "path_to_csv1 = ('/gdrive/My Drive/Intro_donnes1.csv') # Créez un objet contenant le chemin vers le fichier de données\n",
        "df1 <- read_csv(path_to_csv1)"
      ],
      "execution_count": null,
      "outputs": [
        {
          "output_type": "stream",
          "text": [
            "R[write to console]: Parsed with column specification:\n",
            "cols(\n",
            "  st = col_double(),\n",
            "  state = col_character(),\n",
            "  region4 = col_double(),\n",
            "  scs134 = col_double(),\n",
            "  scs155 = col_double(),\n",
            "  crc402 = col_double(),\n",
            "  jbs170 = col_double(),\n",
            "  pvs501 = col_double(),\n",
            "  dms451 = col_double(),\n",
            "  scs142 = col_double(),\n",
            "  hts384 = col_double(),\n",
            "  dms439 = col_double()\n",
            ")\n",
            "\n"
          ],
          "name": "stderr"
        }
      ]
    },
    {
      "cell_type": "markdown",
      "metadata": {
        "id": "pb6CIga18B7E"
      },
      "source": [
        "Maintenant que votre Drive est monté dans ce Colab, vous pouvez importer et lire les données du fichier \"Exemple donnees\" téléchargé précédemment sur votre Drive. Pour ce faire, il suffit de cliquer sur l'icône de dossier à gauche de votre notebook, puis d'aller dans le dossier nommé \"gdrive\". Ensuite, naviguer pour trouver et ouvrir n'importe quel fichier que vous avez téléchargé sur votre Drive.\n",
        "\n",
        "Vous pouvez aussi télécharger et lire un fichier de données à l'aide de ce code:\n",
        "\n",
        "```\n",
        "path_to_csv = ('chemin d'accès')\n",
        "df <- read_csv(path_to_csv)\n",
        "df\n",
        "```\n",
        "\n",
        "Le chemin d'accès d'un fichier est disponible directement dans l'onglet fichier à gauche du notebook: localisez votre fichier, faites un clic droit et sélection \"Copier le chemin d'accès\". "
      ]
    },
    {
      "cell_type": "markdown",
      "metadata": {
        "id": "p2tOGfMqNAJ8"
      },
      "source": [
        "L'exemple ci-haut contient un fichier de données en format csv. Avec quelques ajustements du code, il est toutefois possible d'importer des données dans une grande variété de formats, incluant des documents Sheets ou Excel. Il est également assez facile de sauvegarder des fichiers par le biais de logiciels commerciaux comme IBM SPSS, SAS, Stata ou Matlab."
      ]
    },
    {
      "cell_type": "markdown",
      "metadata": {
        "id": "Yhx56M3lF-S7"
      },
      "source": [
        "###Exporter des données"
      ]
    },
    {
      "cell_type": "markdown",
      "metadata": {
        "id": "47Pi0htlNQYY"
      },
      "source": [
        "Lorsque votre Drive est monté (voir importation) vous pouvez également exporter des données directement de Colab à votre Drive. Voici le code permettant cette opération:"
      ]
    },
    {
      "cell_type": "code",
      "metadata": {
        "id": "Gg5qrsH-EqN-"
      },
      "source": [
        "%%R\n",
        "\n",
        "write.csv(df1, '/gdrive/My Drive/Intro_donnees2.csv')\n",
        "# Si vous déposez les fichiers directement dans /gdrive/My Drive/, votre fichier sera trouvable dans\n",
        "# la page d'accueil de votre drive. Pour créer des fichiers ailleurs, veuillez créer un dossier\n",
        "# à partir de votre drive et ensuite donner le bon chemin d'accès vers le drive. ex: /gdrive/My Drive/Projet_MOOC/Intro_donnees2.csv\n",
        "\n",
        "#Les fonctions write.xlsx, write.foreign ou encore write.dta permettent d'exporter des données dans de multiples formats (R, Excel, CSV, SPSS, SAS, Stata...)"
      ],
      "execution_count": null,
      "outputs": []
    },
    {
      "cell_type": "markdown",
      "metadata": {
        "id": "iTf8HD6UNuJK"
      },
      "source": [
        "Au niveau du document de code en soi (le Colab), en plus de l'enregistrer automatiquement dans le Drive, il est possible d'exporter le fichier dans GitHub ou sur votre ordinateur local. Ces deux procédures se font via l'onglet \"Fichiers\" en haut de la page, soit par l'option \"Télécharger le fichier .ipynb\" (vers l'ordinateur local) ou \"Enregistrer une copie dans GitHub\"."
      ]
    },
    {
      "cell_type": "markdown",
      "metadata": {
        "id": "45hkujUCRA2f"
      },
      "source": [
        "##En résumé\n",
        "\n",
        "Colab est un outil très pratique en science des données, notamment pour les étudiants et les professionnels débutant dans ce domaine. Plusieurs caractéristiques en font un envrionnement d'apprentissage de choix, bien qu'il soit parfois pertinent de passer à un outil plus professionnel une fois que les bases de la science des données sont acquises."
      ]
    },
    {
      "cell_type": "markdown",
      "metadata": {
        "id": "eyb2APQjRu3r"
      },
      "source": [
        "###Avantages\n",
        "\n",
        "- Aucune configuration locale\n",
        "- Accès gratuit à des accélérateurs de traitement de code (GPU et TPU)\n",
        "- Facile d'utilisation\n",
        "- Familiarité de l'environnement Google\n",
        "- Multiples tutoriels et extraits de code disponibles\n",
        "- Environnement collaboratif optimal pour les équipes\n",
        "- Partage facile de différentes manières\n",
        "- Intégration à GitHub\n",
        "- Facilité de transfert vers les produits Jupyter\n",
        "- Configuration flexible\n",
        "- Version récente de Python avec plusieurs librairies prétéléchargées\n",
        "- Possibilité d'utiliser différents langages informatiques ou statistiques (dont R)\n",
        "\n"
      ]
    },
    {
      "cell_type": "markdown",
      "metadata": {
        "id": "1DB2eqI6RYw9"
      },
      "source": [
        "###Limites\n",
        "\n",
        "- Importation de données parfois difficile\n",
        "- Déconnexion en cas d'inactivité\n",
        "- Confidentialité limitée\n",
        "- Lenteur occasionnelle de téléchargement des packages\n",
        "- Version de R en retard par rapprot à R Studio (ex: actuellement 3.6.3 plutôt que 4.0.2 en date du 01/09/2020)"
      ]
    },
    {
      "cell_type": "markdown",
      "metadata": {
        "id": "OtyBxlCccW9r"
      },
      "source": [
        "#Ressources complémentaires\n",
        "\n",
        "**À lire:**\n",
        "- Bienvenue dans Colaboratory par Google: https://colab.research.google.com/notebooks/intro.ipynb#scrollTo=ufxBm1yRnruN\n",
        "- Données externes: https://colab.research.google.com/notebooks/io.ipynb \n",
        "- Markdown Guide: https://colab.research.google.com/notebooks/markdown_guide.ipynb\n",
        "- Overview of Colaboratory features: https://colab.research.google.com/notebooks/basic_features_overview.ipynb\n",
        "- The cell magics in IPython: https://nbviewer.jupyter.org/github/ipython/ipython/blob/1.x/examples/notebooks/Cell%20Magics.ipynb \n",
        "- Machine Learning: Google Colab- Why, When and How to Use it: https://medium.com/swlh/machine-learning-google-colab-why-when-and-how-to-use-it-9624e34abd6d\n",
        "- How to prevent Google Colab from disconnecting ? https://medium.com/@shivamrawat_756/how-to-prevent-google-colab-from-disconnecting-717b88a128c0 \n",
        "- Google Colab — The Beginner’s Guide: https://medium.com/lean-in-women-in-tech-india/google-colab-the-beginners-guide-5ad3b417dfa\n",
        "- Getting started in Google Colab: https://towardsdatascience.com/getting-started-with-google-colab-f2fff97f594c\n",
        "- TensorFlow with GPU: https://colab.research.google.com/notebooks/gpu.ipynb\n",
        "- Introduction to Colab and Python: https://colab.research.google.com/github/tensorflow/examples/blob/master/courses/udacity_intro_to_tensorflow_for_deep_learning/l01c01_introduction_to_colab_and_python.ipynb#scrollTo=YHI3vyhv5p85\n",
        "\n",
        "**À écouter:**\n",
        "- Chaine YouTube DataProfessor: https://www.youtube.com/channel/UCV8e2g4IWQqK71bbzGDEI4Q\n",
        "  - Practical introduction to Google Colab: https://www.youtube.com/watch?v=oCngVVBSsmA\n",
        "  - File handling in Google Colab for data science: https://www.youtube.com/watch?v=InZ16tcM9Pc\n",
        "  - Use native R on Google Colab for data science: https://www.youtube.com/watch?v=huAWa0bqxtA \n",
        "  - How to use R and Python in same notebook on Google Colab: https://www.youtube.com/watch?v=Ri1MfaSlSW0 \n",
        "  - How to Save and Download files from Google Colab: https://www.youtube.com/watch?v=e8Syou92H8U\n",
        "- Get started with Google Colaboratory: https://www.youtube.com/watch?v=inN8seMm7UI\n",
        "- How to read dataset in Google Drive: https://www.youtube.com/watch?v=Gvwuyx_F-28\n",
        "- Getting Started with Google CoLab | How to use Google Colab: https://www.youtube.com/watch?v=i-HnvsehuSw\n",
        "- How to set up Google Colab for high-performance computing: https://www.youtube.com/watch?v=GwxqXE9u8Hs \n",
        "\n"
      ]
    }
  ]
}