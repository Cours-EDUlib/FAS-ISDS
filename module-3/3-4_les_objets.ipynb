{
  "nbformat": 4,
  "nbformat_minor": 0,
  "metadata": {
    "colab": {
      "name": "CP-objets.ipynb",
      "provenance": [],
      "collapsed_sections": [],
      "toc_visible": true,
      "include_colab_link": true
    },
    "kernelspec": {
      "name": "ir",
      "display_name": "R"
    }
  },
  "cells": [
    {
      "cell_type": "markdown",
      "metadata": {
        "id": "view-in-github",
        "colab_type": "text"
      },
      "source": [
        "<a href=\"https://colab.research.google.com/github/Cours-EDUlib/FAS-ISDS/blob/main/module-3/3-4_les_objets.ipynb\" target=\"_parent\"><img src=\"https://colab.research.google.com/assets/colab-badge.svg\" alt=\"Open In Colab\"/></a>"
      ]
    },
    {
      "cell_type": "markdown",
      "metadata": {
        "id": "bbsMd4WKDilT"
      },
      "source": [
        "\n",
        "# Atelier \"Premiers pas avec R\", partie 1\n",
        "\n",
        "### Script: Objets et grammaire de base\n",
        "\n",
        "### Par: Caroline Patenaude\n",
        "\n",
        "#### Courriel: caroline.patenaude@umontreal.ca"
      ]
    },
    {
      "cell_type": "markdown",
      "metadata": {
        "id": "XilDYf7GpRoX"
      },
      "source": [
        "##R comme une grosse calculatrice"
      ]
    },
    {
      "cell_type": "code",
      "metadata": {
        "id": "tyNc83nbDJhS"
      },
      "source": [
        "2+2\n",
        "-10/3  *  5 # Les espaces n'ont pas d'impact"
      ],
      "execution_count": null,
      "outputs": []
    },
    {
      "cell_type": "markdown",
      "metadata": {
        "id": "gNUlaFhkpeNR"
      },
      "source": [
        "##Les objets"
      ]
    },
    {
      "cell_type": "code",
      "metadata": {
        "id": "RYkrInWGDxax"
      },
      "source": [
        "## Calculer une moyenne\n",
        "(12+15+20)/3 "
      ],
      "execution_count": null,
      "outputs": []
    },
    {
      "cell_type": "code",
      "metadata": {
        "id": "p4wC2tuL2gck"
      },
      "source": [
        "## Créer un objet dans lequel je stoque le résultat du calcul\n",
        "aa <- (12+15+20)/3 "
      ],
      "execution_count": null,
      "outputs": []
    },
    {
      "cell_type": "code",
      "metadata": {
        "id": "e6p_IWqs2jx0"
      },
      "source": [
        "## Pour voir le contenu de son objet, tapper son nom\n",
        "\n",
        "aa  # Utilisation implicite de la fonction print(aa) "
      ],
      "execution_count": null,
      "outputs": []
    },
    {
      "cell_type": "code",
      "metadata": {
        "id": "YDQj5She2l8b"
      },
      "source": [
        "## Pour mettre dans un objet ET visualiser tout de suite, mettre entre parenthèses\n",
        "(aa<-(12+15+20)/3) "
      ],
      "execution_count": null,
      "outputs": []
    },
    {
      "cell_type": "markdown",
      "metadata": {
        "id": "dsgaGAEppxqA"
      },
      "source": [
        "##Les types de données"
      ]
    },
    {
      "cell_type": "code",
      "metadata": {
        "id": "udk0RB_ULZE0",
        "colab": {
          "base_uri": "https://localhost:8080/",
          "height": 34
        },
        "outputId": "0f9e0038-bb83-4b6c-9c5b-6a366b182dcf"
      },
      "source": [
        "aa <- 123      # Numérique\n",
        "bb <- \"soleil\" # Chaîne de caractères\n",
        "cc <- TRUE     # Logique (T/F)\n",
        "dd <- NA       # Logique\n",
        "ee <- \"123\"    # ???\n"
      ],
      "execution_count": null,
      "outputs": [
        {
          "output_type": "display_data",
          "data": {
            "text/plain": [
              "[1] \"numeric\""
            ],
            "text/latex": "'numeric'",
            "text/markdown": "'numeric'",
            "text/html": [
              "'numeric'"
            ]
          },
          "metadata": {
            "tags": []
          }
        }
      ]
    },
    {
      "cell_type": "code",
      "metadata": {
        "id": "1BSqcsmn2qzk"
      },
      "source": [
        "# Pour voir le type de données, utiliser la fonction mode()\n",
        "\n",
        "mode(aa)\n"
      ],
      "execution_count": null,
      "outputs": []
    },
    {
      "cell_type": "markdown",
      "metadata": {
        "id": "SB9YlqDsp2B5"
      },
      "source": [
        "##Les types d'objets"
      ]
    },
    {
      "cell_type": "markdown",
      "metadata": {
        "id": "SSSL1WvCp5Mj"
      },
      "source": [
        "### Vecteurs\n",
        "\n",
        "Définition: Objet contenant des valeurs (éléments/composantes) d'un seul mode (numérique, texte, logique). En pratique, c'est une variable."
      ]
    },
    {
      "cell_type": "code",
      "metadata": {
        "id": "HzWwUK2ryrML"
      },
      "source": [
        "# On créer des vecteurs principalement avec la commande c()\n",
        "\n",
        "bb <- c(5, 23, 89, NA)  # vecteur de plusieurs éléments numériques et une valeur manquante\n",
        "cc <- c(\"bleu\", \"blanc\", \"rouge\")  # vecteur textuel\n",
        "dd <- c(TRUE, FALSE, FALSE, TRUE)  # vecteur booléen\n",
        "ee <- c(aa, bb)  # combiner/concaténer des vecteurs\n",
        "ff <- c(cc, dd, ee)  # Oups! Principe de COERCITION s'applique (changement implicite du mode)"
      ],
      "execution_count": null,
      "outputs": []
    },
    {
      "cell_type": "code",
      "metadata": {
        "id": "eLtJwe0ZzSXw"
      },
      "source": [
        "### Le principe de coercition\n",
        "\n",
        "gg <- c(2, 4, 6, \"w\")  # transforme tous les éléments en format textuel"
      ],
      "execution_count": null,
      "outputs": []
    },
    {
      "cell_type": "code",
      "metadata": {
        "id": "LKuf8_h0zA_u"
      },
      "source": [
        "# La fonction length() rapporte le nombre d'éléments dans un objet\n",
        "\n",
        "length(ff) "
      ],
      "execution_count": null,
      "outputs": []
    },
    {
      "cell_type": "code",
      "metadata": {
        "id": "d5TfZydBLZHM",
        "colab": {
          "base_uri": "https://localhost:8080/",
          "height": 34
        },
        "outputId": "0b8cc966-d2f4-45e2-ff7d-86804b15acba"
      },
      "source": [
        "### - On peut faire des calculs entre vecteurs - exemple, calcul de l'IMC: poids divisé par taille au carré \n",
        "taille <- c(1.45, 1.60, 1.70) ^ 2 \n",
        "poids <- c(70, 65, 60)\n",
        "IMC <- poids / taille \n",
        "IMC"
      ],
      "execution_count": null,
      "outputs": [
        {
          "output_type": "display_data",
          "data": {
            "text/plain": [
              "[1] 33.29370 25.39062 20.76125"
            ],
            "text/latex": "\\begin{enumerate*}\n\\item 33.2936979785969\n\\item 25.390625\n\\item 20.7612456747405\n\\end{enumerate*}\n",
            "text/markdown": "1. 33.2936979785969\n2. 25.390625\n3. 20.7612456747405\n\n\n",
            "text/html": [
              "<style>\n",
              ".list-inline {list-style: none; margin:0; padding: 0}\n",
              ".list-inline>li {display: inline-block}\n",
              ".list-inline>li:not(:last-child)::after {content: \"\\00b7\"; padding: 0 .5ex}\n",
              "</style>\n",
              "<ol class=list-inline><li>33.2936979785969</li><li>25.390625</li><li>20.7612456747405</li></ol>\n"
            ]
          },
          "metadata": {
            "tags": []
          }
        }
      ]
    },
    {
      "cell_type": "markdown",
      "metadata": {
        "id": "rMOeJDXQt7RC"
      },
      "source": [
        "### Facteurs "
      ]
    },
    {
      "cell_type": "markdown",
      "metadata": {
        "id": "gmmoFrlSt_Fp"
      },
      "source": [
        "* Définition: vecteur avec des attributs spécifiques, ie dont la structure correspond aux variables qualitatives et dont les valeurs peuvent être de type numérique ou caractère\n",
        "* Les modalités de la variable sont fixes et ordonnées alphabétiquement (mais stoquées en format integer)\n",
        "* Impossible d’assigner une valeur qui n’a pas été préalablement définie comme une des modalités\n",
        "* L'argument optionnel levels() permet d'ajouter et modifier les catégories prédéfinies \n",
        "* L'argument labels(), est aussi optionnel, permet de définir les libellés associés aux niveaux. Faut respecter leur ordre"
      ]
    },
    {
      "cell_type": "code",
      "metadata": {
        "id": "8957nsuMusHG"
      },
      "source": [
        "# On créé une variable de type facteur avec la fonction factor()) \n",
        "sexe <- factor(c(\"H\", \"H\", \"F\", \"H\")) # 4 valeurs de 2 niveaux "
      ],
      "execution_count": null,
      "outputs": []
    },
    {
      "cell_type": "code",
      "metadata": {
        "id": "Mm5saFnSuuBN"
      },
      "source": [
        "# Par défaut, les valeurs fournies lors de la création du facteur sont utilisées pour fixer les modalités (niveaux) de la variable en ordre alphabétique\n",
        "levels(sexe) "
      ],
      "execution_count": null,
      "outputs": []
    },
    {
      "cell_type": "code",
      "metadata": {
        "id": "d3VM7N93u0d8"
      },
      "source": [
        "# L'objet est un facteur avec 2 niveaux dont les modalités sont stoquées sous forme textuelle, mais les valeurs individuelles sont stoquées comme integer.\n",
        "str(sexe) \n",
        "typeof(sexe)"
      ],
      "execution_count": null,
      "outputs": []
    },
    {
      "cell_type": "code",
      "metadata": {
        "id": "XT7Dx0BMu64H"
      },
      "source": [
        "### On peut ajouter une valeur additionnelle par indexation ([5] nous y reviendrons...)\n",
        "sexe[5]<-\"F\" "
      ],
      "execution_count": null,
      "outputs": []
    },
    {
      "cell_type": "code",
      "metadata": {
        "id": "vskhC0yyu7gg"
      },
      "source": [
        "### Mais on ne peut d'emblée ajouter une valeur d'un autre niveau que les 2 prévus au départ\n",
        "sexe[6]<-\"A\" "
      ],
      "execution_count": null,
      "outputs": []
    },
    {
      "cell_type": "code",
      "metadata": {
        "id": "1Ak-PXSbu6sw"
      },
      "source": [
        "### Pour ce faire, il faut d'abord modifier les niveaux permis\n",
        "levels(sexe) <- c(\"F\", \"H\", \"A\") \n",
        "sexe"
      ],
      "execution_count": null,
      "outputs": []
    },
    {
      "cell_type": "code",
      "metadata": {
        "id": "OKFuje2Tu_fg"
      },
      "source": [
        "### Là ça marche!\n",
        "sexe[6]<-\"A\" "
      ],
      "execution_count": null,
      "outputs": []
    },
    {
      "cell_type": "markdown",
      "metadata": {
        "id": "VJqAsG6IsgXm"
      },
      "source": [
        "### Les data frames\n",
        "\n",
        "Définition: Tableau de données pouvant regrouper des vecteurs de différents types (numériques et textuels)\n",
        "\n",
        "Crée un jeu de données avec la fonction data.frame()\n",
        "On le crée rarement manuellement, généralement importé en format .txt, .csv, .spss ...\n",
        "\n",
        "Attention: par défaut, si on ne désactive pas l’option stringsAsFactors à la création d'un dataframe, les vecteurs textuels sont de type facteur\n",
        "\n",
        "On peut vérifier le mode d'un objet avec les commandes: is.character, is.list, is.logical, is.numeric, is.null, is.factor\n",
        "\n",
        "On peut convertir le mode d'un objet avec les commandes: as.character, as.list, as.logical, as.numeric, as.factor"
      ]
    },
    {
      "cell_type": "code",
      "metadata": {
        "id": "3SJE97y7vVzd"
      },
      "source": [
        "# Créer un data frame avec 4 variables (3 vecteurs numériques et 1 vecteur textuel) avec la fonction data.frame()\n",
        "age <- c(45,65,22,38,54,31,29,44,56,67) \n",
        "poids <- c(150,125,210,175,110,180,130,155,190,120)\n",
        "taille <- c(4.9,6.0,5.5,5.9,5.2,6.1,5.7,5.0,5.3,6.2)\n",
        "sexe <- c(\"H\",\"F\",\"F\",\"H\",\"H\",\"F\",\"F\",\"H\",\"F\",\"H\")\n",
        "bd <- data.frame(age, taille, poids, sexe)"
      ],
      "execution_count": null,
      "outputs": []
    },
    {
      "cell_type": "code",
      "metadata": {
        "id": "R_MUZTv9vVks"
      },
      "source": [
        "# On peut nommer les observations avec la fonction rownames()\n",
        "noms <- c(\"cas1\",\"cas2\",\"cas3\",\"cas4\",\"cas5\",\"cas6\",\"cas7\",\"cas8\",\"cas9\",\"cas10\")\n",
        "row.names(bd) <- noms"
      ],
      "execution_count": null,
      "outputs": []
    },
    {
      "cell_type": "markdown",
      "metadata": {
        "id": "eyFQnoIBpoic"
      },
      "source": [
        "## Les fonctions"
      ]
    },
    {
      "cell_type": "code",
      "metadata": {
        "id": "xpB0u2NVDxim",
        "colab": {
          "base_uri": "https://localhost:8080/",
          "height": 52
        },
        "outputId": "79d9a379-bed0-49e8-ac91-2f7a4b38b5f1"
      },
      "source": [
        "## Créer un objet nommé \"age\" composé d’une série de 3 nombres avec la fonction c()\n",
        "age <- c(12, 15, 20) \n",
        "\n",
        "## Passer cet objet comme 1er argument de la fonction mean()\n",
        "mean(age)\n",
        "\n",
        "## Arrondir le résultat à une décimale en imbriquant la fonction mean() dans la fonction round()\n",
        "round(mean(age), digits=1) "
      ],
      "execution_count": null,
      "outputs": [
        {
          "output_type": "display_data",
          "data": {
            "text/plain": [
              "[1] 15.66667"
            ],
            "text/latex": "15.6666666666667",
            "text/markdown": "15.6666666666667",
            "text/html": [
              "15.6666666666667"
            ]
          },
          "metadata": {
            "tags": []
          }
        },
        {
          "output_type": "display_data",
          "data": {
            "text/plain": [
              "[1] 15.7"
            ],
            "text/latex": "15.7",
            "text/markdown": "15.7",
            "text/html": [
              "15.7"
            ]
          },
          "metadata": {
            "tags": []
          }
        }
      ]
    },
    {
      "cell_type": "markdown",
      "metadata": {
        "id": "0yT9g9_5psbt"
      },
      "source": [
        "## Les arguments"
      ]
    },
    {
      "cell_type": "code",
      "metadata": {
        "id": "zs_FySvSDxlJ",
        "colab": {
          "base_uri": "https://localhost:8080/",
          "height": 34
        },
        "outputId": "c00630e2-80b1-45da-a5a6-2d5c5dca4277"
      },
      "source": [
        "age<-c(12, 15, 20, NA)  # Je créé un vecteur composé de 3 chiffres et une valeur manquante\n",
        "\n",
        "mean(age)    # OUPS!"
      ],
      "execution_count": null,
      "outputs": [
        {
          "output_type": "display_data",
          "data": {
            "text/plain": [
              "[1] NA"
            ],
            "text/latex": "<NA>",
            "text/markdown": "&lt;NA&gt;",
            "text/html": [
              "&lt;NA&gt;"
            ]
          },
          "metadata": {
            "tags": []
          }
        }
      ]
    },
    {
      "cell_type": "code",
      "metadata": {
        "id": "hJNk9WNKLZCP",
        "colab": {
          "base_uri": "https://localhost:8080/",
          "height": 34
        },
        "outputId": "c85939ca-ba8a-4b82-9e1c-ed8beec43ebb"
      },
      "source": [
        "help(mean)  # Pour afficher l'aide d'une fonction (ou la fonction args(mean))\n",
        "\n",
        "mean(age, na.rm=TRUE, trim=0.05)\n",
        "\n",
        "# L'argument na.rm=TRUE indique de ne pas prendre en compte les valeurs manquantes\n",
        "# L'argument trim=.05 indique d'exclure les 5% les plus extrêmes"
      ],
      "execution_count": null,
      "outputs": [
        {
          "output_type": "display_data",
          "data": {
            "text/plain": [
              "[1] 15.66667"
            ],
            "text/latex": "15.6666666666667",
            "text/markdown": "15.6666666666667",
            "text/html": [
              "15.6666666666667"
            ]
          },
          "metadata": {
            "tags": []
          }
        }
      ]
    },
    {
      "cell_type": "markdown",
      "metadata": {
        "id": "LvoCPL_Kss8Q"
      },
      "source": [
        "#Exercices\n",
        "\n",
        "Créer trois vecteurs représentant l'age, le poids et le sexe de 10 personnes\n",
        "\n",
        "    45,65,22,38,54,31,29,44,56,67\n",
        "    210,125,150,175,145,180,130,175,160,130\n",
        "    \"H\",\"F\",\"F\",\"H\",\"H\",\"F\",\"F\",\"H\",\"F\",\"H\"\n",
        "\n",
        "1. Quel est l'âge médian?\n",
        "2. Sélectionner seulement les femmes (vecteur sexe)\n",
        "3. Appliquer cette condition sur le vecteur poids pour sélectionner le poids des femmes seulement\n",
        "4. Quelle est la moyenne de poids des femmes?\n",
        "5. Quelle est la différence de moyenne de poids entre les hommes et les femmes?\n",
        "6. Sélectionner l'âge des 5 premiers répondants\n",
        "7. Sélectionner les répondants âgés de 40 ans ou moins\n",
        "8. Ajouter un 11iem répondant Homme de 160 livres âgé de 30 ans\n",
        "9. Changer l'âge du deuxième répondant pour 35 ans\n",
        "10. Calculer un nouveau vecteur contenant l'année de naissance (selon l'âge en 2020) \n",
        "11. Créer un dataframe nommé table (fonction data.frame()) composé des 4 vecteurs "
      ]
    },
    {
      "cell_type": "code",
      "metadata": {
        "id": "K62Cm-3ltjKy"
      },
      "source": [
        "#Première cellule de code pour compléter les exercices (vous pouvez en ajouter)"
      ],
      "execution_count": null,
      "outputs": []
    },
    {
      "cell_type": "markdown",
      "metadata": {
        "id": "vuIXsKtDtjcU"
      },
      "source": [
        "##Solutionnaire"
      ]
    },
    {
      "cell_type": "code",
      "metadata": {
        "id": "yxX3Otj6tsyo"
      },
      "source": [
        "## créer trois vecteurs représentant l'age, le poids et le sexe de 10 personnes\n",
        "\n",
        "age <- c(45,65,22,38,54,31,29,44,56,67)\n",
        "poids <- c(210,125,150,175,145,180,130,175,160,130)\n",
        "sexe <- c(\"H\",\"F\",\"F\",\"H\",\"H\",\"F\",\"F\",\"H\",\"F\",\"H\")\n",
        "\n",
        "\n",
        "## Quel est l'âge médian?\n",
        "median(age)\n",
        "\n",
        "\n",
        "## Sélectionner seulement les femmes (vecteur sexe)\n",
        "sexe[sexe==\"F\"]\n",
        "\n",
        "\n",
        "## Appliquer cette condition sur le vecteur poids pour sélectionner le poids des femmes seulement\n",
        "poids[sexe==\"F\"]\n",
        "\n",
        "\n",
        "### Quelle est la moyenne de poids des femmes?\n",
        "mean(poids[sexe==\"F\"]) \n",
        "\n",
        "\n",
        "### Quelle est la différence de moyenne de poids entre les hommes et les femmes?\n",
        "mean(poids[sexe==\"H\"]) - mean(poids[sexe==\"F\"]) \n",
        "\n",
        "\n",
        "## Sélectionner l'âge des 5 premiers répondants\n",
        "age[1:5]\n",
        "\n",
        "\n",
        "## Sélectionner les répondants âgés de 40 ans ou moins\n",
        "age[age<=40]\n",
        "\n",
        "\n",
        "## Changer l'âge du deuxième répondant pour 35 ans\n",
        "age[2] <- 35\n",
        "\n",
        "\n",
        "## Ajouter un 11iem répondant Homme de 160 livres âgé de 30 ans\n",
        "sexe[11] <- \"H\"\n",
        "poids[11] <- 160\n",
        "age[11] <- 30\n",
        "\n",
        "\n",
        "## Calculer un nouveau vecteur contenant l'année de naissance (selon l'âge en 2020) \n",
        "annee <-2020 - age\n",
        "\n",
        "\n",
        "## Créer un dataframe nommé table avec les 4 vecteurs \n",
        "table <- data.frame(age, sexe, poids, annee)\n",
        "\n",
        "\n",
        "\n"
      ],
      "execution_count": null,
      "outputs": []
    }
  ]
}