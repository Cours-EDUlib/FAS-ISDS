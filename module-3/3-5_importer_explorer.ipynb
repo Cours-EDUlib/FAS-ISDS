{
  "nbformat": 4,
  "nbformat_minor": 0,
  "metadata": {
    "colab": {
      "provenance": [],
      "authorship_tag": "ABX9TyNuXsl0+95h22R/iFmEEepT",
      "include_colab_link": true
    },
    "kernelspec": {
      "name": "ir",
      "display_name": "R"
    }
  },
  "cells": [
    {
      "cell_type": "markdown",
      "metadata": {
        "id": "view-in-github",
        "colab_type": "text"
      },
      "source": [
        "<a href=\"https://colab.research.google.com/github/Cours-EDUlib/FAS-ISDS/blob/main/module-3/3-5_importer_explorer.ipynb\" target=\"_parent\"><img src=\"https://colab.research.google.com/assets/colab-badge.svg\" alt=\"Open In Colab\"/></a>"
      ]
    },
    {
      "cell_type": "code",
      "metadata": {
        "id": "hK8GMlwcW5u0"
      },
      "source": [
        "# Installation et chargement des modules nécessaires\n",
        "install.packages(\"questionr\", dep = TRUE)\n",
        "library(\"questionr\")"
      ],
      "execution_count": null,
      "outputs": []
    },
    {
      "cell_type": "markdown",
      "metadata": {
        "id": "wJu9xbNRUAQU"
      },
      "source": [
        "# 1. Importer et explorer une base de données\n",
        "\n",
        "### Procédures varient selon l'environnement de travail"
      ]
    },
    {
      "cell_type": "markdown",
      "metadata": {
        "id": "jeurZSasr80U"
      },
      "source": [
        "##1.1. Dans Google Colab\n",
        "\n",
        "Différentes stratégies permettent d'importer des fichiers de données dans son environnement de travail Colab à partir de son Google Drive personnel, de GitHub, ..."
      ]
    },
    {
      "cell_type": "markdown",
      "metadata": {
        "id": "t2cHX70FsIoX"
      },
      "source": [
        "##1.2. Dans R, RStudio, ..."
      ]
    },
    {
      "cell_type": "markdown",
      "metadata": {
        "id": "HABEo1DJ4vHT"
      },
      "source": [
        "*  Il existe plusieurs fonctions (natives R ou de modules divers) pour importer des fichiers de divers formats (.txt, .csv, .sav, .xls, .dta, .sas7bdat, ...). \n",
        "*  Chaque fonction a ses particularités (arguments) qui auront un impact sur la conversion des données, par exemple: le traitement des valeurs manquantes, des étiquettes de valeurs, le format des variables qualitatives (facteur ou chaine de caractères), des dates, des décimales.\n",
        "*  RStudio permet également d'importer un fichier via des fonctions automatisées dans le menu du haut."
      ]
    },
    {
      "cell_type": "code",
      "metadata": {
        "id": "MctTYTcfskoz"
      },
      "source": [
        "## Fichiers csv\n",
        "read.table(\"fichier.csv\", sep=\",\", header=TRUE) \n",
        "\n",
        "## Fichiers txt\n",
        "read.table(\"fichier.txt\", header = TRUE, sep = \" \", na.strings = c(\".\", \"99\"))\n",
        "\n",
        "# read.table: fonction de base, il faut spécifier les arguments sep et header\n",
        "# header=TRUE: la première ligne contient le nom des variables\n",
        "# sep=\" \":les données sont séparées par ...\n",
        "# na.strings=c(\".\", \"99\") indique que les valeurs manquantes sont codées par ...\n",
        "\n",
        "# À noter: tout dépendant de la configuration de votre espace de travail, il se peut qu'il soit nécessaire d'indiquer le chemin complet menant \n",
        "# vers l'emplacement du fichier de données (C:/Users/.../.../MonFichier.csv\")\n",
        "# Par souci de reproductibilité, utiliser des chemins relatifs et non absolus."
      ],
      "execution_count": null,
      "outputs": []
    },
    {
      "cell_type": "code",
      "metadata": {
        "id": "AtRYV4bwspb6"
      },
      "source": [
        "## Fichier excel\n",
        "read_excel(\"fichier.xls\") \n",
        "\n",
        "# Module readxl (fait partie de tidyverse mais doit être chargé individuellement)"
      ],
      "execution_count": null,
      "outputs": []
    },
    {
      "cell_type": "code",
      "metadata": {
        "id": "HLO2DWdOs_py"
      },
      "source": [
        "## Fichier SPSS\n",
        "read_spss(\"fichier.sav\", user_na = TRUE) \n",
        "\n",
        "# Module haven (fait partie de tidyverse mais doit être chargé individuellement)\n",
        "# Pour les codes de valeurs manquantes, utiliser l’option user_na = TRUE    \n",
        "# Les valeurs manquantes codées ne seront pas converties en NA et conserveront leur statut manquant\n",
        "# Plusieurs autres fonctions disponibles dans haven: read_sav, read_dta, read_sas, read_csv, read_csv2, ..."
      ],
      "execution_count": null,
      "outputs": []
    },
    {
      "cell_type": "markdown",
      "metadata": {
        "id": "vkll044OeB_H"
      },
      "source": [
        "##1.3 Les bases de données intégrées aux modules\n",
        "\n"
      ]
    },
    {
      "cell_type": "markdown",
      "metadata": {
        "id": "a6zMOFYtdZY4"
      },
      "source": [
        "### Voir toutes les bases de données intégrées aux modules (installés ou non)"
      ]
    },
    {
      "cell_type": "code",
      "metadata": {
        "id": "iBVsHYJ_drxN"
      },
      "source": [
        "data(package = .packages(all.available = TRUE))"
      ],
      "execution_count": null,
      "outputs": []
    },
    {
      "cell_type": "markdown",
      "metadata": {
        "id": "nDNwi2o2diTG"
      },
      "source": [
        "À noter, plusieurs modules ont été développés spécifiquement pour importer et travailler avec des données publiques dont: \n",
        "\n",
        "*   [WDI](https://cran.r-project.org/web/packages/WDI/index.html) (indicateurs de développement de la Banque mondiale)\n",
        "*   [cancensus](https://cran.r-project.org/web/packages/cancensus/vignettes/cancensus.html) (recensements canadiens)"
      ]
    },
    {
      "cell_type": "markdown",
      "metadata": {
        "id": "-o9tXAWkd2HH"
      },
      "source": [
        "### Importer une base de données d'un module chargé\n"
      ]
    },
    {
      "cell_type": "code",
      "metadata": {
        "id": "4aWDuKl0eY6l"
      },
      "source": [
        "# Voir les bases de données dans un module chargé particulier\n",
        "data(package=\"questionr\") "
      ],
      "execution_count": null,
      "outputs": []
    },
    {
      "cell_type": "code",
      "metadata": {
        "id": "679p08WHd4NG"
      },
      "source": [
        "# Importer une base de données dans un module chargé particulier\n",
        "data(hdv2003)\n",
        "\n",
        "# Extrait de l'enquête \"Histoire de vie\" de l'Insee - https://www.insee.fr/fr/statistiques/2532244"
      ],
      "execution_count": null,
      "outputs": []
    },
    {
      "cell_type": "code",
      "metadata": {
        "id": "4sV1utHBYscC"
      },
      "source": [
        "# R a automatiquement créé un objet au nom de la base importée dans notre environnement de travail\n",
        "hdv2003"
      ],
      "execution_count": null,
      "outputs": []
    },
    {
      "cell_type": "markdown",
      "metadata": {
        "id": "MUWG2l0gZG6v"
      },
      "source": [
        "##2. Faire une copie (et renommer) sa base dans un nouvel objet"
      ]
    },
    {
      "cell_type": "code",
      "metadata": {
        "id": "QFz-BnOuZIE-"
      },
      "source": [
        "bd <- hdv2003"
      ],
      "execution_count": null,
      "outputs": []
    },
    {
      "cell_type": "markdown",
      "metadata": {
        "id": "9mLckNbvhHmK"
      },
      "source": [
        "*À noter: dans les capsules suivantes, les commandes pour importer et copier la base de données hdv2003 seront intégrées au premier bloc de code (installation des modules) du notebook*."
      ]
    },
    {
      "cell_type": "markdown",
      "metadata": {
        "id": "o_dO7b6Rhq9s"
      },
      "source": [
        "##3. Voir la liste des objets (base de données) présents dans la session"
      ]
    },
    {
      "cell_type": "code",
      "metadata": {
        "id": "5aivL7NNhyIm"
      },
      "source": [
        "ls() "
      ],
      "execution_count": null,
      "outputs": []
    },
    {
      "cell_type": "markdown",
      "metadata": {
        "id": "uUQAYnvFY6Tv"
      },
      "source": [
        "##4. Supprimer un  objet "
      ]
    },
    {
      "cell_type": "code",
      "metadata": {
        "id": "-F7nj35fX-pg"
      },
      "source": [
        "rm(hdv2003) # Supprimer la base de données originale"
      ],
      "execution_count": null,
      "outputs": []
    },
    {
      "cell_type": "code",
      "metadata": {
        "id": "giPO3nQJnbOt"
      },
      "source": [
        "rm(aaa, bbb, ccc)  # Supprimer plus d'un objet\n",
        "rm(list = ls()) # Supprimer tous les objets"
      ],
      "execution_count": null,
      "outputs": []
    },
    {
      "cell_type": "markdown",
      "metadata": {
        "id": "o7MlnNIDZRco"
      },
      "source": [
        "##5. Afficher le contenu de sa base de données "
      ]
    },
    {
      "cell_type": "code",
      "metadata": {
        "id": "8xAsV_DGZUhv"
      },
      "source": [
        "bd # visualiser la base de données complète"
      ],
      "execution_count": null,
      "outputs": []
    },
    {
      "cell_type": "code",
      "metadata": {
        "id": "Q0mIEX-2aJSR"
      },
      "source": [
        "head(bd) # visualiser les 6 premières observations (modifier le nombre par défaut après une virgule: (bd, 4))"
      ],
      "execution_count": null,
      "outputs": []
    },
    {
      "cell_type": "code",
      "metadata": {
        "id": "HwnVGE7raOVy"
      },
      "source": [
        "tail(bd) # visualiser les 6 dernières observations"
      ],
      "execution_count": null,
      "outputs": []
    },
    {
      "cell_type": "markdown",
      "metadata": {
        "id": "LyuYzCgKZkBR"
      },
      "source": [
        "##6. Afficher les noms de variables/colonnes"
      ]
    },
    {
      "cell_type": "code",
      "metadata": {
        "id": "eIW3iWXVZl0_"
      },
      "source": [
        "names(bd) # noms des variables"
      ],
      "execution_count": null,
      "outputs": []
    },
    {
      "cell_type": "markdown",
      "metadata": {
        "id": "uipnCDCQZoO3"
      },
      "source": [
        "##7. Afficher le nombre de rangées et de colonnes (dimensions)"
      ]
    },
    {
      "cell_type": "code",
      "metadata": {
        "id": "vVH7IHIKZkG7"
      },
      "source": [
        "length(bd) # nombre de variables"
      ],
      "execution_count": null,
      "outputs": []
    },
    {
      "cell_type": "code",
      "metadata": {
        "id": "OXmuIeVnZr6v"
      },
      "source": [
        "ncol(bd) # nombre de variables"
      ],
      "execution_count": null,
      "outputs": []
    },
    {
      "cell_type": "code",
      "metadata": {
        "id": "0r-dCp3KZun4"
      },
      "source": [
        "nrow(bd) # nombre d'observations"
      ],
      "execution_count": null,
      "outputs": []
    },
    {
      "cell_type": "code",
      "metadata": {
        "id": "QzFTu7rBZxMn"
      },
      "source": [
        "dim(bd) # nombre de dimensions (colonnes et lignes)"
      ],
      "execution_count": null,
      "outputs": []
    },
    {
      "cell_type": "markdown",
      "metadata": {
        "id": "t-XmRhezZ3UP"
      },
      "source": [
        "##8. Examiner les caractéristiques sa base de données: classe, taille, structure"
      ]
    },
    {
      "cell_type": "code",
      "metadata": {
        "id": "elA-ORbOZ57P"
      },
      "source": [
        "class(bd) # type d'objet"
      ],
      "execution_count": null,
      "outputs": []
    },
    {
      "cell_type": "code",
      "metadata": {
        "id": "epDZ3MdIaECQ"
      },
      "source": [
        "str(bd)    # description plus détaillée de la structure du tableau "
      ],
      "execution_count": null,
      "outputs": []
    },
    {
      "cell_type": "code",
      "metadata": {
        "id": "_6Z3A_y55YwS"
      },
      "source": [
        "describe(bd) # Module questionr - description plus détaillée des variables du tableau"
      ],
      "execution_count": null,
      "outputs": []
    },
    {
      "cell_type": "markdown",
      "metadata": {
        "id": "h30PqToIh4BU"
      },
      "source": [
        "\n",
        "\n",
        "---\n",
        "\n"
      ]
    }
  ]
}