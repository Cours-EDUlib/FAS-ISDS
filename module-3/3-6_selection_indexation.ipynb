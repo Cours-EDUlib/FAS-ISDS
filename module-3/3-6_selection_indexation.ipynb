{
  "nbformat": 4,
  "nbformat_minor": 0,
  "metadata": {
    "colab": {
      "name": "CP-selection.ipynb",
      "provenance": [],
      "collapsed_sections": [],
      "toc_visible": true,
      "include_colab_link": true
    },
    "kernelspec": {
      "name": "ir",
      "display_name": "R"
    }
  },
  "cells": [
    {
      "cell_type": "markdown",
      "metadata": {
        "id": "view-in-github",
        "colab_type": "text"
      },
      "source": [
        "<a href=\"https://colab.research.google.com/github/Cours-EDUlib/FAS-ISDS/blob/main/module-3/3-6_selection_indexation.ipynb\" target=\"_parent\"><img src=\"https://colab.research.google.com/assets/colab-badge.svg\" alt=\"Open In Colab\"/></a>"
      ]
    },
    {
      "cell_type": "markdown",
      "metadata": {
        "id": "Ffodc0ZdtAM2"
      },
      "source": [
        "# Indexation - ou la sélection d'éléments"
      ]
    },
    {
      "cell_type": "markdown",
      "metadata": {
        "id": "h--gL7Yut-oc"
      },
      "source": [
        "\n",
        "*   Fonctionnalité permettant d’utiliser des opérateurs afin de sélectionner des variables/observations en fonction de différents critères.\n",
        "*   Tous reposent sur le même principe: on utilise des **opérateurs** - soit des crochets (** [ ]**, **[[ ]]**) ou le signe **$** (si l’élément est nommé) pour identifier les valeurs spécifiques que l’on souhaite sélectionner ou pas.\n",
        "\n"
      ]
    },
    {
      "cell_type": "markdown",
      "metadata": {
        "id": "srCIVqsQuTND"
      },
      "source": [
        "## Trois types d’indexation :\n",
        "1.   Par position (directe) \n",
        "2.   Par nom \n",
        "3.   Par conditions logiques  \n"
      ]
    },
    {
      "cell_type": "markdown",
      "metadata": {
        "id": "FXb13AkjuiSZ"
      },
      "source": [
        "### 1. Par position (directe): Indique le rang du ou des éléments à sélectionner\n",
        "\n",
        "  1.1.   Pour sélectionner une ou plusieurs variables\n",
        "\n",
        "*   objet[rangée, **colonne**] \n"
      ]
    },
    {
      "cell_type": "code",
      "metadata": {
        "id": "elA-ORbOZ57P"
      },
      "source": [
        "bd[ ,2]       # Sélectionner la deuxième variable "
      ],
      "execution_count": null,
      "outputs": []
    },
    {
      "cell_type": "code",
      "metadata": {
        "id": "M5xq5_oxZ_5f"
      },
      "source": [
        "bd[ ,3:6]\t    # Sélectionner les variables 3 à 6 "
      ],
      "execution_count": null,
      "outputs": []
    },
    {
      "cell_type": "code",
      "metadata": {
        "id": "epDZ3MdIaECQ"
      },
      "source": [
        "bd[ , c(3,6)]\t# Sélectionner les variables 3 et 6 "
      ],
      "execution_count": null,
      "outputs": []
    },
    {
      "cell_type": "code",
      "metadata": {
        "id": "PKYKd7SsvWhK"
      },
      "source": [
        "bd[ ,-2]    \t# Sélectionner toutes les variables sauf la deuxième "
      ],
      "execution_count": null,
      "outputs": []
    },
    {
      "cell_type": "code",
      "metadata": {
        "id": "UMsFNKWyvZ_Z"
      },
      "source": [
        "bd[ ,-(3:6)]\t# Toutes les variables sauf 3 à 6 "
      ],
      "execution_count": null,
      "outputs": []
    },
    {
      "cell_type": "code",
      "metadata": {
        "id": "uy63kRPhvpYo"
      },
      "source": [
        "bd[ ,-c(3,6)]\t# Toutes les variables sauf 3 et 6 "
      ],
      "execution_count": null,
      "outputs": []
    },
    {
      "cell_type": "markdown",
      "metadata": {
        "id": "KIdQFX_5xP1S"
      },
      "source": [
        "1.2. Pour sélectionner une ou plusieurs observations (même principe, mais de l'autre côté de la virgule)\n",
        "*   objet[**rangée**, colonne]\n",
        "\n",
        "\n"
      ]
    },
    {
      "cell_type": "code",
      "metadata": {
        "id": "WwfaIiBVx5xZ"
      },
      "source": [
        "bd[2,]       # Sélectionner la deuxième observation\n"
      ],
      "execution_count": null,
      "outputs": []
    },
    {
      "cell_type": "markdown",
      "metadata": {
        "id": "DMD8i6mCyGxo"
      },
      "source": [
        "1.3. Pour sélectionner des variables ET des observations"
      ]
    },
    {
      "cell_type": "code",
      "metadata": {
        "id": "IQyDWaIayKvo"
      },
      "source": [
        "bd[1:100, c(1:5,10)]"
      ],
      "execution_count": null,
      "outputs": []
    },
    {
      "cell_type": "markdown",
      "metadata": {
        "id": "Bt_VCuvRweaL"
      },
      "source": [
        "*Pour créer une nouvelle base contenant une sélection de variables/observations, simplement placer la sélection dans un nouvel objet: bd2 <- *"
      ]
    },
    {
      "cell_type": "markdown",
      "metadata": {
        "id": "7tot7W3rKuQK"
      },
      "source": [
        "\n",
        "\n",
        "---\n",
        "\n"
      ]
    },
    {
      "cell_type": "markdown",
      "metadata": {
        "id": "bL_ziFW-y9d4"
      },
      "source": [
        "### 2. Par nom: Indique le nom du ou des éléments à sélectionner"
      ]
    },
    {
      "cell_type": "markdown",
      "metadata": {
        "id": "2rNWKtKgIwXB"
      },
      "source": [
        "#### Opérateur [ ]"
      ]
    },
    {
      "cell_type": "code",
      "metadata": {
        "id": "70wGgBk80z1g"
      },
      "source": [
        "bd[\"relig\"] # Sélectionner une variable"
      ],
      "execution_count": null,
      "outputs": []
    },
    {
      "cell_type": "code",
      "metadata": {
        "id": "11sPBkiJ0Zip"
      },
      "source": [
        "bd[ ,c(\"occup\", \"relig\")] # Sélectionner deux variables "
      ],
      "execution_count": null,
      "outputs": []
    },
    {
      "cell_type": "markdown",
      "metadata": {
        "id": "HScjLR601BE2"
      },
      "source": [
        "On peut aussi mélanger les deux types d'indexation\n"
      ]
    },
    {
      "cell_type": "code",
      "metadata": {
        "id": "hX8xUPzk1DIH"
      },
      "source": [
        "bd2 <- bd[1:100, c(\"id\", \"age\", \"sexe\", \"nivetud\", \"poids\", \"relig\")] # Créer une nouvelle base composée des 100 premières observations et de 6 variables"
      ],
      "execution_count": null,
      "outputs": []
    },
    {
      "cell_type": "markdown",
      "metadata": {
        "id": "maEweD11IHfc"
      },
      "source": [
        "#### Opérateur $\n",
        "Symbole \"raccourci\" pour rapidement sélectionner un seul élément nommé"
      ]
    },
    {
      "cell_type": "code",
      "metadata": {
        "id": "N-_wh67sK0RR"
      },
      "source": [
        "bd$sexe"
      ],
      "execution_count": null,
      "outputs": []
    },
    {
      "cell_type": "markdown",
      "metadata": {
        "id": "6Q3BniOTNlqS"
      },
      "source": [
        "\n",
        "\n",
        "---\n",
        "\n"
      ]
    },
    {
      "cell_type": "markdown",
      "metadata": {
        "id": "uPx8DAFh2hFw"
      },
      "source": [
        "### Par condition (opération logique)\n",
        "\n",
        "Sélection d'éléments qui remplissent une ou plusieurs conditions en utilisant les opérateurs ==, !=, <, >, <=, >="
      ]
    },
    {
      "cell_type": "markdown",
      "metadata": {
        "id": "llfFeLHtO89B"
      },
      "source": [
        "*   Sélectionner selon une valeur de variable - la valeur \"Femme\" de la variable \"sexe\" :"
      ]
    },
    {
      "cell_type": "markdown",
      "metadata": {
        "id": "4eZdCcXUPOC_"
      },
      "source": [
        "\n",
        "\n",
        "1.   Créer d'abord une condition qui teste si le sexe est femme qui retourne une liste logique\n",
        "\n",
        "\n"
      ]
    },
    {
      "cell_type": "code",
      "metadata": {
        "id": "RiOILyNx3CD-"
      },
      "source": [
        "bd$sexe==\"Femme\""
      ],
      "execution_count": null,
      "outputs": []
    },
    {
      "cell_type": "markdown",
      "metadata": {
        "id": "nHSJ3qPy4UKP"
      },
      "source": [
        "ou procéder par la négative avec le sauf \"!=\"\n",
        "\n",
        "\n",
        "\n"
      ]
    },
    {
      "cell_type": "code",
      "metadata": {
        "id": "7Uz2quziPo-5"
      },
      "source": [
        "bd$sexe != \"Homme\""
      ],
      "execution_count": null,
      "outputs": []
    },
    {
      "cell_type": "markdown",
      "metadata": {
        "id": "dy8XtaGhPtWf"
      },
      "source": [
        "\n",
        "2.   Appliquer cette condition de sélection à la bd originale pour créer une nouvelle base composée du sous-ensemble\n",
        "\n"
      ]
    },
    {
      "cell_type": "code",
      "metadata": {
        "id": "1lHMbzldPzHf"
      },
      "source": [
        "bdf <- bd[bd$sexe==\"Femme\",]"
      ],
      "execution_count": null,
      "outputs": []
    },
    {
      "cell_type": "code",
      "metadata": {
        "id": "tdBoX4MUQNQ3"
      },
      "source": [
        "bd[bd$occup == \"Retraite\" | bd$occup == \"Au foyer\",] # deux conditions sur une même variable avec l'opérateur | (ou)"
      ],
      "execution_count": null,
      "outputs": []
    },
    {
      "cell_type": "markdown",
      "metadata": {
        "id": "LjK4Nga-QnOP"
      },
      "source": [
        "*  Sélectionner selon les valeurs de plus d'une variable - les répondants de 40 à 60 ans qui aiment la lecture ou le cinema\n"
      ]
    },
    {
      "cell_type": "code",
      "metadata": {
        "id": "bfhOqCfVQs94"
      },
      "source": [
        "bd[bd$age >= 40 & bd$age <= 60 & (bd$lecture.bd == \"Oui\" | bd$cinema == \"Oui\"), ]"
      ],
      "execution_count": null,
      "outputs": []
    },
    {
      "cell_type": "code",
      "metadata": {
        "id": "j2X1KfZiTKJg"
      },
      "source": [
        "bd4 <-bd[bd$qualif==\"Cadre\" & bd$age<50, c(\"id\",\"nivetud\", \"occup\")] "
      ],
      "execution_count": null,
      "outputs": []
    },
    {
      "cell_type": "code",
      "metadata": {
        "id": "64dWB7FPTMbm"
      },
      "source": [
        "# Pour conserver toutes les variables, ne rien indiquer après la virgule\n",
        "# Attention! Avec l'indexation directe, il faut s'assurer  qu'il n'y a pas de NA. \n",
        "# La présence de NA dans une condition fait que la ligne correspondante sera conservée par l’indexation. Faut utiliser !is.na()\n",
        "\n",
        "bd4 <-bd[bd$qualif==\"Cadre\" & bd$age<50 & !is.na(bd$qualif) & !is.na(bd$age), ]\n",
        "\n",
        "\n",
        "### C'est pour cela qu'il vaut mieux utiliser la fonction subset()\n",
        "\n",
        "\n",
        "### 2 autres fonctions pour créer des sous-groupes\n",
        "\n",
        "###\t1. La fonction subset()\n",
        "bd5 <- subset(bd, qualif==\"Cadre\" & age<50,)\n",
        "\n",
        "### Si on veut sélectionner quelques variables seulement, ajouter select=\n",
        "bd6 <-subset(bd, qualif==\"Cadre\" & age<50, select= c(age, sexe))"
      ],
      "execution_count": null,
      "outputs": []
    }
  ]
}