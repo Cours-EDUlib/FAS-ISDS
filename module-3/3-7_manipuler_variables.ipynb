{
  "nbformat": 4,
  "nbformat_minor": 0,
  "metadata": {
    "colab": {
      "name": "CP-manipuler.ipynb",
      "provenance": [],
      "include_colab_link": true
    },
    "kernelspec": {
      "name": "ir",
      "display_name": "R"
    }
  },
  "cells": [
    {
      "cell_type": "markdown",
      "metadata": {
        "id": "view-in-github",
        "colab_type": "text"
      },
      "source": [
        "<a href=\"https://colab.research.google.com/github/Cours-EDUlib/FAS-ISDS/blob/main/module-3/3-7_manipuler_variables.ipynb\" target=\"_parent\"><img src=\"https://colab.research.google.com/assets/colab-badge.svg\" alt=\"Open In Colab\"/></a>"
      ]
    },
    {
      "cell_type": "code",
      "metadata": {
        "id": "O2EMC9v_bYcN"
      },
      "source": [
        "install.packages(\"questionr\", dep = TRUE)\n",
        "require(questionr)\n",
        "data(hdv2003)\n",
        "bd <- hdv2003"
      ],
      "execution_count": null,
      "outputs": []
    },
    {
      "cell_type": "markdown",
      "metadata": {
        "id": "yqQ84JBJRHjp"
      },
      "source": [
        "## Renommer une variable"
      ]
    },
    {
      "cell_type": "markdown",
      "metadata": {
        "id": "-0fexIjMTRWE"
      },
      "source": [
        "### Renommer une ou plusieurs variables: "
      ]
    },
    {
      "cell_type": "code",
      "metadata": {
        "id": "Cx3ymKw8Rzww"
      },
      "source": [
        "# Avec la fonction names et l'indexation par position\n",
        "\n",
        "names(bd)[c(2,3,4)] <- \"AGE\", \"SEXE\", \"NIVETUD\""
      ],
      "execution_count": null,
      "outputs": []
    },
    {
      "cell_type": "markdown",
      "metadata": {
        "id": "vbTrr9ckTaYO"
      },
      "source": [
        "### Renommer une seule variable\n"
      ]
    },
    {
      "cell_type": "code",
      "metadata": {
        "id": "FHcFQNntTLb7"
      },
      "source": [
        "# Avec la fonction \"rename.variable\" du package \"questionr\"\n",
        "\n",
        "rename.variable(bd, \"clso\", \"classe\") "
      ],
      "execution_count": null,
      "outputs": []
    },
    {
      "cell_type": "markdown",
      "metadata": {
        "id": "k3pFdLqfTncM"
      },
      "source": [
        "### Renommer des modalités de variables catégorielles"
      ]
    },
    {
      "cell_type": "code",
      "metadata": {
        "id": "igoo3EEpUD-3",
        "colab": {
          "base_uri": "https://localhost:8080/",
          "height": 85
        },
        "outputId": "323ddca1-9edd-4157-cb2c-bc78126262e0"
      },
      "source": [
        "# Avec l'indexation par condition\n",
        "\n",
        "bd$cinema2[bd$cinema == \"Non\"] <- \"N\"\n",
        "bd$cinema2[bd$cinema == \"Oui\"] <- \"O\""
      ],
      "execution_count": null,
      "outputs": [
        {
          "output_type": "stream",
          "text": [
            "Warning message in `[<-.factor`(`*tmp*`, bd$cinema == \"Non\", value = \"N\"):\n",
            "“invalid factor level, NA generated”\n",
            "Warning message in `[<-.factor`(`*tmp*`, bd$cinema == \"Oui\", value = \"O\"):\n",
            "“invalid factor level, NA generated”\n"
          ],
          "name": "stderr"
        }
      ]
    },
    {
      "cell_type": "markdown",
      "metadata": {
        "id": "YBtAzygRUNJ8"
      },
      "source": [
        "## Agréger/recoder des modalités de variables catégorielles"
      ]
    },
    {
      "cell_type": "code",
      "metadata": {
        "id": "2SP4bUL-URdN"
      },
      "source": [
        "# Avec l'indexation par condition\n",
        "\n",
        "bd$relig2[bd$relig == \"Pratiquant regulier\"] <- \"Pratiquant\"\n",
        "bd$relig2[bd$relig == \"Pratiquant occasionnel\"] <- \"Pratiquant\"\n",
        "bd$relig2[bd$relig == \"Appartenance sans pratique\"] <- \"Croyant\"\n",
        "bd$relig2[bd$relig == \"Ni croyance ni appartenance\"] <- \"Athée\"\n",
        "bd$relig2[bd$relig == \"Rejet\"] <- \"ND\"\n",
        "bd$relig2[bd$relig == \"NSP ou NVPR\"] <- \"ND\""
      ],
      "execution_count": null,
      "outputs": []
    },
    {
      "cell_type": "code",
      "metadata": {
        "id": "AiKLkWUDVojQ"
      },
      "source": [
        "# Avec la fonction ifelse()\n",
        "\n",
        "## Permet de créer une variable dichotomique sur la base des valeurs d'une ou plusieurs variables \n",
        "\n",
        "## Une variable\n",
        "bd$occup2 <- ifelse(bd$occup==\"Exerce une profession\", \"Actif\", \"Inactif\")  # Créer une variable identifiant les actifs\n",
        "  # Test de condition\n",
        "  # valeur à renvoyer si le test est vrai\n",
        "  # valeur à renvoyer si le test est faux\n",
        "\n",
        "## Deux variables\n",
        "bd$fr <- ifelse(bd$sexe == \"Femme\" & bd$occup == \"Retraite\", \"Femme retraite\", \"Autre\") # Créer une variable identifiant les femmes retraités"
      ],
      "execution_count": null,
      "outputs": []
    },
    {
      "cell_type": "markdown",
      "metadata": {
        "id": "PLnpHbgYWA-S"
      },
      "source": [
        "### Recoder des variables numériques en catégorielles"
      ]
    },
    {
      "cell_type": "code",
      "metadata": {
        "id": "aXVb_C2XWLqR"
      },
      "source": [
        "# Avec la fonction cut()\n",
        "\n",
        "bd$age.cat <- cut(bd$age, breaks=c(0, 20, 40, 60, 80, 100), include.lowest = TRUE, labels=c(\"20 ans et moins\", \"21 à 40\", \"41 à 60\", \"61 à 80\", \"81 et plus\"))\n",
        "\n",
        "  # breaks=: limites dans catégories\n",
        "  # include.lowest: valeur minimale est incluse dans la première classe - (40,60] signifie que 40 est exclu et 60 est inclu\n",
        "  # labels: intitulés"
      ],
      "execution_count": null,
      "outputs": []
    },
    {
      "cell_type": "markdown",
      "metadata": {
        "id": "BFusgFcdavDV"
      },
      "source": [
        "### Modifier les modalités d'un facteur"
      ]
    },
    {
      "cell_type": "code",
      "metadata": {
        "id": "nOyFOd6wa1k5"
      },
      "source": [
        "levels(bd$qualif)"
      ],
      "execution_count": null,
      "outputs": []
    },
    {
      "cell_type": "code",
      "metadata": {
        "id": "j5r6SJe2a2Q5"
      },
      "source": [
        "bd$qualif <- factor(bd$qualif, levels = c(\"Employe\", \"Ouvrier specialise\", \"Ouvrier qualifie\", \"Technicien\", \"Profession intermediaire\", \"Cadre\", \"Autre\"),labels = c(\"Empl\",\"OS\", \"OQ\",  \"Tech\", \"Interm\", \"Cadre\", \"Autre\"))"
      ],
      "execution_count": null,
      "outputs": []
    },
    {
      "cell_type": "code",
      "metadata": {
        "id": "kkUs741fa2GB"
      },
      "source": [
        "# Transformer la variable \"nivetud\" en format texte et renommer les modalités\n",
        "bd$cin <- as.character(bd$cinema)\n",
        "bd$cin[bd$cinema==\"Non\"]<- \"N\"\n",
        "bd$cin[bd$cinema==\"Oui\"]<- \"O\""
      ],
      "execution_count": null,
      "outputs": []
    },
    {
      "cell_type": "markdown",
      "metadata": {
        "id": "j9n7_7kbWrBh"
      },
      "source": [
        "## Créer/Calculer des variables"
      ]
    },
    {
      "cell_type": "code",
      "metadata": {
        "id": "2VoJfsFhW0oy"
      },
      "source": [
        "bd$annee <- 2003-bd$age    # année de naissance (enquête date de 2003) "
      ],
      "execution_count": null,
      "outputs": []
    },
    {
      "cell_type": "code",
      "metadata": {
        "id": "_Qzt5kjjW0eK"
      },
      "source": [
        "bd$age.ecart <- bd$age - mean(bd$age, na.rm = TRUE) # écart entre l'âge du répondant et la moyenne"
      ],
      "execution_count": null,
      "outputs": []
    },
    {
      "cell_type": "code",
      "metadata": {
        "id": "58zcVhGnWvVp"
      },
      "source": [
        "bd$tv <- round(bd$heures.tv,0) # heures arrondies"
      ],
      "execution_count": null,
      "outputs": []
    }
  ]
}