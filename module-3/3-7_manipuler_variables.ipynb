{
  "nbformat": 4,
  "nbformat_minor": 0,
  "metadata": {
    "colab": {
      "provenance": [],
      "authorship_tag": "ABX9TyNeW82kTXT5r96anZhHItJ9",
      "include_colab_link": true
    },
    "kernelspec": {
      "name": "ir",
      "display_name": "R"
    }
  },
  "cells": [
    {
      "cell_type": "markdown",
      "metadata": {
        "id": "view-in-github",
        "colab_type": "text"
      },
      "source": [
        "<a href=\"https://colab.research.google.com/github/Cours-EDUlib/FAS-ISDS/blob/main/module-3/3-7_manipuler_variables.ipynb\" target=\"_parent\"><img src=\"https://colab.research.google.com/assets/colab-badge.svg\" alt=\"Open In Colab\"/></a>"
      ]
    },
    {
      "cell_type": "code",
      "metadata": {
        "id": "O2EMC9v_bYcN"
      },
      "source": [
        "# Installation et chargement des modules nécessaires\n",
        "install.packages(\"questionr\", dep = TRUE)\n",
        "library(questionr)\n",
        "\n",
        "\n",
        "# Téléchargement de la base de données hdv2003 du module questionr\n",
        "# (Extrait de l'enquête \"Histoire de vie\" de l'Insee - https://www.insee.fr/fr/statistiques/2532244)\n",
        "data(hdv2003)\n",
        "\n",
        "# Copie de la base de données dans un objet (datatable) nommé bd\n",
        "bd <- hdv2003"
      ],
      "execution_count": null,
      "outputs": []
    },
    {
      "cell_type": "markdown",
      "metadata": {
        "id": "tMowQFnFB6n0"
      },
      "source": [
        "# Manipuler des variables"
      ]
    },
    {
      "cell_type": "markdown",
      "metadata": {
        "id": "3cxWW6Kp_m8r"
      },
      "source": [
        "*   Dans la capsule précédente, nous avons utilisé l'indexation pour sélectionner et créer des éléments en plaçant l’opérateur d’indexation  [ ] à la droite de l’opérateur **<-** :  bd2 <- bd[1:100, ] \n",
        "*   Mais l’indexation permet aussi de modifier des éléments sélectionnés à la gauche de l'opérateur **<-** par des valeurs inscrites à sa droite."
      ]
    },
    {
      "cell_type": "markdown",
      "metadata": {
        "id": "uBYGoT4J2D58"
      },
      "source": [
        "##1. Modifier une valeur de variable"
      ]
    },
    {
      "cell_type": "code",
      "metadata": {
        "id": "x8S4nxEPBakG"
      },
      "source": [
        "# Sélectionner la première observation de la variable quantitative age \n",
        "bd$age[1]"
      ],
      "execution_count": null,
      "outputs": []
    },
    {
      "cell_type": "code",
      "metadata": {
        "id": "znfVdYFJCpkm"
      },
      "source": [
        "# Modifier la valeur \n",
        "bd$age[1] <-  38"
      ],
      "execution_count": null,
      "outputs": []
    },
    {
      "cell_type": "code",
      "metadata": {
        "id": "0-mOn6ljyD9O"
      },
      "source": [
        "# Sélectionner la première observation de la variable qualitative (facteur) sexe \n",
        "bd$sexe[1]"
      ],
      "execution_count": null,
      "outputs": []
    },
    {
      "cell_type": "code",
      "metadata": {
        "id": "FzR4AtX-e6oZ"
      },
      "source": [
        "# Modifier la valeur (information textuelle entre guillemet)\n",
        "bd$sexe[1] <- \"Homme\""
      ],
      "execution_count": null,
      "outputs": []
    },
    {
      "cell_type": "code",
      "metadata": {
        "id": "D75XstXE_s5R"
      },
      "source": [
        "# Modifier avec une autre valeur \n",
        "bd$sexe[1] <- \"Autre\" # NON! Puisque c'est un facteur, la modalité (levels) doit avoir été prévue (ça fonctionnerait pour une variable \"caractère\")"
      ],
      "execution_count": null,
      "outputs": []
    },
    {
      "cell_type": "code",
      "metadata": {
        "id": "kPKOvhD4yhvB"
      },
      "source": [
        "# Il faut d'abord modifier les niveaux permis avec la fonction factor() et son argument levels=\n",
        "bd$sexe <- factor(bd$sexe, levels=c(\"Femme\", \"Homme\", \"Autre\")) "
      ],
      "execution_count": null,
      "outputs": []
    },
    {
      "cell_type": "markdown",
      "metadata": {
        "id": "ACR6WPHviYgd"
      },
      "source": [
        "\n",
        "\n",
        "---\n",
        "\n"
      ]
    },
    {
      "cell_type": "markdown",
      "metadata": {
        "id": "yqQ84JBJRHjp"
      },
      "source": [
        "##2. Renommer une variable"
      ]
    },
    {
      "cell_type": "markdown",
      "metadata": {
        "id": "-0fexIjMTRWE"
      },
      "source": [
        "###2.1. Renommer une ou plusieurs variables"
      ]
    },
    {
      "cell_type": "code",
      "metadata": {
        "id": "Cx3ymKw8Rzww"
      },
      "source": [
        "# Modifier un ou plusieurs noms de variables avec la fonction names() et l'indexation par position\n",
        "\n",
        "names(bd)[c(3,4)] <- c(\"SEXE\", \"NIVETUD\") # renommer les variables 3 et 4 avec des noms en majuscule "
      ],
      "execution_count": null,
      "outputs": []
    },
    {
      "cell_type": "code",
      "metadata": {
        "id": "vY_tfjHw-iOT"
      },
      "source": [
        "names(bd) # Lister l'ensemble des noms de variables"
      ],
      "execution_count": null,
      "outputs": []
    },
    {
      "cell_type": "markdown",
      "metadata": {
        "id": "vbTrr9ckTaYO"
      },
      "source": [
        "###2.2. Renommer une seule variable\n"
      ]
    },
    {
      "cell_type": "code",
      "metadata": {
        "id": "FHcFQNntTLb7"
      },
      "source": [
        "# Avec la fonction \"rename.variable\" du module \"questionr\"\n",
        "\n",
        "rename.variable(bd, \"clso\", \"Classe\")  # (NomObjet, \"ancien nom\", \"nouveau nom\")"
      ],
      "execution_count": null,
      "outputs": []
    },
    {
      "cell_type": "markdown",
      "metadata": {
        "id": "UOD2LCsfiabP"
      },
      "source": [
        "\n",
        "\n",
        "---\n",
        "\n"
      ]
    },
    {
      "cell_type": "markdown",
      "metadata": {
        "id": "co_wfbpveW2_"
      },
      "source": [
        "##3. Supprimer une ou plusieurs variables"
      ]
    },
    {
      "cell_type": "code",
      "metadata": {
        "id": "kSc3er9IehtX"
      },
      "source": [
        "bd$cuisine <- NULL # supprimer une variable"
      ],
      "execution_count": null,
      "outputs": []
    },
    {
      "cell_type": "code",
      "metadata": {
        "id": "5xJ-Z_aPebz0"
      },
      "source": [
        "bd[ ,c(5,15)] <- NULL # Supprimer plusieurs variables"
      ],
      "execution_count": null,
      "outputs": []
    },
    {
      "cell_type": "markdown",
      "metadata": {
        "id": "5kjYxJgKicDv"
      },
      "source": [
        "\n",
        "\n",
        "---\n",
        "\n"
      ]
    },
    {
      "cell_type": "markdown",
      "metadata": {
        "id": "k3pFdLqfTncM"
      },
      "source": [
        "##4.  Renommer des modalités de variables catégorielles"
      ]
    },
    {
      "cell_type": "markdown",
      "metadata": {
        "id": "zAlozJMI7LH-"
      },
      "source": [
        "###La procédure diffère en fonction du format de la variable qualitative: *character* ou *factor*"
      ]
    },
    {
      "cell_type": "code",
      "metadata": {
        "id": "FUVQAmnjl9FQ"
      },
      "source": [
        "# Avec l'indexation par condition\n",
        "\n",
        "# Si la variable qualitative est de type \"character\", on peut procéder comme suit\n",
        "# Mais si c'est un \"factor\", on ne peut en renommer directement les modalités (niveaux) \n",
        "bd$sport[bd$sport == \"Non\"] <- \"NON\"\n",
        "bd$sport[bd$sport == \"Oui\"] <- \"OUI\""
      ],
      "execution_count": null,
      "outputs": []
    },
    {
      "cell_type": "code",
      "metadata": {
        "id": "kkUs741fa2GB"
      },
      "source": [
        "# On peut d'abord transfomer le facteur en format caractère et ensuite en renommer les modalités\n",
        "bd$lecture <- as.character(bd$lecture)\n",
        "bd$lecture[bd$lecture==\"Non\"]<- \"NON\"\n",
        "bd$lecture[bd$lecture==\"Oui\"]<- \"OUI\""
      ],
      "execution_count": null,
      "outputs": []
    },
    {
      "cell_type": "code",
      "metadata": {
        "id": "ZJH8iQOAXxk6"
      },
      "source": [
        "str(bd$lecture) # la variable lecture est maintenant en format caractère"
      ],
      "execution_count": null,
      "outputs": []
    },
    {
      "cell_type": "code",
      "metadata": {
        "id": "IkoW9gqRQuq0"
      },
      "source": [
        "# Pour reconvertir la variable caractère en facteur, utiliser la fonction factor\n",
        "bd$lecture <- factor(bd$lecture)"
      ],
      "execution_count": null,
      "outputs": []
    },
    {
      "cell_type": "markdown",
      "metadata": {
        "id": "sM-no1Y2zqL3"
      },
      "source": [
        "\n",
        "\n",
        "* À noter: tous les formats de variables peuvent être transformés avec les fonctions: *as.numeric*, *as.character*, *as.factor*.\n",
        "* Attention, certaines transformations de formats sont plus délicates que d'autres.\n",
        "\n"
      ]
    },
    {
      "cell_type": "markdown",
      "metadata": {
        "id": "PFXxuAeAonWx"
      },
      "source": [
        "\n",
        "\n",
        "---\n",
        "\n"
      ]
    },
    {
      "cell_type": "markdown",
      "metadata": {
        "id": "YBtAzygRUNJ8"
      },
      "source": [
        "##5. Redoder/agréger des modalités de variables catégorielles"
      ]
    },
    {
      "cell_type": "markdown",
      "metadata": {
        "id": "_T83QNdytVBx"
      },
      "source": [
        "###5.1. Avec l'indexation par condition"
      ]
    },
    {
      "cell_type": "code",
      "metadata": {
        "id": "2SP4bUL-URdN"
      },
      "source": [
        "# On procède de la même façon que pour renommer\n",
        "# L'agrégation se fait donc simplement en attribuant le même nom à différentes catégories\n",
        "# On peut d'abord transformer la variable en format caractère comme ci-haut avec la fonction as.character()\n",
        "# On peut également recoder directement dans une nouvelle variable (ici bd$relig.rec) qui sera en format caractère\n",
        "\n",
        "# Agréger et renommer des catégories de la variable \"relig\" dans la nouvelle variable bd$relig.rec\n",
        "bd$relig.rec[bd$relig == \"Pratiquant regulier\"] <- \"Pratiquant\"\n",
        "bd$relig.rec[bd$relig == \"Pratiquant occasionnel\"] <- \"Pratiquant\"\n",
        "bd$relig.rec[bd$relig == \"Appartenance sans pratique\"] <- \"Croyant\"\n",
        "bd$relig.rec[bd$relig == \"Ni croyance ni appartenance\"] <- \"Athée\"\n",
        "bd$relig.rec[bd$relig == \"Rejet\"] <- \"ND\"\n",
        "bd$relig.rec[bd$relig == \"NSP ou NVPR\"] <- \"ND\""
      ],
      "execution_count": null,
      "outputs": []
    },
    {
      "cell_type": "code",
      "metadata": {
        "id": "PGOh7CRfUA5a"
      },
      "source": [
        "str(bd$relig.rec) # Fonction str() pour voir le format de notre nouvelle variable"
      ],
      "execution_count": null,
      "outputs": []
    },
    {
      "cell_type": "markdown",
      "metadata": {
        "id": "1D246h4tx1UO"
      },
      "source": [
        "###5.2. Avec la fonction factor() et ses arguments levels= et labels="
      ]
    },
    {
      "cell_type": "code",
      "metadata": {
        "id": "Ing8cBGl3dB_"
      },
      "source": [
        "# L'option labels de la fonction factor permet aussi de renommer ou agréger les niveaux d'un facteur\n",
        "bd$relig.rec2 <- factor(bd$relig, levels = c(\"Pratiquant regulier\",\"Pratiquant occasionnel\", \"Appartenance sans pratique\", \"Ni croyance ni appartenance\", \"Rejet\", \"NSP ou NVPR\"), \n",
        "labels = c(\"Pratiquant\", \"Pratiquant\", \"Croyant\", \"Athée\", \"ND\", \"ND\"))\n",
        "\n",
        "# Argument levels= permet de lister (et réordonner au besoin) les niveaux présents dans le facteur\n",
        "# Argument labels= permet de spécifier de nouveaux intitulés et d'agréger les niveaux listés selon l'ordre dans l'argument levels\n",
        "# Pour des facteurs ordonnés (variables ordinales), remplacer la fonction factor() par ordered()"
      ],
      "execution_count": null,
      "outputs": []
    },
    {
      "cell_type": "code",
      "source": [
        "bd$femme.ret <- ifelse(bd$SEXE == \"Femme\" & bd$occup == \"Retraite\", \"Oui\", \"Non\")"
      ],
      "metadata": {
        "id": "iYI_bp1oz9Cl"
      },
      "execution_count": null,
      "outputs": []
    },
    {
      "cell_type": "markdown",
      "metadata": {
        "id": "g45hSnbhtduR"
      },
      "source": [
        "###5.3. Avec la fonction ifelse()"
      ]
    },
    {
      "cell_type": "code",
      "metadata": {
        "id": "AiKLkWUDVojQ"
      },
      "source": [
        "# Permet de créer une variable dichotomique sur la base des valeurs d'une ou plusieurs variables \n",
        "\n",
        "# Une variable : Créer une variable dichotomique identifiant les \"actifs\" et \"inactifs\"\n",
        "bd$occup.dico <- ifelse(bd$occup==\"Exerce une profession\", \"Actif\", \"Inactif\")  \n",
        "  # Test de condition\n",
        "  # valeur à assigner si le test est vrai (\"Actif\")\n",
        "  # valeur à assigner si le test est faux (\"Inactif\")\n",
        "\n",
        "\n",
        "# Deux variables : \n",
        "# Créer une variable identifiant si les répondants sont des femmes retraitées, Oui ou Non:\n",
        "\n",
        "bd$femme.ret <- ifelse(bd$SEXE == \"Femme\" & bd$occup == \"Retraite\", \"Oui\", \"Non\")\n",
        "\n",
        "# ifelse() peut aussi être utilisée pour recoder en dichotomique une variable numérique : \n",
        "# bd$age >=50 (la variable sera de format caractère)"
      ],
      "execution_count": null,
      "outputs": []
    },
    {
      "cell_type": "markdown",
      "metadata": {
        "id": "3AIihYjhoivS"
      },
      "source": [
        "\n",
        "\n",
        "---\n",
        "\n"
      ]
    },
    {
      "cell_type": "markdown",
      "metadata": {
        "id": "PLnpHbgYWA-S"
      },
      "source": [
        "##6. Recoder des variables numériques en catégorielles (transformer en facteur)"
      ]
    },
    {
      "cell_type": "code",
      "metadata": {
        "id": "aXVb_C2XWLqR"
      },
      "source": [
        "# Avec la fonction cut(): découpe la variable quantitative\n",
        "\n",
        "bd$age.cat <- cut(bd$age, breaks=c(0, 20, 40, 60, 80, 100), labels=c(\"20 ans et moins\", \"21 à 40\", \"41 à 60\", \"61 à 80\", \"81 et plus\"), ordered_result=TRUE)\n",
        "\n",
        "# breaks=: limites des catégories (peut aussi simplement indiquer le nombre de groupes (breaks=5), mais le résultat n'est pas optimal)\n",
        "# (40,60]: signifie que 40 est exclu et 60 est inclu, donc 41 à 60\n",
        "# labels: intitulés\n",
        "# include.lowest=T: valeur minimale est incluse dans la première classe (par défaut, la borne de gauche des intervalles est ouverte)\n",
        "# ordered_result=: définir une variable ordinale"
      ],
      "execution_count": null,
      "outputs": []
    },
    {
      "cell_type": "code",
      "metadata": {
        "id": "9p1zNOKlUhB0"
      },
      "source": [
        "str(bd$age.cat)"
      ],
      "execution_count": null,
      "outputs": []
    },
    {
      "cell_type": "markdown",
      "metadata": {
        "id": "3vaz8zR6orBY"
      },
      "source": [
        "\n",
        "\n",
        "---\n",
        "\n"
      ]
    },
    {
      "cell_type": "markdown",
      "metadata": {
        "id": "j9n7_7kbWrBh"
      },
      "source": [
        "##7. Créer/Calculer des variables"
      ]
    },
    {
      "cell_type": "code",
      "metadata": {
        "id": "2VoJfsFhW0oy"
      },
      "source": [
        "bd$annee <- 2003 - bd$age    # année de naissance (enquête date de 2003) "
      ],
      "execution_count": null,
      "outputs": []
    },
    {
      "cell_type": "code",
      "metadata": {
        "id": "_Qzt5kjjW0eK"
      },
      "source": [
        "bd$age.ecart <- bd$age - mean(bd$age, na.rm = TRUE) # écart entre l'âge du répondant et la moyenne"
      ],
      "execution_count": null,
      "outputs": []
    },
    {
      "cell_type": "code",
      "metadata": {
        "id": "92ebJJ-UYVCi"
      },
      "source": [
        "# Calculer un score d'items (moyenne ou somme)\n",
        "bd$sum <- rowSums (bd[ , c(\"var1\", \"var2\", \"var3\")], na.rm=TRUE)\n",
        "bd$moy<- rowMeans (bd[ , c(\"var1\", \"var2\", \"var3\")], na.rm=TRUE)"
      ],
      "execution_count": null,
      "outputs": []
    },
    {
      "cell_type": "markdown",
      "metadata": {
        "id": "3V3C42TcncGB"
      },
      "source": [
        "\n",
        "\n",
        "---\n",
        "\n"
      ]
    }
  ]
}